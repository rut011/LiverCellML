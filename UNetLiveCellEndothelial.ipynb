{
 "cells": [
  {
   "cell_type": "code",
   "execution_count": 1,
   "metadata": {},
   "outputs": [],
   "source": [
    "import numpy as np\n",
    "from datetime import datetime\n",
    "import pandas as pd\n",
    "from scipy.io import loadmat\n",
    "from sklearn.model_selection import train_test_split\n",
    "import h5py\n",
    "from torch.utils.data.dataset import Dataset\n",
    "from sklearn.metrics import balanced_accuracy_score"
   ]
  },
  {
   "cell_type": "code",
   "execution_count": 2,
   "metadata": {},
   "outputs": [
    {
     "name": "stdout",
     "output_type": "stream",
     "text": [
      "PyTorch Version:  1.9.1\n",
      "Torchvision Version:  0.10.1\n"
     ]
    },
    {
     "data": {
      "text/plain": [
       "True"
      ]
     },
     "execution_count": 2,
     "metadata": {},
     "output_type": "execute_result"
    }
   ],
   "source": [
    "from __future__ import print_function\n",
    "from __future__ import division\n",
    "import torch\n",
    "import torch.nn as nn\n",
    "import torch.optim as optim\n",
    "import torchvision.models as models\n",
    "import torchvision\n",
    "from torchvision import datasets, models, transforms\n",
    "from torch.nn.utils import weight_norm\n",
    "import matplotlib.pyplot as plt\n",
    "import time\n",
    "import os,sys\n",
    "import copy\n",
    "print(\"PyTorch Version: \",torch.__version__)\n",
    "print(\"Torchvision Version: \",torchvision.__version__)\n",
    "torch.cuda.is_available()"
   ]
  },
  {
   "cell_type": "code",
   "execution_count": 3,
   "metadata": {},
   "outputs": [],
   "source": [
    "from collections import defaultdict\n",
    "def double_conv3d(in_channels, out_channels):\n",
    "    return nn.Sequential(\n",
    "        weight_norm(nn.Conv3d(in_channels, out_channels, 3, padding=1)),\n",
    "        nn.ReLU(inplace=True),\n",
    "#         weight_norm(nn.Conv3d(out_channels, out_channels, 3, padding=1)),\n",
    "#         nn.ReLU(inplace=True)\n",
    "    )   \n",
    "\n",
    "def double_conv2d(in_channels, out_channels):\n",
    "    return nn.Sequential(\n",
    "        weight_norm(nn.Conv2d(in_channels, out_channels, 3, padding=1)),\n",
    "        nn.ReLU(inplace=True),\n",
    "#         weight_norm(nn.Conv3d(out_channels, out_channels, 3, padding=1)),\n",
    "#         nn.ReLU(inplace=True)\n",
    "    ) \n",
    "\n",
    "\n",
    "class UNet2D3D(nn.Module):\n",
    "\n",
    "    def __init__(self, n_class, in_channels,dropout=0.1):\n",
    "        super().__init__()\n",
    "#       3d conv          \n",
    "        self.dconv_down13d = double_conv3d(in_channels, 32)\n",
    "        self.dconv_down23d = double_conv3d(32, 64)\n",
    "        self.dconv_down33d = double_conv3d(64, 128)\n",
    "        self.dconv_down43d = double_conv3d(128, 256)\n",
    "#         self.dconv_down5 = double_conv3d(128, 256)\n",
    "\n",
    "        self.maxpool3d = nn.MaxPool3d(2)\n",
    "        self.upsample3d = nn.Upsample(scale_factor=2, mode='trilinear', align_corners=True)  \n",
    "#         self.upsample = nn.Upsample(scale_factor=2, mode='trilinear', align_corners=True)        \n",
    "        \n",
    "#         self.dconv_up4 = double_conv3d(128 + 256, 128)\n",
    "        self.dconv_up33d = double_conv3d(128+ 256, 128)\n",
    "        self.dconv_up23d = double_conv3d(64 + 128, 64)\n",
    "        self.dconv_up13d = double_conv3d(32 + 64, 32)\n",
    "        \n",
    "        self.conv_last3d = nn.Conv3d(32, in_channels, 1)\n",
    "        \n",
    "        self.fc13d = nn.Linear(2048,1024)\n",
    "        \n",
    "#       2d conv\n",
    "        self.dconv_down12d = double_conv2d(in_channels, 64)\n",
    "        self.dconv_down22d = double_conv2d(64, 128)\n",
    "        self.dconv_down32d = double_conv2d(128, 256)\n",
    "        self.dconv_down42d = double_conv2d(256, 512)\n",
    "        self.dconv_down52d = double_conv2d(512, 1024)\n",
    "\n",
    "        self.maxpool2d = nn.MaxPool2d(2)\n",
    "        self.upsample2d = nn.Upsample(scale_factor=2, mode='bilinear', align_corners=True)        \n",
    "        \n",
    "        self.dconv_up42d = double_conv2d(512 + 1024, 512)\n",
    "        self.dconv_up32d = double_conv2d(256 + 512, 256)\n",
    "        self.dconv_up22d = double_conv2d(128 + 256, 128)\n",
    "        self.dconv_up12d = double_conv2d(64 + 128, 64)\n",
    "        \n",
    "        self.conv_last2d = nn.Conv2d(64, in_channels, 1)\n",
    "        \n",
    "        self.fc12d = nn.Linear(25600,1024)\n",
    "        \n",
    "#       shared functions  \n",
    "        self.bn_fc1 = nn.BatchNorm1d(2048)\n",
    "        self.dropout1 = nn.Dropout(dropout)\n",
    "        self.fc2 = nn.Linear(2048,2048)\n",
    "        self.out = nn.Linear(2048, n_class)\n",
    "        self.relu = nn.ReLU()\n",
    "#         self.signmoid = nn.Sigmoid()\n",
    "#         self.init_weights()\n",
    "        \n",
    "#     def init_weights(self):\n",
    "#         self.dconv_down1.weight.data.normal_(0, 0.01)\n",
    "#         self.dconv_down2.weight.data.normal_(0, 0.01)\n",
    "#         self.dconv_down3.weight.data.normal_(0, 0.01)\n",
    "#         self.dconv_down4.weight.data.normal_(0, 0.01)\n",
    "#         self.dconv_up3.weight.data.normal_(0, 0.01)\n",
    "#         self.dconv_up2.weight.data.normal_(0, 0.01)\n",
    "#         self.dconv_up1.weight.data.normal_(0, 0.01)\n",
    "#         self.conv_last.weight.data.normal_(0, 0.01)\n",
    "        \n",
    "    def forward(self, x2d, x3d):\n",
    "#       3d contraction path  \n",
    "        conv13d = self.dconv_down13d(x3d)\n",
    "        x3d = self.maxpool3d(conv13d)\n",
    "\n",
    "        conv23d = self.dconv_down23d(x3d)\n",
    "        x3d = self.maxpool3d(conv23d)\n",
    "        \n",
    "        conv33d = self.dconv_down33d(x3d)\n",
    "        x3d = self.maxpool3d(conv33d)   \n",
    "        \n",
    "        conv43d = self.dconv_down43d(x3d)\n",
    "        \n",
    "#       2d contraction path  \n",
    "        conv12d = self.dconv_down12d(x2d)\n",
    "        x2d = self.maxpool2d(conv12d)\n",
    "\n",
    "        conv22d = self.dconv_down22d(x2d)\n",
    "        x2d = self.maxpool2d(conv22d)\n",
    "        \n",
    "        conv32d = self.dconv_down32d(x2d)\n",
    "        x2d = self.maxpool2d(conv32d)   \n",
    "        \n",
    "        conv42d = self.dconv_down42d(x2d)\n",
    "        x2d = self.maxpool2d(conv42d) \n",
    "    \n",
    "        x2d = self.dconv_down52d(x2d) \n",
    "        \n",
    "\n",
    "        #Classifier\n",
    "#       2d flatten\n",
    "        flatten2d = x2d.view(x2d.size(0),-1)\n",
    "        y2d = self.fc12d(flatten2d)\n",
    "    \n",
    "#       3d flatten\n",
    "        x13d = self.maxpool3d(conv43d) \n",
    "#         print('x1:',x1.size())\n",
    "        flatten3d = x13d.view(x13d.size(0),-1)\n",
    "#         print('fc:',flatten.size())\n",
    "        y3d = self.fc13d(flatten3d)\n",
    "    \n",
    "#       combine flatten features\n",
    "        y = torch.cat([y2d, y3d], dim=1)\n",
    "        y = self.relu(y)\n",
    "        y= self.fc2(y)\n",
    "        y = self.bn_fc1(y)\n",
    "        y = self.relu(y)\n",
    "        y = self.dropout1(y)\n",
    "        y = self.out(y)\n",
    "#         print('out:',x.size())\n",
    "        prediction = nn.functional.log_softmax(y,dim=1)\n",
    "        \n",
    "#         print('x: ',x.size())\n",
    "# #         x = self.upsample(x)\n",
    "#         print('x: ',x.size())\n",
    "#         print('conv12d: ',conv12d.size())\n",
    "#         print('conv22d: ',conv22d.size())\n",
    "#         print('conv32d: ',conv32d.size())\n",
    "#         print('conv42d: ',conv42d.size())\n",
    "        \n",
    "#         print('conv13d: ',conv13d.size())\n",
    "#         print('conv23d: ',conv23d.size())\n",
    "#         print('conv33d: ',conv33d.size())\n",
    "#         print('conv43d: ',conv43d.size())\n",
    "#         x = torch.cat([x, conv4], dim=1)\n",
    "#         x = self.dconv_up4(x)\n",
    "        \n",
    "#       3d Upsampling path  \n",
    "        x3d = self.upsample3d(conv43d)        \n",
    "        x3d = torch.cat([x3d, conv33d], dim=1)\n",
    "#         print('x: ',x.size())\n",
    "        x3d = self.dconv_up33d(x3d)\n",
    "        x3d = self.upsample3d(x3d)\n",
    "        \n",
    "        x3d = torch.cat([x3d, conv23d], dim=1)       \n",
    "\n",
    "        x3d = self.dconv_up23d(x3d)\n",
    "        x3d = self.upsample3d(x3d)        \n",
    "        x3d = torch.cat([x3d, conv13d], dim=1)   \n",
    "        \n",
    "        x3d = self.dconv_up13d(x3d)\n",
    "        \n",
    "        x3d = self.conv_last3d(x3d)\n",
    "        out3d = x3d\n",
    "#         out3d = self.relu(x3d)\n",
    "        \n",
    "#       2d Upsampling path\n",
    "#         print('x2d: ', x2d.size())\n",
    "        x2d = self.upsample2d(x2d)\n",
    "#         print('x2d: ', x2d.size())\n",
    "        x2d = torch.cat([x2d, conv42d], dim=1)\n",
    "        x2d = self.dconv_up42d(x2d)\n",
    "#         print('x2d: ', x2d.size())\n",
    "        \n",
    "        x2d = self.upsample2d(x2d)        \n",
    "        x2d = torch.cat([x2d, conv32d], dim=1)\n",
    "        \n",
    "        x2d = self.dconv_up32d(x2d)\n",
    "        x2d = self.upsample2d(x2d)\n",
    "        \n",
    "        x2d = torch.cat([x2d, conv22d], dim=1)       \n",
    "\n",
    "        x2d = self.dconv_up22d(x2d)\n",
    "        x2d = self.upsample2d(x2d)\n",
    "#         print('x2d: ', x2d.size())\n",
    "        x2d = torch.cat([x2d, conv12d], dim=1)   \n",
    "#         print('x2d: ', x2d.size())\n",
    "        x2d = self.dconv_up12d(x2d)\n",
    "#         print('x2d: ', x2d.size())\n",
    "        out2d = self.conv_last2d(x2d)\n",
    "#         out2d = self.relu(out2d)\n",
    "        return out2d,out3d,prediction"
   ]
  },
  {
   "cell_type": "code",
   "execution_count": 4,
   "metadata": {},
   "outputs": [],
   "source": [
    "def init_weights(m):\n",
    "# print(m)\n",
    "    if type(m) == nn.Linear or type(m) == nn.Conv2d or type(m) == nn.Conv3d:\n",
    "        m.weight.data.normal_(0, 0.0001)\n",
    "\n",
    "# net = nn.Sequential(nn.Linear(2, 2), nn.Linear(2, 2))\n",
    "# net.apply(init_weights)"
   ]
  },
  {
   "cell_type": "code",
   "execution_count": 5,
   "metadata": {
    "scrolled": false
   },
   "outputs": [],
   "source": [
    "from torchsummary import summary\n",
    "\n",
    "device = torch.device('cuda' if torch.cuda.is_available() else 'cpu')\n",
    "model = UNet2D3D(3,1)\n",
    "model.apply (init_weights)\n",
    "model = model.to(device)\n",
    "# model\n",
    "summary(model, [(1, 80, 80),(1, 40, 40, 40)])"
   ]
  },
  {
   "cell_type": "code",
   "execution_count": 6,
   "metadata": {},
   "outputs": [],
   "source": [
    "from collections import defaultdict\n",
    "import torch.nn.functional as F\n",
    "import tqdm"
   ]
  },
  {
   "cell_type": "code",
   "execution_count": 7,
   "metadata": {},
   "outputs": [],
   "source": [
    "def calc_loss(out2d, out3d, prediction, target, original2d, original3d,metrics, MSE_weight=0.5):\n",
    "#     print(prediction)\n",
    "#     print(target)\n",
    "    CE = F.cross_entropy(prediction, target)\n",
    "#     BCE = F.binary_cross_entropy_with_logits(prediction, target)\n",
    "    out2d = torch.sigmoid(out2d)\n",
    "    out3d = torch.sigmoid(out3d)\n",
    "    MSE2d = F.mse_loss(out2d, original2d)\n",
    "    MSE3d = F.mse_loss(out3d, original3d)\n",
    "    MSE = 0.5*MSE2d+0.5*MSE3d\n",
    "    loss = MSE * MSE_weight + CE * (1 - MSE_weight)\n",
    "#     loss = MSE * MSE_weight + CE\n",
    "    \n",
    "    metrics['CE'] += CE.data.cpu().numpy() * target.size(0)\n",
    "    metrics['MSE'] += MSE.data.cpu().numpy() * target.size(0)\n",
    "    metrics['loss'] += loss.data.cpu().numpy() * target.size(0)\n",
    "#     print('CE', metrics['CE'])\n",
    "#     print('MSE', metrics['MSE'])\n",
    "    return loss\n",
    "\n",
    "def print_metrics(metrics, epoch_samples, phase):    \n",
    "    outputs = []\n",
    "    for k in metrics.keys():\n",
    "        outputs.append(\"{}: {:4f}\".format(k, metrics[k] / epoch_samples))\n",
    "        \n",
    "    print(\"{}: {}\".format(phase, \", \".join(outputs)))   "
   ]
  },
  {
   "cell_type": "code",
   "execution_count": 8,
   "metadata": {},
   "outputs": [],
   "source": [
    "def train_model(model, dataloaders, optimizer1, optimizer2, scheduler1, scheduler2, num_epochs=25):\n",
    "    start = datetime.now()\n",
    "    val_acc_history = []\n",
    "    train_acc_history = []\n",
    "    val_Bacc_history = []\n",
    "    train_Bacc_history = []\n",
    "    val_loss_history = []\n",
    "    train_loss_history = []\n",
    "    val_MSEloss_history = []\n",
    "    lr_history = []\n",
    "    best_acc = 0.0\n",
    "    best_model_wts = copy.deepcopy(model.state_dict())\n",
    "    best_loss = 1e10\n",
    "    outer = tqdm.tqdm(total=num_epochs, desc='num_epochs', position=0)\n",
    "    \n",
    "    for epoch in range(num_epochs):\n",
    "        print('\\n')\n",
    "        print('-' * 10)\n",
    "        print('Epoch {}/{}'.format(epoch, num_epochs - 1))\n",
    "        \n",
    "        \n",
    "        since = time.time()\n",
    "\n",
    "        # Each epoch has a training and validation phase\n",
    "        for phase in ['train', 'val']:\n",
    "#             LabelList = torch.tensor([1]).to(device)\n",
    "#             PredList = torch.tensor([1]).to(device)\n",
    "            if phase == 'train':\n",
    "                if epoch < 5:\n",
    "                    for param_group in optimizer1.param_groups:\n",
    "                        print(\"LR\", param_group['lr'])\n",
    "                        lr_history.append(param_group['lr'])\n",
    "                else:\n",
    "                    for param_group in optimizer2.param_groups:\n",
    "                        print(\"LR\", param_group['lr'])\n",
    "                        lr_history.append(param_group['lr'])\n",
    "                model.train()  # Set model to training mode\n",
    "            else:\n",
    "                model.eval()   # Set model to evaluate mode\n",
    "\n",
    "            metrics = defaultdict(float)\n",
    "            epoch_samples = 0\n",
    "#             running_loss = 0.0\n",
    "            running_corrects = 0\n",
    "            confusion_matrix = torch.zeros(2, 2)\n",
    "            for inputs2d, inputs3d, labels in dataloaders[phase]:\n",
    "#                 inputs2d = inputs2d.to(device).half()\n",
    "#                 inputs3d = inputs3d.to(device).half()\n",
    "                inputs2d = inputs2d.to(device)\n",
    "                inputs3d = inputs3d.to(device)\n",
    "                labels = labels.to(device)            \n",
    "\n",
    "                # zero the parameter gradients\n",
    "                if epoch < 5:\n",
    "                    optimizer1.zero_grad()\n",
    "                else:\n",
    "                    optimizer2.zero_grad()\n",
    "                # forward\n",
    "                # track history if only in train\n",
    "                with torch.set_grad_enabled(phase == 'train'):\n",
    "                    outputs2d, outputs3d, predictions = model(inputs2d,inputs3d)\n",
    "                    loss = calc_loss(outputs2d, outputs3d, predictions,labels,inputs2d,inputs3d, metrics,MSE_weight = 0.1)\n",
    "\n",
    "                    # backward + optimize only if in training phase\n",
    "                    if phase == 'train':\n",
    "                        loss.backward()\n",
    "#                         nn.utils.clip_grad_norm_(model.parameters(), max_norm=2.0, norm_type=2)\n",
    "                        nn.utils.clip_grad_value_(model.parameters(),clip_value=0.5)\n",
    "                        if epoch < 5:\n",
    "                            optimizer1.step()\n",
    "                        else:\n",
    "                            optimizer2.step()\n",
    "                _, preds = torch.max(predictions, 1)\n",
    "                \n",
    "                # statistics\n",
    "                epoch_samples += inputs2d.size(0)\n",
    "                # statistics\n",
    "                for t, p in zip(labels.view(-1), preds.view(-1)):\n",
    "                    confusion_matrix[t.long(), p.long()] += 1\n",
    "                  \n",
    "                running_corrects += torch.sum(preds == labels.data)\n",
    "            \n",
    "            \n",
    "            confusionMat = np.asarray(confusion_matrix)\n",
    "            sumconfusion = np.sum(confusionMat,axis = 1).T\n",
    "            print(confusionMat)\n",
    "            summat = np.tile(sumconfusion,(2,1)).T\n",
    "            # print(test)\n",
    "            percentconfusion = np.divide(confusionMat,summat)\n",
    "            epoch_acc_balanced = np.sum(np.diagonal(percentconfusion))/2\n",
    "            print_metrics(metrics, epoch_samples, phase)\n",
    "            epoch_loss = metrics['loss'] / epoch_samples\n",
    "            epoch_acc = running_corrects.double() / epoch_samples\n",
    "            print('{} Acc: {:.4f}'.format(phase, epoch_acc))\n",
    "            print('{} Bal. Acc: {:.4f}'.format(phase, epoch_acc_balanced))\n",
    "            # deep copy the model\n",
    "            if phase == 'val' and epoch_acc > best_acc:\n",
    "                print(\"saving best model\")\n",
    "                best_acc = epoch_acc\n",
    "                best_loss = epoch_loss\n",
    "                best_model_wts = copy.deepcopy(model.state_dict())\n",
    "            if phase == 'val':\n",
    "                val_acc_history.append(epoch_acc)\n",
    "                val_Bacc_history.append(epoch_acc_balanced)\n",
    "                val_loss_history.append(epoch_loss)\n",
    "                val_MSEloss_history.append(metrics['MSE']/epoch_samples)\n",
    "                if epoch < 5:\n",
    "                    scheduler1.step(epoch_loss)\n",
    "                else:\n",
    "                    scheduler2.step(epoch_loss)\n",
    "\n",
    "            if phase == 'train':\n",
    "                train_acc_history.append(epoch_acc)\n",
    "                train_Bacc_history.append(epoch_acc_balanced)\n",
    "                train_loss_history.append(epoch_loss)\n",
    "#             if epoch_acc == 1:\n",
    "#                 break\n",
    "        \n",
    "        if epoch > 1 and val_MSEloss_history[-1] > 7e7 :\n",
    "                break\n",
    "        print(\"Total time: %s\" %(datetime.now() - start))\n",
    "        time_elapsed = time.time() - since\n",
    "        print('Epoch time: {:.0f}m {:.0f}s'.format(time_elapsed // 60, time_elapsed % 60))\n",
    "        outer.update(1)\n",
    "        \n",
    "    print('Best val loss: {:4f}'.format(best_loss))\n",
    "    print('Best val acc: {:4f}'.format(best_acc))\n",
    "    # load best model weights\n",
    "    model.load_state_dict(best_model_wts)\n",
    "    return model,train_acc_history,train_loss_history,val_acc_history,val_loss_history,lr_history,train_Bacc_history,val_Bacc_history"
   ]
  },
  {
   "cell_type": "code",
   "execution_count": 9,
   "metadata": {},
   "outputs": [],
   "source": [
    "Datadir = \"H:\\\\LIverCellData\\\\Endothelial\\\\ImagesForTraining\""
   ]
  },
  {
   "cell_type": "code",
   "execution_count": 10,
   "metadata": {},
   "outputs": [],
   "source": [
    "import os\n",
    "\n",
    "def datapreparation(Datadir):\n",
    "    trainpath2d = []\n",
    "    trainpath3d = []\n",
    "    trainlabel = []\n",
    "    trainsubjectlabel = []\n",
    "    fpath = []\n",
    "    \n",
    "    traindir = Datadir + \"\\\\EC38\\\\2DTrans\"\n",
    "    for dirpath, dirnames, filenames in os.walk(traindir):\n",
    "        for filename in [f for f in filenames if f.endswith(\".tif\")]:\n",
    "            tempfpath =os.path.join(dirpath, filename)\n",
    "            fpath.append(tempfpath)\n",
    "    train = list(range(0,len(fpath)))\n",
    "    print('SCE8 2D data: %d' %(len(train)))\n",
    "    for i in train:\n",
    "        trainpath2d.append(fpath[i])\n",
    "        trainlabel.append(0)\n",
    "        trainsubjectlabel.append(0)\n",
    "        \n",
    "    fpath = []    \n",
    "    traindir = Datadir + \"\\\\EC38\\\\3DSSC\"\n",
    "    for dirpath, dirnames, filenames in os.walk(traindir):\n",
    "        for filename in [f for f in filenames if f.endswith(\".tif\")]:\n",
    "            tempfpath =os.path.join(dirpath, filename)\n",
    "            fpath.append(tempfpath)\n",
    "    train = list(range(0,len(fpath)))\n",
    "    print('EC38 3D data: %d' %(len(train)))\n",
    "    for i in train:\n",
    "        trainpath3d.append(fpath[i])\n",
    "#         trainlabel.append(0)\n",
    "    fpath = [] \n",
    "    traindir = Datadir + \"\\\\EC67\\\\2DTrans\"\n",
    "    for dirpath, dirnames, filenames in os.walk(traindir):\n",
    "        for filename in [f for f in filenames if f.endswith(\".tif\")]:\n",
    "            tempfpath =os.path.join(dirpath, filename)\n",
    "            fpath.append(tempfpath)\n",
    "    train = list(range(0,len(fpath)))\n",
    "    print('EC67 2D data: %d' %(len(train)))\n",
    "    for i in train:\n",
    "        trainpath2d.append(fpath[i])\n",
    "        trainlabel.append(0)\n",
    "        trainsubjectlabel.append(1)\n",
    "        \n",
    "    fpath = []    \n",
    "    traindir = Datadir + \"\\\\EC67\\\\3DSSC\"\n",
    "    for dirpath, dirnames, filenames in os.walk(traindir):\n",
    "        for filename in [f for f in filenames if f.endswith(\".tif\")]:\n",
    "            tempfpath =os.path.join(dirpath, filename)\n",
    "            fpath.append(tempfpath)\n",
    "    train = list(range(0,len(fpath)))\n",
    "    print('EC67 3D data: %d' %(len(train)))\n",
    "    for i in train:\n",
    "        trainpath3d.append(fpath[i])\n",
    "#         trainlabel.append(0)\n",
    "    fpath = [] \n",
    "    traindir = Datadir + \"\\\\EC46\\\\2DTrans\"\n",
    "    for dirpath, dirnames, filenames in os.walk(traindir):\n",
    "        for filename in [f for f in filenames if f.endswith(\".tif\")]:\n",
    "            tempfpath =os.path.join(dirpath, filename)\n",
    "            fpath.append(tempfpath)\n",
    "    train = list(range(0,len(fpath)))\n",
    "    print('EC46 2D data: %d' %(len(train)))\n",
    "    for i in train:\n",
    "        trainpath2d.append(fpath[i])\n",
    "        trainlabel.append(1)\n",
    "        trainsubjectlabel.append(2)\n",
    "        \n",
    "    fpath = []    \n",
    "    traindir = Datadir + \"\\\\EC46\\\\3DSSC\"\n",
    "    for dirpath, dirnames, filenames in os.walk(traindir):\n",
    "        for filename in [f for f in filenames if f.endswith(\".tif\")]:\n",
    "            tempfpath =os.path.join(dirpath, filename)\n",
    "            fpath.append(tempfpath)\n",
    "    train = list(range(0,len(fpath)))\n",
    "    print('EC46 3D data: %d' %(len(train)))\n",
    "    for i in train:\n",
    "        trainpath3d.append(fpath[i])\n",
    "#         trainlabel.append(0)\n",
    "    fpath = [] \n",
    "    traindir = Datadir + \"\\\\EC74\\\\2DTrans\"\n",
    "    for dirpath, dirnames, filenames in os.walk(traindir):\n",
    "        for filename in [f for f in filenames if f.endswith(\".tif\")]:\n",
    "            tempfpath =os.path.join(dirpath, filename)\n",
    "            fpath.append(tempfpath)\n",
    "    train = list(range(0,len(fpath)))\n",
    "    print('EC46 2D data: %d' %(len(train)))\n",
    "    for i in train:\n",
    "        trainpath2d.append(fpath[i])\n",
    "        trainlabel.append(1)\n",
    "        trainsubjectlabel.append(3)\n",
    "        \n",
    "    fpath = []    \n",
    "    traindir = Datadir + \"\\\\EC74\\\\3DSSC\"\n",
    "    for dirpath, dirnames, filenames in os.walk(traindir):\n",
    "        for filename in [f for f in filenames if f.endswith(\".tif\")]:\n",
    "            tempfpath =os.path.join(dirpath, filename)\n",
    "            fpath.append(tempfpath)\n",
    "    train = list(range(0,len(fpath)))\n",
    "    print('EC74 3D data: %d' %(len(train)))\n",
    "    for i in train:\n",
    "        trainpath3d.append(fpath[i])\n",
    "#         trainlabel.append(0)\n",
    "        \n",
    "    return trainpath2d,trainpath3d, trainlabel, trainsubjectlabel"
   ]
  },
  {
   "cell_type": "code",
   "execution_count": 11,
   "metadata": {},
   "outputs": [
    {
     "name": "stdout",
     "output_type": "stream",
     "text": [
      "SCE8 2D data: 5000\n",
      "EC38 3D data: 5000\n",
      "EC67 2D data: 5000\n",
      "EC67 3D data: 5000\n",
      "EC46 2D data: 5000\n",
      "EC46 3D data: 5000\n",
      "EC46 2D data: 5000\n",
      "EC74 3D data: 5000\n",
      "20000\n",
      "20000\n",
      "20000\n",
      "[3]\n"
     ]
    }
   ],
   "source": [
    "X2d,X3d, Y,Y1 = datapreparation(Datadir)\n",
    "print(len(X2d))\n",
    "print(len(X3d))\n",
    "print(len(Y))\n",
    "print([Y1[15001]])"
   ]
  },
  {
   "cell_type": "code",
   "execution_count": 12,
   "metadata": {},
   "outputs": [
    {
     "name": "stdout",
     "output_type": "stream",
     "text": [
      "Train Index:  [ 1250  1251  1252 ... 19997 19998 19999]\n",
      "Test Index:  [    0     1     2 ... 16247 16248 16249] \n",
      "\n",
      "Train Index:  [    0     1     2 ... 19997 19998 19999]\n",
      "Test Index:  [ 1250  1251  1252 ... 17497 17498 17499] \n",
      "\n",
      "Train Index:  [    0     1     2 ... 19997 19998 19999]\n",
      "Test Index:  [ 2500  2501  2502 ... 18747 18748 18749] \n",
      "\n",
      "Train Index:  [    0     1     2 ... 18747 18748 18749]\n",
      "Test Index:  [ 3750  3751  3752 ... 19997 19998 19999] \n",
      "\n",
      "Train Index:  [ 1250  1251  1252 ... 19997 19998 19999]\n",
      "Test Index:  [    0     1     2 ... 16247 16248 16249] \n",
      "\n",
      "Train Index:  [    0     1     2 ... 19997 19998 19999]\n",
      "Test Index:  [ 1250  1251  1252 ... 17497 17498 17499] \n",
      "\n",
      "Train Index:  [    0     1     2 ... 19997 19998 19999]\n",
      "Test Index:  [ 2500  2501  2502 ... 18747 18748 18749] \n",
      "\n",
      "Train Index:  [    0     1     2 ... 18747 18748 18749]\n",
      "Test Index:  [ 3750  3751  3752 ... 19997 19998 19999] \n",
      "\n",
      "7500\n"
     ]
    }
   ],
   "source": [
    "from sklearn.model_selection import StratifiedKFold\n",
    "kfold = StratifiedKFold(n_splits=4,shuffle=False)\n",
    "trainindex2d = {}\n",
    "testindex2d = {}\n",
    "trainindex3d = {}\n",
    "testindex3d = {}\n",
    "i = 0\n",
    "for train_index2d, test_index2d in kfold.split(X2d,Y1):\n",
    "    print(\"Train Index: \", train_index2d)\n",
    "    print(\"Test Index: \", test_index2d, \"\\n\")\n",
    "    trainindex2d[i] = train_index2d\n",
    "    testindex2d[i] = test_index2d\n",
    "    i = i + 1\n",
    "    \n",
    "i = 0\n",
    "for train_index3d, test_index3d in kfold.split(X3d,Y1):\n",
    "    print(\"Train Index: \", train_index3d)\n",
    "    print(\"Test Index: \", test_index3d, \"\\n\")\n",
    "    trainindex3d[i] = train_index3d\n",
    "    testindex3d[i] = test_index3d\n",
    "    i = i + 1\n",
    "#fold - 0\n",
    "# print(trainindex[1])\n",
    "# indices = trainindex[1]\n",
    "trainpath2d =[X2d[i] for i in trainindex2d[0]]\n",
    "trainpath3d =[X3d[i] for i in trainindex3d[0]]\n",
    "Y_kfold = [Y[i] for i in trainindex2d[0]]\n",
    "print(sum(Y_kfold))\n",
    "testpath2d =[X2d[i] for i in testindex2d[0]]\n",
    "testpath3d =[X3d[i] for i in testindex3d[0]]"
   ]
  },
  {
   "cell_type": "code",
   "execution_count": 13,
   "metadata": {},
   "outputs": [],
   "source": [
    "from skimage import io\n",
    "import skimage.transform\n",
    "import scipy\n",
    "class MyDataset(Dataset):\n",
    "    def __init__(self, mat_paths2d, mat_paths3d,transforms=None):\n",
    "        self.paths2d = mat_paths2d\n",
    "        self.paths3d = mat_paths3d\n",
    "        self.transforms = transforms\n",
    "        \n",
    "    def __getitem__(self, index):\n",
    "        # Load .mat\n",
    "#         data = loadmat(self.paths[index])\n",
    "        data2d = io.imread(self.paths2d[index])\n",
    "        data3d = io.imread(self.paths3d[index])\n",
    "        \n",
    "#         reshape = skimage.transform.resize(data,(224,224,40))\n",
    "#         x = torch.from_numpy(reshape.astype(np.float32))\n",
    "        x2d = torch.from_numpy(data2d.astype(np.float32)/65535)\n",
    "        x3d = torch.from_numpy(data3d.astype(np.float32)/65535)\n",
    "        x2d = x2d.unsqueeze(dim = 0)\n",
    "        \n",
    "#         x = x.unsqueeze(dim = 0)\n",
    "        x3d = np.transpose(x3d,(2,0,1))\n",
    "        x3d = x3d.unsqueeze(dim = 0)\n",
    "#         x = np.transpose(np.array(data['Data']),(2,0,1))\n",
    "        if 'EC38' in self.paths2d[index]:\n",
    "            label = int(0)\n",
    "        elif 'EC67' in self.paths2d[index]:\n",
    "            label = int(0)\n",
    "        elif 'EC46' in self.paths2d[index]:\n",
    "            label = int(1)\n",
    "        elif 'EC74' in self.paths2d[index]:\n",
    "            label = int(1)\n",
    "        \n",
    "        if self.transforms:\n",
    "            x2d= self.transforms(x2d)\n",
    "            x3d= self.transforms(x3d)\n",
    "            \n",
    "        return x2d,x3d,label\n",
    "    \n",
    "    def __len__(self):\n",
    "        return len(self.paths2d)\n",
    "    \n",
    "    def __subitem__(self, index):\n",
    "        if 'EC38' in self.paths2d[index]:\n",
    "            slabel = int(0)\n",
    "        elif 'EC67' in self.paths2d[index]:\n",
    "            slabel = int(1)\n",
    "        elif 'EC46' in self.paths2d[index]:\n",
    "            slabel = int(2)\n",
    "        elif 'EC74' in self.paths2d[index]:\n",
    "            slabel = int(3)     \n",
    "        return slabel"
   ]
  },
  {
   "cell_type": "code",
   "execution_count": 14,
   "metadata": {},
   "outputs": [
    {
     "name": "stdout",
     "output_type": "stream",
     "text": [
      "training data volume:  15000\n",
      "validation data volume:  5000\n",
      "Type label:  Healthy\n",
      "Subject label:  EC38\n",
      "2d image tensor shape:  torch.Size([1, 80, 80])\n",
      "2d image tensor dtype:  torch.float32\n",
      "3d image tensor shape:  torch.Size([1, 40, 40, 40])\n",
      "3d image tensor dtype:  torch.float32\n",
      "image shape:  (40, 40, 40)\n"
     ]
    }
   ],
   "source": [
    "#actual training\n",
    "image_datasets = {}\n",
    "mini_datasets ={}\n",
    "image_datasets['train'] = MyDataset(trainpath2d,trainpath3d)\n",
    "image_datasets['val'] = MyDataset(testpath2d,testpath3d)\n",
    "\n",
    "# mini_datasets['train'] = MyDataset(minitrainpath)\n",
    "# mini_datasets['val'] = MyDataset(minivalpath)\n",
    "# model testing\n",
    "# image_datasets['train'] = MyDataset(valpath)\n",
    "# image_datasets['val'] = MyDataset(testpath)\n",
    "# test_datasets['val'] = MyDataset(testpath)\n",
    "print('training data volume: ', image_datasets['train'].__len__())\n",
    "print('validation data volume: ', image_datasets['val'].__len__())\n",
    "\n",
    "# print('mini-training data volume: ', mini_datasets['train'].__len__())\n",
    "# print('mini-validation data volume: ', mini_datasets['val'].__len__())\n",
    "\n",
    "CellName = ['Healthy','Diseased']\n",
    "SubName = ['EC38','EC67','EC46','EC74']\n",
    "[ImgTensor2d,ImgTensor3d,ImgLabel] = image_datasets['train'].__getitem__(2)\n",
    "print('Type label: ',CellName[ImgLabel])\n",
    "print('Subject label: ',SubName[image_datasets['train'].__subitem__(2)])\n",
    "print('2d image tensor shape: ', ImgTensor2d.shape)\n",
    "print('2d image tensor dtype: ', ImgTensor2d.dtype)\n",
    "print('3d image tensor shape: ', ImgTensor3d.shape)\n",
    "print('3d image tensor dtype: ', ImgTensor3d.dtype)\n",
    "\n",
    "\n",
    "#Visualize image stacks\n",
    "from mpl_toolkits.axes_grid1 import make_axes_locatable\n",
    "image = np.squeeze(ImgTensor3d.numpy())\n",
    "print('image shape: ', image.shape)"
   ]
  },
  {
   "cell_type": "code",
   "execution_count": 15,
   "metadata": {},
   "outputs": [],
   "source": [
    "#Visualize image stacks\n",
    "from mpl_toolkits.axes_grid1 import make_axes_locatable\n",
    "\n",
    "\n",
    "def DisplayImage(img,LimMin,LimMax,ImgIdx):  \n",
    "    if img.shape[2]>1:\n",
    "        for depth in range (0,10):\n",
    "            plt.subplot(2,5,depth+1)\n",
    "            plt.imshow(img[:,:,depth*4],vmin=LimMin, vmax=LimMax, cmap ='jet')\n",
    "            # plt.colorbar()\n",
    "            plt.title('z = '+ str(depth))\n",
    "            if depth==9:\n",
    "                plt.subplot(2,5,depth+1)\n",
    "                plt.title('z = '+ str(depth))\n",
    "                ax = plt.gca()\n",
    "                fig4 = plt.imshow(img[:,:,depth*4],vmin=LimMin, vmax=LimMax, cmap ='jet')\n",
    "\n",
    "        divider = make_axes_locatable(ax)\n",
    "        cax = divider.append_axes(\"right\", size=\"5%\", pad=0.05)\n",
    "        plt.colorbar(fig4, cax=cax)\n",
    "        plt.show()\n",
    "    else:\n",
    "        fig4 = plt.imshow(np.squeeze(img),vmin=LimMin, vmax=LimMax, cmap ='gray')\n",
    "        plt.title('2D Projection, Index: %i'%ImgIdx)\n",
    "        ax = plt.gca()\n",
    "        divider = make_axes_locatable(ax)\n",
    "        cax = divider.append_axes(\"right\", size=\"5%\", pad=0.05)\n",
    "        plt.colorbar(fig4, cax=cax)\n",
    "        plt.show()\n",
    "\n"
   ]
  },
  {
   "cell_type": "code",
   "execution_count": 16,
   "metadata": {},
   "outputs": [
    {
     "data": {
      "image/png": "[encoded data removed]",
      "text/plain": [
       "<Figure size 432x288 with 2 Axes>"
      ]
     },
     "metadata": {
      "needs_background": "light"
     },
     "output_type": "display_data"
    },
    {
     "data": {
      "image/png": "[encoded data removed]",
      "text/plain": [
       "<Figure size 432x288 with 11 Axes>"
      ]
     },
     "metadata": {
      "needs_background": "light"
     },
     "output_type": "display_data"
    }
   ],
   "source": [
    "ImgIdx = 2\n",
    "[ImgTensor2d,ImgTensor3d,ImgLabel] = image_datasets['train'].__getitem__(ImgIdx)\n",
    "image2d = np.transpose(ImgTensor2d.numpy(), (1,2,0))\n",
    "image3d = np.transpose(np.squeeze(ImgTensor3d.numpy()), (1,2,0))\n",
    "DisplayImage(image2d,image2d.min(),image2d.max(),ImgIdx)\n",
    "DisplayImage(image3d,image3d.min(),image3d.max(),ImgIdx)"
   ]
  },
  {
   "cell_type": "code",
   "execution_count": 17,
   "metadata": {},
   "outputs": [
    {
     "name": "stdout",
     "output_type": "stream",
     "text": [
      "Initializing Datasets and Dataloaders...\n"
     ]
    }
   ],
   "source": [
    "print(\"Initializing Datasets and Dataloaders...\")\n",
    "# Number of classes in the dataset\n",
    "num_classes = 2\n",
    "# Batch size for training (change depending on how much memory you have)\n",
    "batch_size = 64\n",
    "# Create training and validation datasets\n",
    "# image_datasets = {x: datasets.ImageFolder(os.path.join(data_dir, x), data_transforms[x]) for x in ['train', 'val']}\n",
    "# Create training and validation dataloaders\n",
    "dataloaders_dict = {x: torch.utils.data.DataLoader(image_datasets[x], batch_size=batch_size, shuffle=True, num_workers=0) for x in ['train', 'val']}\n",
    "# dataloaders_dict = {}\n",
    "# dataloaders_dict ['train'] = torch.utils.data.DataLoader(image_datasets['train'],batch_size=batch_size, num_workers=0, sampler=weighted_sampler)\n",
    "# dataloaders_dict ['val'] = torch.utils.data.DataLoader(image_datasets['val'],batch_size=batch_size, shuffle=True, num_workers=0)\n",
    "# Detect if we have a GPU available\n",
    "device = torch.device(\"cuda:0\" if torch.cuda.is_available() else \"cpu\")"
   ]
  },
  {
   "cell_type": "code",
   "execution_count": 18,
   "metadata": {
    "scrolled": true
   },
   "outputs": [
    {
     "name": "stdout",
     "output_type": "stream",
     "text": [
      "Fold- 3 : Initializing Datasets and Dataloaders...\n"
     ]
    },
    {
     "name": "stderr",
     "output_type": "stream",
     "text": [
      "\r",
      "num_epochs:   0%|                                                                               | 0/50 [00:00<?, ?it/s]"
     ]
    },
    {
     "name": "stdout",
     "output_type": "stream",
     "text": [
      "\n",
      "\n",
      "----------\n",
      "Epoch 0/49\n",
      "LR 1e-05\n",
      "[[3697. 3803.]\n",
      " [2127. 5373.]]\n",
      "train: CE: 0.658738, MSE: 0.123320, loss: 0.605196\n",
      "train Acc: 0.6047\n",
      "train Bal. Acc: 0.6047\n"
     ]
    },
    {
     "name": "stderr",
     "output_type": "stream",
     "text": [
      "\r",
      "num_epochs:   2%|█▎                                                                  | 1/50 [07:36<6:12:26, 456.05s/it]"
     ]
    },
    {
     "name": "stdout",
     "output_type": "stream",
     "text": [
      "[[1554.  946.]\n",
      " [ 733. 1767.]]\n",
      "val: CE: 0.617001, MSE: 0.110139, loss: 0.566315\n",
      "val Acc: 0.6642\n",
      "val Bal. Acc: 0.6642\n",
      "saving best model\n",
      "Total time: 0:07:36.067693\n",
      "Epoch time: 7m 36s\n",
      "\n",
      "\n",
      "----------\n",
      "Epoch 1/49\n",
      "LR 1e-05\n",
      "[[4957. 2543.]\n",
      " [2015. 5485.]]\n",
      "train: CE: 0.573049, MSE: 0.065597, loss: 0.522304\n",
      "train Acc: 0.6961\n",
      "train Bal. Acc: 0.6961\n"
     ]
    },
    {
     "name": "stderr",
     "output_type": "stream",
     "text": [
      "\r",
      "num_epochs:   4%|██▋                                                                 | 2/50 [14:16<5:38:49, 423.54s/it]"
     ]
    },
    {
     "name": "stdout",
     "output_type": "stream",
     "text": [
      "[[2411.   89.]\n",
      " [1991.  509.]]\n",
      "val: CE: 0.790326, MSE: 0.010833, loss: 0.712377\n",
      "val Acc: 0.5840\n",
      "val Bal. Acc: 0.5840\n",
      "Total time: 0:14:16.851403\n",
      "Epoch time: 6m 41s\n",
      "\n",
      "\n",
      "----------\n",
      "Epoch 2/49\n",
      "LR 1e-05\n",
      "[[5605. 1895.]\n",
      " [1249. 6251.]]\n",
      "train: CE: 0.449794, MSE: 0.008408, loss: 0.405655\n",
      "train Acc: 0.7904\n",
      "train Bal. Acc: 0.7904\n"
     ]
    },
    {
     "name": "stderr",
     "output_type": "stream",
     "text": [
      "\r",
      "num_epochs:   6%|████                                                                | 3/50 [21:03<5:25:53, 416.03s/it]"
     ]
    },
    {
     "name": "stdout",
     "output_type": "stream",
     "text": [
      "[[2393.  107.]\n",
      " [1240. 1260.]]\n",
      "val: CE: 0.604408, MSE: 0.007977, loss: 0.544765\n",
      "val Acc: 0.7306\n",
      "val Bal. Acc: 0.7306\n",
      "saving best model\n",
      "Total time: 0:21:03.944867\n",
      "Epoch time: 6m 47s\n",
      "\n",
      "\n",
      "----------\n",
      "Epoch 3/49\n",
      "LR 1e-05\n",
      "[[6312. 1188.]\n",
      " [1048. 6452.]]\n",
      "train: CE: 0.341939, MSE: 0.006963, loss: 0.308441\n",
      "train Acc: 0.8509\n",
      "train Bal. Acc: 0.8509\n"
     ]
    },
    {
     "name": "stderr",
     "output_type": "stream",
     "text": [
      "\r",
      "num_epochs:   8%|█████▍                                                              | 4/50 [27:58<5:18:31, 415.46s/it]"
     ]
    },
    {
     "name": "stdout",
     "output_type": "stream",
     "text": [
      "[[2445.   55.]\n",
      " [1199. 1301.]]\n",
      "val: CE: 0.559626, MSE: 0.006162, loss: 0.504280\n",
      "val Acc: 0.7492\n",
      "val Bal. Acc: 0.7492\n",
      "saving best model\n",
      "Total time: 0:27:58.528227\n",
      "Epoch time: 6m 55s\n",
      "\n",
      "\n",
      "----------\n",
      "Epoch 4/49\n",
      "LR 1e-05\n",
      "[[6655.  845.]\n",
      " [ 919. 6581.]]\n",
      "train: CE: 0.282032, MSE: 0.004304, loss: 0.254259\n",
      "train Acc: 0.8824\n",
      "train Bal. Acc: 0.8824\n"
     ]
    },
    {
     "name": "stderr",
     "output_type": "stream",
     "text": [
      "\r",
      "num_epochs:  10%|██████▊                                                             | 5/50 [35:05<5:14:40, 419.57s/it]"
     ]
    },
    {
     "name": "stdout",
     "output_type": "stream",
     "text": [
      "[[2267.  233.]\n",
      " [ 393. 2107.]]\n",
      "val: CE: 0.309952, MSE: 0.003071, loss: 0.279264\n",
      "val Acc: 0.8748\n",
      "val Bal. Acc: 0.8748\n",
      "saving best model\n",
      "Total time: 0:35:05.379982\n",
      "Epoch time: 7m 7s\n",
      "\n",
      "\n",
      "----------\n",
      "Epoch 5/49\n",
      "LR 5e-05\n",
      "[[6752.  748.]\n",
      " [1031. 6469.]]\n",
      "train: CE: 0.276302, MSE: 0.004099, loss: 0.249082\n",
      "train Acc: 0.8814\n",
      "train Bal. Acc: 0.8814\n"
     ]
    },
    {
     "name": "stderr",
     "output_type": "stream",
     "text": [
      "\r",
      "num_epochs:  12%|████████▏                                                           | 6/50 [41:37<5:00:45, 410.12s/it]"
     ]
    },
    {
     "name": "stdout",
     "output_type": "stream",
     "text": [
      "[[2495.    5.]\n",
      " [1865.  635.]]\n",
      "val: CE: 0.825546, MSE: 0.003355, loss: 0.743327\n",
      "val Acc: 0.6260\n",
      "val Bal. Acc: 0.6260\n",
      "Total time: 0:41:37.173541\n",
      "Epoch time: 6m 32s\n",
      "\n",
      "\n",
      "----------\n",
      "Epoch 6/49\n",
      "LR 5e-05\n",
      "[[6908.  592.]\n",
      " [ 712. 6788.]]\n",
      "train: CE: 0.205953, MSE: 0.002490, loss: 0.185607\n",
      "train Acc: 0.9131\n",
      "train Bal. Acc: 0.9131\n"
     ]
    },
    {
     "name": "stderr",
     "output_type": "stream",
     "text": [
      "\r",
      "num_epochs:  14%|█████████▌                                                          | 7/50 [48:07<4:49:14, 403.58s/it]"
     ]
    },
    {
     "name": "stdout",
     "output_type": "stream",
     "text": [
      "[[1220. 1280.]\n",
      " [  51. 2449.]]\n",
      "val: CE: 0.587134, MSE: 0.002711, loss: 0.528692\n",
      "val Acc: 0.7338\n",
      "val Bal. Acc: 0.7338\n",
      "Total time: 0:48:07.288035\n",
      "Epoch time: 6m 30s\n",
      "\n",
      "\n",
      "----------\n",
      "Epoch 7/49\n",
      "LR 5e-05\n",
      "[[7054.  446.]\n",
      " [ 544. 6956.]]\n",
      "train: CE: 0.167437, MSE: 0.002127, loss: 0.150906\n",
      "train Acc: 0.9340\n",
      "train Bal. Acc: 0.9340\n"
     ]
    },
    {
     "name": "stderr",
     "output_type": "stream",
     "text": [
      "\r",
      "num_epochs:  16%|██████████▉                                                         | 8/50 [54:36<4:39:18, 399.01s/it]"
     ]
    },
    {
     "name": "stdout",
     "output_type": "stream",
     "text": [
      "[[2089.  411.]\n",
      " [ 133. 2367.]]\n",
      "val: CE: 0.265578, MSE: 0.001650, loss: 0.239185\n",
      "val Acc: 0.8912\n",
      "val Bal. Acc: 0.8912\n",
      "saving best model\n",
      "Total time: 0:54:36.504275\n",
      "Epoch time: 6m 29s\n",
      "\n",
      "\n",
      "----------\n",
      "Epoch 8/49\n",
      "LR 5e-05\n",
      "[[7129.  371.]\n",
      " [ 438. 7062.]]\n",
      "train: CE: 0.135284, MSE: 0.001237, loss: 0.121879\n",
      "train Acc: 0.9461\n",
      "train Bal. Acc: 0.9461\n"
     ]
    },
    {
     "name": "stderr",
     "output_type": "stream",
     "text": [
      "\r",
      "num_epochs:  18%|███████████▉                                                      | 9/50 [1:01:06<4:30:37, 396.04s/it]"
     ]
    },
    {
     "name": "stdout",
     "output_type": "stream",
     "text": [
      "[[2447.   53.]\n",
      " [ 716. 1784.]]\n",
      "val: CE: 0.367582, MSE: 0.000971, loss: 0.330921\n",
      "val Acc: 0.8462\n",
      "val Bal. Acc: 0.8462\n",
      "Total time: 1:01:06.024882\n",
      "Epoch time: 6m 30s\n",
      "\n",
      "\n",
      "----------\n",
      "Epoch 9/49\n",
      "LR 5e-05\n",
      "[[7193.  307.]\n",
      " [ 378. 7122.]]\n",
      "train: CE: 0.109129, MSE: 0.000876, loss: 0.098304\n",
      "train Acc: 0.9543\n",
      "train Bal. Acc: 0.9543\n"
     ]
    },
    {
     "name": "stderr",
     "output_type": "stream",
     "text": [
      "\r",
      "num_epochs:  20%|█████████████                                                    | 10/50 [1:07:35<4:22:36, 393.91s/it]"
     ]
    },
    {
     "name": "stdout",
     "output_type": "stream",
     "text": [
      "[[1315. 1185.]\n",
      " [  29. 2471.]]\n",
      "val: CE: 0.993034, MSE: 0.000846, loss: 0.893815\n",
      "val Acc: 0.7572\n",
      "val Bal. Acc: 0.7572\n",
      "Total time: 1:07:35.167624\n",
      "Epoch time: 6m 29s\n",
      "\n",
      "\n",
      "----------\n",
      "Epoch 10/49\n",
      "LR 5e-05\n",
      "[[7279.  221.]\n",
      " [ 239. 7261.]]\n",
      "train: CE: 0.076766, MSE: 0.000696, loss: 0.069159\n",
      "train Acc: 0.9693\n",
      "train Bal. Acc: 0.9693\n"
     ]
    },
    {
     "name": "stderr",
     "output_type": "stream",
     "text": [
      "\r",
      "num_epochs:  22%|██████████████▎                                                  | 11/50 [1:14:03<4:14:59, 392.30s/it]"
     ]
    },
    {
     "name": "stdout",
     "output_type": "stream",
     "text": [
      "[[ 118. 2382.]\n",
      " [   0. 2500.]]\n",
      "val: CE: 4.258320, MSE: 0.000624, loss: 3.832550\n",
      "val Acc: 0.5236\n",
      "val Bal. Acc: 0.5236\n",
      "Total time: 1:14:03.820606\n",
      "Epoch time: 6m 29s\n",
      "\n",
      "\n",
      "----------\n",
      "Epoch 11/49\n",
      "LR 5e-05\n",
      "[[7350.  150.]\n",
      " [ 195. 7305.]]\n",
      "train: CE: 0.064047, MSE: 0.000589, loss: 0.057701\n",
      "train Acc: 0.9770\n",
      "train Bal. Acc: 0.9770\n"
     ]
    },
    {
     "name": "stderr",
     "output_type": "stream",
     "text": [
      "\r",
      "num_epochs:  24%|███████████████▌                                                 | 12/50 [1:20:32<4:07:46, 391.22s/it]"
     ]
    },
    {
     "name": "stdout",
     "output_type": "stream",
     "text": [
      "[[1396. 1104.]\n",
      " [  14. 2486.]]\n",
      "val: CE: 1.327095, MSE: 0.000574, loss: 1.194443\n",
      "val Acc: 0.7764\n",
      "val Bal. Acc: 0.7764\n",
      "Total time: 1:20:32.579470\n",
      "Epoch time: 6m 29s\n",
      "\n",
      "\n",
      "----------\n",
      "Epoch 12/49\n",
      "LR 5e-05\n",
      "[[7329.  171.]\n",
      " [ 208. 7292.]]\n",
      "train: CE: 0.063265, MSE: 0.000564, loss: 0.056995\n",
      "train Acc: 0.9747\n",
      "train Bal. Acc: 0.9747\n"
     ]
    },
    {
     "name": "stderr",
     "output_type": "stream",
     "text": [
      "\r",
      "num_epochs:  26%|████████████████▉                                                | 13/50 [1:27:00<4:00:38, 390.24s/it]"
     ]
    },
    {
     "name": "stdout",
     "output_type": "stream",
     "text": [
      "[[1.155e+03 1.345e+03]\n",
      " [2.000e+00 2.498e+03]]\n",
      "val: CE: 1.236252, MSE: 0.000469, loss: 1.112674\n",
      "val Acc: 0.7306\n",
      "val Bal. Acc: 0.7306\n",
      "Epoch     8: reducing learning rate of group 0 to 2.5000e-05.\n",
      "Total time: 1:27:00.546435\n",
      "Epoch time: 6m 28s\n",
      "\n",
      "\n",
      "----------\n",
      "Epoch 13/49\n",
      "LR 2.5e-05\n",
      "[[7389.  111.]\n",
      " [ 121. 7379.]]\n",
      "train: CE: 0.041568, MSE: 0.000476, loss: 0.037459\n",
      "train Acc: 0.9845\n",
      "train Bal. Acc: 0.9845\n"
     ]
    },
    {
     "name": "stderr",
     "output_type": "stream",
     "text": [
      "\r",
      "num_epochs:  28%|██████████████████▏                                              | 14/50 [1:33:28<3:53:46, 389.64s/it]"
     ]
    },
    {
     "name": "stdout",
     "output_type": "stream",
     "text": [
      "[[2358.  142.]\n",
      " [ 228. 2272.]]\n",
      "val: CE: 0.248980, MSE: 0.000462, loss: 0.224128\n",
      "val Acc: 0.9260\n",
      "val Bal. Acc: 0.9260\n",
      "saving best model\n",
      "Total time: 1:33:28.788704\n",
      "Epoch time: 6m 28s\n",
      "\n",
      "\n",
      "----------\n",
      "Epoch 14/49\n",
      "LR 2.5e-05\n",
      "[[7428.   72.]\n",
      " [  89. 7411.]]\n",
      "train: CE: 0.028623, MSE: 0.000458, loss: 0.025807\n",
      "train Acc: 0.9893\n",
      "train Bal. Acc: 0.9893\n"
     ]
    },
    {
     "name": "stderr",
     "output_type": "stream",
     "text": [
      "\r",
      "num_epochs:  30%|███████████████████▌                                             | 15/50 [1:39:56<3:46:56, 389.04s/it]"
     ]
    },
    {
     "name": "stdout",
     "output_type": "stream",
     "text": [
      "[[2471.   29.]\n",
      " [ 594. 1906.]]\n",
      "val: CE: 0.548868, MSE: 0.000442, loss: 0.494025\n",
      "val Acc: 0.8754\n",
      "val Bal. Acc: 0.8754\n",
      "Total time: 1:39:56.466110\n",
      "Epoch time: 6m 28s\n",
      "\n",
      "\n",
      "----------\n",
      "Epoch 15/49\n",
      "LR 2.5e-05\n",
      "[[7448.   52.]\n",
      " [  49. 7451.]]\n",
      "train: CE: 0.020273, MSE: 0.000423, loss: 0.018288\n",
      "train Acc: 0.9933\n",
      "train Bal. Acc: 0.9933\n"
     ]
    },
    {
     "name": "stderr",
     "output_type": "stream",
     "text": [
      "\r",
      "num_epochs:  32%|████████████████████▊                                            | 16/50 [1:46:24<3:40:20, 388.83s/it]"
     ]
    },
    {
     "name": "stdout",
     "output_type": "stream",
     "text": [
      "[[2358.  142.]\n",
      " [ 200. 2300.]]\n",
      "val: CE: 0.227506, MSE: 0.000401, loss: 0.204796\n",
      "val Acc: 0.9316\n",
      "val Bal. Acc: 0.9316\n",
      "saving best model\n",
      "Total time: 1:46:24.787333\n",
      "Epoch time: 6m 28s\n",
      "\n",
      "\n",
      "----------\n",
      "Epoch 16/49\n",
      "LR 2.5e-05\n",
      "[[7469.   31.]\n",
      " [  37. 7463.]]\n",
      "train: CE: 0.015192, MSE: 0.000396, loss: 0.013712\n",
      "train Acc: 0.9955\n",
      "train Bal. Acc: 0.9955\n"
     ]
    },
    {
     "name": "stderr",
     "output_type": "stream",
     "text": [
      "\r",
      "num_epochs:  34%|██████████████████████                                           | 17/50 [1:52:52<3:33:40, 388.50s/it]"
     ]
    },
    {
     "name": "stdout",
     "output_type": "stream",
     "text": [
      "[[2313.  187.]\n",
      " [ 144. 2356.]]\n",
      "val: CE: 0.257941, MSE: 0.000397, loss: 0.232186\n",
      "val Acc: 0.9338\n",
      "val Bal. Acc: 0.9338\n",
      "saving best model\n",
      "Total time: 1:52:52.528485\n",
      "Epoch time: 6m 28s\n",
      "\n",
      "\n",
      "----------\n",
      "Epoch 17/49\n",
      "LR 2.5e-05\n",
      "[[7471.   29.]\n",
      " [  20. 7480.]]\n",
      "train: CE: 0.011170, MSE: 0.000378, loss: 0.010091\n",
      "train Acc: 0.9967\n",
      "train Bal. Acc: 0.9967\n"
     ]
    },
    {
     "name": "stderr",
     "output_type": "stream",
     "text": [
      "\r",
      "num_epochs:  36%|███████████████████████▍                                         | 18/50 [1:59:20<3:27:06, 388.32s/it]"
     ]
    },
    {
     "name": "stdout",
     "output_type": "stream",
     "text": [
      "[[2346.  154.]\n",
      " [ 202. 2298.]]\n",
      "val: CE: 0.292064, MSE: 0.000370, loss: 0.262895\n",
      "val Acc: 0.9288\n",
      "val Bal. Acc: 0.9288\n",
      "Total time: 1:59:20.418949\n",
      "Epoch time: 6m 28s\n",
      "\n",
      "\n",
      "----------\n",
      "Epoch 18/49\n",
      "LR 2.5e-05\n",
      "[[7480.   20.]\n",
      " [  32. 7468.]]\n",
      "train: CE: 0.011357, MSE: 0.000369, loss: 0.010258\n",
      "train Acc: 0.9965\n",
      "train Bal. Acc: 0.9965\n"
     ]
    },
    {
     "name": "stderr",
     "output_type": "stream",
     "text": [
      "\r",
      "num_epochs:  38%|████████████████████████▋                                        | 19/50 [2:05:48<3:20:34, 388.21s/it]"
     ]
    },
    {
     "name": "stdout",
     "output_type": "stream",
     "text": [
      "[[2315.  185.]\n",
      " [ 172. 2328.]]\n",
      "val: CE: 0.274578, MSE: 0.000356, loss: 0.247156\n",
      "val Acc: 0.9286\n",
      "val Bal. Acc: 0.9286\n",
      "Total time: 2:05:48.377343\n",
      "Epoch time: 6m 28s\n",
      "\n",
      "\n",
      "----------\n",
      "Epoch 19/49\n",
      "LR 2.5e-05\n",
      "[[7467.   33.]\n",
      " [  33. 7467.]]\n",
      "train: CE: 0.011769, MSE: 0.000358, loss: 0.010628\n",
      "train Acc: 0.9956\n",
      "train Bal. Acc: 0.9956\n"
     ]
    },
    {
     "name": "stderr",
     "output_type": "stream",
     "text": [
      "\r",
      "num_epochs:  40%|██████████████████████████                                       | 20/50 [2:12:16<3:14:09, 388.32s/it]"
     ]
    },
    {
     "name": "stdout",
     "output_type": "stream",
     "text": [
      "[[2388.  112.]\n",
      " [ 269. 2231.]]\n",
      "val: CE: 0.338387, MSE: 0.000376, loss: 0.304586\n",
      "val Acc: 0.9238\n",
      "val Bal. Acc: 0.9238\n",
      "Total time: 2:12:16.956909\n",
      "Epoch time: 6m 29s\n",
      "\n",
      "\n",
      "----------\n",
      "Epoch 20/49\n",
      "LR 2.5e-05\n",
      "[[7476.   24.]\n",
      " [  33. 7467.]]\n",
      "train: CE: 0.010928, MSE: 0.000351, loss: 0.009870\n",
      "train Acc: 0.9962\n",
      "train Bal. Acc: 0.9962\n"
     ]
    },
    {
     "name": "stderr",
     "output_type": "stream",
     "text": [
      "\r",
      "num_epochs:  42%|███████████████████████████▎                                     | 21/50 [2:18:45<3:07:41, 388.33s/it]"
     ]
    },
    {
     "name": "stdout",
     "output_type": "stream",
     "text": [
      "[[2444.   56.]\n",
      " [ 415. 2085.]]\n",
      "val: CE: 0.455461, MSE: 0.000334, loss: 0.409948\n",
      "val Acc: 0.9058\n",
      "val Bal. Acc: 0.9058\n",
      "Epoch    16: reducing learning rate of group 0 to 1.2500e-05.\n",
      "Total time: 2:18:45.298977\n",
      "Epoch time: 6m 28s\n",
      "\n",
      "\n",
      "----------\n",
      "Epoch 21/49\n",
      "LR 1.25e-05\n",
      "[[7481.   19.]\n",
      " [   9. 7491.]]\n",
      "train: CE: 0.006132, MSE: 0.000334, loss: 0.005552\n",
      "train Acc: 0.9981\n",
      "train Bal. Acc: 0.9981\n"
     ]
    },
    {
     "name": "stderr",
     "output_type": "stream",
     "text": [
      "\r",
      "num_epochs:  44%|████████████████████████████▌                                    | 22/50 [2:25:13<3:01:12, 388.29s/it]"
     ]
    },
    {
     "name": "stdout",
     "output_type": "stream",
     "text": [
      "[[2276.  224.]\n",
      " [ 119. 2381.]]\n",
      "val: CE: 0.289000, MSE: 0.000326, loss: 0.260133\n",
      "val Acc: 0.9314\n",
      "val Bal. Acc: 0.9314\n",
      "Total time: 2:25:13.494696\n",
      "Epoch time: 6m 28s\n",
      "\n",
      "\n",
      "----------\n",
      "Epoch 22/49\n",
      "LR 1.25e-05\n",
      "[[7483.   17.]\n",
      " [  21. 7479.]]\n",
      "train: CE: 0.007790, MSE: 0.000328, loss: 0.007044\n",
      "train Acc: 0.9975\n",
      "train Bal. Acc: 0.9975\n"
     ]
    },
    {
     "name": "stderr",
     "output_type": "stream",
     "text": [
      "\r",
      "num_epochs:  46%|█████████████████████████████▉                                   | 23/50 [2:31:41<2:54:39, 388.14s/it]"
     ]
    },
    {
     "name": "stdout",
     "output_type": "stream",
     "text": [
      "[[2449.   51.]\n",
      " [ 386. 2114.]]\n",
      "val: CE: 0.457669, MSE: 0.000321, loss: 0.411934\n",
      "val Acc: 0.9126\n",
      "val Bal. Acc: 0.9126\n",
      "Total time: 2:31:41.279898\n",
      "Epoch time: 6m 28s\n",
      "\n",
      "\n",
      "----------\n",
      "Epoch 23/49\n",
      "LR 1.25e-05\n",
      "[[7486.   14.]\n",
      " [   9. 7491.]]\n",
      "train: CE: 0.005004, MSE: 0.000326, loss: 0.004536\n",
      "train Acc: 0.9985\n",
      "train Bal. Acc: 0.9985\n"
     ]
    },
    {
     "name": "stderr",
     "output_type": "stream",
     "text": [
      "\r",
      "num_epochs:  48%|███████████████████████████████▏                                 | 24/50 [2:38:09<2:48:11, 388.13s/it]"
     ]
    },
    {
     "name": "stdout",
     "output_type": "stream",
     "text": [
      "[[2407.   93.]\n",
      " [ 272. 2228.]]\n",
      "val: CE: 0.346762, MSE: 0.000319, loss: 0.312118\n",
      "val Acc: 0.9270\n",
      "val Bal. Acc: 0.9270\n",
      "Total time: 2:38:09.386954\n",
      "Epoch time: 6m 28s\n",
      "\n",
      "\n",
      "----------\n",
      "Epoch 24/49\n",
      "LR 1.25e-05\n",
      "[[7.496e+03 4.000e+00]\n",
      " [9.000e+00 7.491e+03]]\n",
      "train: CE: 0.003063, MSE: 0.000318, loss: 0.002789\n",
      "train Acc: 0.9991\n",
      "train Bal. Acc: 0.9991\n"
     ]
    },
    {
     "name": "stderr",
     "output_type": "stream",
     "text": [
      "\r",
      "num_epochs:  50%|████████████████████████████████▌                                | 25/50 [2:44:41<2:42:15, 389.44s/it]"
     ]
    },
    {
     "name": "stdout",
     "output_type": "stream",
     "text": [
      "[[2369.  131.]\n",
      " [ 188. 2312.]]\n",
      "val: CE: 0.288469, MSE: 0.000311, loss: 0.259653\n",
      "val Acc: 0.9362\n",
      "val Bal. Acc: 0.9362\n",
      "saving best model\n",
      "Total time: 2:44:41.873646\n",
      "Epoch time: 6m 32s\n",
      "\n",
      "\n",
      "----------\n",
      "Epoch 25/49\n",
      "LR 1.25e-05\n",
      "[[7.496e+03 4.000e+00]\n",
      " [7.000e+00 7.493e+03]]\n",
      "train: CE: 0.002396, MSE: 0.000313, loss: 0.002188\n",
      "train Acc: 0.9993\n",
      "train Bal. Acc: 0.9993\n"
     ]
    },
    {
     "name": "stderr",
     "output_type": "stream",
     "text": [
      "\r",
      "num_epochs:  52%|█████████████████████████████████▊                               | 26/50 [2:51:25<2:37:29, 393.74s/it]"
     ]
    },
    {
     "name": "stdout",
     "output_type": "stream",
     "text": [
      "[[2372.  128.]\n",
      " [ 213. 2287.]]\n",
      "val: CE: 0.316067, MSE: 0.000305, loss: 0.284491\n",
      "val Acc: 0.9318\n",
      "val Bal. Acc: 0.9318\n",
      "Total time: 2:51:25.651450\n",
      "Epoch time: 6m 44s\n",
      "\n",
      "\n",
      "----------\n",
      "Epoch 26/49\n",
      "LR 1.25e-05\n",
      "[[7.496e+03 4.000e+00]\n",
      " [5.000e+00 7.495e+03]]\n",
      "train: CE: 0.002592, MSE: 0.000308, loss: 0.002363\n",
      "train Acc: 0.9994\n",
      "train Bal. Acc: 0.9994\n"
     ]
    },
    {
     "name": "stderr",
     "output_type": "stream",
     "text": [
      "\r",
      "num_epochs:  54%|███████████████████████████████████                              | 27/50 [2:58:13<2:32:31, 397.90s/it]"
     ]
    },
    {
     "name": "stdout",
     "output_type": "stream",
     "text": [
      "[[2422.   78.]\n",
      " [ 276. 2224.]]\n",
      "val: CE: 0.331840, MSE: 0.000301, loss: 0.298686\n",
      "val Acc: 0.9292\n",
      "val Bal. Acc: 0.9292\n",
      "Total time: 2:58:13.264279\n",
      "Epoch time: 6m 48s\n",
      "\n",
      "\n",
      "----------\n",
      "Epoch 27/49\n",
      "LR 1.25e-05\n",
      "[[7.500e+03 0.000e+00]\n",
      " [3.000e+00 7.497e+03]]\n",
      "train: CE: 0.001284, MSE: 0.000303, loss: 0.001186\n",
      "train Acc: 0.9998\n",
      "train Bal. Acc: 0.9998\n"
     ]
    },
    {
     "name": "stderr",
     "output_type": "stream",
     "text": [
      "\r",
      "num_epochs:  56%|████████████████████████████████████▍                            | 28/50 [3:05:02<2:27:09, 401.35s/it]"
     ]
    },
    {
     "name": "stdout",
     "output_type": "stream",
     "text": [
      "[[2391.  109.]\n",
      " [ 215. 2285.]]\n",
      "val: CE: 0.285634, MSE: 0.000296, loss: 0.257100\n",
      "val Acc: 0.9352\n",
      "val Bal. Acc: 0.9352\n",
      "Epoch    23: reducing learning rate of group 0 to 6.2500e-06.\n",
      "Total time: 3:05:02.654889\n",
      "Epoch time: 6m 49s\n",
      "\n",
      "\n",
      "----------\n",
      "Epoch 28/49\n",
      "LR 6.25e-06\n",
      "[[7.498e+03 2.000e+00]\n",
      " [2.000e+00 7.498e+03]]\n",
      "train: CE: 0.001203, MSE: 0.000300, loss: 0.001112\n",
      "train Acc: 0.9997\n",
      "train Bal. Acc: 0.9997\n"
     ]
    },
    {
     "name": "stderr",
     "output_type": "stream",
     "text": [
      "\r",
      "num_epochs:  58%|█████████████████████████████████████▋                           | 29/50 [3:11:53<2:21:28, 404.21s/it]"
     ]
    },
    {
     "name": "stdout",
     "output_type": "stream",
     "text": [
      "[[2410.   90.]\n",
      " [ 230. 2270.]]\n",
      "val: CE: 0.299864, MSE: 0.000294, loss: 0.269907\n",
      "val Acc: 0.9360\n",
      "val Bal. Acc: 0.9360\n",
      "Total time: 3:11:53.553848\n",
      "Epoch time: 6m 51s\n",
      "\n",
      "\n",
      "----------\n",
      "Epoch 29/49\n",
      "LR 6.25e-06\n",
      "[[7.500e+03 0.000e+00]\n",
      " [3.000e+00 7.497e+03]]\n",
      "train: CE: 0.001144, MSE: 0.000298, loss: 0.001060\n",
      "train Acc: 0.9998\n",
      "train Bal. Acc: 0.9998\n"
     ]
    },
    {
     "name": "stderr",
     "output_type": "stream",
     "text": [
      "\r",
      "num_epochs:  60%|███████████████████████████████████████                          | 30/50 [3:18:46<2:15:36, 406.85s/it]"
     ]
    },
    {
     "name": "stdout",
     "output_type": "stream",
     "text": [
      "[[2354.  146.]\n",
      " [ 169. 2331.]]\n",
      "val: CE: 0.280363, MSE: 0.000292, loss: 0.252356\n",
      "val Acc: 0.9370\n",
      "val Bal. Acc: 0.9370\n",
      "saving best model\n",
      "Total time: 3:18:46.554686\n",
      "Epoch time: 6m 53s\n",
      "\n",
      "\n",
      "----------\n",
      "Epoch 30/49\n",
      "LR 6.25e-06\n",
      "[[7.498e+03 2.000e+00]\n",
      " [0.000e+00 7.500e+03]]\n",
      "train: CE: 0.000982, MSE: 0.000296, loss: 0.000914\n",
      "train Acc: 0.9999\n",
      "train Bal. Acc: 0.9999\n"
     ]
    },
    {
     "name": "stderr",
     "output_type": "stream",
     "text": [
      "\r",
      "num_epochs:  62%|████████████████████████████████████████▎                        | 31/50 [3:25:31<2:08:40, 406.36s/it]"
     ]
    },
    {
     "name": "stdout",
     "output_type": "stream",
     "text": [
      "[[2424.   76.]\n",
      " [ 262. 2238.]]\n",
      "val: CE: 0.329119, MSE: 0.000289, loss: 0.296236\n",
      "val Acc: 0.9324\n",
      "val Bal. Acc: 0.9324\n",
      "Total time: 3:25:31.786493\n",
      "Epoch time: 6m 45s\n",
      "\n",
      "\n",
      "----------\n",
      "Epoch 31/49\n",
      "LR 6.25e-06\n",
      "[[7500.    0.]\n",
      " [   0. 7500.]]\n",
      "train: CE: 0.000876, MSE: 0.000293, loss: 0.000818\n",
      "train Acc: 1.0000\n",
      "train Bal. Acc: 1.0000\n"
     ]
    },
    {
     "name": "stderr",
     "output_type": "stream",
     "text": [
      "\r",
      "num_epochs:  64%|█████████████████████████████████████████▌                       | 32/50 [3:32:30<2:02:59, 409.99s/it]"
     ]
    },
    {
     "name": "stdout",
     "output_type": "stream",
     "text": [
      "[[2387.  113.]\n",
      " [ 204. 2296.]]\n",
      "val: CE: 0.282536, MSE: 0.000287, loss: 0.254312\n",
      "val Acc: 0.9366\n",
      "val Bal. Acc: 0.9366\n",
      "Total time: 3:32:30.232110\n",
      "Epoch time: 6m 58s\n",
      "\n",
      "\n",
      "----------\n",
      "Epoch 32/49\n",
      "LR 6.25e-06\n",
      "[[7.500e+03 0.000e+00]\n",
      " [2.000e+00 7.498e+03]]\n",
      "train: CE: 0.000807, MSE: 0.000291, loss: 0.000755\n",
      "train Acc: 0.9999\n",
      "train Bal. Acc: 0.9999\n"
     ]
    },
    {
     "name": "stderr",
     "output_type": "stream",
     "text": [
      "\r",
      "num_epochs:  66%|██████████████████████████████████████████▉                      | 33/50 [3:39:20<1:56:12, 410.13s/it]"
     ]
    },
    {
     "name": "stdout",
     "output_type": "stream",
     "text": [
      "[[2402.   98.]\n",
      " [ 226. 2274.]]\n",
      "val: CE: 0.310666, MSE: 0.000285, loss: 0.279628\n",
      "val Acc: 0.9352\n",
      "val Bal. Acc: 0.9352\n",
      "Total time: 3:39:20.689696\n",
      "Epoch time: 6m 50s\n",
      "\n",
      "\n",
      "----------\n",
      "Epoch 33/49\n",
      "LR 6.25e-06\n",
      "[[7.499e+03 1.000e+00]\n",
      " [0.000e+00 7.500e+03]]\n",
      "train: CE: 0.000735, MSE: 0.000289, loss: 0.000690\n",
      "train Acc: 0.9999\n",
      "train Bal. Acc: 0.9999\n"
     ]
    },
    {
     "name": "stderr",
     "output_type": "stream",
     "text": [
      "\r",
      "num_epochs:  68%|████████████████████████████████████████████▏                    | 34/50 [3:46:06<1:49:00, 408.81s/it]"
     ]
    },
    {
     "name": "stdout",
     "output_type": "stream",
     "text": [
      "[[2404.   96.]\n",
      " [ 237. 2263.]]\n",
      "val: CE: 0.307007, MSE: 0.000282, loss: 0.276334\n",
      "val Acc: 0.9334\n",
      "val Bal. Acc: 0.9334\n",
      "Total time: 3:46:06.417460\n",
      "Epoch time: 6m 46s\n",
      "\n",
      "\n",
      "----------\n",
      "Epoch 34/49\n",
      "LR 6.25e-06\n",
      "[[7500.    0.]\n",
      " [   0. 7500.]]\n",
      "train: CE: 0.000549, MSE: 0.000287, loss: 0.000523\n",
      "train Acc: 1.0000\n",
      "train Bal. Acc: 1.0000\n"
     ]
    },
    {
     "name": "stderr",
     "output_type": "stream",
     "text": [
      "\r",
      "num_epochs:  70%|█████████████████████████████████████████████▌                   | 35/50 [3:52:50<1:41:52, 407.53s/it]"
     ]
    },
    {
     "name": "stdout",
     "output_type": "stream",
     "text": [
      "[[2419.   81.]\n",
      " [ 260. 2240.]]\n",
      "val: CE: 0.322189, MSE: 0.000280, loss: 0.289998\n",
      "val Acc: 0.9318\n",
      "val Bal. Acc: 0.9318\n",
      "Epoch    30: reducing learning rate of group 0 to 3.1250e-06.\n",
      "Total time: 3:52:50.952987\n",
      "Epoch time: 6m 45s\n",
      "\n",
      "\n",
      "----------\n",
      "Epoch 35/49\n",
      "LR 3.125e-06\n",
      "[[7.498e+03 2.000e+00]\n",
      " [0.000e+00 7.500e+03]]\n",
      "train: CE: 0.000649, MSE: 0.000285, loss: 0.000613\n",
      "train Acc: 0.9999\n",
      "train Bal. Acc: 0.9999\n"
     ]
    },
    {
     "name": "stderr",
     "output_type": "stream",
     "text": [
      "\r",
      "num_epochs:  72%|██████████████████████████████████████████████▊                  | 36/50 [3:59:33<1:34:45, 406.11s/it]"
     ]
    },
    {
     "name": "stdout",
     "output_type": "stream",
     "text": [
      "[[2401.   99.]\n",
      " [ 221. 2279.]]\n",
      "val: CE: 0.308578, MSE: 0.000279, loss: 0.277748\n",
      "val Acc: 0.9360\n",
      "val Bal. Acc: 0.9360\n",
      "Total time: 3:59:33.745595\n",
      "Epoch time: 6m 43s\n",
      "\n",
      "\n",
      "----------\n",
      "Epoch 36/49\n",
      "LR 3.125e-06\n",
      "[[7500.    0.]\n",
      " [   0. 7500.]]\n",
      "train: CE: 0.000861, MSE: 0.000284, loss: 0.000803\n",
      "train Acc: 1.0000\n",
      "train Bal. Acc: 1.0000\n"
     ]
    },
    {
     "name": "stderr",
     "output_type": "stream",
     "text": [
      "\r",
      "num_epochs:  74%|████████████████████████████████████████████████                 | 37/50 [4:06:27<1:28:29, 408.42s/it]"
     ]
    },
    {
     "name": "stdout",
     "output_type": "stream",
     "text": [
      "[[2421.   79.]\n",
      " [ 252. 2248.]]\n",
      "val: CE: 0.323940, MSE: 0.000278, loss: 0.291573\n",
      "val Acc: 0.9338\n",
      "val Bal. Acc: 0.9338\n",
      "Total time: 4:06:27.551369\n",
      "Epoch time: 6m 54s\n",
      "\n",
      "\n",
      "----------\n",
      "Epoch 37/49\n",
      "LR 3.125e-06\n",
      "[[7500.    0.]\n",
      " [   0. 7500.]]\n",
      "train: CE: 0.000663, MSE: 0.000283, loss: 0.000625\n",
      "train Acc: 1.0000\n",
      "train Bal. Acc: 1.0000\n"
     ]
    },
    {
     "name": "stderr",
     "output_type": "stream",
     "text": [
      "\r",
      "num_epochs:  76%|█████████████████████████████████████████████████▍               | 38/50 [4:13:09<1:21:18, 406.53s/it]"
     ]
    },
    {
     "name": "stdout",
     "output_type": "stream",
     "text": [
      "[[2413.   87.]\n",
      " [ 239. 2261.]]\n",
      "val: CE: 0.315528, MSE: 0.000277, loss: 0.284003\n",
      "val Acc: 0.9348\n",
      "val Bal. Acc: 0.9348\n",
      "Total time: 4:13:09.671684\n",
      "Epoch time: 6m 42s\n",
      "\n",
      "\n",
      "----------\n",
      "Epoch 38/49\n",
      "LR 3.125e-06\n",
      "[[7500.    0.]\n",
      " [   0. 7500.]]\n",
      "train: CE: 0.000773, MSE: 0.000282, loss: 0.000724\n",
      "train Acc: 1.0000\n",
      "train Bal. Acc: 1.0000\n"
     ]
    },
    {
     "name": "stderr",
     "output_type": "stream",
     "text": [
      "\r",
      "num_epochs:  78%|██████████████████████████████████████████████████▋              | 39/50 [4:19:51<1:14:17, 405.20s/it]"
     ]
    },
    {
     "name": "stdout",
     "output_type": "stream",
     "text": [
      "[[2406.   94.]\n",
      " [ 230. 2270.]]\n",
      "val: CE: 0.308587, MSE: 0.000276, loss: 0.277756\n",
      "val Acc: 0.9352\n",
      "val Bal. Acc: 0.9352\n",
      "Total time: 4:19:51.769316\n",
      "Epoch time: 6m 42s\n",
      "\n",
      "\n",
      "----------\n",
      "Epoch 39/49\n",
      "LR 3.125e-06\n",
      "[[7.499e+03 1.000e+00]\n",
      " [3.000e+00 7.497e+03]]\n",
      "train: CE: 0.001518, MSE: 0.000281, loss: 0.001394\n",
      "train Acc: 0.9997\n",
      "train Bal. Acc: 0.9997\n"
     ]
    },
    {
     "name": "stderr",
     "output_type": "stream",
     "text": [
      "\r",
      "num_epochs:  80%|████████████████████████████████████████████████████             | 40/50 [4:26:32<1:07:17, 403.80s/it]"
     ]
    },
    {
     "name": "stdout",
     "output_type": "stream",
     "text": [
      "[[2415.   85.]\n",
      " [ 248. 2252.]]\n",
      "val: CE: 0.330665, MSE: 0.000275, loss: 0.297626\n",
      "val Acc: 0.9334\n",
      "val Bal. Acc: 0.9334\n",
      "Total time: 4:26:32.297259\n",
      "Epoch time: 6m 41s\n",
      "\n",
      "\n",
      "----------\n",
      "Epoch 40/49\n",
      "LR 3.125e-06\n",
      "[[7500.    0.]\n",
      " [   0. 7500.]]\n",
      "train: CE: 0.000875, MSE: 0.000280, loss: 0.000815\n",
      "train Acc: 1.0000\n",
      "train Bal. Acc: 1.0000\n"
     ]
    },
    {
     "name": "stderr",
     "output_type": "stream",
     "text": [
      "\r",
      "num_epochs:  82%|█████████████████████████████████████████████████████▎           | 41/50 [4:33:24<1:00:55, 406.21s/it]"
     ]
    },
    {
     "name": "stdout",
     "output_type": "stream",
     "text": [
      "[[2430.   70.]\n",
      " [ 291. 2209.]]\n",
      "val: CE: 0.341850, MSE: 0.000274, loss: 0.307693\n",
      "val Acc: 0.9278\n",
      "val Bal. Acc: 0.9278\n",
      "Total time: 4:33:24.149200\n",
      "Epoch time: 6m 52s\n",
      "\n",
      "\n",
      "----------\n",
      "Epoch 41/49\n",
      "LR 3.125e-06\n",
      "[[7500.    0.]\n",
      " [   0. 7500.]]\n",
      "train: CE: 0.000535, MSE: 0.000279, loss: 0.000510\n",
      "train Acc: 1.0000\n",
      "train Bal. Acc: 1.0000\n"
     ]
    },
    {
     "name": "stderr",
     "output_type": "stream",
     "text": [
      "\r",
      "num_epochs:  84%|████████████████████████████████████████████████████████▎          | 42/50 [4:40:18<54:29, 408.74s/it]"
     ]
    },
    {
     "name": "stdout",
     "output_type": "stream",
     "text": [
      "[[2402.   98.]\n",
      " [ 226. 2274.]]\n",
      "val: CE: 0.310489, MSE: 0.000273, loss: 0.279467\n",
      "val Acc: 0.9352\n",
      "val Bal. Acc: 0.9352\n",
      "Epoch    37: reducing learning rate of group 0 to 1.5625e-06.\n",
      "Total time: 4:40:18.774915\n",
      "Epoch time: 6m 55s\n",
      "\n",
      "\n",
      "----------\n",
      "Epoch 42/49\n",
      "LR 1.5625e-06\n",
      "[[7.499e+03 1.000e+00]\n",
      " [0.000e+00 7.500e+03]]\n",
      "train: CE: 0.000730, MSE: 0.000278, loss: 0.000685\n",
      "train Acc: 0.9999\n",
      "train Bal. Acc: 0.9999\n"
     ]
    },
    {
     "name": "stderr",
     "output_type": "stream",
     "text": [
      "\r",
      "num_epochs:  86%|█████████████████████████████████████████████████████████▌         | 43/50 [4:47:04<47:34, 407.74s/it]"
     ]
    },
    {
     "name": "stdout",
     "output_type": "stream",
     "text": [
      "[[2410.   90.]\n",
      " [ 235. 2265.]]\n",
      "val: CE: 0.319668, MSE: 0.000272, loss: 0.287728\n",
      "val Acc: 0.9350\n",
      "val Bal. Acc: 0.9350\n",
      "Total time: 4:47:04.172013\n",
      "Epoch time: 6m 45s\n",
      "\n",
      "\n",
      "----------\n",
      "Epoch 43/49\n",
      "LR 1.5625e-06\n",
      "[[7500.    0.]\n",
      " [   0. 7500.]]\n",
      "train: CE: 0.000634, MSE: 0.000277, loss: 0.000598\n",
      "train Acc: 1.0000\n",
      "train Bal. Acc: 1.0000\n"
     ]
    },
    {
     "name": "stderr",
     "output_type": "stream",
     "text": [
      "\r",
      "num_epochs:  88%|██████████████████████████████████████████████████████████▉        | 44/50 [4:53:44<40:33, 405.61s/it]"
     ]
    },
    {
     "name": "stdout",
     "output_type": "stream",
     "text": [
      "[[2386.  114.]\n",
      " [ 200. 2300.]]\n",
      "val: CE: 0.295394, MSE: 0.000271, loss: 0.265882\n",
      "val Acc: 0.9372\n",
      "val Bal. Acc: 0.9372\n",
      "saving best model\n",
      "Total time: 4:53:44.811362\n",
      "Epoch time: 6m 41s\n",
      "\n",
      "\n",
      "----------\n",
      "Epoch 44/49\n",
      "LR 1.5625e-06\n",
      "[[7500.    0.]\n",
      " [   0. 7500.]]\n",
      "train: CE: 0.000572, MSE: 0.000277, loss: 0.000542\n",
      "train Acc: 1.0000\n",
      "train Bal. Acc: 1.0000\n"
     ]
    },
    {
     "name": "stderr",
     "output_type": "stream",
     "text": [
      "\r",
      "num_epochs:  90%|████████████████████████████████████████████████████████████▎      | 45/50 [5:00:29<33:47, 405.42s/it]"
     ]
    },
    {
     "name": "stdout",
     "output_type": "stream",
     "text": [
      "[[2423.   77.]\n",
      " [ 247. 2253.]]\n",
      "val: CE: 0.330295, MSE: 0.000271, loss: 0.297292\n",
      "val Acc: 0.9352\n",
      "val Bal. Acc: 0.9352\n",
      "Total time: 5:00:29.793826\n",
      "Epoch time: 6m 45s\n",
      "\n",
      "\n",
      "----------\n",
      "Epoch 45/49\n",
      "LR 1.5625e-06\n",
      "[[7500.    0.]\n",
      " [   0. 7500.]]\n",
      "train: CE: 0.000587, MSE: 0.000276, loss: 0.000556\n",
      "train Acc: 1.0000\n",
      "train Bal. Acc: 1.0000\n"
     ]
    },
    {
     "name": "stderr",
     "output_type": "stream",
     "text": [
      "\r",
      "num_epochs:  92%|█████████████████████████████████████████████████████████████▋     | 46/50 [5:07:10<26:56, 404.12s/it]"
     ]
    },
    {
     "name": "stdout",
     "output_type": "stream",
     "text": [
      "[[2378.  122.]\n",
      " [ 197. 2303.]]\n",
      "val: CE: 0.289073, MSE: 0.000270, loss: 0.260193\n",
      "val Acc: 0.9362\n",
      "val Bal. Acc: 0.9362\n",
      "Total time: 5:07:10.876929\n",
      "Epoch time: 6m 41s\n",
      "\n",
      "\n",
      "----------\n",
      "Epoch 46/49\n",
      "LR 1.5625e-06\n",
      "[[7.499e+03 1.000e+00]\n",
      " [0.000e+00 7.500e+03]]\n",
      "train: CE: 0.000740, MSE: 0.000276, loss: 0.000694\n",
      "train Acc: 0.9999\n",
      "train Bal. Acc: 0.9999\n"
     ]
    },
    {
     "name": "stderr",
     "output_type": "stream",
     "text": [
      "\r",
      "num_epochs:  94%|██████████████████████████████████████████████████████████████▉    | 47/50 [5:13:39<19:58, 399.53s/it]"
     ]
    },
    {
     "name": "stdout",
     "output_type": "stream",
     "text": [
      "[[2386.  114.]\n",
      " [ 202. 2298.]]\n",
      "val: CE: 0.300273, MSE: 0.000270, loss: 0.270272\n",
      "val Acc: 0.9368\n",
      "val Bal. Acc: 0.9368\n",
      "Total time: 5:13:39.702094\n",
      "Epoch time: 6m 29s\n",
      "\n",
      "\n",
      "----------\n",
      "Epoch 47/49\n",
      "LR 1.5625e-06\n",
      "[[7.500e+03 0.000e+00]\n",
      " [3.000e+00 7.497e+03]]\n",
      "train: CE: 0.000893, MSE: 0.000275, loss: 0.000831\n",
      "train Acc: 0.9998\n",
      "train Bal. Acc: 0.9998\n"
     ]
    },
    {
     "name": "stderr",
     "output_type": "stream",
     "text": [
      "\r",
      "num_epochs:  96%|████████████████████████████████████████████████████████████████▎  | 48/50 [5:20:04<13:10, 395.26s/it]"
     ]
    },
    {
     "name": "stdout",
     "output_type": "stream",
     "text": [
      "[[2377.  123.]\n",
      " [ 194. 2306.]]\n",
      "val: CE: 0.288521, MSE: 0.000269, loss: 0.259696\n",
      "val Acc: 0.9366\n",
      "val Bal. Acc: 0.9366\n",
      "Total time: 5:20:04.997913\n",
      "Epoch time: 6m 25s\n",
      "\n",
      "\n",
      "----------\n",
      "Epoch 48/49\n",
      "LR 1.5625e-06\n",
      "[[7.500e+03 0.000e+00]\n",
      " [1.000e+00 7.499e+03]]\n",
      "train: CE: 0.000481, MSE: 0.000275, loss: 0.000460\n",
      "train Acc: 0.9999\n",
      "train Bal. Acc: 0.9999\n"
     ]
    },
    {
     "name": "stderr",
     "output_type": "stream",
     "text": [
      "\r",
      "num_epochs:  98%|█████████████████████████████████████████████████████████████████▋ | 49/50 [5:26:30<06:32, 392.21s/it]"
     ]
    },
    {
     "name": "stdout",
     "output_type": "stream",
     "text": [
      "[[2418.   82.]\n",
      " [ 256. 2244.]]\n",
      "val: CE: 0.327901, MSE: 0.000269, loss: 0.295138\n",
      "val Acc: 0.9324\n",
      "val Bal. Acc: 0.9324\n",
      "Epoch    44: reducing learning rate of group 0 to 7.8125e-07.\n",
      "Total time: 5:26:30.078725\n",
      "Epoch time: 6m 25s\n",
      "\n",
      "\n",
      "----------\n",
      "Epoch 49/49\n",
      "LR 7.8125e-07\n",
      "[[7500.    0.]\n",
      " [   0. 7500.]]\n",
      "train: CE: 0.000722, MSE: 0.000274, loss: 0.000677\n",
      "train Acc: 1.0000\n",
      "train Bal. Acc: 1.0000\n"
     ]
    },
    {
     "name": "stderr",
     "output_type": "stream",
     "text": [
      "num_epochs: 100%|███████████████████████████████████████████████████████████████████| 50/50 [5:32:54<00:00, 399.50s/it]"
     ]
    },
    {
     "name": "stdout",
     "output_type": "stream",
     "text": [
      "[[2394.  106.]\n",
      " [ 218. 2282.]]\n",
      "val: CE: 0.303149, MSE: 0.000268, loss: 0.272861\n",
      "val Acc: 0.9352\n",
      "val Bal. Acc: 0.9352\n",
      "Total time: 5:32:54.928652\n",
      "Epoch time: 6m 25s\n",
      "Best val loss: 0.265882\n",
      "Best val acc: 0.937200\n",
      "50\n"
     ]
    },
    {
     "name": "stderr",
     "output_type": "stream",
     "text": [
      "\n"
     ]
    },
    {
     "data": {
      "image/png": "[encoded data removed]",
      "text/plain": [
       "<Figure size 432x288 with 1 Axes>"
      ]
     },
     "metadata": {
      "needs_background": "light"
     },
     "output_type": "display_data"
    },
    {
     "name": "stdout",
     "output_type": "stream",
     "text": [
      "50\n"
     ]
    },
    {
     "data": {
      "image/png": "[encoded data removed]",
      "text/plain": [
       "<Figure size 432x288 with 1 Axes>"
      ]
     },
     "metadata": {
      "needs_background": "light"
     },
     "output_type": "display_data"
    },
    {
     "data": {
      "image/png": "[encoded data removed]",
      "text/plain": [
       "<Figure size 432x288 with 1 Axes>"
      ]
     },
     "metadata": {
      "needs_background": "light"
     },
     "output_type": "display_data"
    },
    {
     "name": "stdout",
     "output_type": "stream",
     "text": [
      "tensor([[2386.,  114.],\n",
      "        [ 200., 2300.]])\n",
      "[2586. 2414.]\n",
      "[[0.9544 0.0456]\n",
      " [0.08   0.92  ]]\n",
      "\n",
      "\n",
      "\n"
     ]
    }
   ],
   "source": [
    "import torch\n",
    "import torch.optim as optim\n",
    "from torch.optim import lr_scheduler\n",
    "import copy\n",
    "\n",
    "for runs in range (3,4):\n",
    "    print(\"Fold-\",str(runs),\": Initializing Datasets and Dataloaders...\")\n",
    "#     trainpath =[X[i] for i in trainindex[runs]]\n",
    "#     testpath =[X[i] for i in testindex[runs]]\n",
    "    \n",
    "    trainpath2d =[X2d[i] for i in trainindex2d[runs]]\n",
    "    trainpath3d =[X3d[i] for i in trainindex3d[runs]]\n",
    "    testpath2d =[X2d[i] for i in testindex2d[runs]]\n",
    "    testpath3d =[X3d[i] for i in testindex3d[runs]]\n",
    "    image_datasets = {}\n",
    "    image_datasets['train'] = MyDataset(trainpath2d,trainpath3d)\n",
    "    image_datasets['val'] = MyDataset(testpath2d,testpath3d)\n",
    "    \n",
    "#     ImgIdx = 4\n",
    "#     [ImgTensor2d,ImgTensor3d,ImgLabel] = image_datasets['train'].__getitem__(ImgIdx)\n",
    "#     image2d = np.transpose(ImgTensor2d.numpy(), (1,2,0))\n",
    "#     image3d = np.transpose(np.squeeze(ImgTensor3d.numpy()), (1,2,0))\n",
    "#     DisplayImage(image2d,image2d.min(),image3d.max(),ImgIdx)\n",
    "#     DisplayImage(image3d,image3d.min(),image3d.max(),ImgIdx)\n",
    "\n",
    "    dataloaders_dict = {x: torch.utils.data.DataLoader(image_datasets[x], batch_size=batch_size, shuffle=True, num_workers=0) for x in ['train', 'val']}\n",
    "\n",
    "    # Detect if we have a GPU available\n",
    "    device = torch.device(\"cuda:0\" if torch.cuda.is_available() else \"cpu\")\n",
    "    num_class = 2\n",
    "    in_channel = 1\n",
    "    num_epochs = 50\n",
    "    loss_hist_train = []\n",
    "    while (len(loss_hist_train)<num_epochs/2):\n",
    "        model = UNet2D3D(num_class, in_channel)\n",
    "        model.apply(init_weights)\n",
    "#         model.half() \n",
    "        model\n",
    "        model = model.to(device)\n",
    "#         model = model.half()\n",
    "        # freeze backbone layers\n",
    "        # Comment out to finetune further\n",
    "        # for l in model.base_layers:\n",
    "        #     for param in l.parameters():\n",
    "        #         param.requires_grad = False\n",
    "\n",
    "        optimizer_ft1 = optim.Adam(model.parameters(), lr=1e-5,betas = (0.99, 0.9999),eps=1e-08,weight_decay=0)\n",
    "        optimizer_ft2 = optim.Adam(model.parameters(),lr=5e-5,betas = (0.99, 0.9999),eps=1e-08,weight_decay=0)\n",
    "        # optimizer_ft1 = optim.Adadelta(model.parameters(), lr=1e-3, rho=0.9, eps=1e-06, weight_decay=0)\n",
    "        # optimizer_ft2 = optim.Adadelta(model.parameters(), lr=1e-3, rho=0.9, eps=1e-06, weight_decay=0)\n",
    "        # exp_lr_scheduler = lr_scheduler.StepLR(optimizer_ft, step_size=10, gamma=0.1) \n",
    "        exp_lr_scheduler1 = lr_scheduler.ReduceLROnPlateau(optimizer_ft1, mode='min', factor=0.5, patience=4, verbose=True, threshold=0.0001, threshold_mode='rel', cooldown=2, min_lr=1e-7, eps=1e-08)\n",
    "        exp_lr_scheduler2 = lr_scheduler.ReduceLROnPlateau(optimizer_ft2, mode='min', factor=0.5, patience=4, verbose=True, threshold=0.0001, threshold_mode='rel', cooldown=2, min_lr=1e-7, eps=1e-08)       \n",
    "        model, scratch_hist_train,loss_hist_train,scratch_hist_val, loss_hist_val,lr_hist,train_Bacc_hist,val_Bacc_hist = train_model(model, dataloaders_dict,optimizer_ft1, optimizer_ft2, exp_lr_scheduler1,exp_lr_scheduler2, num_epochs)\n",
    "        if len(loss_hist_train)<num_epochs:\n",
    "            print('model diverges, reinitializing training....\\n')\n",
    "            print(\"Fold-\",str(runs),\": Initializing Datasets and Dataloaders...\")\n",
    "        \n",
    "    # num_epochs=15\n",
    "    shistVal = [h.cpu().numpy() for h in scratch_hist_val]\n",
    "    shistTrain= [h.cpu().numpy() for h in scratch_hist_train]\n",
    "    # shistBaccTrain= [h.cpu().numpy() for h in train_Bacc_hist]\n",
    "    # shistBaccVal= [h.cpu().numpy() for h in val_Bacc_hist]\n",
    "    # shistLossTrain= [h.cpu().numpy() for h in loss_hist_train]\n",
    "    # shistLossVal= [h.cpu().numpy() for h in loss_hist_val]\n",
    "    # shistLR= [h.cpu().numpy() for h in lr_hist]\n",
    "    fname1 = \"training_acc_\"+str(runs)+\".csv\"\n",
    "    np.savetxt(fname1,shistTrain, delimiter=\",\")\n",
    "    fname2 = \"validation_acc_\"+str(runs)+\".csv\"\n",
    "    np.savetxt(fname2,shistVal , delimiter=\",\")\n",
    "    fname13 = \"training_Bacc_\"+str(runs)+\".csv\"\n",
    "    np.savetxt(fname13,train_Bacc_hist, delimiter=\",\")\n",
    "    fname23 = \"validation_Bacc_\"+str(runs)+\".csv\"\n",
    "    np.savetxt(fname23,val_Bacc_hist, delimiter=\",\")\n",
    "    fname20 = \"training_loss_\"+str(runs)+\".csv\"\n",
    "    np.savetxt(fname20,loss_hist_train , delimiter=\",\")\n",
    "    fname21 = \"validation_loss_\"+str(runs)+\".csv\"\n",
    "    np.savetxt(fname21,loss_hist_val , delimiter=\",\")\n",
    "    fname22 = \"learning_rate_\"+str(runs)+\".csv\"\n",
    "    np.savetxt(fname22,lr_hist, delimiter=\",\")\n",
    "\n",
    "    shist = []\n",
    "    shist1 = []\n",
    "\n",
    "    shist = [h.cpu().numpy() for h in scratch_hist_val]\n",
    "    shist1 = [h.cpu().numpy() for h in scratch_hist_train]\n",
    "    print(len(shist))\n",
    "    plt.title(\"Training Accuracy vs. Number of Training Epochs\")\n",
    "    plt.xlabel(\"Training Epochs\")\n",
    "    plt.ylabel(\"Accuracy of Scratch Model\")\n",
    "    plt.plot(range(1,len(shist)+1),shist[0:len(shist)],label=\"Validation\")\n",
    "    plt.plot(range(1,len(shist)+1),shist1[0:len(shist)],label=\"Training\")\n",
    "    plt.ylim((0.5,1.))\n",
    "    plt.xticks(np.arange(0, num_epochs, 10.0))\n",
    "    plt.legend()\n",
    "    fname3 = 'training_curve_'+str(runs)+'.png'\n",
    "    plt.savefig(fname3)\n",
    "    plt.show()\n",
    "\n",
    "    shist = [h.cpu().numpy() for h in scratch_hist_val]\n",
    "    shist1 = [h.cpu().numpy() for h in scratch_hist_train]\n",
    "    print(len(shist))\n",
    "    plt.title(\"Classification Accuracy vs. Number of Training Epochs\")\n",
    "    plt.xlabel(\"Training Epochs\")\n",
    "    plt.ylabel(\"Accuracy of CNN Model\")\n",
    "    plt.plot(range(1,len(shist)+1),shist[0:len(shist)],label=\"Validation\")\n",
    "    plt.plot(range(1,len(shist)+1),shist1[0:len(shist)],label=\"Training\")\n",
    "    plt.ylim((0.3,1.1))\n",
    "    plt.xticks(np.arange(0, len(shist)+10, 5.0))\n",
    "    plt.legend()\n",
    "    fname3 = 'training_curve_'+str(runs)+'backup'+'.png'\n",
    "    plt.savefig(fname3)\n",
    "    plt.show()\n",
    "\n",
    "    train_loss = [h for h in loss_hist_train]\n",
    "    val_loss = [h for h in loss_hist_val]\n",
    "    plt.title(\"Cross-entropy Loss vs. Number of Training Epochs\")\n",
    "    plt.xlabel(\"Training Epochs\")\n",
    "    plt.ylabel(\"Cross-entropy Loss of CNN Model\")\n",
    "    plt.plot(range(1,len(val_loss)+1),val_loss[0:len(val_loss)],label=\"Validation\")\n",
    "    plt.plot(range(1,len(train_loss)+1),train_loss[0:len(train_loss)],label=\"Training\")\n",
    "    #     plt.ylim((0.5,1.05))\n",
    "    plt.xticks(np.arange(0, len(val_loss)+5, 5.0))\n",
    "    plt.legend()\n",
    "    fname31 = 'loss_curve_'+str(runs)+'.png'\n",
    "    plt.savefig(fname31)\n",
    "    plt.show()\n",
    "\n",
    "    confusion_matrix = torch.zeros(num_classes, num_classes)\n",
    "    with torch.no_grad():\n",
    "        for i, (inputs2d, inputs3d, classes) in enumerate(dataloaders_dict['val']):\n",
    "            inputs2d = inputs2d.type(torch.FloatTensor)\n",
    "            inputs2d = inputs2d.to(device)\n",
    "            inputs3d = inputs3d.type(torch.FloatTensor)\n",
    "            inputs3d = inputs3d.to(device)\n",
    "            classes = classes.to(device)\n",
    "            _,_, outputs = model(inputs2d, inputs3d)\n",
    "            _, preds = torch.max(outputs, 1)\n",
    "            for t, p in zip(classes.view(-1), preds.view(-1)):\n",
    "                    confusion_matrix[t.long(), p.long()] += 1\n",
    "\n",
    "    print(confusion_matrix)\n",
    "    confusionMat = np.asarray(confusion_matrix)\n",
    "    sumconfusion = np.sum(confusionMat,axis = 0)\n",
    "    print(sumconfusion)\n",
    "\n",
    "    import scipy\n",
    "    sumconfusion = np.sum(confusionMat,axis = 1).T\n",
    "    # print(np.tile(sumconfusion,(4,1)))\n",
    "    summat = np.tile(sumconfusion,(2,1)).T\n",
    "    # print(test)\n",
    "    percentconfusion = np.divide(confusionMat,summat)\n",
    "    print(percentconfusion)\n",
    "    fname4 = \"UNet_LiverEndothelial_confusionMat_\"+str(runs)+\".csv\"\n",
    "    np.savetxt(fname4,confusionMat , delimiter=\",\")\n",
    "    fname5 = \"UNet_LiverEndothelial_confusionPer_\"+str(runs)+\".csv\"\n",
    "    np.savetxt(fname5,percentconfusion , delimiter=\",\")\n",
    "    fname6 = 'UNet_LiverEndothelial_Run_'+str(runs)+'.pth.tar'\n",
    "\n",
    "    torch.save(model,fname6)\n",
    "    print('\\n\\n')"
   ]
  },
  {
   "cell_type": "code",
   "execution_count": null,
   "metadata": {},
   "outputs": [],
   "source": [
    "runs = 1\n",
    "shistVal = [h.cpu().numpy() for h in scratch_hist_val]\n",
    "shistTrain= [h.cpu().numpy() for h in scratch_hist_train]\n",
    "# shistBaccTrain= [h.cpu().numpy() for h in train_Bacc_hist]\n",
    "# shistBaccVal= [h.cpu().numpy() for h in val_Bacc_hist]\n",
    "# shistLossTrain= [h.cpu().numpy() for h in loss_hist_train]\n",
    "# shistLossVal= [h.cpu().numpy() for h in loss_hist_val]\n",
    "# shistLR= [h.cpu().numpy() for h in lr_hist]\n",
    "fname1 = \"training_acc_\"+str(runs)+\".csv\"\n",
    "np.savetxt(fname1,shistTrain, delimiter=\",\")\n",
    "fname2 = \"validation_acc_\"+str(runs)+\".csv\"\n",
    "np.savetxt(fname2,shistVal , delimiter=\",\")\n",
    "fname13 = \"training_Bacc_\"+str(runs)+\".csv\"\n",
    "np.savetxt(fname13,train_Bacc_hist, delimiter=\",\")\n",
    "fname23 = \"validation_Bacc_\"+str(runs)+\".csv\"\n",
    "np.savetxt(fname23,val_Bacc_hist, delimiter=\",\")\n",
    "fname20 = \"training_loss_\"+str(runs)+\".csv\"\n",
    "np.savetxt(fname20,loss_hist_train , delimiter=\",\")\n",
    "fname21 = \"validation_loss_\"+str(runs)+\".csv\"\n",
    "np.savetxt(fname21,loss_hist_val , delimiter=\",\")\n",
    "fname22 = \"learning_rate_\"+str(runs)+\".csv\"\n",
    "np.savetxt(fname22,lr_hist, delimiter=\",\")\n",
    "\n",
    "shist = []\n",
    "shist1 = []\n",
    "\n",
    "shist = [h.cpu().numpy() for h in scratch_hist_val]\n",
    "shist1 = [h.cpu().numpy() for h in scratch_hist_train]\n",
    "print(len(shist))\n",
    "plt.title(\"Training Accuracy vs. Number of Training Epochs\")\n",
    "plt.xlabel(\"Training Epochs\")\n",
    "plt.ylabel(\"Accuracy of Scratch Model\")\n",
    "plt.plot(range(1,len(shist)+1),shist[0:len(shist)],label=\"Validation\")\n",
    "plt.plot(range(1,len(shist)+1),shist1[0:len(shist)],label=\"Training\")\n",
    "plt.ylim((0.5,1.))\n",
    "plt.xticks(np.arange(0, num_epochs, 10.0))\n",
    "plt.legend()\n",
    "fname3 = 'training_curve_'+str(runs)+'.png'\n",
    "plt.savefig(fname3)\n",
    "plt.show()\n",
    "\n",
    "shist = [h.cpu().numpy() for h in scratch_hist_val]\n",
    "shist1 = [h.cpu().numpy() for h in scratch_hist_train]\n",
    "print(len(shist))\n",
    "plt.title(\"Classification Accuracy vs. Number of Training Epochs\")\n",
    "plt.xlabel(\"Training Epochs\")\n",
    "plt.ylabel(\"Accuracy of CNN Model\")\n",
    "plt.plot(range(1,len(shist)+1),shist[0:len(shist)],label=\"Validation\")\n",
    "plt.plot(range(1,len(shist)+1),shist1[0:len(shist)],label=\"Training\")\n",
    "plt.ylim((0.3,1.1))\n",
    "plt.xticks(np.arange(0, len(shist)+10, 5.0))\n",
    "plt.legend()\n",
    "fname3 = 'training_curve_'+str(runs)+'backup'+'.png'\n",
    "plt.savefig(fname3)\n",
    "plt.show()\n",
    "\n",
    "train_loss = [h for h in loss_hist_train]\n",
    "val_loss = [h for h in loss_hist_val]\n",
    "plt.title(\"Cross-entropy Loss vs. Number of Training Epochs\")\n",
    "plt.xlabel(\"Training Epochs\")\n",
    "plt.ylabel(\"Cross-entropy Loss of CNN Model\")\n",
    "plt.plot(range(1,len(val_loss)+1),val_loss[0:len(val_loss)],label=\"Validation\")\n",
    "plt.plot(range(1,len(train_loss)+1),train_loss[0:len(train_loss)],label=\"Training\")\n",
    "#     plt.ylim((0.5,1.05))\n",
    "plt.xticks(np.arange(0, len(val_loss)+5, 5.0))\n",
    "plt.legend()\n",
    "fname31 = 'loss_curve_'+str(runs)+'.png'\n",
    "plt.savefig(fname31)\n",
    "plt.show()\n",
    "\n",
    "confusion_matrix = torch.zeros(num_classes, num_classes)\n",
    "with torch.no_grad():\n",
    "    for i, (inputs2d, inputs3d, classes) in enumerate(dataloaders_dict['val']):\n",
    "        inputs2d = inputs2d.type(torch.FloatTensor)\n",
    "        inputs2d = inputs2d.to(device)\n",
    "        inputs3d = inputs3d.type(torch.FloatTensor)\n",
    "        inputs3d = inputs3d.to(device)\n",
    "        classes = classes.to(device)\n",
    "        _,_, outputs = model(inputs2d, inputs3d)\n",
    "        _, preds = torch.max(outputs, 1)\n",
    "        for t, p in zip(classes.view(-1), preds.view(-1)):\n",
    "                confusion_matrix[t.long(), p.long()] += 1\n",
    "\n",
    "print(confusion_matrix)\n",
    "confusionMat = np.asarray(confusion_matrix)\n",
    "sumconfusion = np.sum(confusionMat,axis = 0)\n",
    "print(sumconfusion)\n",
    "\n",
    "import scipy\n",
    "sumconfusion = np.sum(confusionMat,axis = 1).T\n",
    "# print(np.tile(sumconfusion,(4,1)))\n",
    "summat = np.tile(sumconfusion,(2,1)).T\n",
    "# print(test)\n",
    "percentconfusion = np.divide(confusionMat,summat)\n",
    "print(percentconfusion)\n",
    "fname4 = \"UNet_LiverStellate_confusionMat_\"+str(runs)+\".csv\"\n",
    "np.savetxt(fname4,confusionMat , delimiter=\",\")\n",
    "fname5 = \"UNet_LiverStellate_confusionPer_\"+str(runs)+\".csv\"\n",
    "np.savetxt(fname5,percentconfusion , delimiter=\",\")\n",
    "fname6 = 'UNet_LiverStellate_Run_'+str(runs)+'.pth.tar'\n",
    "\n",
    "torch.save(model,fname6)"
   ]
  },
  {
   "cell_type": "code",
   "execution_count": null,
   "metadata": {},
   "outputs": [],
   "source": [
    "import pandas as pd\n",
    "\n",
    "df = pd.read_csv (r'./UNet_LiverEndothelial_confusionPer_0.csv',header=None)\n",
    "ConfuMat0 = df.to_numpy()\n",
    "df = pd.read_csv (r'./UNet_LiverEndothelial_confusionPer_1.csv',header=None)\n",
    "ConfuMat1 = df.to_numpy()\n",
    "df = pd.read_csv (r'./UNet_LiverEndothelial_confusionPer_2.csv',header=None)\n",
    "ConfuMat2 = df.to_numpy()\n",
    "df = pd.read_csv (r'./UNet_LiverEndothelial_confusionPer_3.csv',header=None)\n",
    "ConfuMat3 = df.to_numpy()"
   ]
  },
  {
   "cell_type": "code",
   "execution_count": null,
   "metadata": {},
   "outputs": [],
   "source": [
    "GroupName = ['Healthy','Diseased']\n",
    "categories = GroupName\n",
    "make_confusion_matrix(ConfuMat0, \n",
    "                      #group_names=labels,\n",
    "                      categories=categories,\n",
    "                      percent=False,\n",
    "                      cbar=False,\n",
    "                      figsize=(4 ,4),\n",
    "                      cmap='Blues',title = 'Fused UNet - Endothelial Cell-Fold 0')\n",
    "make_confusion_matrix(ConfuMat1, \n",
    "                      #group_names=labels,\n",
    "                      categories=categories,\n",
    "                      percent=False,\n",
    "                      cbar=False,\n",
    "                      figsize=(4 ,4),\n",
    "                      cmap='Blues',title = 'Fused UNet - Endothelial Cell-Fold 1')\n",
    "make_confusion_matrix(ConfuMat2, \n",
    "                      #group_names=labels,\n",
    "                      categories=categories,\n",
    "                      percent=False,\n",
    "                      cbar=False,\n",
    "                      figsize=(4 ,4),\n",
    "                      cmap='Blues',title = 'Fused UNet - Endothelial Cell-Fold 2')\n",
    "make_confusion_matrix(ConfuMat3, \n",
    "                      #group_names=labels,\n",
    "                      categories=categories,\n",
    "                      percent=False,\n",
    "                      cbar=False,\n",
    "                      figsize=(4 ,4),\n",
    "                      cmap='Blues',title = 'Fused UNet - Endothelial Cell-Fold 3')"
   ]
  },
  {
   "cell_type": "code",
   "execution_count": null,
   "metadata": {},
   "outputs": [],
   "source": [
    "import pandas as pd\n",
    "\n",
    "df = pd.read_csv (r'./training_loss_0.csv',header=None)\n",
    "TrainLoss0 = df.to_numpy()\n",
    "df = pd.read_csv (r'./training_loss_1.csv',header=None)\n",
    "TrainLoss1 = df.to_numpy()\n",
    "df = pd.read_csv (r'./training_loss_2.csv',header=None)\n",
    "TrainLoss2 = df.to_numpy()\n",
    "df = pd.read_csv (r'./training_loss_3.csv',header=None)\n",
    "TrainLoss3 = df.to_numpy()\n",
    "# df = pd.read_csv (r'./SuccessfulModelTraining1007/training_loss_4.csv',header=None)\n",
    "# TrainLoss4 = df.to_numpy()\n",
    "\n",
    "df = pd.read_csv (r'./validation_loss_0.csv',header=None)\n",
    "ValLoss0 = df.to_numpy()\n",
    "df = pd.read_csv (r'./validation_loss_1.csv',header=None)\n",
    "ValLoss1 = df.to_numpy()\n",
    "df = pd.read_csv (r'./validation_loss_2.csv',header=None)\n",
    "ValLoss2 = df.to_numpy()\n",
    "df = pd.read_csv (r'./validation_loss_3.csv',header=None)\n",
    "ValLoss3 = df.to_numpy()\n",
    "# df = pd.read_csv (r'./SuccessfulModelTraining1007/validation_loss_4.csv',header=None)\n",
    "# ValLoss4 = df.to_numpy()\n",
    "\n",
    "plt.figure()\n",
    "plt.plot(TrainLoss0,label = 'Fold-0 (Train)', color='royalblue', linestyle = '--')\n",
    "plt.plot(ValLoss0,label = 'Fold-0 (Validation)', color='darkblue', linestyle = '-')\n",
    "plt.plot(TrainLoss1,label = 'Fold-1 (Train)', color='green', linestyle = '--')\n",
    "plt.plot(ValLoss1,label = 'Fold-1 (Validation)', color='darkgreen', linestyle = '-')\n",
    "plt.plot(TrainLoss2,label = 'Fold-2 (Train)', color='darkorange', linestyle = '--')\n",
    "plt.plot(ValLoss2,label = 'Fold-2 (Validation)', color='goldenrod', linestyle = '-')\n",
    "plt.plot(TrainLoss3,label = 'Fold-3 (Train)', color='orangered', linestyle = '--')\n",
    "plt.plot(ValLoss3,label = 'Fold-3 (Validation)', color='maroon', linestyle = '-')\n",
    "# plt.plot(TrainLoss4,label = 'Fold-4 (Train)', color='magenta', linestyle = '--')\n",
    "# plt.plot(ValLoss4,label = 'Fold-4 (Validation)', color='purple', linestyle = '-')\n",
    "plt.title('loss curves')\n",
    "plt.xlabel('epochs')\n",
    "plt.ylabel('weighted loss')\n",
    "plt.legend(bbox_to_anchor=(1.1, 1))\n",
    "plt.show()"
   ]
  },
  {
   "cell_type": "code",
   "execution_count": null,
   "metadata": {},
   "outputs": [],
   "source": [
    "import pandas as pd\n",
    "\n",
    "df = pd.read_csv (r'./training_Bacc_0.csv',header=None)\n",
    "TrainLoss0 = df.to_numpy()\n",
    "df = pd.read_csv (r'./training_Bacc_1.csv',header=None)\n",
    "TrainLoss1 = df.to_numpy()\n",
    "df = pd.read_csv (r'./training_Bacc_2.csv',header=None)\n",
    "TrainLoss2 = df.to_numpy()\n",
    "df = pd.read_csv (r'./training_Bacc_3.csv',header=None)\n",
    "TrainLoss3 = df.to_numpy()\n",
    "# df = pd.read_csv (r'./SuccessfulModelTraining1007/training_loss_4.csv',header=None)\n",
    "# TrainLoss4 = df.to_numpy()\n",
    "\n",
    "df = pd.read_csv (r'./validation_Bacc_0.csv',header=None)\n",
    "ValLoss0 = df.to_numpy()\n",
    "df = pd.read_csv (r'./validation_Bacc_1.csv',header=None)\n",
    "ValLoss1 = df.to_numpy()\n",
    "df = pd.read_csv (r'./validation_Bacc_2.csv',header=None)\n",
    "ValLoss2 = df.to_numpy()\n",
    "df = pd.read_csv (r'./validation_Bacc_3.csv',header=None)\n",
    "ValLoss3 = df.to_numpy()\n",
    "# df = pd.read_csv (r'./SuccessfulModelTraining1007/validation_loss_4.csv',header=None)\n",
    "# ValLoss4 = df.to_numpy()\n",
    "\n",
    "plt.figure()\n",
    "plt.plot(TrainLoss0,label = 'Fold-0 (Train)', color='royalblue', linestyle = '--')\n",
    "plt.plot(ValLoss0,label = 'Fold-0 (Validation)', color='darkblue', linestyle = '-')\n",
    "plt.plot(TrainLoss1,label = 'Fold-1 (Train)', color='green', linestyle = '--')\n",
    "plt.plot(ValLoss1,label = 'Fold-1 (Validation)', color='darkgreen', linestyle = '-')\n",
    "plt.plot(TrainLoss2,label = 'Fold-2 (Train)', color='darkorange', linestyle = '--')\n",
    "plt.plot(ValLoss2,label = 'Fold-2 (Validation)', color='goldenrod', linestyle = '-')\n",
    "plt.plot(TrainLoss3,label = 'Fold-3 (Train)', color='orangered', linestyle = '--')\n",
    "plt.plot(ValLoss3,label = 'Fold-3 (Validation)', color='maroon', linestyle = '-')\n",
    "# plt.plot(TrainLoss4,label = 'Fold-4 (Train)', color='magenta', linestyle = '--')\n",
    "# plt.plot(ValLoss4,label = 'Fold-4 (Validation)', color='purple', linestyle = '-')\n",
    "plt.title('Balance accuracy curves')\n",
    "plt.xlabel('epochs')\n",
    "plt.ylabel('Balance accuracy')\n",
    "plt.legend(bbox_to_anchor=(1.1, 0.7))\n",
    "plt.show()"
   ]
  },
  {
   "cell_type": "code",
   "execution_count": null,
   "metadata": {},
   "outputs": [],
   "source": [
    "df = pd.read_csv (r'./learning_rate_0.csv',header=None)\n",
    "LearnRate0 = df.to_numpy()\n",
    "df = pd.read_csv (r'./learning_rate_1.csv',header=None)\n",
    "LearnRate1 = df.to_numpy()\n",
    "df = pd.read_csv (r'./learning_rate_2.csv',header=None)\n",
    "LearnRate2 = df.to_numpy()\n",
    "df = pd.read_csv (r'./learning_rate_3.csv',header=None)\n",
    "LearnRate3 = df.to_numpy()\n",
    "# df = pd.read_csv (r'./SuccessfulModelTraining1007/learning_rate_4.csv',header=None)\n",
    "# LearnRate4 = df.to_numpy()\n",
    "\n",
    "plt.figure()\n",
    "plt.plot(LearnRate0,label = 'Fold-0', color='darkblue', linestyle = '-')\n",
    "plt.plot(LearnRate1,label = 'Fold-1', color='darkgreen', linestyle = '-')\n",
    "plt.plot(LearnRate2,label = 'Fold-2', color='goldenrod', linestyle = '-')\n",
    "plt.plot(LearnRate3,label = 'Fold-3', color='maroon', linestyle = '-')\n",
    "# plt.plot(LearnRate4,label = 'Fold-4', color='purple', linestyle = '-')\n",
    "plt.title('learning rate curves')\n",
    "plt.xlabel('epochs')\n",
    "plt.ylabel('learning rate')\n",
    "plt.legend(bbox_to_anchor=(1.1, 1))\n",
    "plt.show()"
   ]
  },
  {
   "cell_type": "code",
   "execution_count": null,
   "metadata": {},
   "outputs": [],
   "source": [
    "type(scratch_hist_train)"
   ]
  },
  {
   "cell_type": "code",
   "execution_count": null,
   "metadata": {},
   "outputs": [],
   "source": [
    "import seaborn as sns\n",
    "def make_confusion_matrix(cf,\n",
    "                          group_names=None,\n",
    "                          categories='auto',\n",
    "                          count=True,\n",
    "                          percent=True,\n",
    "                          cbar=True,\n",
    "                          xyticks=True,\n",
    "                          xyplotlabels=True,\n",
    "                          sum_stats=True,\n",
    "                          figsize=None,\n",
    "                          cmap='Blues',\n",
    "                          title=None):\n",
    "    '''\n",
    "    This function will make a pretty plot of an sklearn Confusion Matrix cm using a Seaborn heatmap visualization.\n",
    "    Arguments\n",
    "    ---------\n",
    "    cf:            confusion matrix to be passed in\n",
    "    group_names:   List of strings that represent the labels row by row to be shown in each square.\n",
    "    categories:    List of strings containing the categories to be displayed on the x,y axis. Default is 'auto'\n",
    "    count:         If True, show the raw number in the confusion matrix. Default is True.\n",
    "    normalize:     If True, show the proportions for each category. Default is True.\n",
    "    cbar:          If True, show the color bar. The cbar values are based off the values in the confusion matrix.\n",
    "                   Default is True.\n",
    "    xyticks:       If True, show x and y ticks. Default is True.\n",
    "    xyplotlabels:  If True, show 'True Label' and 'Predicted Label' on the figure. Default is True.\n",
    "    sum_stats:     If True, display summary statistics below the figure. Default is True.\n",
    "    figsize:       Tuple representing the figure size. Default will be the matplotlib rcParams value.\n",
    "    cmap:          Colormap of the values displayed from matplotlib.pyplot.cm. Default is 'Blues'\n",
    "                   See http://matplotlib.org/examples/color/colormaps_reference.html\n",
    "                   \n",
    "    title:         Title for the heatmap. Default is None.\n",
    "    '''\n",
    "\n",
    "\n",
    "    # CODE TO GENERATE TEXT INSIDE EACH SQUARE\n",
    "    blanks = ['' for i in range(cf.size)]\n",
    "\n",
    "    if group_names and len(group_names)==cf.size:\n",
    "        group_labels = [\"{}\\n\".format(value) for value in group_names]\n",
    "    else:\n",
    "        group_labels = blanks\n",
    "\n",
    "    if count:\n",
    "        group_counts = [\"{0:0.1%}\\n\".format(value) for value in cf.flatten()]\n",
    "    else:\n",
    "        group_counts = blanks\n",
    "\n",
    "    if percent:\n",
    "        group_percentages = [\"{0:.2%}\".format(value) for value in cf.flatten()/np.tile(np.sum(cf,axis = 0),(3,))]\n",
    "    else:\n",
    "        group_percentages = blanks\n",
    "\n",
    "    box_labels = [f\"{v1}{v2}{v3}\".strip() for v1, v2, v3 in zip(group_labels,group_counts,group_percentages)]\n",
    "    box_labels = np.asarray(box_labels).reshape(cf.shape[0],cf.shape[1])\n",
    "\n",
    "\n",
    "    # CODE TO GENERATE SUMMARY STATISTICS & TEXT FOR SUMMARY STATS\n",
    "    if sum_stats:\n",
    "        #Accuracy is sum of diagonal divided by total observations\n",
    "        accuracy  = np.trace(cf) / float(np.sum(cf))\n",
    "#         accuracy  = np.trace(cf) / 3\n",
    "        #if it is a binary confusion matrix, show some more stats\n",
    "        if len(cf)==2:\n",
    "            #Metrics for Binary Confusion Matrices\n",
    "            precision = cf[1,1] / sum(cf[:,1])\n",
    "            recall    = cf[1,1] / sum(cf[1,:])\n",
    "            f1_score  = 2*precision*recall / (precision + recall)\n",
    "            stats_text = \"\\n\\nAccuracy={:0.3f}\\nPrecision={:0.3f}\\nRecall={:0.3f}\\nF1 Score={:0.3f}\".format(\n",
    "                accuracy,precision,recall,f1_score)\n",
    "        else:\n",
    "            stats_text = \"\\n\\nBalanced Accuracy={:0.3f}\".format(accuracy)\n",
    "    else:\n",
    "        stats_text = \"\"\n",
    "\n",
    "\n",
    "    # SET FIGURE PARAMETERS ACCORDING TO OTHER ARGUMENTS\n",
    "    if figsize==None:\n",
    "        #Get default figure size if not set\n",
    "        figsize = plt.rcParams.get('figure.figsize')\n",
    "\n",
    "    if xyticks==False:\n",
    "        #Do not show categories if xyticks is False\n",
    "        categories=False\n",
    "\n",
    "\n",
    "    # MAKE THE HEATMAP VISUALIZATION\n",
    "    plt.figure(figsize=figsize)\n",
    "    sns.heatmap(cf,annot=box_labels,fmt=\"\",cmap=cmap,cbar=cbar,xticklabels=categories,yticklabels=categories, annot_kws={\"size\": 20})\n",
    "\n",
    "    if xyplotlabels:\n",
    "        plt.ylabel('True label',fontsize = 15)\n",
    "        plt.xlabel('Predicted label' + stats_text,fontsize = 15)\n",
    "    else:\n",
    "        plt.xlabel(stats_text,fontsize = 15)\n",
    "    \n",
    "    if title:\n",
    "        plt.title(title,fontsize = 15)"
   ]
  },
  {
   "cell_type": "code",
   "execution_count": null,
   "metadata": {},
   "outputs": [],
   "source": [
    "categories = CellName\n",
    "make_confusion_matrix(percentconfusion, \n",
    "                      #group_names=labels,\n",
    "                      categories=categories,\n",
    "                      percent=False,\n",
    "                      cbar=False,\n",
    "                      figsize=(4 ,4),\n",
    "                      cmap='Greens',title = '3DCNN UNet - 3D Input')"
   ]
  },
  {
   "cell_type": "code",
   "execution_count": null,
   "metadata": {},
   "outputs": [],
   "source": [
    "class Flatten(nn.Module):\n",
    "    def __init__(self):\n",
    "        super(Flatten, self).__init__()\n",
    "        \n",
    "    def forward(self, x):\n",
    "        return x.view(x.size(0),-1)"
   ]
  },
  {
   "cell_type": "code",
   "execution_count": null,
   "metadata": {},
   "outputs": [],
   "source": [
    "class maxpool(nn.Module):\n",
    "    def __init__(self):\n",
    "        super(maxpool, self).__init__()\n",
    "        self.maxpool = nn.MaxPool3d(2)\n",
    "        \n",
    "    def forward(self, x):\n",
    "        x = self.maxpool(x)\n",
    "        return x"
   ]
  },
  {
   "cell_type": "code",
   "execution_count": null,
   "metadata": {},
   "outputs": [],
   "source": [
    "# Initialize the non-pretrained version of the model used for this run\n",
    "scratch_model = torch.load('celltypemodel-unet_80rech_Run_1.pth.tar')\n",
    "scratch_model_fc = nn.Sequential(*(list(scratch_model.children())[:1]),maxpool(),*(list(scratch_model.children())[1:2]),maxpool(),*(list(scratch_model.children())[2:3]),maxpool(),*(list(scratch_model.children())[3:4]),maxpool(),*(list(scratch_model.children())[4:5]),maxpool(),Flatten(),*(list(scratch_model.children())[-5:-4]))\n",
    "# scratch_model_fc = nn.Sequential(*list(scratch_model.children())[:-3])\n",
    "scratch_model_fc = scratch_model_fc.to(device)\n",
    "scratch_model_fc.eval()"
   ]
  },
  {
   "cell_type": "code",
   "execution_count": null,
   "metadata": {},
   "outputs": [],
   "source": [
    "# list(scratch_model.children())"
   ]
  },
  {
   "cell_type": "code",
   "execution_count": null,
   "metadata": {},
   "outputs": [],
   "source": [
    "#testing\n",
    "image_datasets = {}\n",
    "test_datasets ={}\n",
    "image_datasets['train'] = MyDataset(trainpath)\n",
    "image_datasets['val'] = MyDataset(valpath)\n",
    "image_datasets['val'].__getitem__(0)[0].shape"
   ]
  },
  {
   "cell_type": "code",
   "execution_count": null,
   "metadata": {},
   "outputs": [],
   "source": []
  },
  {
   "cell_type": "code",
   "execution_count": null,
   "metadata": {},
   "outputs": [],
   "source": [
    "print(\"Initializing Datasets and Dataloaders...\")\n",
    "# Number of classes in the dataset\n",
    "num_classes = 3\n",
    "\n",
    "# Batch size for training (change depending on how much memory you have)\n",
    "batch_size = 64\n",
    "# Create training and test dataloaders\n",
    "dataloaders_dict = {x: torch.utils.data.DataLoader(image_datasets[x], batch_size=batch_size, shuffle=False, num_workers=0) for x in ['train', 'val']}\n",
    "\n",
    "# Detect if we have a GPU available\n",
    "device = torch.device(\"cuda:0\" if torch.cuda.is_available() else \"cpu\")"
   ]
  },
  {
   "cell_type": "code",
   "execution_count": null,
   "metadata": {},
   "outputs": [],
   "source": [
    "with torch.no_grad():\n",
    "    for i, (inputs, classes) in enumerate(dataloaders_dict['val']):\n",
    "        inputs = inputs.type(torch.FloatTensor)\n",
    "        inputs = inputs.to(device)\n",
    "        classes = classes.to(device)\n",
    "        outputs = scratch_model_fc(inputs)\n",
    "        outputs = outputs.cpu().clone().numpy()\n",
    "        if i == 0:\n",
    "            outputlist = outputs\n",
    "            y = classes.cpu().clone().numpy()\n",
    "        else:\n",
    "            outputlist = np.append(outputlist,outputs, axis=0)\n",
    "            y = np.append(y,classes.cpu().clone().numpy(), axis=0)"
   ]
  },
  {
   "cell_type": "code",
   "execution_count": null,
   "metadata": {},
   "outputs": [],
   "source": [
    "print(len(outputlist))\n",
    "print(outputlist.shape)\n",
    "print(y.shape)\n",
    "outputlist = np.squeeze(outputlist)\n",
    "print(outputlist.shape)"
   ]
  },
  {
   "cell_type": "code",
   "execution_count": null,
   "metadata": {},
   "outputs": [],
   "source": [
    "from sklearn.manifold import TSNE\n",
    "import seaborn as sns\n",
    "tsne = TSNE(n_components=2, random_state=0,verbose=1, perplexity=40, learning_rate=200,early_exaggeration = 50, n_iter=2000)\n",
    "X_2d = tsne.fit_transform(outputlist)\n",
    "CellName = ['HEK-293','HeLa','MCF-7']\n"
   ]
  },
  {
   "cell_type": "code",
   "execution_count": null,
   "metadata": {},
   "outputs": [],
   "source": [
    "target_ids = range(len(outputlist))\n",
    "plt.figure()\n",
    "colors = 'r', 'g', 'b'\n",
    "for i, c, label in zip(target_ids, colors, CellName):\n",
    "    plt.scatter(X_2d[y == i, 0], X_2d[y == i, 1],s=3, c=c, label=label,alpha=0.5)\n",
    "plt.legend()\n",
    "plt.xlabel('t-SNE 1')\n",
    "plt.ylabel('t-SNE 2')\n",
    "plt.title('t-SNE plot')\n",
    "plt.show()"
   ]
  },
  {
   "cell_type": "code",
   "execution_count": null,
   "metadata": {},
   "outputs": [],
   "source": [
    "scratch_model = torch.load('celltypemodel-unet_80rech_Run_1.pth.tar')\n",
    "scratch_model = scratch_model.to(device)\n",
    "scratch_model.eval()"
   ]
  },
  {
   "cell_type": "code",
   "execution_count": null,
   "metadata": {},
   "outputs": [],
   "source": [
    "CellName = ['Granulocyte','Lymphocyte','Monocyte']\n",
    "ImgTensor, Label = image_datasets['val'].__getitem__(2)\n",
    "image = np.squeeze(ImgTensor.numpy())\n",
    "print('Ground Truth Cell Type: ', CellName[Label])\n",
    "DisplayImage(image,image.min(),image.max())"
   ]
  },
  {
   "cell_type": "code",
   "execution_count": null,
   "metadata": {},
   "outputs": [],
   "source": [
    "inputs = torch.unsqueeze(ImgTensor,0).to(device)\n",
    "[output,prediction] = scratch_model(inputs)\n",
    "# output = output.squeeze()\n",
    "output = output.squeeze()\n",
    "output = output.cpu().clone().detach().numpy()\n",
    "_, preds = torch.max(prediction, 1)\n",
    "preds = preds.cpu().clone().detach()"
   ]
  },
  {
   "cell_type": "code",
   "execution_count": null,
   "metadata": {},
   "outputs": [],
   "source": [
    "# print(output/output.max())\n",
    "print(output.max())\n",
    "print(output.shape)\n",
    "print('Predicted Cell Type: ', CellName[preds])\n",
    "image = np.squeeze(output)\n",
    "DisplayImage(image,image.min(),image.max())"
   ]
  },
  {
   "cell_type": "code",
   "execution_count": null,
   "metadata": {},
   "outputs": [],
   "source": []
  },
  {
   "cell_type": "code",
   "execution_count": null,
   "metadata": {},
   "outputs": [],
   "source": []
  }
 ],
 "metadata": {
  "kernelspec": {
   "display_name": "Python 3 (ipykernel)",
   "language": "python",
   "name": "python3"
  },
  "language_info": {
   "codemirror_mode": {
    "name": "ipython",
    "version": 3
   },
   "file_extension": ".py",
   "mimetype": "text/x-python",
   "name": "python",
   "nbconvert_exporter": "python",
   "pygments_lexer": "ipython3",
   "version": "3.8.11"
  }
 },
 "nbformat": 4,
 "nbformat_minor": 2
}
