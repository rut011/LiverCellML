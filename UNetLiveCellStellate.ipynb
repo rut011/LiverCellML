{
 "cells": [
  {
   "cell_type": "code",
   "execution_count": 1,
   "metadata": {},
   "outputs": [],
   "source": [
    "import numpy as np\n",
    "from datetime import datetime\n",
    "import pandas as pd\n",
    "from scipy.io import loadmat\n",
    "from sklearn.model_selection import train_test_split\n",
    "import h5py\n",
    "from torch.utils.data.dataset import Dataset\n",
    "from sklearn.metrics import balanced_accuracy_score"
   ]
  },
  {
   "cell_type": "code",
   "execution_count": 2,
   "metadata": {},
   "outputs": [
    {
     "name": "stdout",
     "output_type": "stream",
     "text": [
      "PyTorch Version:  1.9.1\n",
      "Torchvision Version:  0.10.1\n"
     ]
    },
    {
     "data": {
      "text/plain": [
       "True"
      ]
     },
     "execution_count": 2,
     "metadata": {},
     "output_type": "execute_result"
    }
   ],
   "source": [
    "from __future__ import print_function\n",
    "from __future__ import division\n",
    "import torch\n",
    "import torch.nn as nn\n",
    "import torch.optim as optim\n",
    "import torchvision.models as models\n",
    "import torchvision\n",
    "from torchvision import datasets, models, transforms\n",
    "from torch.nn.utils import weight_norm\n",
    "import matplotlib.pyplot as plt\n",
    "import time\n",
    "import os,sys\n",
    "import copy\n",
    "print(\"PyTorch Version: \",torch.__version__)\n",
    "print(\"Torchvision Version: \",torchvision.__version__)\n",
    "torch.cuda.is_available()"
   ]
  },
  {
   "cell_type": "code",
   "execution_count": 3,
   "metadata": {},
   "outputs": [],
   "source": [
    "from collections import defaultdict\n",
    "def double_conv3d(in_channels, out_channels):\n",
    "    return nn.Sequential(\n",
    "        weight_norm(nn.Conv3d(in_channels, out_channels, 3, padding=1)),\n",
    "        nn.ReLU(inplace=True),\n",
    "#         weight_norm(nn.Conv3d(out_channels, out_channels, 3, padding=1)),\n",
    "#         nn.ReLU(inplace=True)\n",
    "    )   \n",
    "\n",
    "def double_conv2d(in_channels, out_channels):\n",
    "    return nn.Sequential(\n",
    "        weight_norm(nn.Conv2d(in_channels, out_channels, 3, padding=1)),\n",
    "        nn.ReLU(inplace=True),\n",
    "#         weight_norm(nn.Conv3d(out_channels, out_channels, 3, padding=1)),\n",
    "#         nn.ReLU(inplace=True)\n",
    "    ) \n",
    "\n",
    "\n",
    "class UNet2D3D(nn.Module):\n",
    "\n",
    "    def __init__(self, n_class, in_channels,dropout=0.1):\n",
    "        super().__init__()\n",
    "#       3d conv          \n",
    "        self.dconv_down13d = double_conv3d(in_channels, 32)\n",
    "        self.dconv_down23d = double_conv3d(32, 64)\n",
    "        self.dconv_down33d = double_conv3d(64, 128)\n",
    "        self.dconv_down43d = double_conv3d(128, 256)\n",
    "#         self.dconv_down5 = double_conv3d(128, 256)\n",
    "\n",
    "        self.maxpool3d = nn.MaxPool3d(2)\n",
    "        self.upsample3d = nn.Upsample(scale_factor=2, mode='trilinear', align_corners=True)  \n",
    "#         self.upsample = nn.Upsample(scale_factor=2, mode='trilinear', align_corners=True)        \n",
    "        \n",
    "#         self.dconv_up4 = double_conv3d(128 + 256, 128)\n",
    "        self.dconv_up33d = double_conv3d(128+ 256, 128)\n",
    "        self.dconv_up23d = double_conv3d(64 + 128, 64)\n",
    "        self.dconv_up13d = double_conv3d(32 + 64, 32)\n",
    "        \n",
    "        self.conv_last3d = nn.Conv3d(32, in_channels, 1)\n",
    "        \n",
    "        self.fc13d = nn.Linear(2048,1024)\n",
    "        \n",
    "#       2d conv\n",
    "        self.dconv_down12d = double_conv2d(in_channels, 64)\n",
    "        self.dconv_down22d = double_conv2d(64, 128)\n",
    "        self.dconv_down32d = double_conv2d(128, 256)\n",
    "        self.dconv_down42d = double_conv2d(256, 512)\n",
    "        self.dconv_down52d = double_conv2d(512, 1024)\n",
    "\n",
    "        self.maxpool2d = nn.MaxPool2d(2)\n",
    "        self.upsample2d = nn.Upsample(scale_factor=2, mode='bilinear', align_corners=True)        \n",
    "        \n",
    "        self.dconv_up42d = double_conv2d(512 + 1024, 512)\n",
    "        self.dconv_up32d = double_conv2d(256 + 512, 256)\n",
    "        self.dconv_up22d = double_conv2d(128 + 256, 128)\n",
    "        self.dconv_up12d = double_conv2d(64 + 128, 64)\n",
    "        \n",
    "        self.conv_last2d = nn.Conv2d(64, in_channels, 1)\n",
    "        \n",
    "        self.fc12d = nn.Linear(25600,1024)\n",
    "        \n",
    "#       shared functions  \n",
    "        self.bn_fc1 = nn.BatchNorm1d(2048)\n",
    "        self.dropout1 = nn.Dropout(dropout)\n",
    "        self.fc2 = nn.Linear(2048,2048)\n",
    "        self.out = nn.Linear(2048, n_class)\n",
    "        self.relu = nn.ReLU()\n",
    "#         self.signmoid = nn.Sigmoid()\n",
    "#         self.init_weights()\n",
    "        \n",
    "#     def init_weights(self):\n",
    "#         self.dconv_down1.weight.data.normal_(0, 0.01)\n",
    "#         self.dconv_down2.weight.data.normal_(0, 0.01)\n",
    "#         self.dconv_down3.weight.data.normal_(0, 0.01)\n",
    "#         self.dconv_down4.weight.data.normal_(0, 0.01)\n",
    "#         self.dconv_up3.weight.data.normal_(0, 0.01)\n",
    "#         self.dconv_up2.weight.data.normal_(0, 0.01)\n",
    "#         self.dconv_up1.weight.data.normal_(0, 0.01)\n",
    "#         self.conv_last.weight.data.normal_(0, 0.01)\n",
    "        \n",
    "    def forward(self, x2d, x3d):\n",
    "#       3d contraction path  \n",
    "        conv13d = self.dconv_down13d(x3d)\n",
    "        x3d = self.maxpool3d(conv13d)\n",
    "\n",
    "        conv23d = self.dconv_down23d(x3d)\n",
    "        x3d = self.maxpool3d(conv23d)\n",
    "        \n",
    "        conv33d = self.dconv_down33d(x3d)\n",
    "        x3d = self.maxpool3d(conv33d)   \n",
    "        \n",
    "        conv43d = self.dconv_down43d(x3d)\n",
    "        \n",
    "#       2d contraction path  \n",
    "        conv12d = self.dconv_down12d(x2d)\n",
    "        x2d = self.maxpool2d(conv12d)\n",
    "\n",
    "        conv22d = self.dconv_down22d(x2d)\n",
    "        x2d = self.maxpool2d(conv22d)\n",
    "        \n",
    "        conv32d = self.dconv_down32d(x2d)\n",
    "        x2d = self.maxpool2d(conv32d)   \n",
    "        \n",
    "        conv42d = self.dconv_down42d(x2d)\n",
    "        x2d = self.maxpool2d(conv42d) \n",
    "    \n",
    "        x2d = self.dconv_down52d(x2d) \n",
    "        \n",
    "\n",
    "        #Classifier\n",
    "#       2d flatten\n",
    "        flatten2d = x2d.view(x2d.size(0),-1)\n",
    "        y2d = self.fc12d(flatten2d)\n",
    "    \n",
    "#       3d flatten\n",
    "        x13d = self.maxpool3d(conv43d) \n",
    "#         print('x1:',x1.size())\n",
    "        flatten3d = x13d.view(x13d.size(0),-1)\n",
    "#         print('fc:',flatten.size())\n",
    "        y3d = self.fc13d(flatten3d)\n",
    "    \n",
    "#       combine flatten features\n",
    "        y = torch.cat([y2d, y3d], dim=1)\n",
    "        y = self.relu(y)\n",
    "        y= self.fc2(y)\n",
    "        y = self.bn_fc1(y)\n",
    "        y = self.relu(y)\n",
    "        y = self.dropout1(y)\n",
    "        y = self.out(y)\n",
    "#         print('out:',x.size())\n",
    "        prediction = nn.functional.log_softmax(y,dim=1)\n",
    "        \n",
    "#         print('x: ',x.size())\n",
    "# #         x = self.upsample(x)\n",
    "#         print('x: ',x.size())\n",
    "#         print('conv12d: ',conv12d.size())\n",
    "#         print('conv22d: ',conv22d.size())\n",
    "#         print('conv32d: ',conv32d.size())\n",
    "#         print('conv42d: ',conv42d.size())\n",
    "        \n",
    "#         print('conv13d: ',conv13d.size())\n",
    "#         print('conv23d: ',conv23d.size())\n",
    "#         print('conv33d: ',conv33d.size())\n",
    "#         print('conv43d: ',conv43d.size())\n",
    "#         x = torch.cat([x, conv4], dim=1)\n",
    "#         x = self.dconv_up4(x)\n",
    "        \n",
    "#       3d Upsampling path  \n",
    "        x3d = self.upsample3d(conv43d)        \n",
    "        x3d = torch.cat([x3d, conv33d], dim=1)\n",
    "#         print('x: ',x.size())\n",
    "        x3d = self.dconv_up33d(x3d)\n",
    "        x3d = self.upsample3d(x3d)\n",
    "        \n",
    "        x3d = torch.cat([x3d, conv23d], dim=1)       \n",
    "\n",
    "        x3d = self.dconv_up23d(x3d)\n",
    "        x3d = self.upsample3d(x3d)        \n",
    "        x3d = torch.cat([x3d, conv13d], dim=1)   \n",
    "        \n",
    "        x3d = self.dconv_up13d(x3d)\n",
    "        \n",
    "        x3d = self.conv_last3d(x3d)\n",
    "        out3d = x3d\n",
    "#         out3d = self.relu(x3d)\n",
    "        \n",
    "#       2d Upsampling path\n",
    "#         print('x2d: ', x2d.size())\n",
    "        x2d = self.upsample2d(x2d)\n",
    "#         print('x2d: ', x2d.size())\n",
    "        x2d = torch.cat([x2d, conv42d], dim=1)\n",
    "        x2d = self.dconv_up42d(x2d)\n",
    "#         print('x2d: ', x2d.size())\n",
    "        \n",
    "        x2d = self.upsample2d(x2d)        \n",
    "        x2d = torch.cat([x2d, conv32d], dim=1)\n",
    "        \n",
    "        x2d = self.dconv_up32d(x2d)\n",
    "        x2d = self.upsample2d(x2d)\n",
    "        \n",
    "        x2d = torch.cat([x2d, conv22d], dim=1)       \n",
    "\n",
    "        x2d = self.dconv_up22d(x2d)\n",
    "        x2d = self.upsample2d(x2d)\n",
    "#         print('x2d: ', x2d.size())\n",
    "        x2d = torch.cat([x2d, conv12d], dim=1)   \n",
    "#         print('x2d: ', x2d.size())\n",
    "        x2d = self.dconv_up12d(x2d)\n",
    "#         print('x2d: ', x2d.size())\n",
    "        out2d = self.conv_last2d(x2d)\n",
    "#         out2d = self.relu(out2d)\n",
    "        return out2d,out3d,prediction"
   ]
  },
  {
   "cell_type": "code",
   "execution_count": 4,
   "metadata": {},
   "outputs": [],
   "source": [
    "def init_weights(m):\n",
    "# print(m)\n",
    "    if type(m) == nn.Linear or type(m) == nn.Conv2d or type(m) == nn.Conv3d:\n",
    "        m.weight.data.normal_(0, 0.0001)\n",
    "\n",
    "# net = nn.Sequential(nn.Linear(2, 2), nn.Linear(2, 2))\n",
    "# net.apply(init_weights)"
   ]
  },
  {
   "cell_type": "code",
   "execution_count": 5,
   "metadata": {
    "scrolled": false
   },
   "outputs": [],
   "source": [
    "# from torchsummary import summary\n",
    "\n",
    "# device = torch.device('cuda' if torch.cuda.is_available() else 'cpu')\n",
    "# model = UNet2D3D(3,1)\n",
    "# model.apply (init_weights)\n",
    "# model = model.to(device)\n",
    "# # model\n",
    "# summary(model, [(1, 80, 80),(1, 40, 40, 40)])"
   ]
  },
  {
   "cell_type": "code",
   "execution_count": 6,
   "metadata": {},
   "outputs": [],
   "source": [
    "from collections import defaultdict\n",
    "import torch.nn.functional as F\n",
    "import tqdm"
   ]
  },
  {
   "cell_type": "code",
   "execution_count": 7,
   "metadata": {},
   "outputs": [],
   "source": [
    "def calc_loss(out2d, out3d, prediction, target, original2d, original3d,metrics, MSE_weight=0.5):\n",
    "#     print(prediction)\n",
    "#     print(target)\n",
    "    CE = F.cross_entropy(prediction, target)\n",
    "#     BCE = F.binary_cross_entropy_with_logits(prediction, target)\n",
    "    out2d = torch.sigmoid(out2d)\n",
    "    out3d = torch.sigmoid(out3d)\n",
    "    MSE2d = F.mse_loss(out2d, original2d)\n",
    "    MSE3d = F.mse_loss(out3d, original3d)\n",
    "    MSE = 0.5*MSE2d+0.5*MSE3d\n",
    "    loss = MSE * MSE_weight + CE * (1 - MSE_weight)\n",
    "#     loss = MSE * MSE_weight + CE\n",
    "    \n",
    "    metrics['CE'] += CE.data.cpu().numpy() * target.size(0)\n",
    "    metrics['MSE'] += MSE.data.cpu().numpy() * target.size(0)\n",
    "    metrics['loss'] += loss.data.cpu().numpy() * target.size(0)\n",
    "#     print('CE', metrics['CE'])\n",
    "#     print('MSE', metrics['MSE'])\n",
    "    return loss\n",
    "\n",
    "def print_metrics(metrics, epoch_samples, phase):    \n",
    "    outputs = []\n",
    "    for k in metrics.keys():\n",
    "        outputs.append(\"{}: {:4f}\".format(k, metrics[k] / epoch_samples))\n",
    "        \n",
    "    print(\"{}: {}\".format(phase, \", \".join(outputs)))   "
   ]
  },
  {
   "cell_type": "code",
   "execution_count": 8,
   "metadata": {},
   "outputs": [],
   "source": [
    "def train_model(model, dataloaders, optimizer1, optimizer2, scheduler1, scheduler2, num_epochs=25):\n",
    "    start = datetime.now()\n",
    "    val_acc_history = []\n",
    "    train_acc_history = []\n",
    "    val_Bacc_history = []\n",
    "    train_Bacc_history = []\n",
    "    val_loss_history = []\n",
    "    train_loss_history = []\n",
    "    val_MSEloss_history = []\n",
    "    lr_history = []\n",
    "    best_acc = 0.0\n",
    "    best_model_wts = copy.deepcopy(model.state_dict())\n",
    "    best_loss = 1e10\n",
    "    outer = tqdm.tqdm(total=num_epochs, desc='num_epochs', position=0)\n",
    "    \n",
    "    for epoch in range(num_epochs):\n",
    "        print('\\n')\n",
    "        print('-' * 10)\n",
    "        print('Epoch {}/{}'.format(epoch, num_epochs - 1))\n",
    "        \n",
    "        \n",
    "        since = time.time()\n",
    "\n",
    "        # Each epoch has a training and validation phase\n",
    "        for phase in ['train', 'val']:\n",
    "#             LabelList = torch.tensor([1]).to(device)\n",
    "#             PredList = torch.tensor([1]).to(device)\n",
    "            if phase == 'train':\n",
    "                if epoch < 5:\n",
    "                    for param_group in optimizer1.param_groups:\n",
    "                        print(\"LR\", param_group['lr'])\n",
    "                        lr_history.append(param_group['lr'])\n",
    "                else:\n",
    "                    for param_group in optimizer2.param_groups:\n",
    "                        print(\"LR\", param_group['lr'])\n",
    "                        lr_history.append(param_group['lr'])\n",
    "                model.train()  # Set model to training mode\n",
    "            else:\n",
    "                model.eval()   # Set model to evaluate mode\n",
    "\n",
    "            metrics = defaultdict(float)\n",
    "            epoch_samples = 0\n",
    "#             running_loss = 0.0\n",
    "            running_corrects = 0\n",
    "            confusion_matrix = torch.zeros(2, 2)\n",
    "            for inputs2d, inputs3d, labels in dataloaders[phase]:\n",
    "#                 inputs2d = inputs2d.to(device).half()\n",
    "#                 inputs3d = inputs3d.to(device).half()\n",
    "                inputs2d = inputs2d.to(device)\n",
    "                inputs3d = inputs3d.to(device)\n",
    "                labels = labels.to(device)            \n",
    "\n",
    "                # zero the parameter gradients\n",
    "                if epoch < 5:\n",
    "                    optimizer1.zero_grad()\n",
    "                else:\n",
    "                    optimizer2.zero_grad()\n",
    "                # forward\n",
    "                # track history if only in train\n",
    "                with torch.set_grad_enabled(phase == 'train'):\n",
    "                    outputs2d, outputs3d, predictions = model(inputs2d,inputs3d)\n",
    "                    loss = calc_loss(outputs2d, outputs3d, predictions,labels,inputs2d,inputs3d, metrics,MSE_weight = 0.1)\n",
    "\n",
    "                    # backward + optimize only if in training phase\n",
    "                    if phase == 'train':\n",
    "                        loss.backward()\n",
    "#                         nn.utils.clip_grad_norm_(model.parameters(), max_norm=2.0, norm_type=2)\n",
    "                        nn.utils.clip_grad_value_(model.parameters(),clip_value=0.5)\n",
    "                        if epoch < 5:\n",
    "                            optimizer1.step()\n",
    "                        else:\n",
    "                            optimizer2.step()\n",
    "                _, preds = torch.max(predictions, 1)\n",
    "                \n",
    "                # statistics\n",
    "                epoch_samples += inputs2d.size(0)\n",
    "                # statistics\n",
    "                for t, p in zip(labels.view(-1), preds.view(-1)):\n",
    "                    confusion_matrix[t.long(), p.long()] += 1\n",
    "                  \n",
    "                running_corrects += torch.sum(preds == labels.data)\n",
    "            \n",
    "            \n",
    "            confusionMat = np.asarray(confusion_matrix)\n",
    "            sumconfusion = np.sum(confusionMat,axis = 1).T\n",
    "            print(confusionMat)\n",
    "            summat = np.tile(sumconfusion,(2,1)).T\n",
    "            # print(test)\n",
    "            percentconfusion = np.divide(confusionMat,summat)\n",
    "            epoch_acc_balanced = np.sum(np.diagonal(percentconfusion))/2\n",
    "            print_metrics(metrics, epoch_samples, phase)\n",
    "            epoch_loss = metrics['loss'] / epoch_samples\n",
    "            epoch_acc = running_corrects.double() / epoch_samples\n",
    "            print('{} Acc: {:.4f}'.format(phase, epoch_acc))\n",
    "            print('{} Bal. Acc: {:.4f}'.format(phase, epoch_acc_balanced))\n",
    "            # deep copy the model\n",
    "            if phase == 'val' and epoch_acc > best_acc:\n",
    "                print(\"saving best model\")\n",
    "                best_acc = epoch_acc\n",
    "                best_loss = epoch_loss\n",
    "                best_model_wts = copy.deepcopy(model.state_dict())\n",
    "            if phase == 'val':\n",
    "                val_acc_history.append(epoch_acc)\n",
    "                val_Bacc_history.append(epoch_acc_balanced)\n",
    "                val_loss_history.append(epoch_loss)\n",
    "                val_MSEloss_history.append(metrics['MSE']/epoch_samples)\n",
    "                if epoch < 5:\n",
    "                    scheduler1.step(epoch_loss)\n",
    "                else:\n",
    "                    scheduler2.step(epoch_loss)\n",
    "\n",
    "            if phase == 'train':\n",
    "                train_acc_history.append(epoch_acc)\n",
    "                train_Bacc_history.append(epoch_acc_balanced)\n",
    "                train_loss_history.append(epoch_loss)\n",
    "#             if epoch_acc == 1:\n",
    "#                 break\n",
    "        \n",
    "        if epoch > 1 and val_MSEloss_history[-1] > 7e7 :\n",
    "                break\n",
    "        print(\"Total time: %s\" %(datetime.now() - start))\n",
    "        time_elapsed = time.time() - since\n",
    "        print('Epoch time: {:.0f}m {:.0f}s'.format(time_elapsed // 60, time_elapsed % 60))\n",
    "        outer.update(1)\n",
    "        \n",
    "    print('Best val loss: {:4f}'.format(best_loss))\n",
    "    print('Best val acc: {:4f}'.format(best_acc))\n",
    "    # load best model weights\n",
    "    model.load_state_dict(best_model_wts)\n",
    "    return model,train_acc_history,train_loss_history,val_acc_history,val_loss_history,lr_history,train_Bacc_history,val_Bacc_history"
   ]
  },
  {
   "cell_type": "code",
   "execution_count": 9,
   "metadata": {},
   "outputs": [],
   "source": [
    "Datadir = \"H:\\\\LIverCellData\\\\Stellates\\\\ImagesForTraining\""
   ]
  },
  {
   "cell_type": "code",
   "execution_count": 10,
   "metadata": {},
   "outputs": [],
   "source": [
    "import os\n",
    "\n",
    "def datapreparation(Datadir):\n",
    "    trainpath2d = []\n",
    "    trainpath3d = []\n",
    "    trainlabel = []\n",
    "    trainsubjectlabel = []\n",
    "    fpath = []\n",
    "    \n",
    "    traindir = Datadir + \"\\\\SC38\\\\2DTrans\"\n",
    "    for dirpath, dirnames, filenames in os.walk(traindir):\n",
    "        for filename in [f for f in filenames if f.endswith(\".tif\")]:\n",
    "            tempfpath =os.path.join(dirpath, filename)\n",
    "            fpath.append(tempfpath)\n",
    "    train = list(range(0,len(fpath)))\n",
    "    print('SC38 2D data: %d' %(len(train)))\n",
    "    for i in train:\n",
    "        trainpath2d.append(fpath[i])\n",
    "        trainlabel.append(0)\n",
    "        trainsubjectlabel.append(0)\n",
    "        \n",
    "    fpath = []    \n",
    "    traindir = Datadir + \"\\\\SC38\\\\3DSSC\"\n",
    "    for dirpath, dirnames, filenames in os.walk(traindir):\n",
    "        for filename in [f for f in filenames if f.endswith(\".tif\")]:\n",
    "            tempfpath =os.path.join(dirpath, filename)\n",
    "            fpath.append(tempfpath)\n",
    "    train = list(range(0,len(fpath)))\n",
    "    print('SC38 3D data: %d' %(len(train)))\n",
    "    for i in train:\n",
    "        trainpath3d.append(fpath[i])\n",
    "#         trainlabel.append(0)\n",
    "    fpath = [] \n",
    "    traindir = Datadir + \"\\\\SC67\\\\2DTrans\"\n",
    "    for dirpath, dirnames, filenames in os.walk(traindir):\n",
    "        for filename in [f for f in filenames if f.endswith(\".tif\")]:\n",
    "            tempfpath =os.path.join(dirpath, filename)\n",
    "            fpath.append(tempfpath)\n",
    "    train = list(range(0,len(fpath)))\n",
    "    print('SC67 2D data: %d' %(len(train)))\n",
    "    for i in train:\n",
    "        trainpath2d.append(fpath[i])\n",
    "        trainlabel.append(0)\n",
    "        trainsubjectlabel.append(1)\n",
    "        \n",
    "    fpath = []    \n",
    "    traindir = Datadir + \"\\\\SC67\\\\3DSSC\"\n",
    "    for dirpath, dirnames, filenames in os.walk(traindir):\n",
    "        for filename in [f for f in filenames if f.endswith(\".tif\")]:\n",
    "            tempfpath =os.path.join(dirpath, filename)\n",
    "            fpath.append(tempfpath)\n",
    "    train = list(range(0,len(fpath)))\n",
    "    print('SC67 3D data: %d' %(len(train)))\n",
    "    for i in train:\n",
    "        trainpath3d.append(fpath[i])\n",
    "#         trainlabel.append(0)\n",
    "    fpath = [] \n",
    "    traindir = Datadir + \"\\\\SC46\\\\2DTrans\"\n",
    "    for dirpath, dirnames, filenames in os.walk(traindir):\n",
    "        for filename in [f for f in filenames if f.endswith(\".tif\")]:\n",
    "            tempfpath =os.path.join(dirpath, filename)\n",
    "            fpath.append(tempfpath)\n",
    "    train = list(range(0,len(fpath)))\n",
    "    print('SC46 2D data: %d' %(len(train)))\n",
    "    for i in train:\n",
    "        trainpath2d.append(fpath[i])\n",
    "        trainlabel.append(1)\n",
    "        trainsubjectlabel.append(2)\n",
    "        \n",
    "    fpath = []    \n",
    "    traindir = Datadir + \"\\\\SC46\\\\3DSSC\"\n",
    "    for dirpath, dirnames, filenames in os.walk(traindir):\n",
    "        for filename in [f for f in filenames if f.endswith(\".tif\")]:\n",
    "            tempfpath =os.path.join(dirpath, filename)\n",
    "            fpath.append(tempfpath)\n",
    "    train = list(range(0,len(fpath)))\n",
    "    print('SC46 3D data: %d' %(len(train)))\n",
    "    for i in train:\n",
    "        trainpath3d.append(fpath[i])\n",
    "#         trainlabel.append(0)\n",
    "    fpath = [] \n",
    "    traindir = Datadir + \"\\\\SC74\\\\2DTrans\"\n",
    "    for dirpath, dirnames, filenames in os.walk(traindir):\n",
    "        for filename in [f for f in filenames if f.endswith(\".tif\")]:\n",
    "            tempfpath =os.path.join(dirpath, filename)\n",
    "            fpath.append(tempfpath)\n",
    "    train = list(range(0,len(fpath)))\n",
    "    print('SC46 2D data: %d' %(len(train)))\n",
    "    for i in train:\n",
    "        trainpath2d.append(fpath[i])\n",
    "        trainlabel.append(1)\n",
    "        trainsubjectlabel.append(3)\n",
    "        \n",
    "    fpath = []    \n",
    "    traindir = Datadir + \"\\\\SC74\\\\3DSSC\"\n",
    "    for dirpath, dirnames, filenames in os.walk(traindir):\n",
    "        for filename in [f for f in filenames if f.endswith(\".tif\")]:\n",
    "            tempfpath =os.path.join(dirpath, filename)\n",
    "            fpath.append(tempfpath)\n",
    "    train = list(range(0,len(fpath)))\n",
    "    print('SC74 3D data: %d' %(len(train)))\n",
    "    for i in train:\n",
    "        trainpath3d.append(fpath[i])\n",
    "#         trainlabel.append(0)\n",
    "        \n",
    "    return trainpath2d,trainpath3d, trainlabel, trainsubjectlabel"
   ]
  },
  {
   "cell_type": "code",
   "execution_count": 11,
   "metadata": {},
   "outputs": [
    {
     "name": "stdout",
     "output_type": "stream",
     "text": [
      "SC38 2D data: 5000\n",
      "SC38 3D data: 5000\n",
      "SC67 2D data: 5000\n",
      "SC67 3D data: 5000\n",
      "SC46 2D data: 5000\n",
      "SC46 3D data: 5000\n",
      "SC46 2D data: 5000\n",
      "SC74 3D data: 5000\n",
      "20000\n",
      "20000\n",
      "20000\n",
      "[3]\n"
     ]
    }
   ],
   "source": [
    "X2d,X3d, Y,Y1 = datapreparation(Datadir)\n",
    "print(len(X2d))\n",
    "print(len(X3d))\n",
    "print(len(Y))\n",
    "print([Y1[15001]])"
   ]
  },
  {
   "cell_type": "code",
   "execution_count": 12,
   "metadata": {},
   "outputs": [
    {
     "name": "stdout",
     "output_type": "stream",
     "text": [
      "Train Index:  [ 1250  1251  1252 ... 19997 19998 19999]\n",
      "Test Index:  [    0     1     2 ... 16247 16248 16249] \n",
      "\n",
      "Train Index:  [    0     1     2 ... 19997 19998 19999]\n",
      "Test Index:  [ 1250  1251  1252 ... 17497 17498 17499] \n",
      "\n",
      "Train Index:  [    0     1     2 ... 19997 19998 19999]\n",
      "Test Index:  [ 2500  2501  2502 ... 18747 18748 18749] \n",
      "\n",
      "Train Index:  [    0     1     2 ... 18747 18748 18749]\n",
      "Test Index:  [ 3750  3751  3752 ... 19997 19998 19999] \n",
      "\n",
      "Train Index:  [ 1250  1251  1252 ... 19997 19998 19999]\n",
      "Test Index:  [    0     1     2 ... 16247 16248 16249] \n",
      "\n",
      "Train Index:  [    0     1     2 ... 19997 19998 19999]\n",
      "Test Index:  [ 1250  1251  1252 ... 17497 17498 17499] \n",
      "\n",
      "Train Index:  [    0     1     2 ... 19997 19998 19999]\n",
      "Test Index:  [ 2500  2501  2502 ... 18747 18748 18749] \n",
      "\n",
      "Train Index:  [    0     1     2 ... 18747 18748 18749]\n",
      "Test Index:  [ 3750  3751  3752 ... 19997 19998 19999] \n",
      "\n",
      "7500\n"
     ]
    }
   ],
   "source": [
    "from sklearn.model_selection import StratifiedKFold\n",
    "kfold = StratifiedKFold(n_splits=4,shuffle=False)\n",
    "trainindex2d = {}\n",
    "testindex2d = {}\n",
    "trainindex3d = {}\n",
    "testindex3d = {}\n",
    "i = 0\n",
    "for train_index2d, test_index2d in kfold.split(X2d,Y1):\n",
    "    print(\"Train Index: \", train_index2d)\n",
    "    print(\"Test Index: \", test_index2d, \"\\n\")\n",
    "    trainindex2d[i] = train_index2d\n",
    "    testindex2d[i] = test_index2d\n",
    "    i = i + 1\n",
    "    \n",
    "i = 0\n",
    "for train_index3d, test_index3d in kfold.split(X3d,Y1):\n",
    "    print(\"Train Index: \", train_index3d)\n",
    "    print(\"Test Index: \", test_index3d, \"\\n\")\n",
    "    trainindex3d[i] = train_index3d\n",
    "    testindex3d[i] = test_index3d\n",
    "    i = i + 1\n",
    "#fold - 0\n",
    "# print(trainindex[1])\n",
    "# indices = trainindex[1]\n",
    "trainpath2d =[X2d[i] for i in trainindex2d[0]]\n",
    "trainpath3d =[X3d[i] for i in trainindex3d[0]]\n",
    "Y_kfold = [Y[i] for i in trainindex2d[0]]\n",
    "print(sum(Y_kfold))\n",
    "testpath2d =[X2d[i] for i in testindex2d[0]]\n",
    "testpath3d =[X3d[i] for i in testindex3d[0]]"
   ]
  },
  {
   "cell_type": "code",
   "execution_count": 13,
   "metadata": {},
   "outputs": [],
   "source": [
    "from skimage import io\n",
    "import skimage.transform\n",
    "import scipy\n",
    "class MyDataset(Dataset):\n",
    "    def __init__(self, mat_paths2d, mat_paths3d,transforms=None):\n",
    "        self.paths2d = mat_paths2d\n",
    "        self.paths3d = mat_paths3d\n",
    "        self.transforms = transforms\n",
    "        \n",
    "    def __getitem__(self, index):\n",
    "        # Load .mat\n",
    "#         data = loadmat(self.paths[index])\n",
    "        data2d = io.imread(self.paths2d[index])\n",
    "        data3d = io.imread(self.paths3d[index])\n",
    "        \n",
    "#         reshape = skimage.transform.resize(data,(224,224,40))\n",
    "#         x = torch.from_numpy(reshape.astype(np.float32))\n",
    "        x2d = torch.from_numpy(data2d.astype(np.float32)/65535)\n",
    "        x3d = torch.from_numpy(data3d.astype(np.float32)/65535)\n",
    "        x2d = x2d.unsqueeze(dim = 0)\n",
    "        \n",
    "#         x = x.unsqueeze(dim = 0)\n",
    "        x3d = np.transpose(x3d,(2,0,1))\n",
    "        x3d = x3d.unsqueeze(dim = 0)\n",
    "#         x = np.transpose(np.array(data['Data']),(2,0,1))\n",
    "        if 'SC38' in self.paths2d[index]:\n",
    "            label = int(0)\n",
    "        elif 'SC67' in self.paths2d[index]:\n",
    "            label = int(0)\n",
    "        elif 'SC46' in self.paths2d[index]:\n",
    "            label = int(1)\n",
    "        elif 'SC74' in self.paths2d[index]:\n",
    "            label = int(1)\n",
    "        \n",
    "        if self.transforms:\n",
    "            x2d= self.transforms(x2d)\n",
    "            x3d= self.transforms(x3d)\n",
    "            \n",
    "        return x2d,x3d,label\n",
    "    \n",
    "    def __len__(self):\n",
    "        return len(self.paths2d)\n",
    "    \n",
    "    def __subitem__(self, index):\n",
    "        if 'SC38' in self.paths2d[index]:\n",
    "            slabel = int(0)\n",
    "        elif 'SC67' in self.paths2d[index]:\n",
    "            slabel = int(1)\n",
    "        elif 'SC46' in self.paths2d[index]:\n",
    "            slabel = int(2)\n",
    "        elif 'SC74' in self.paths2d[index]:\n",
    "            slabel = int(3)     \n",
    "        return slabel"
   ]
  },
  {
   "cell_type": "code",
   "execution_count": 14,
   "metadata": {},
   "outputs": [
    {
     "name": "stdout",
     "output_type": "stream",
     "text": [
      "training data volume:  15000\n",
      "validation data volume:  5000\n",
      "Type label:  Healthy\n",
      "Subject label:  SC38\n",
      "2d image tensor shape:  torch.Size([1, 80, 80])\n",
      "2d image tensor dtype:  torch.float32\n",
      "3d image tensor shape:  torch.Size([1, 40, 40, 40])\n",
      "3d image tensor dtype:  torch.float32\n",
      "image shape:  (40, 40, 40)\n"
     ]
    }
   ],
   "source": [
    "#actual training\n",
    "image_datasets = {}\n",
    "mini_datasets ={}\n",
    "image_datasets['train'] = MyDataset(trainpath2d,trainpath3d)\n",
    "image_datasets['val'] = MyDataset(testpath2d,testpath3d)\n",
    "\n",
    "# mini_datasets['train'] = MyDataset(minitrainpath)\n",
    "# mini_datasets['val'] = MyDataset(minivalpath)\n",
    "# model testing\n",
    "# image_datasets['train'] = MyDataset(valpath)\n",
    "# image_datasets['val'] = MyDataset(testpath)\n",
    "# test_datasets['val'] = MyDataset(testpath)\n",
    "print('training data volume: ', image_datasets['train'].__len__())\n",
    "print('validation data volume: ', image_datasets['val'].__len__())\n",
    "\n",
    "# print('mini-training data volume: ', mini_datasets['train'].__len__())\n",
    "# print('mini-validation data volume: ', mini_datasets['val'].__len__())\n",
    "\n",
    "CellName = ['Healthy','Diseased']\n",
    "SubName = ['SC38','SC67','SC46','SC74']\n",
    "[ImgTensor2d,ImgTensor3d,ImgLabel] = image_datasets['train'].__getitem__(2)\n",
    "print('Type label: ',CellName[ImgLabel])\n",
    "print('Subject label: ',SubName[image_datasets['train'].__subitem__(2)])\n",
    "print('2d image tensor shape: ', ImgTensor2d.shape)\n",
    "print('2d image tensor dtype: ', ImgTensor2d.dtype)\n",
    "print('3d image tensor shape: ', ImgTensor3d.shape)\n",
    "print('3d image tensor dtype: ', ImgTensor3d.dtype)\n",
    "\n",
    "\n",
    "#Visualize image stacks\n",
    "from mpl_toolkits.axes_grid1 import make_axes_locatable\n",
    "image = np.squeeze(ImgTensor3d.numpy())\n",
    "print('image shape: ', image.shape)"
   ]
  },
  {
   "cell_type": "code",
   "execution_count": 15,
   "metadata": {},
   "outputs": [],
   "source": [
    "#Visualize image stacks\n",
    "from mpl_toolkits.axes_grid1 import make_axes_locatable\n",
    "\n",
    "\n",
    "def DisplayImage(img,LimMin,LimMax,ImgIdx):  \n",
    "    if img.shape[2]>1:\n",
    "        for depth in range (0,10):\n",
    "            plt.subplot(2,5,depth+1)\n",
    "            plt.imshow(img[:,:,depth*4],vmin=LimMin, vmax=LimMax, cmap ='jet')\n",
    "            # plt.colorbar()\n",
    "            plt.title('z = '+ str(depth))\n",
    "            if depth==9:\n",
    "                plt.subplot(2,5,depth+1)\n",
    "                plt.title('z = '+ str(depth))\n",
    "                ax = plt.gca()\n",
    "                fig4 = plt.imshow(img[:,:,depth*4],vmin=LimMin, vmax=LimMax, cmap ='jet')\n",
    "\n",
    "        divider = make_axes_locatable(ax)\n",
    "        cax = divider.append_axes(\"right\", size=\"5%\", pad=0.05)\n",
    "        plt.colorbar(fig4, cax=cax)\n",
    "        plt.show()\n",
    "    else:\n",
    "        fig4 = plt.imshow(np.squeeze(img),vmin=LimMin, vmax=LimMax, cmap ='gray')\n",
    "        plt.title('2D Projection, Index: %i'%ImgIdx)\n",
    "        ax = plt.gca()\n",
    "        divider = make_axes_locatable(ax)\n",
    "        cax = divider.append_axes(\"right\", size=\"5%\", pad=0.05)\n",
    "        plt.colorbar(fig4, cax=cax)\n",
    "        plt.show()\n",
    "\n"
   ]
  },
  {
   "cell_type": "code",
   "execution_count": 16,
   "metadata": {},
   "outputs": [
    {
     "data": {
      "image/png": "[encoded data removed]",
      "text/plain": [
       "<Figure size 432x288 with 2 Axes>"
      ]
     },
     "metadata": {
      "needs_background": "light"
     },
     "output_type": "display_data"
    },
    {
     "data": {
      "image/png": "[encoded data removed]",
      "text/plain": [
       "<Figure size 432x288 with 11 Axes>"
      ]
     },
     "metadata": {
      "needs_background": "light"
     },
     "output_type": "display_data"
    }
   ],
   "source": [
    "ImgIdx = 0\n",
    "[ImgTensor2d,ImgTensor3d,ImgLabel] = image_datasets['train'].__getitem__(ImgIdx)\n",
    "image2d = np.transpose(ImgTensor2d.numpy(), (1,2,0))\n",
    "image3d = np.transpose(np.squeeze(ImgTensor3d.numpy()), (1,2,0))\n",
    "DisplayImage(image2d,image2d.min(),image2d.max(),ImgIdx)\n",
    "DisplayImage(image3d,image3d.min(),image3d.max(),ImgIdx)"
   ]
  },
  {
   "cell_type": "code",
   "execution_count": 17,
   "metadata": {},
   "outputs": [
    {
     "name": "stdout",
     "output_type": "stream",
     "text": [
      "Initializing Datasets and Dataloaders...\n"
     ]
    }
   ],
   "source": [
    "print(\"Initializing Datasets and Dataloaders...\")\n",
    "# Number of classes in the dataset\n",
    "num_classes = 2\n",
    "# Batch size for training (change depending on how much memory you have)\n",
    "batch_size = 64\n",
    "# Create training and validation datasets\n",
    "# image_datasets = {x: datasets.ImageFolder(os.path.join(data_dir, x), data_transforms[x]) for x in ['train', 'val']}\n",
    "# Create training and validation dataloaders\n",
    "dataloaders_dict = {x: torch.utils.data.DataLoader(image_datasets[x], batch_size=batch_size, shuffle=True, num_workers=0) for x in ['train', 'val']}\n",
    "# dataloaders_dict = {}\n",
    "# dataloaders_dict ['train'] = torch.utils.data.DataLoader(image_datasets['train'],batch_size=batch_size, num_workers=0, sampler=weighted_sampler)\n",
    "# dataloaders_dict ['val'] = torch.utils.data.DataLoader(image_datasets['val'],batch_size=batch_size, shuffle=True, num_workers=0)\n",
    "# Detect if we have a GPU available\n",
    "device = torch.device(\"cuda:0\" if torch.cuda.is_available() else \"cpu\")"
   ]
  },
  {
   "cell_type": "code",
   "execution_count": 18,
   "metadata": {
    "scrolled": true
   },
   "outputs": [
    {
     "name": "stdout",
     "output_type": "stream",
     "text": [
      "Fold- 0 : Initializing Datasets and Dataloaders...\n"
     ]
    },
    {
     "name": "stderr",
     "output_type": "stream",
     "text": [
      "\r",
      "num_epochs:   0%|                                                                               | 0/50 [00:00<?, ?it/s]"
     ]
    },
    {
     "name": "stdout",
     "output_type": "stream",
     "text": [
      "\n",
      "\n",
      "----------\n",
      "Epoch 0/49\n",
      "LR 1e-05\n",
      "[[5928. 1572.]\n",
      " [3621. 3879.]]\n",
      "train: CE: 0.613482, MSE: 0.142190, loss: 0.566353\n",
      "train Acc: 0.6538\n",
      "train Bal. Acc: 0.6538\n"
     ]
    },
    {
     "name": "stderr",
     "output_type": "stream",
     "text": [
      "\r",
      "num_epochs:   2%|█▎                                                                  | 1/50 [06:45<5:31:26, 405.84s/it]"
     ]
    },
    {
     "name": "stdout",
     "output_type": "stream",
     "text": [
      "[[  24. 2476.]\n",
      " [   0. 2500.]]\n",
      "val: CE: 1.006192, MSE: 0.131869, loss: 0.918759\n",
      "val Acc: 0.5048\n",
      "val Bal. Acc: 0.5048\n",
      "saving best model\n",
      "Total time: 0:06:45.856668\n",
      "Epoch time: 6m 46s\n",
      "\n",
      "\n",
      "----------\n",
      "Epoch 1/49\n",
      "LR 1e-05\n",
      "[[6378. 1122.]\n",
      " [1232. 6268.]]\n",
      "train: CE: 0.352585, MSE: 0.060051, loss: 0.323332\n",
      "train Acc: 0.8431\n",
      "train Bal. Acc: 0.8431\n"
     ]
    },
    {
     "name": "stderr",
     "output_type": "stream",
     "text": [
      "\r",
      "num_epochs:   4%|██▋                                                                 | 2/50 [13:18<5:18:21, 397.94s/it]"
     ]
    },
    {
     "name": "stdout",
     "output_type": "stream",
     "text": [
      "[[2.510e+02 2.249e+03]\n",
      " [1.000e+00 2.499e+03]]\n",
      "val: CE: 1.386288, MSE: 0.009314, loss: 1.248590\n",
      "val Acc: 0.5500\n",
      "val Bal. Acc: 0.5500\n",
      "saving best model\n",
      "Total time: 0:13:18.273982\n",
      "Epoch time: 6m 32s\n",
      "\n",
      "\n",
      "----------\n",
      "Epoch 2/49\n",
      "LR 1e-05\n",
      "[[6674.  826.]\n",
      " [ 483. 7017.]]\n",
      "train: CE: 0.221533, MSE: 0.007605, loss: 0.200140\n",
      "train Acc: 0.9127\n",
      "train Bal. Acc: 0.9127\n"
     ]
    },
    {
     "name": "stderr",
     "output_type": "stream",
     "text": [
      "\r",
      "num_epochs:   6%|████                                                                | 3/50 [19:47<5:08:44, 394.13s/it]"
     ]
    },
    {
     "name": "stdout",
     "output_type": "stream",
     "text": [
      "[[2304.  196.]\n",
      " [ 183. 2317.]]\n",
      "val: CE: 0.213204, MSE: 0.006981, loss: 0.192582\n",
      "val Acc: 0.9242\n",
      "val Bal. Acc: 0.9242\n",
      "saving best model\n",
      "Total time: 0:19:47.866619\n",
      "Epoch time: 6m 30s\n",
      "\n",
      "\n",
      "----------\n",
      "Epoch 3/49\n",
      "LR 1e-05\n",
      "[[6957.  543.]\n",
      " [ 240. 7260.]]\n",
      "train: CE: 0.142476, MSE: 0.005423, loss: 0.128771\n",
      "train Acc: 0.9478\n",
      "train Bal. Acc: 0.9478\n"
     ]
    },
    {
     "name": "stderr",
     "output_type": "stream",
     "text": [
      "\r",
      "num_epochs:   8%|█████▍                                                              | 4/50 [26:18<5:01:02, 392.66s/it]"
     ]
    },
    {
     "name": "stdout",
     "output_type": "stream",
     "text": [
      "[[2150.  350.]\n",
      " [  46. 2454.]]\n",
      "val: CE: 0.204046, MSE: 0.004191, loss: 0.184060\n",
      "val Acc: 0.9208\n",
      "val Bal. Acc: 0.9208\n",
      "Total time: 0:26:18.267042\n",
      "Epoch time: 6m 30s\n",
      "\n",
      "\n",
      "----------\n",
      "Epoch 4/49\n",
      "LR 1e-05\n",
      "[[7104.  396.]\n",
      " [ 181. 7319.]]\n",
      "train: CE: 0.107931, MSE: 0.003924, loss: 0.097530\n",
      "train Acc: 0.9615\n",
      "train Bal. Acc: 0.9615\n"
     ]
    },
    {
     "name": "stderr",
     "output_type": "stream",
     "text": [
      "\r",
      "num_epochs:  10%|██████▊                                                             | 5/50 [32:48<4:53:42, 391.61s/it]"
     ]
    },
    {
     "name": "stdout",
     "output_type": "stream",
     "text": [
      "[[2306.  194.]\n",
      " [  59. 2441.]]\n",
      "val: CE: 0.145256, MSE: 0.003488, loss: 0.131079\n",
      "val Acc: 0.9494\n",
      "val Bal. Acc: 0.9494\n",
      "saving best model\n",
      "Total time: 0:32:48.019915\n",
      "Epoch time: 6m 30s\n",
      "\n",
      "\n",
      "----------\n",
      "Epoch 5/49\n",
      "LR 5e-05\n",
      "[[6984.  516.]\n",
      " [ 253. 7247.]]\n",
      "train: CE: 0.130469, MSE: 0.003504, loss: 0.117773\n",
      "train Acc: 0.9487\n",
      "train Bal. Acc: 0.9487\n"
     ]
    },
    {
     "name": "stderr",
     "output_type": "stream",
     "text": [
      "\r",
      "num_epochs:  12%|████████▏                                                           | 6/50 [39:16<4:46:28, 390.66s/it]"
     ]
    },
    {
     "name": "stdout",
     "output_type": "stream",
     "text": [
      "[[ 747. 1753.]\n",
      " [   0. 2500.]]\n",
      "val: CE: 1.220044, MSE: 0.002898, loss: 1.098330\n",
      "val Acc: 0.6494\n",
      "val Bal. Acc: 0.6494\n",
      "Total time: 0:39:16.828545\n",
      "Epoch time: 6m 29s\n",
      "\n",
      "\n",
      "----------\n",
      "Epoch 6/49\n",
      "LR 5e-05\n",
      "[[7172.  328.]\n",
      " [ 151. 7349.]]\n",
      "train: CE: 0.088702, MSE: 0.002468, loss: 0.080078\n",
      "train Acc: 0.9681\n",
      "train Bal. Acc: 0.9681\n"
     ]
    },
    {
     "name": "stderr",
     "output_type": "stream",
     "text": [
      "\r",
      "num_epochs:  14%|█████████▌                                                          | 7/50 [45:44<4:39:12, 389.59s/it]"
     ]
    },
    {
     "name": "stdout",
     "output_type": "stream",
     "text": [
      "[[2486.   14.]\n",
      " [1588.  912.]]\n",
      "val: CE: 1.633686, MSE: 0.002041, loss: 1.470522\n",
      "val Acc: 0.6796\n",
      "val Bal. Acc: 0.6796\n",
      "Total time: 0:45:44.233156\n",
      "Epoch time: 6m 27s\n",
      "\n",
      "\n",
      "----------\n",
      "Epoch 7/49\n",
      "LR 5e-05\n",
      "[[7188.  312.]\n",
      " [ 129. 7371.]]\n",
      "train: CE: 0.074628, MSE: 0.002051, loss: 0.067370\n",
      "train Acc: 0.9706\n",
      "train Bal. Acc: 0.9706\n"
     ]
    },
    {
     "name": "stderr",
     "output_type": "stream",
     "text": [
      "\r",
      "num_epochs:  16%|██████████▉                                                         | 8/50 [52:11<4:32:15, 388.93s/it]"
     ]
    },
    {
     "name": "stdout",
     "output_type": "stream",
     "text": [
      "[[1801.  699.]\n",
      " [   0. 2500.]]\n",
      "val: CE: 0.451337, MSE: 0.001775, loss: 0.406381\n",
      "val Acc: 0.8602\n",
      "val Bal. Acc: 0.8602\n",
      "Total time: 0:52:11.755586\n",
      "Epoch time: 6m 28s\n",
      "\n",
      "\n",
      "----------\n",
      "Epoch 8/49\n",
      "LR 5e-05\n",
      "[[7264.  236.]\n",
      " [ 101. 7399.]]\n",
      "train: CE: 0.062189, MSE: 0.001793, loss: 0.056149\n",
      "train Acc: 0.9775\n",
      "train Bal. Acc: 0.9775\n"
     ]
    },
    {
     "name": "stderr",
     "output_type": "stream",
     "text": [
      "\r",
      "num_epochs:  18%|████████████▏                                                       | 9/50 [58:41<4:25:57, 389.21s/it]"
     ]
    },
    {
     "name": "stdout",
     "output_type": "stream",
     "text": [
      "[[2482.   18.]\n",
      " [ 765. 1735.]]\n",
      "val: CE: 0.417523, MSE: 0.001746, loss: 0.375945\n",
      "val Acc: 0.8434\n",
      "val Bal. Acc: 0.8434\n",
      "Total time: 0:58:41.574117\n",
      "Epoch time: 6m 30s\n",
      "\n",
      "\n",
      "----------\n",
      "Epoch 9/49\n",
      "LR 5e-05\n",
      "[[7343.  157.]\n",
      " [  84. 7416.]]\n",
      "train: CE: 0.044318, MSE: 0.001385, loss: 0.040025\n",
      "train Acc: 0.9839\n",
      "train Bal. Acc: 0.9839\n"
     ]
    },
    {
     "name": "stderr",
     "output_type": "stream",
     "text": [
      "\r",
      "num_epochs:  20%|█████████████                                                    | 10/50 [1:05:09<4:19:07, 388.68s/it]"
     ]
    },
    {
     "name": "stdout",
     "output_type": "stream",
     "text": [
      "[[2496.    4.]\n",
      " [1973.  527.]]\n",
      "val: CE: 2.833372, MSE: 0.001331, loss: 2.550167\n",
      "val Acc: 0.6046\n",
      "val Bal. Acc: 0.6046\n",
      "Total time: 1:05:09.070019\n",
      "Epoch time: 6m 27s\n",
      "\n",
      "\n",
      "----------\n",
      "Epoch 10/49\n",
      "LR 5e-05\n",
      "[[7311.  189.]\n",
      " [  88. 7412.]]\n",
      "train: CE: 0.048736, MSE: 0.001301, loss: 0.043993\n",
      "train Acc: 0.9815\n",
      "train Bal. Acc: 0.9815\n"
     ]
    },
    {
     "name": "stderr",
     "output_type": "stream",
     "text": [
      "\r",
      "num_epochs:  22%|██████████████▎                                                  | 11/50 [1:11:35<4:12:16, 388.11s/it]"
     ]
    },
    {
     "name": "stdout",
     "output_type": "stream",
     "text": [
      "[[2042.  458.]\n",
      " [   5. 2495.]]\n",
      "val: CE: 0.280859, MSE: 0.001300, loss: 0.252903\n",
      "val Acc: 0.9074\n",
      "val Bal. Acc: 0.9074\n",
      "Total time: 1:11:35.873576\n",
      "Epoch time: 6m 27s\n",
      "\n",
      "\n",
      "----------\n",
      "Epoch 11/49\n",
      "LR 5e-05\n",
      "[[7325.  175.]\n",
      " [  75. 7425.]]\n",
      "train: CE: 0.040999, MSE: 0.001187, loss: 0.037018\n",
      "train Acc: 0.9833\n",
      "train Bal. Acc: 0.9833\n"
     ]
    },
    {
     "name": "stderr",
     "output_type": "stream",
     "text": [
      "\r",
      "num_epochs:  24%|███████████████▌                                                 | 12/50 [1:18:01<4:05:24, 387.48s/it]"
     ]
    },
    {
     "name": "stdout",
     "output_type": "stream",
     "text": [
      "[[2372.  128.]\n",
      " [  43. 2457.]]\n",
      "val: CE: 0.112106, MSE: 0.001303, loss: 0.101025\n",
      "val Acc: 0.9658\n",
      "val Bal. Acc: 0.9658\n",
      "saving best model\n",
      "Total time: 1:18:01.926729\n",
      "Epoch time: 6m 26s\n",
      "\n",
      "\n",
      "----------\n",
      "Epoch 12/49\n",
      "LR 5e-05\n",
      "[[7402.   98.]\n",
      " [  78. 7422.]]\n",
      "train: CE: 0.032035, MSE: 0.001198, loss: 0.028951\n",
      "train Acc: 0.9883\n",
      "train Bal. Acc: 0.9883\n"
     ]
    },
    {
     "name": "stderr",
     "output_type": "stream",
     "text": [
      "\r",
      "num_epochs:  26%|████████████████▉                                                | 13/50 [1:24:28<3:58:51, 387.34s/it]"
     ]
    },
    {
     "name": "stdout",
     "output_type": "stream",
     "text": [
      "[[2441.   59.]\n",
      " [ 163. 2337.]]\n",
      "val: CE: 0.143291, MSE: 0.001178, loss: 0.129080\n",
      "val Acc: 0.9556\n",
      "val Bal. Acc: 0.9556\n",
      "Total time: 1:24:28.933574\n",
      "Epoch time: 6m 27s\n",
      "\n",
      "\n",
      "----------\n",
      "Epoch 13/49\n",
      "LR 5e-05\n",
      "[[7399.  101.]\n",
      " [  46. 7454.]]\n",
      "train: CE: 0.026440, MSE: 0.001142, loss: 0.023910\n",
      "train Acc: 0.9902\n",
      "train Bal. Acc: 0.9902\n"
     ]
    },
    {
     "name": "stderr",
     "output_type": "stream",
     "text": [
      "\r",
      "num_epochs:  28%|██████████████████▏                                              | 14/50 [1:30:55<3:52:16, 387.14s/it]"
     ]
    },
    {
     "name": "stdout",
     "output_type": "stream",
     "text": [
      "[[2389.  111.]\n",
      " [ 112. 2388.]]\n",
      "val: CE: 0.169931, MSE: 0.001152, loss: 0.153053\n",
      "val Acc: 0.9554\n",
      "val Bal. Acc: 0.9554\n",
      "Total time: 1:30:55.600812\n",
      "Epoch time: 6m 27s\n",
      "\n",
      "\n",
      "----------\n",
      "Epoch 14/49\n",
      "LR 5e-05\n",
      "[[7382.  118.]\n",
      " [  61. 7439.]]\n",
      "train: CE: 0.032940, MSE: 0.001056, loss: 0.029751\n",
      "train Acc: 0.9881\n",
      "train Bal. Acc: 0.9881\n"
     ]
    },
    {
     "name": "stderr",
     "output_type": "stream",
     "text": [
      "\r",
      "num_epochs:  30%|███████████████████▌                                             | 15/50 [1:37:22<3:45:44, 387.00s/it]"
     ]
    },
    {
     "name": "stdout",
     "output_type": "stream",
     "text": [
      "[[2255.  245.]\n",
      " [  27. 2473.]]\n",
      "val: CE: 0.164092, MSE: 0.001127, loss: 0.147795\n",
      "val Acc: 0.9456\n",
      "val Bal. Acc: 0.9456\n",
      "Total time: 1:37:22.278950\n",
      "Epoch time: 6m 27s\n",
      "\n",
      "\n",
      "----------\n",
      "Epoch 15/49\n",
      "LR 5e-05\n",
      "[[7430.   70.]\n",
      " [  43. 7457.]]\n",
      "train: CE: 0.022300, MSE: 0.001044, loss: 0.020174\n",
      "train Acc: 0.9925\n",
      "train Bal. Acc: 0.9925\n"
     ]
    },
    {
     "name": "stderr",
     "output_type": "stream",
     "text": [
      "\r",
      "num_epochs:  32%|████████████████████▊                                            | 16/50 [1:43:48<3:39:09, 386.74s/it]"
     ]
    },
    {
     "name": "stdout",
     "output_type": "stream",
     "text": [
      "[[1635.  865.]\n",
      " [   0. 2500.]]\n",
      "val: CE: 0.629529, MSE: 0.001077, loss: 0.566683\n",
      "val Acc: 0.8270\n",
      "val Bal. Acc: 0.8270\n",
      "Total time: 1:43:48.407773\n",
      "Epoch time: 6m 26s\n",
      "\n",
      "\n",
      "----------\n",
      "Epoch 16/49\n",
      "LR 5e-05\n",
      "[[7425.   75.]\n",
      " [  45. 7455.]]\n",
      "train: CE: 0.020150, MSE: 0.001010, loss: 0.018236\n",
      "train Acc: 0.9920\n",
      "train Bal. Acc: 0.9920\n"
     ]
    },
    {
     "name": "stderr",
     "output_type": "stream",
     "text": [
      "\r",
      "num_epochs:  34%|██████████████████████                                           | 17/50 [1:50:14<3:32:34, 386.51s/it]"
     ]
    },
    {
     "name": "stdout",
     "output_type": "stream",
     "text": [
      "[[2456.   44.]\n",
      " [ 157. 2343.]]\n",
      "val: CE: 0.150285, MSE: 0.001073, loss: 0.135364\n",
      "val Acc: 0.9598\n",
      "val Bal. Acc: 0.9598\n",
      "Epoch    12: reducing learning rate of group 0 to 2.5000e-05.\n",
      "Total time: 1:50:14.390564\n",
      "Epoch time: 6m 26s\n",
      "\n",
      "\n",
      "----------\n",
      "Epoch 17/49\n",
      "LR 2.5e-05\n",
      "[[7466.   34.]\n",
      " [  19. 7481.]]\n",
      "train: CE: 0.010164, MSE: 0.000983, loss: 0.009246\n",
      "train Acc: 0.9965\n",
      "train Bal. Acc: 0.9965\n"
     ]
    },
    {
     "name": "stderr",
     "output_type": "stream",
     "text": [
      "\r",
      "num_epochs:  36%|███████████████████████▍                                         | 18/50 [1:56:41<3:26:11, 386.61s/it]"
     ]
    },
    {
     "name": "stdout",
     "output_type": "stream",
     "text": [
      "[[2338.  162.]\n",
      " [  30. 2470.]]\n",
      "val: CE: 0.140702, MSE: 0.001036, loss: 0.126736\n",
      "val Acc: 0.9616\n",
      "val Bal. Acc: 0.9616\n",
      "Total time: 1:56:41.242297\n",
      "Epoch time: 6m 27s\n",
      "\n",
      "\n",
      "----------\n",
      "Epoch 18/49\n",
      "LR 2.5e-05\n",
      "[[7482.   18.]\n",
      " [  12. 7488.]]\n",
      "train: CE: 0.006243, MSE: 0.000968, loss: 0.005716\n",
      "train Acc: 0.9980\n",
      "train Bal. Acc: 0.9980\n"
     ]
    },
    {
     "name": "stderr",
     "output_type": "stream",
     "text": [
      "\r",
      "num_epochs:  38%|████████████████████████▋                                        | 19/50 [2:03:07<3:19:38, 386.41s/it]"
     ]
    },
    {
     "name": "stdout",
     "output_type": "stream",
     "text": [
      "[[2368.  132.]\n",
      " [  35. 2465.]]\n",
      "val: CE: 0.130908, MSE: 0.001024, loss: 0.117920\n",
      "val Acc: 0.9666\n",
      "val Bal. Acc: 0.9666\n",
      "saving best model\n",
      "Total time: 2:03:07.182088\n",
      "Epoch time: 6m 26s\n",
      "\n",
      "\n",
      "----------\n",
      "Epoch 19/49\n",
      "LR 2.5e-05\n",
      "[[7482.   18.]\n",
      " [  11. 7489.]]\n",
      "train: CE: 0.005250, MSE: 0.000958, loss: 0.004821\n",
      "train Acc: 0.9981\n",
      "train Bal. Acc: 0.9981\n"
     ]
    },
    {
     "name": "stderr",
     "output_type": "stream",
     "text": [
      "\r",
      "num_epochs:  40%|██████████████████████████                                       | 20/50 [2:09:33<3:13:13, 386.43s/it]"
     ]
    },
    {
     "name": "stdout",
     "output_type": "stream",
     "text": [
      "[[2217.  283.]\n",
      " [   5. 2495.]]\n",
      "val: CE: 0.230811, MSE: 0.001011, loss: 0.207831\n",
      "val Acc: 0.9424\n",
      "val Bal. Acc: 0.9424\n",
      "Total time: 2:09:33.672229\n",
      "Epoch time: 6m 26s\n",
      "\n",
      "\n",
      "----------\n",
      "Epoch 20/49\n",
      "LR 2.5e-05\n",
      "[[7.494e+03 6.000e+00]\n",
      " [7.000e+00 7.493e+03]]\n",
      "train: CE: 0.002911, MSE: 0.000945, loss: 0.002715\n",
      "train Acc: 0.9991\n",
      "train Bal. Acc: 0.9991\n"
     ]
    },
    {
     "name": "stderr",
     "output_type": "stream",
     "text": [
      "\r",
      "num_epochs:  42%|███████████████████████████▎                                     | 21/50 [2:16:00<3:06:46, 386.43s/it]"
     ]
    },
    {
     "name": "stdout",
     "output_type": "stream",
     "text": [
      "[[2402.   98.]\n",
      " [  68. 2432.]]\n",
      "val: CE: 0.129047, MSE: 0.001001, loss: 0.116243\n",
      "val Acc: 0.9668\n",
      "val Bal. Acc: 0.9668\n",
      "saving best model\n",
      "Total time: 2:16:00.081262\n",
      "Epoch time: 6m 26s\n",
      "\n",
      "\n",
      "----------\n",
      "Epoch 21/49\n",
      "LR 2.5e-05\n",
      "[[7.487e+03 1.300e+01]\n",
      " [5.000e+00 7.495e+03]]\n",
      "train: CE: 0.003544, MSE: 0.000938, loss: 0.003283\n",
      "train Acc: 0.9988\n",
      "train Bal. Acc: 0.9988\n"
     ]
    },
    {
     "name": "stderr",
     "output_type": "stream",
     "text": [
      "\r",
      "num_epochs:  44%|████████████████████████████▌                                    | 22/50 [2:22:26<3:00:17, 386.33s/it]"
     ]
    },
    {
     "name": "stdout",
     "output_type": "stream",
     "text": [
      "[[2402.   98.]\n",
      " [  43. 2457.]]\n",
      "val: CE: 0.114954, MSE: 0.000996, loss: 0.103558\n",
      "val Acc: 0.9718\n",
      "val Bal. Acc: 0.9718\n",
      "saving best model\n",
      "Total time: 2:22:26.183619\n",
      "Epoch time: 6m 26s\n",
      "\n",
      "\n",
      "----------\n",
      "Epoch 22/49\n",
      "LR 2.5e-05\n",
      "[[7485.   15.]\n",
      " [  12. 7488.]]\n",
      "train: CE: 0.005525, MSE: 0.000928, loss: 0.005065\n",
      "train Acc: 0.9982\n",
      "train Bal. Acc: 0.9982\n"
     ]
    },
    {
     "name": "stderr",
     "output_type": "stream",
     "text": [
      "\r",
      "num_epochs:  46%|█████████████████████████████▉                                   | 23/50 [2:28:52<2:53:50, 386.33s/it]"
     ]
    },
    {
     "name": "stdout",
     "output_type": "stream",
     "text": [
      "[[2384.  116.]\n",
      " [  44. 2456.]]\n",
      "val: CE: 0.132419, MSE: 0.000984, loss: 0.119276\n",
      "val Acc: 0.9680\n",
      "val Bal. Acc: 0.9680\n",
      "Total time: 2:28:52.521708\n",
      "Epoch time: 6m 26s\n",
      "\n",
      "\n",
      "----------\n",
      "Epoch 23/49\n",
      "LR 2.5e-05\n",
      "[[7.496e+03 4.000e+00]\n",
      " [8.000e+00 7.492e+03]]\n",
      "train: CE: 0.003381, MSE: 0.000920, loss: 0.003135\n",
      "train Acc: 0.9992\n",
      "train Bal. Acc: 0.9992\n"
     ]
    },
    {
     "name": "stderr",
     "output_type": "stream",
     "text": [
      "\r",
      "num_epochs:  48%|███████████████████████████████▏                                 | 24/50 [2:35:19<2:47:28, 386.47s/it]"
     ]
    },
    {
     "name": "stdout",
     "output_type": "stream",
     "text": [
      "[[2380.  120.]\n",
      " [  36. 2464.]]\n",
      "val: CE: 0.130928, MSE: 0.000979, loss: 0.117933\n",
      "val Acc: 0.9688\n",
      "val Bal. Acc: 0.9688\n",
      "Epoch    19: reducing learning rate of group 0 to 1.2500e-05.\n",
      "Total time: 2:35:19.325083\n",
      "Epoch time: 6m 27s\n",
      "\n",
      "\n",
      "----------\n",
      "Epoch 24/49\n",
      "LR 1.25e-05\n",
      "[[7.493e+03 7.000e+00]\n",
      " [2.000e+00 7.498e+03]]\n",
      "train: CE: 0.001953, MSE: 0.000912, loss: 0.001848\n",
      "train Acc: 0.9994\n",
      "train Bal. Acc: 0.9994\n"
     ]
    },
    {
     "name": "stderr",
     "output_type": "stream",
     "text": [
      "\r",
      "num_epochs:  50%|████████████████████████████████▌                                | 25/50 [2:41:45<2:41:00, 386.41s/it]"
     ]
    },
    {
     "name": "stdout",
     "output_type": "stream",
     "text": [
      "[[2421.   79.]\n",
      " [  56. 2444.]]\n",
      "val: CE: 0.117400, MSE: 0.000970, loss: 0.105757\n",
      "val Acc: 0.9730\n",
      "val Bal. Acc: 0.9730\n",
      "saving best model\n",
      "Total time: 2:41:45.596978\n",
      "Epoch time: 6m 26s\n",
      "\n",
      "\n",
      "----------\n",
      "Epoch 25/49\n",
      "LR 1.25e-05\n",
      "[[7.500e+03 0.000e+00]\n",
      " [2.000e+00 7.498e+03]]\n",
      "train: CE: 0.000763, MSE: 0.000907, loss: 0.000778\n",
      "train Acc: 0.9999\n",
      "train Bal. Acc: 0.9999\n"
     ]
    },
    {
     "name": "stderr",
     "output_type": "stream",
     "text": [
      "\r",
      "num_epochs:  52%|█████████████████████████████████▊                               | 26/50 [2:48:11<2:34:30, 386.25s/it]"
     ]
    },
    {
     "name": "stdout",
     "output_type": "stream",
     "text": [
      "[[2375.  125.]\n",
      " [  31. 2469.]]\n",
      "val: CE: 0.127651, MSE: 0.000966, loss: 0.114982\n",
      "val Acc: 0.9688\n",
      "val Bal. Acc: 0.9688\n",
      "Total time: 2:48:11.477157\n",
      "Epoch time: 6m 26s\n",
      "\n",
      "\n",
      "----------\n",
      "Epoch 26/49\n",
      "LR 1.25e-05\n",
      "[[7.499e+03 1.000e+00]\n",
      " [0.000e+00 7.500e+03]]\n",
      "train: CE: 0.000674, MSE: 0.000903, loss: 0.000697\n",
      "train Acc: 0.9999\n",
      "train Bal. Acc: 0.9999\n"
     ]
    },
    {
     "name": "stderr",
     "output_type": "stream",
     "text": [
      "\r",
      "num_epochs:  54%|███████████████████████████████████                              | 27/50 [2:54:37<2:27:59, 386.08s/it]"
     ]
    },
    {
     "name": "stdout",
     "output_type": "stream",
     "text": [
      "[[2379.  121.]\n",
      " [  29. 2471.]]\n",
      "val: CE: 0.130222, MSE: 0.000962, loss: 0.117296\n",
      "val Acc: 0.9700\n",
      "val Bal. Acc: 0.9700\n",
      "Total time: 2:54:37.159458\n",
      "Epoch time: 6m 26s\n",
      "\n",
      "\n",
      "----------\n",
      "Epoch 27/49\n",
      "LR 1.25e-05\n",
      "[[7.499e+03 1.000e+00]\n",
      " [2.000e+00 7.498e+03]]\n",
      "train: CE: 0.000905, MSE: 0.000899, loss: 0.000904\n",
      "train Acc: 0.9998\n",
      "train Bal. Acc: 0.9998\n"
     ]
    },
    {
     "name": "stderr",
     "output_type": "stream",
     "text": [
      "\r",
      "num_epochs:  56%|████████████████████████████████████▍                            | 28/50 [3:01:02<2:21:29, 385.88s/it]"
     ]
    },
    {
     "name": "stdout",
     "output_type": "stream",
     "text": [
      "[[2381.  119.]\n",
      " [  30. 2470.]]\n",
      "val: CE: 0.143948, MSE: 0.000958, loss: 0.129649\n",
      "val Acc: 0.9702\n",
      "val Bal. Acc: 0.9702\n",
      "Total time: 3:01:02.552754\n",
      "Epoch time: 6m 25s\n",
      "\n",
      "\n",
      "----------\n",
      "Epoch 28/49\n",
      "LR 1.25e-05\n",
      "[[7.498e+03 2.000e+00]\n",
      " [0.000e+00 7.500e+03]]\n",
      "train: CE: 0.000811, MSE: 0.000895, loss: 0.000820\n",
      "train Acc: 0.9999\n",
      "train Bal. Acc: 0.9999\n"
     ]
    },
    {
     "name": "stderr",
     "output_type": "stream",
     "text": [
      "\r",
      "num_epochs:  58%|█████████████████████████████████████▋                           | 29/50 [3:07:28<2:15:01, 385.79s/it]"
     ]
    },
    {
     "name": "stdout",
     "output_type": "stream",
     "text": [
      "[[2362.  138.]\n",
      " [  26. 2474.]]\n",
      "val: CE: 0.140671, MSE: 0.000954, loss: 0.126699\n",
      "val Acc: 0.9672\n",
      "val Bal. Acc: 0.9672\n",
      "Total time: 3:07:28.151847\n",
      "Epoch time: 6m 26s\n",
      "\n",
      "\n",
      "----------\n",
      "Epoch 29/49\n",
      "LR 1.25e-05\n",
      "[[7.498e+03 2.000e+00]\n",
      " [0.000e+00 7.500e+03]]\n",
      "train: CE: 0.000679, MSE: 0.000892, loss: 0.000700\n",
      "train Acc: 0.9999\n",
      "train Bal. Acc: 0.9999\n"
     ]
    },
    {
     "name": "stderr",
     "output_type": "stream",
     "text": [
      "\r",
      "num_epochs:  60%|███████████████████████████████████████                          | 30/50 [3:13:53<2:08:33, 385.66s/it]"
     ]
    },
    {
     "name": "stdout",
     "output_type": "stream",
     "text": [
      "[[2342.  158.]\n",
      " [  18. 2482.]]\n",
      "val: CE: 0.163089, MSE: 0.000950, loss: 0.146875\n",
      "val Acc: 0.9648\n",
      "val Bal. Acc: 0.9648\n",
      "Total time: 3:13:53.488892\n",
      "Epoch time: 6m 25s\n",
      "\n",
      "\n",
      "----------\n",
      "Epoch 30/49\n",
      "LR 1.25e-05\n",
      "[[7.500e+03 0.000e+00]\n",
      " [1.000e+00 7.499e+03]]\n",
      "train: CE: 0.000514, MSE: 0.000888, loss: 0.000551\n",
      "train Acc: 0.9999\n",
      "train Bal. Acc: 0.9999\n"
     ]
    },
    {
     "name": "stderr",
     "output_type": "stream",
     "text": [
      "\r",
      "num_epochs:  62%|████████████████████████████████████████▎                        | 31/50 [3:20:19<2:02:08, 385.72s/it]"
     ]
    },
    {
     "name": "stdout",
     "output_type": "stream",
     "text": [
      "[[2412.   88.]\n",
      " [  47. 2453.]]\n",
      "val: CE: 0.124339, MSE: 0.000947, loss: 0.111999\n",
      "val Acc: 0.9730\n",
      "val Bal. Acc: 0.9730\n",
      "Epoch    26: reducing learning rate of group 0 to 6.2500e-06.\n",
      "Total time: 3:20:19.358470\n",
      "Epoch time: 6m 26s\n",
      "\n",
      "\n",
      "----------\n",
      "Epoch 31/49\n",
      "LR 6.25e-06\n",
      "[[7500.    0.]\n",
      " [   0. 7500.]]\n",
      "train: CE: 0.000299, MSE: 0.000886, loss: 0.000357\n",
      "train Acc: 1.0000\n",
      "train Bal. Acc: 1.0000\n"
     ]
    },
    {
     "name": "stderr",
     "output_type": "stream",
     "text": [
      "\r",
      "num_epochs:  64%|█████████████████████████████████████████▌                       | 32/50 [3:26:45<1:55:44, 385.80s/it]"
     ]
    },
    {
     "name": "stdout",
     "output_type": "stream",
     "text": [
      "[[2398.  102.]\n",
      " [  41. 2459.]]\n",
      "val: CE: 0.125150, MSE: 0.000945, loss: 0.112730\n",
      "val Acc: 0.9714\n",
      "val Bal. Acc: 0.9714\n",
      "Total time: 3:26:45.351149\n",
      "Epoch time: 6m 26s\n",
      "\n",
      "\n",
      "----------\n",
      "Epoch 32/49\n",
      "LR 6.25e-06\n",
      "[[7.500e+03 0.000e+00]\n",
      " [1.000e+00 7.499e+03]]\n",
      "train: CE: 0.000439, MSE: 0.000884, loss: 0.000484\n",
      "train Acc: 0.9999\n",
      "train Bal. Acc: 0.9999\n"
     ]
    },
    {
     "name": "stderr",
     "output_type": "stream",
     "text": [
      "\r",
      "num_epochs:  66%|██████████████████████████████████████████▉                      | 33/50 [3:33:11<1:49:20, 385.93s/it]"
     ]
    },
    {
     "name": "stdout",
     "output_type": "stream",
     "text": [
      "[[2358.  142.]\n",
      " [  20. 2480.]]\n",
      "val: CE: 0.148418, MSE: 0.000943, loss: 0.133671\n",
      "val Acc: 0.9676\n",
      "val Bal. Acc: 0.9676\n",
      "Total time: 3:33:11.571689\n",
      "Epoch time: 6m 26s\n",
      "\n",
      "\n",
      "----------\n",
      "Epoch 33/49\n",
      "LR 6.25e-06\n",
      "[[7.496e+03 4.000e+00]\n",
      " [0.000e+00 7.500e+03]]\n",
      "train: CE: 0.000786, MSE: 0.000882, loss: 0.000796\n",
      "train Acc: 0.9997\n",
      "train Bal. Acc: 0.9997\n"
     ]
    },
    {
     "name": "stderr",
     "output_type": "stream",
     "text": [
      "\r",
      "num_epochs:  68%|████████████████████████████████████████████▏                    | 34/50 [3:39:37<1:42:55, 385.99s/it]"
     ]
    },
    {
     "name": "stdout",
     "output_type": "stream",
     "text": [
      "[[2382.  118.]\n",
      " [  27. 2473.]]\n",
      "val: CE: 0.139678, MSE: 0.000941, loss: 0.125804\n",
      "val Acc: 0.9710\n",
      "val Bal. Acc: 0.9710\n",
      "Total time: 3:39:37.705791\n",
      "Epoch time: 6m 26s\n",
      "\n",
      "\n",
      "----------\n",
      "Epoch 34/49\n",
      "LR 6.25e-06\n",
      "[[7500.    0.]\n",
      " [   0. 7500.]]\n",
      "train: CE: 0.000375, MSE: 0.000880, loss: 0.000426\n",
      "train Acc: 1.0000\n",
      "train Bal. Acc: 1.0000\n"
     ]
    },
    {
     "name": "stderr",
     "output_type": "stream",
     "text": [
      "\r",
      "num_epochs:  70%|█████████████████████████████████████████████▌                   | 35/50 [3:46:03<1:36:28, 385.88s/it]"
     ]
    },
    {
     "name": "stdout",
     "output_type": "stream",
     "text": [
      "[[2366.  134.]\n",
      " [  19. 2481.]]\n",
      "val: CE: 0.144041, MSE: 0.000939, loss: 0.129731\n",
      "val Acc: 0.9694\n",
      "val Bal. Acc: 0.9694\n",
      "Total time: 3:46:03.330212\n",
      "Epoch time: 6m 26s\n",
      "\n",
      "\n",
      "----------\n",
      "Epoch 35/49\n",
      "LR 6.25e-06\n",
      "[[7.499e+03 1.000e+00]\n",
      " [0.000e+00 7.500e+03]]\n",
      "train: CE: 0.000415, MSE: 0.000879, loss: 0.000462\n",
      "train Acc: 0.9999\n",
      "train Bal. Acc: 0.9999\n"
     ]
    },
    {
     "name": "stderr",
     "output_type": "stream",
     "text": [
      "\r",
      "num_epochs:  72%|██████████████████████████████████████████████▊                  | 36/50 [3:52:28<1:29:59, 385.65s/it]"
     ]
    },
    {
     "name": "stdout",
     "output_type": "stream",
     "text": [
      "[[2372.  128.]\n",
      " [  24. 2476.]]\n",
      "val: CE: 0.140503, MSE: 0.000938, loss: 0.126547\n",
      "val Acc: 0.9696\n",
      "val Bal. Acc: 0.9696\n",
      "Total time: 3:52:28.431800\n",
      "Epoch time: 6m 25s\n",
      "\n",
      "\n",
      "----------\n",
      "Epoch 36/49\n",
      "LR 6.25e-06\n",
      "[[7500.    0.]\n",
      " [   0. 7500.]]\n",
      "train: CE: 0.000319, MSE: 0.000877, loss: 0.000375\n",
      "train Acc: 1.0000\n",
      "train Bal. Acc: 1.0000\n"
     ]
    },
    {
     "name": "stderr",
     "output_type": "stream",
     "text": [
      "\r",
      "num_epochs:  74%|████████████████████████████████████████████████                 | 37/50 [3:58:54<1:23:34, 385.69s/it]"
     ]
    },
    {
     "name": "stdout",
     "output_type": "stream",
     "text": [
      "[[2376.  124.]\n",
      " [  27. 2473.]]\n",
      "val: CE: 0.138182, MSE: 0.000936, loss: 0.124458\n",
      "val Acc: 0.9698\n",
      "val Bal. Acc: 0.9698\n",
      "Total time: 3:58:54.236668\n",
      "Epoch time: 6m 26s\n",
      "\n",
      "\n",
      "----------\n",
      "Epoch 37/49\n",
      "LR 6.25e-06\n",
      "[[7500.    0.]\n",
      " [   0. 7500.]]\n",
      "train: CE: 0.000304, MSE: 0.000875, loss: 0.000361\n",
      "train Acc: 1.0000\n",
      "train Bal. Acc: 1.0000\n"
     ]
    },
    {
     "name": "stderr",
     "output_type": "stream",
     "text": [
      "\r",
      "num_epochs:  76%|█████████████████████████████████████████████████▍               | 38/50 [4:05:19<1:17:08, 385.70s/it]"
     ]
    },
    {
     "name": "stdout",
     "output_type": "stream",
     "text": [
      "[[2355.  145.]\n",
      " [  19. 2481.]]\n",
      "val: CE: 0.159467, MSE: 0.000934, loss: 0.143614\n",
      "val Acc: 0.9672\n",
      "val Bal. Acc: 0.9672\n",
      "Epoch    33: reducing learning rate of group 0 to 3.1250e-06.\n",
      "Total time: 4:05:19.949508\n",
      "Epoch time: 6m 26s\n",
      "\n",
      "\n",
      "----------\n",
      "Epoch 38/49\n",
      "LR 3.125e-06\n",
      "[[7500.    0.]\n",
      " [   0. 7500.]]\n",
      "train: CE: 0.000274, MSE: 0.000874, loss: 0.000334\n",
      "train Acc: 1.0000\n",
      "train Bal. Acc: 1.0000\n"
     ]
    },
    {
     "name": "stderr",
     "output_type": "stream",
     "text": [
      "\r",
      "num_epochs:  78%|██████████████████████████████████████████████████▋              | 39/50 [4:11:45<1:10:41, 385.63s/it]"
     ]
    },
    {
     "name": "stdout",
     "output_type": "stream",
     "text": [
      "[[2400.  100.]\n",
      " [  41. 2459.]]\n",
      "val: CE: 0.131010, MSE: 0.000933, loss: 0.118003\n",
      "val Acc: 0.9718\n",
      "val Bal. Acc: 0.9718\n",
      "Total time: 4:11:45.419594\n",
      "Epoch time: 6m 25s\n",
      "\n",
      "\n",
      "----------\n",
      "Epoch 39/49\n",
      "LR 3.125e-06\n",
      "[[7.499e+03 1.000e+00]\n",
      " [0.000e+00 7.500e+03]]\n",
      "train: CE: 0.000264, MSE: 0.000873, loss: 0.000325\n",
      "train Acc: 0.9999\n",
      "train Bal. Acc: 0.9999\n"
     ]
    },
    {
     "name": "stderr",
     "output_type": "stream",
     "text": [
      "\r",
      "num_epochs:  80%|████████████████████████████████████████████████████             | 40/50 [4:18:10<1:04:15, 385.59s/it]"
     ]
    },
    {
     "name": "stdout",
     "output_type": "stream",
     "text": [
      "[[2392.  108.]\n",
      " [  34. 2466.]]\n",
      "val: CE: 0.131816, MSE: 0.000932, loss: 0.118728\n",
      "val Acc: 0.9716\n",
      "val Bal. Acc: 0.9716\n",
      "Total time: 4:18:10.899045\n",
      "Epoch time: 6m 25s\n",
      "\n",
      "\n",
      "----------\n",
      "Epoch 40/49\n",
      "LR 3.125e-06\n",
      "[[7500.    0.]\n",
      " [   0. 7500.]]\n",
      "train: CE: 0.000301, MSE: 0.000872, loss: 0.000359\n",
      "train Acc: 1.0000\n",
      "train Bal. Acc: 1.0000\n"
     ]
    },
    {
     "name": "stderr",
     "output_type": "stream",
     "text": [
      "\r",
      "num_epochs:  82%|██████████████████████████████████████████████████████▉            | 41/50 [4:24:36<57:50, 385.61s/it]"
     ]
    },
    {
     "name": "stdout",
     "output_type": "stream",
     "text": [
      "[[2424.   76.]\n",
      " [  49. 2451.]]\n",
      "val: CE: 0.119856, MSE: 0.000931, loss: 0.107963\n",
      "val Acc: 0.9750\n",
      "val Bal. Acc: 0.9750\n",
      "saving best model\n",
      "Total time: 4:24:36.553500\n",
      "Epoch time: 6m 26s\n",
      "\n",
      "\n",
      "----------\n",
      "Epoch 41/49\n",
      "LR 3.125e-06\n",
      "[[7500.    0.]\n",
      " [   0. 7500.]]\n",
      "train: CE: 0.000254, MSE: 0.000871, loss: 0.000316\n",
      "train Acc: 1.0000\n",
      "train Bal. Acc: 1.0000\n"
     ]
    },
    {
     "name": "stderr",
     "output_type": "stream",
     "text": [
      "\r",
      "num_epochs:  84%|████████████████████████████████████████████████████████▎          | 42/50 [4:31:02<51:25, 385.68s/it]"
     ]
    },
    {
     "name": "stdout",
     "output_type": "stream",
     "text": [
      "[[2394.  106.]\n",
      " [  35. 2465.]]\n",
      "val: CE: 0.127212, MSE: 0.000930, loss: 0.114584\n",
      "val Acc: 0.9718\n",
      "val Bal. Acc: 0.9718\n",
      "Total time: 4:31:02.397175\n",
      "Epoch time: 6m 26s\n",
      "\n",
      "\n",
      "----------\n",
      "Epoch 42/49\n",
      "LR 3.125e-06\n",
      "[[7.499e+03 1.000e+00]\n",
      " [1.000e+00 7.499e+03]]\n",
      "train: CE: 0.000662, MSE: 0.000870, loss: 0.000682\n",
      "train Acc: 0.9999\n",
      "train Bal. Acc: 0.9999\n"
     ]
    },
    {
     "name": "stderr",
     "output_type": "stream",
     "text": [
      "\r",
      "num_epochs:  86%|█████████████████████████████████████████████████████████▌         | 43/50 [4:37:28<45:01, 385.91s/it]"
     ]
    },
    {
     "name": "stdout",
     "output_type": "stream",
     "text": [
      "[[2418.   82.]\n",
      " [  48. 2452.]]\n",
      "val: CE: 0.121054, MSE: 0.000929, loss: 0.109042\n",
      "val Acc: 0.9740\n",
      "val Bal. Acc: 0.9740\n",
      "Total time: 4:37:28.846295\n",
      "Epoch time: 6m 26s\n",
      "\n",
      "\n",
      "----------\n",
      "Epoch 43/49\n",
      "LR 3.125e-06\n",
      "[[7500.    0.]\n",
      " [   0. 7500.]]\n",
      "train: CE: 0.000219, MSE: 0.000869, loss: 0.000284\n",
      "train Acc: 1.0000\n",
      "train Bal. Acc: 1.0000\n"
     ]
    },
    {
     "name": "stderr",
     "output_type": "stream",
     "text": [
      "\r",
      "num_epochs:  88%|██████████████████████████████████████████████████████████▉        | 44/50 [4:43:55<38:36, 386.02s/it]"
     ]
    },
    {
     "name": "stdout",
     "output_type": "stream",
     "text": [
      "[[2412.   88.]\n",
      " [  48. 2452.]]\n",
      "val: CE: 0.122131, MSE: 0.000929, loss: 0.110010\n",
      "val Acc: 0.9728\n",
      "val Bal. Acc: 0.9728\n",
      "Total time: 4:43:55.129855\n",
      "Epoch time: 6m 26s\n",
      "\n",
      "\n",
      "----------\n",
      "Epoch 44/49\n",
      "LR 3.125e-06\n",
      "[[7500.    0.]\n",
      " [   0. 7500.]]\n",
      "train: CE: 0.000247, MSE: 0.000869, loss: 0.000309\n",
      "train Acc: 1.0000\n",
      "train Bal. Acc: 1.0000\n"
     ]
    },
    {
     "name": "stderr",
     "output_type": "stream",
     "text": [
      "\r",
      "num_epochs:  90%|████████████████████████████████████████████████████████████▎      | 45/50 [4:50:20<32:09, 385.97s/it]"
     ]
    },
    {
     "name": "stdout",
     "output_type": "stream",
     "text": [
      "[[2382.  118.]\n",
      " [  26. 2474.]]\n",
      "val: CE: 0.137051, MSE: 0.000928, loss: 0.123439\n",
      "val Acc: 0.9712\n",
      "val Bal. Acc: 0.9712\n",
      "Epoch    40: reducing learning rate of group 0 to 1.5625e-06.\n",
      "Total time: 4:50:20.969742\n",
      "Epoch time: 6m 26s\n",
      "\n",
      "\n",
      "----------\n",
      "Epoch 45/49\n",
      "LR 1.5625e-06\n",
      "[[7500.    0.]\n",
      " [   0. 7500.]]\n",
      "train: CE: 0.000335, MSE: 0.000868, loss: 0.000388\n",
      "train Acc: 1.0000\n",
      "train Bal. Acc: 1.0000\n"
     ]
    },
    {
     "name": "stderr",
     "output_type": "stream",
     "text": [
      "\r",
      "num_epochs:  92%|█████████████████████████████████████████████████████████████▋     | 46/50 [4:56:46<25:43, 385.83s/it]"
     ]
    },
    {
     "name": "stdout",
     "output_type": "stream",
     "text": [
      "[[2374.  126.]\n",
      " [  25. 2475.]]\n",
      "val: CE: 0.144880, MSE: 0.000927, loss: 0.130484\n",
      "val Acc: 0.9698\n",
      "val Bal. Acc: 0.9698\n",
      "Total time: 4:56:46.469405\n",
      "Epoch time: 6m 25s\n",
      "\n",
      "\n",
      "----------\n",
      "Epoch 46/49\n",
      "LR 1.5625e-06\n",
      "[[7.499e+03 1.000e+00]\n",
      " [0.000e+00 7.500e+03]]\n",
      "train: CE: 0.000448, MSE: 0.000867, loss: 0.000490\n",
      "train Acc: 0.9999\n",
      "train Bal. Acc: 0.9999\n"
     ]
    },
    {
     "name": "stderr",
     "output_type": "stream",
     "text": [
      "\r",
      "num_epochs:  94%|██████████████████████████████████████████████████████████████▉    | 47/50 [5:03:12<19:17, 385.79s/it]"
     ]
    },
    {
     "name": "stdout",
     "output_type": "stream",
     "text": [
      "[[2398.  102.]\n",
      " [  39. 2461.]]\n",
      "val: CE: 0.127468, MSE: 0.000927, loss: 0.114814\n",
      "val Acc: 0.9718\n",
      "val Bal. Acc: 0.9718\n",
      "Total time: 5:03:12.176739\n",
      "Epoch time: 6m 26s\n",
      "\n",
      "\n",
      "----------\n",
      "Epoch 47/49\n",
      "LR 1.5625e-06\n",
      "[[7500.    0.]\n",
      " [   0. 7500.]]\n",
      "train: CE: 0.000257, MSE: 0.000867, loss: 0.000318\n",
      "train Acc: 1.0000\n",
      "train Bal. Acc: 1.0000\n"
     ]
    },
    {
     "name": "stderr",
     "output_type": "stream",
     "text": [
      "\r",
      "num_epochs:  96%|████████████████████████████████████████████████████████████████▎  | 48/50 [5:09:37<12:51, 385.78s/it]"
     ]
    },
    {
     "name": "stdout",
     "output_type": "stream",
     "text": [
      "[[2396.  104.]\n",
      " [  39. 2461.]]\n",
      "val: CE: 0.127818, MSE: 0.000926, loss: 0.115129\n",
      "val Acc: 0.9714\n",
      "val Bal. Acc: 0.9714\n",
      "Total time: 5:09:37.931696\n",
      "Epoch time: 6m 26s\n",
      "\n",
      "\n",
      "----------\n",
      "Epoch 48/49\n",
      "LR 1.5625e-06\n",
      "[[7.500e+03 0.000e+00]\n",
      " [1.000e+00 7.499e+03]]\n",
      "train: CE: 0.000432, MSE: 0.000866, loss: 0.000475\n",
      "train Acc: 0.9999\n",
      "train Bal. Acc: 0.9999\n"
     ]
    },
    {
     "name": "stderr",
     "output_type": "stream",
     "text": [
      "\r",
      "num_epochs:  98%|█████████████████████████████████████████████████████████████████▋ | 49/50 [5:16:03<06:25, 385.64s/it]"
     ]
    },
    {
     "name": "stdout",
     "output_type": "stream",
     "text": [
      "[[2379.  121.]\n",
      " [  26. 2474.]]\n",
      "val: CE: 0.141040, MSE: 0.000926, loss: 0.127028\n",
      "val Acc: 0.9706\n",
      "val Bal. Acc: 0.9706\n",
      "Total time: 5:16:03.238149\n",
      "Epoch time: 6m 25s\n",
      "\n",
      "\n",
      "----------\n",
      "Epoch 49/49\n",
      "LR 1.5625e-06\n",
      "[[7500.    0.]\n",
      " [   0. 7500.]]\n",
      "train: CE: 0.000377, MSE: 0.000866, loss: 0.000426\n",
      "train Acc: 1.0000\n",
      "train Bal. Acc: 1.0000\n"
     ]
    },
    {
     "name": "stderr",
     "output_type": "stream",
     "text": [
      "num_epochs: 100%|███████████████████████████████████████████████████████████████████| 50/50 [5:22:29<00:00, 386.98s/it]"
     ]
    },
    {
     "name": "stdout",
     "output_type": "stream",
     "text": [
      "[[2384.  116.]\n",
      " [  27. 2473.]]\n",
      "val: CE: 0.135666, MSE: 0.000925, loss: 0.122192\n",
      "val Acc: 0.9714\n",
      "val Bal. Acc: 0.9714\n",
      "Total time: 5:22:29.123379\n",
      "Epoch time: 6m 26s\n",
      "Best val loss: 0.107963\n",
      "Best val acc: 0.975000\n",
      "50\n"
     ]
    },
    {
     "name": "stderr",
     "output_type": "stream",
     "text": [
      "\n"
     ]
    },
    {
     "data": {
      "image/png": "[encoded data removed]",
      "text/plain": [
       "<Figure size 432x288 with 1 Axes>"
      ]
     },
     "metadata": {
      "needs_background": "light"
     },
     "output_type": "display_data"
    },
    {
     "name": "stdout",
     "output_type": "stream",
     "text": [
      "50\n"
     ]
    },
    {
     "data": {
      "image/png": "[encoded data removed]",
      "text/plain": [
       "<Figure size 432x288 with 1 Axes>"
      ]
     },
     "metadata": {
      "needs_background": "light"
     },
     "output_type": "display_data"
    },
    {
     "data": {
      "image/png": "[encoded data removed]",
      "text/plain": [
       "<Figure size 432x288 with 1 Axes>"
      ]
     },
     "metadata": {
      "needs_background": "light"
     },
     "output_type": "display_data"
    },
    {
     "name": "stdout",
     "output_type": "stream",
     "text": [
      "tensor([[2424.,   76.],\n",
      "        [  49., 2451.]])\n",
      "[2473. 2527.]\n",
      "[[0.9696 0.0304]\n",
      " [0.0196 0.9804]]\n",
      "\n",
      "\n",
      "\n",
      "Fold- 1 : Initializing Datasets and Dataloaders...\n"
     ]
    },
    {
     "name": "stderr",
     "output_type": "stream",
     "text": [
      "\r",
      "num_epochs:   0%|                                                                               | 0/50 [00:00<?, ?it/s]"
     ]
    },
    {
     "name": "stdout",
     "output_type": "stream",
     "text": [
      "\n",
      "\n",
      "----------\n",
      "Epoch 0/49\n",
      "LR 1e-05\n",
      "[[4831. 2669.]\n",
      " [2582. 4918.]]\n",
      "train: CE: 0.610712, MSE: 0.138610, loss: 0.563502\n",
      "train Acc: 0.6499\n",
      "train Bal. Acc: 0.6499\n"
     ]
    },
    {
     "name": "stderr",
     "output_type": "stream",
     "text": [
      "\r",
      "num_epochs:   2%|█▎                                                                  | 1/50 [06:28<5:17:28, 388.74s/it]"
     ]
    },
    {
     "name": "stdout",
     "output_type": "stream",
     "text": [
      "[[  56. 2444.]\n",
      " [   0. 2500.]]\n",
      "val: CE: 0.890122, MSE: 0.132806, loss: 0.814390\n",
      "val Acc: 0.5112\n",
      "val Bal. Acc: 0.5112\n",
      "saving best model\n",
      "Total time: 0:06:28.742406\n",
      "Epoch time: 6m 29s\n",
      "\n",
      "\n",
      "----------\n",
      "Epoch 1/49\n",
      "LR 1e-05\n",
      "[[6313. 1187.]\n",
      " [1212. 6288.]]\n",
      "train: CE: 0.364785, MSE: 0.082752, loss: 0.336581\n",
      "train Acc: 0.8401\n",
      "train Bal. Acc: 0.8401\n"
     ]
    },
    {
     "name": "stderr",
     "output_type": "stream",
     "text": [
      "\r",
      "num_epochs:   4%|██▋                                                                 | 2/50 [12:57<5:11:02, 388.80s/it]"
     ]
    },
    {
     "name": "stdout",
     "output_type": "stream",
     "text": [
      "[[ 726. 1774.]\n",
      " [   0. 2500.]]\n",
      "val: CE: 0.785523, MSE: 0.013400, loss: 0.708311\n",
      "val Acc: 0.6452\n",
      "val Bal. Acc: 0.6452\n",
      "saving best model\n",
      "Total time: 0:12:57.582541\n",
      "Epoch time: 6m 29s\n",
      "\n",
      "\n",
      "----------\n",
      "Epoch 2/49\n",
      "LR 1e-05\n",
      "[[6791.  709.]\n",
      " [ 577. 6923.]]\n",
      "train: CE: 0.221347, MSE: 0.008742, loss: 0.200087\n",
      "train Acc: 0.9143\n",
      "train Bal. Acc: 0.9143\n"
     ]
    },
    {
     "name": "stderr",
     "output_type": "stream",
     "text": [
      "\r",
      "num_epochs:   6%|████                                                                | 3/50 [19:26<5:04:42, 389.00s/it]"
     ]
    },
    {
     "name": "stdout",
     "output_type": "stream",
     "text": [
      "[[ 733. 1767.]\n",
      " [   0. 2500.]]\n",
      "val: CE: 0.907338, MSE: 0.007583, loss: 0.817362\n",
      "val Acc: 0.6466\n",
      "val Bal. Acc: 0.6466\n",
      "saving best model\n",
      "Total time: 0:19:26.821834\n",
      "Epoch time: 6m 29s\n",
      "\n",
      "\n",
      "----------\n",
      "Epoch 3/49\n",
      "LR 1e-05\n",
      "[[6981.  519.]\n",
      " [ 302. 7198.]]\n",
      "train: CE: 0.153567, MSE: 0.006427, loss: 0.138853\n",
      "train Acc: 0.9453\n",
      "train Bal. Acc: 0.9453\n"
     ]
    },
    {
     "name": "stderr",
     "output_type": "stream",
     "text": [
      "\r",
      "num_epochs:   8%|█████▍                                                              | 4/50 [25:56<4:58:30, 389.35s/it]"
     ]
    },
    {
     "name": "stdout",
     "output_type": "stream",
     "text": [
      "[[2482.   18.]\n",
      " [1066. 1434.]]\n",
      "val: CE: 0.592264, MSE: 0.005329, loss: 0.533570\n",
      "val Acc: 0.7832\n",
      "val Bal. Acc: 0.7832\n",
      "saving best model\n",
      "Total time: 0:25:56.707725\n",
      "Epoch time: 6m 30s\n",
      "\n",
      "\n",
      "----------\n",
      "Epoch 4/49\n",
      "LR 1e-05\n",
      "[[7081.  419.]\n",
      " [ 190. 7310.]]\n",
      "train: CE: 0.115072, MSE: 0.004343, loss: 0.103999\n",
      "train Acc: 0.9594\n",
      "train Bal. Acc: 0.9594\n"
     ]
    },
    {
     "name": "stderr",
     "output_type": "stream",
     "text": [
      "\r",
      "num_epochs:  10%|██████▊                                                             | 5/50 [32:25<4:51:56, 389.25s/it]"
     ]
    },
    {
     "name": "stdout",
     "output_type": "stream",
     "text": [
      "[[2488.   12.]\n",
      " [ 730. 1770.]]\n",
      "val: CE: 0.373518, MSE: 0.003902, loss: 0.336556\n",
      "val Acc: 0.8516\n",
      "val Bal. Acc: 0.8516\n",
      "saving best model\n",
      "Total time: 0:32:25.785821\n",
      "Epoch time: 6m 29s\n",
      "\n",
      "\n",
      "----------\n",
      "Epoch 5/49\n",
      "LR 5e-05\n",
      "[[6910.  590.]\n",
      " [ 301. 7199.]]\n",
      "train: CE: 0.154973, MSE: 0.003533, loss: 0.139829\n",
      "train Acc: 0.9406\n",
      "train Bal. Acc: 0.9406\n"
     ]
    },
    {
     "name": "stderr",
     "output_type": "stream",
     "text": [
      "\r",
      "num_epochs:  12%|████████▏                                                           | 6/50 [38:54<4:45:21, 389.13s/it]"
     ]
    },
    {
     "name": "stdout",
     "output_type": "stream",
     "text": [
      "[[1442. 1058.]\n",
      " [   0. 2500.]]\n",
      "val: CE: 0.530489, MSE: 0.002537, loss: 0.477694\n",
      "val Acc: 0.7884\n",
      "val Bal. Acc: 0.7884\n",
      "Total time: 0:38:54.665704\n",
      "Epoch time: 6m 29s\n",
      "\n",
      "\n",
      "----------\n",
      "Epoch 6/49\n",
      "LR 5e-05\n",
      "[[7083.  417.]\n",
      " [ 191. 7309.]]\n",
      "train: CE: 0.109274, MSE: 0.002023, loss: 0.098548\n",
      "train Acc: 0.9595\n",
      "train Bal. Acc: 0.9595\n"
     ]
    },
    {
     "name": "stderr",
     "output_type": "stream",
     "text": [
      "\r",
      "num_epochs:  14%|█████████▌                                                          | 7/50 [45:22<4:38:40, 388.86s/it]"
     ]
    },
    {
     "name": "stdout",
     "output_type": "stream",
     "text": [
      "[[2419.   81.]\n",
      " [ 123. 2377.]]\n",
      "val: CE: 0.123688, MSE: 0.001782, loss: 0.111498\n",
      "val Acc: 0.9592\n",
      "val Bal. Acc: 0.9592\n",
      "saving best model\n",
      "Total time: 0:45:22.977283\n",
      "Epoch time: 6m 28s\n",
      "\n",
      "\n",
      "----------\n",
      "Epoch 7/49\n",
      "LR 5e-05\n",
      "[[7192.  308.]\n",
      " [ 121. 7379.]]\n",
      "train: CE: 0.075806, MSE: 0.001556, loss: 0.068381\n",
      "train Acc: 0.9714\n",
      "train Bal. Acc: 0.9714\n"
     ]
    },
    {
     "name": "stderr",
     "output_type": "stream",
     "text": [
      "\r",
      "num_epochs:  16%|██████████▉                                                         | 8/50 [51:51<4:32:05, 388.71s/it]"
     ]
    },
    {
     "name": "stdout",
     "output_type": "stream",
     "text": [
      "[[2435.   65.]\n",
      " [ 129. 2371.]]\n",
      "val: CE: 0.100164, MSE: 0.001514, loss: 0.090299\n",
      "val Acc: 0.9612\n",
      "val Bal. Acc: 0.9612\n",
      "saving best model\n",
      "Total time: 0:51:51.354031\n",
      "Epoch time: 6m 28s\n",
      "\n",
      "\n",
      "----------\n",
      "Epoch 8/49\n",
      "LR 5e-05\n",
      "[[7255.  245.]\n",
      " [ 103. 7397.]]\n",
      "train: CE: 0.063469, MSE: 0.001317, loss: 0.057254\n",
      "train Acc: 0.9768\n",
      "train Bal. Acc: 0.9768\n"
     ]
    },
    {
     "name": "stderr",
     "output_type": "stream",
     "text": [
      "\r",
      "num_epochs:  18%|████████████▏                                                       | 9/50 [58:20<4:25:38, 388.75s/it]"
     ]
    },
    {
     "name": "stdout",
     "output_type": "stream",
     "text": [
      "[[1.855e+03 6.450e+02]\n",
      " [2.000e+00 2.498e+03]]\n",
      "val: CE: 0.424996, MSE: 0.001357, loss: 0.382632\n",
      "val Acc: 0.8706\n",
      "val Bal. Acc: 0.8706\n",
      "Total time: 0:58:20.190177\n",
      "Epoch time: 6m 29s\n",
      "\n",
      "\n",
      "----------\n",
      "Epoch 9/49\n",
      "LR 5e-05\n",
      "[[7309.  191.]\n",
      " [  93. 7407.]]\n",
      "train: CE: 0.050309, MSE: 0.001171, loss: 0.045395\n",
      "train Acc: 0.9811\n",
      "train Bal. Acc: 0.9811\n"
     ]
    },
    {
     "name": "stderr",
     "output_type": "stream",
     "text": [
      "\r",
      "num_epochs:  20%|█████████████                                                    | 10/50 [1:04:49<4:19:10, 388.77s/it]"
     ]
    },
    {
     "name": "stdout",
     "output_type": "stream",
     "text": [
      "[[1.445e+03 1.055e+03]\n",
      " [1.000e+00 2.499e+03]]\n",
      "val: CE: 0.849060, MSE: 0.001214, loss: 0.764276\n",
      "val Acc: 0.7888\n",
      "val Bal. Acc: 0.7888\n",
      "Total time: 1:04:49.015245\n",
      "Epoch time: 6m 29s\n",
      "\n",
      "\n",
      "----------\n",
      "Epoch 10/49\n",
      "LR 5e-05\n",
      "[[7339.  161.]\n",
      " [  86. 7414.]]\n",
      "train: CE: 0.045183, MSE: 0.001065, loss: 0.040771\n",
      "train Acc: 0.9835\n",
      "train Bal. Acc: 0.9835\n"
     ]
    },
    {
     "name": "stderr",
     "output_type": "stream",
     "text": [
      "\r",
      "num_epochs:  22%|██████████████▎                                                  | 11/50 [1:11:16<4:12:32, 388.52s/it]"
     ]
    },
    {
     "name": "stdout",
     "output_type": "stream",
     "text": [
      "[[2336.  164.]\n",
      " [  28. 2472.]]\n",
      "val: CE: 0.102827, MSE: 0.001128, loss: 0.092657\n",
      "val Acc: 0.9616\n",
      "val Bal. Acc: 0.9616\n",
      "saving best model\n",
      "Total time: 1:11:16.980916\n",
      "Epoch time: 6m 28s\n",
      "\n",
      "\n",
      "----------\n",
      "Epoch 11/49\n",
      "LR 5e-05\n",
      "[[7362.  138.]\n",
      " [  67. 7433.]]\n",
      "train: CE: 0.036213, MSE: 0.000998, loss: 0.032692\n",
      "train Acc: 0.9863\n",
      "train Bal. Acc: 0.9863\n"
     ]
    },
    {
     "name": "stderr",
     "output_type": "stream",
     "text": [
      "\r",
      "num_epochs:  24%|███████████████▌                                                 | 12/50 [1:17:46<4:06:13, 388.77s/it]"
     ]
    },
    {
     "name": "stdout",
     "output_type": "stream",
     "text": [
      "[[ 645. 1855.]\n",
      " [   0. 2500.]]\n",
      "val: CE: 1.540679, MSE: 0.001077, loss: 1.386719\n",
      "val Acc: 0.6290\n",
      "val Bal. Acc: 0.6290\n",
      "Total time: 1:17:46.318358\n",
      "Epoch time: 6m 29s\n",
      "\n",
      "\n",
      "----------\n",
      "Epoch 12/49\n",
      "LR 5e-05\n",
      "[[7384.  116.]\n",
      " [  86. 7414.]]\n",
      "train: CE: 0.034115, MSE: 0.000954, loss: 0.030799\n",
      "train Acc: 0.9865\n",
      "train Bal. Acc: 0.9865\n"
     ]
    },
    {
     "name": "stderr",
     "output_type": "stream",
     "text": [
      "\r",
      "num_epochs:  26%|████████████████▉                                                | 13/50 [1:24:15<3:59:47, 388.85s/it]"
     ]
    },
    {
     "name": "stdout",
     "output_type": "stream",
     "text": [
      "[[1.821e+03 6.790e+02]\n",
      " [1.000e+00 2.499e+03]]\n",
      "val: CE: 0.474388, MSE: 0.001037, loss: 0.427053\n",
      "val Acc: 0.8640\n",
      "val Bal. Acc: 0.8640\n",
      "Epoch     8: reducing learning rate of group 0 to 2.5000e-05.\n",
      "Total time: 1:24:15.364197\n",
      "Epoch time: 6m 29s\n",
      "\n",
      "\n",
      "----------\n",
      "Epoch 13/49\n",
      "LR 2.5e-05\n",
      "[[7448.   52.]\n",
      " [  37. 7463.]]\n",
      "train: CE: 0.018647, MSE: 0.000926, loss: 0.016875\n",
      "train Acc: 0.9941\n",
      "train Bal. Acc: 0.9941\n"
     ]
    },
    {
     "name": "stderr",
     "output_type": "stream",
     "text": [
      "\r",
      "num_epochs:  28%|██████████████████▏                                              | 14/50 [1:30:44<3:53:18, 388.84s/it]"
     ]
    },
    {
     "name": "stdout",
     "output_type": "stream",
     "text": [
      "[[2399.  101.]\n",
      " [  33. 2467.]]\n",
      "val: CE: 0.079894, MSE: 0.001021, loss: 0.072007\n",
      "val Acc: 0.9732\n",
      "val Bal. Acc: 0.9732\n",
      "saving best model\n",
      "Total time: 1:30:44.156103\n",
      "Epoch time: 6m 29s\n",
      "\n",
      "\n",
      "----------\n",
      "Epoch 14/49\n",
      "LR 2.5e-05\n",
      "[[7458.   42.]\n",
      " [  32. 7468.]]\n",
      "train: CE: 0.013937, MSE: 0.000912, loss: 0.012634\n",
      "train Acc: 0.9951\n",
      "train Bal. Acc: 0.9951\n"
     ]
    },
    {
     "name": "stderr",
     "output_type": "stream",
     "text": [
      "\r",
      "num_epochs:  30%|███████████████████▌                                             | 15/50 [1:37:12<3:46:47, 388.78s/it]"
     ]
    },
    {
     "name": "stdout",
     "output_type": "stream",
     "text": [
      "[[2450.   50.]\n",
      " [  88. 2412.]]\n",
      "val: CE: 0.087936, MSE: 0.001007, loss: 0.079243\n",
      "val Acc: 0.9724\n",
      "val Bal. Acc: 0.9724\n",
      "Total time: 1:37:12.816323\n",
      "Epoch time: 6m 29s\n",
      "\n",
      "\n",
      "----------\n",
      "Epoch 15/49\n",
      "LR 2.5e-05\n",
      "[[7472.   28.]\n",
      " [  17. 7483.]]\n",
      "train: CE: 0.009225, MSE: 0.000901, loss: 0.008392\n",
      "train Acc: 0.9970\n",
      "train Bal. Acc: 0.9970\n"
     ]
    },
    {
     "name": "stderr",
     "output_type": "stream",
     "text": [
      "\r",
      "num_epochs:  32%|████████████████████▊                                            | 16/50 [1:43:41<3:40:16, 388.73s/it]"
     ]
    },
    {
     "name": "stdout",
     "output_type": "stream",
     "text": [
      "[[2432.   68.]\n",
      " [  53. 2447.]]\n",
      "val: CE: 0.085751, MSE: 0.000995, loss: 0.077276\n",
      "val Acc: 0.9758\n",
      "val Bal. Acc: 0.9758\n",
      "saving best model\n",
      "Total time: 1:43:41.421520\n",
      "Epoch time: 6m 29s\n",
      "\n",
      "\n",
      "----------\n",
      "Epoch 16/49\n",
      "LR 2.5e-05\n",
      "[[7472.   28.]\n",
      " [  17. 7483.]]\n",
      "train: CE: 0.008905, MSE: 0.000889, loss: 0.008104\n",
      "train Acc: 0.9970\n",
      "train Bal. Acc: 0.9970\n"
     ]
    },
    {
     "name": "stderr",
     "output_type": "stream",
     "text": [
      "\r",
      "num_epochs:  34%|██████████████████████                                           | 17/50 [1:50:10<3:33:49, 388.78s/it]"
     ]
    },
    {
     "name": "stdout",
     "output_type": "stream",
     "text": [
      "[[2.499e+03 1.000e+00]\n",
      " [6.860e+02 1.814e+03]]\n",
      "val: CE: 0.706821, MSE: 0.000984, loss: 0.636238\n",
      "val Acc: 0.8626\n",
      "val Bal. Acc: 0.8626\n",
      "Total time: 1:50:10.318430\n",
      "Epoch time: 6m 29s\n",
      "\n",
      "\n",
      "----------\n",
      "Epoch 17/49\n",
      "LR 2.5e-05\n",
      "[[7484.   16.]\n",
      " [  14. 7486.]]\n",
      "train: CE: 0.006514, MSE: 0.000879, loss: 0.005950\n",
      "train Acc: 0.9980\n",
      "train Bal. Acc: 0.9980\n"
     ]
    },
    {
     "name": "stderr",
     "output_type": "stream",
     "text": [
      "\r",
      "num_epochs:  36%|███████████████████████▍                                         | 18/50 [1:56:38<3:27:18, 388.70s/it]"
     ]
    },
    {
     "name": "stdout",
     "output_type": "stream",
     "text": [
      "[[2415.   85.]\n",
      " [  32. 2468.]]\n",
      "val: CE: 0.090993, MSE: 0.000974, loss: 0.081991\n",
      "val Acc: 0.9766\n",
      "val Bal. Acc: 0.9766\n",
      "saving best model\n",
      "Total time: 1:56:38.843044\n",
      "Epoch time: 6m 29s\n",
      "\n",
      "\n",
      "----------\n",
      "Epoch 18/49\n",
      "LR 2.5e-05\n",
      "[[7477.   23.]\n",
      " [  17. 7483.]]\n",
      "train: CE: 0.008010, MSE: 0.000870, loss: 0.007296\n",
      "train Acc: 0.9973\n",
      "train Bal. Acc: 0.9973\n"
     ]
    },
    {
     "name": "stderr",
     "output_type": "stream",
     "text": [
      "\r",
      "num_epochs:  38%|████████████████████████▋                                        | 19/50 [2:03:06<3:20:42, 388.46s/it]"
     ]
    },
    {
     "name": "stdout",
     "output_type": "stream",
     "text": [
      "[[2398.  102.]\n",
      " [  32. 2468.]]\n",
      "val: CE: 0.084180, MSE: 0.000965, loss: 0.075859\n",
      "val Acc: 0.9732\n",
      "val Bal. Acc: 0.9732\n",
      "Total time: 2:03:06.723284\n",
      "Epoch time: 6m 28s\n",
      "\n",
      "\n",
      "----------\n",
      "Epoch 19/49\n",
      "LR 2.5e-05\n",
      "[[7487.   13.]\n",
      " [   8. 7492.]]\n",
      "train: CE: 0.004696, MSE: 0.000862, loss: 0.004313\n",
      "train Acc: 0.9986\n",
      "train Bal. Acc: 0.9986\n"
     ]
    },
    {
     "name": "stderr",
     "output_type": "stream",
     "text": [
      "\r",
      "num_epochs:  40%|██████████████████████████                                       | 20/50 [2:09:35<3:14:14, 388.47s/it]"
     ]
    },
    {
     "name": "stdout",
     "output_type": "stream",
     "text": [
      "[[2488.   12.]\n",
      " [ 302. 2198.]]\n",
      "val: CE: 0.253955, MSE: 0.000957, loss: 0.228655\n",
      "val Acc: 0.9372\n",
      "val Bal. Acc: 0.9372\n",
      "Epoch    15: reducing learning rate of group 0 to 1.2500e-05.\n",
      "Total time: 2:09:35.228878\n",
      "Epoch time: 6m 29s\n",
      "\n",
      "\n",
      "----------\n",
      "Epoch 20/49\n",
      "LR 1.25e-05\n",
      "[[7.491e+03 9.000e+00]\n",
      " [6.000e+00 7.494e+03]]\n",
      "train: CE: 0.003308, MSE: 0.000856, loss: 0.003063\n",
      "train Acc: 0.9990\n",
      "train Bal. Acc: 0.9990\n"
     ]
    },
    {
     "name": "stderr",
     "output_type": "stream",
     "text": [
      "\r",
      "num_epochs:  42%|███████████████████████████▎                                     | 21/50 [2:16:03<3:07:47, 388.52s/it]"
     ]
    },
    {
     "name": "stdout",
     "output_type": "stream",
     "text": [
      "[[2387.  113.]\n",
      " [  29. 2471.]]\n",
      "val: CE: 0.093967, MSE: 0.000953, loss: 0.084665\n",
      "val Acc: 0.9716\n",
      "val Bal. Acc: 0.9716\n",
      "Total time: 2:16:03.875680\n",
      "Epoch time: 6m 29s\n",
      "\n",
      "\n",
      "----------\n",
      "Epoch 21/49\n",
      "LR 1.25e-05\n",
      "[[7.495e+03 5.000e+00]\n",
      " [3.000e+00 7.497e+03]]\n",
      "train: CE: 0.002290, MSE: 0.000852, loss: 0.002146\n",
      "train Acc: 0.9995\n",
      "train Bal. Acc: 0.9995\n"
     ]
    },
    {
     "name": "stderr",
     "output_type": "stream",
     "text": [
      "\r",
      "num_epochs:  44%|████████████████████████████▌                                    | 22/50 [2:22:32<3:01:19, 388.54s/it]"
     ]
    },
    {
     "name": "stdout",
     "output_type": "stream",
     "text": [
      "[[2411.   89.]\n",
      " [  30. 2470.]]\n",
      "val: CE: 0.088191, MSE: 0.000950, loss: 0.079467\n",
      "val Acc: 0.9762\n",
      "val Bal. Acc: 0.9762\n",
      "Total time: 2:22:32.450783\n",
      "Epoch time: 6m 29s\n",
      "\n",
      "\n",
      "----------\n",
      "Epoch 22/49\n",
      "LR 1.25e-05\n",
      "[[7.500e+03 0.000e+00]\n",
      " [2.000e+00 7.498e+03]]\n",
      "train: CE: 0.001398, MSE: 0.000849, loss: 0.001343\n",
      "train Acc: 0.9999\n",
      "train Bal. Acc: 0.9999\n"
     ]
    },
    {
     "name": "stderr",
     "output_type": "stream",
     "text": [
      "\r",
      "num_epochs:  46%|█████████████████████████████▉                                   | 23/50 [2:29:01<2:54:54, 388.68s/it]"
     ]
    },
    {
     "name": "stdout",
     "output_type": "stream",
     "text": [
      "[[2427.   73.]\n",
      " [  43. 2457.]]\n",
      "val: CE: 0.082034, MSE: 0.000946, loss: 0.073926\n",
      "val Acc: 0.9768\n",
      "val Bal. Acc: 0.9768\n",
      "saving best model\n",
      "Total time: 2:29:01.475685\n",
      "Epoch time: 6m 29s\n",
      "\n",
      "\n",
      "----------\n",
      "Epoch 23/49\n",
      "LR 1.25e-05\n",
      "[[7.493e+03 7.000e+00]\n",
      " [6.000e+00 7.494e+03]]\n",
      "train: CE: 0.002402, MSE: 0.000846, loss: 0.002247\n",
      "train Acc: 0.9991\n",
      "train Bal. Acc: 0.9991\n"
     ]
    },
    {
     "name": "stderr",
     "output_type": "stream",
     "text": [
      "\r",
      "num_epochs:  48%|███████████████████████████████▏                                 | 24/50 [2:35:30<2:48:29, 388.82s/it]"
     ]
    },
    {
     "name": "stdout",
     "output_type": "stream",
     "text": [
      "[[2408.   92.]\n",
      " [  31. 2469.]]\n",
      "val: CE: 0.093675, MSE: 0.000943, loss: 0.084402\n",
      "val Acc: 0.9754\n",
      "val Bal. Acc: 0.9754\n",
      "Total time: 2:35:30.594709\n",
      "Epoch time: 6m 29s\n",
      "\n",
      "\n",
      "----------\n",
      "Epoch 24/49\n",
      "LR 1.25e-05\n",
      "[[7.494e+03 6.000e+00]\n",
      " [3.000e+00 7.497e+03]]\n",
      "train: CE: 0.002209, MSE: 0.000842, loss: 0.002072\n",
      "train Acc: 0.9994\n",
      "train Bal. Acc: 0.9994\n"
     ]
    },
    {
     "name": "stderr",
     "output_type": "stream",
     "text": [
      "\r",
      "num_epochs:  50%|████████████████████████████████▌                                | 25/50 [2:41:59<2:41:58, 388.73s/it]"
     ]
    },
    {
     "name": "stdout",
     "output_type": "stream",
     "text": [
      "[[2391.  109.]\n",
      " [  28. 2472.]]\n",
      "val: CE: 0.104935, MSE: 0.000940, loss: 0.094535\n",
      "val Acc: 0.9726\n",
      "val Bal. Acc: 0.9726\n",
      "Total time: 2:41:59.122977\n",
      "Epoch time: 6m 29s\n",
      "\n",
      "\n",
      "----------\n",
      "Epoch 25/49\n",
      "LR 1.25e-05\n",
      "[[7.498e+03 2.000e+00]\n",
      " [4.000e+00 7.496e+03]]\n",
      "train: CE: 0.001813, MSE: 0.000839, loss: 0.001716\n",
      "train Acc: 0.9996\n",
      "train Bal. Acc: 0.9996\n"
     ]
    },
    {
     "name": "stderr",
     "output_type": "stream",
     "text": [
      "\r",
      "num_epochs:  52%|█████████████████████████████████▊                               | 26/50 [2:48:27<2:35:28, 388.69s/it]"
     ]
    },
    {
     "name": "stdout",
     "output_type": "stream",
     "text": [
      "[[2465.   35.]\n",
      " [  80. 2420.]]\n",
      "val: CE: 0.099582, MSE: 0.000937, loss: 0.089718\n",
      "val Acc: 0.9770\n",
      "val Bal. Acc: 0.9770\n",
      "saving best model\n",
      "Total time: 2:48:27.705773\n",
      "Epoch time: 6m 29s\n",
      "\n",
      "\n",
      "----------\n",
      "Epoch 26/49\n",
      "LR 1.25e-05\n",
      "[[7.493e+03 7.000e+00]\n",
      " [3.000e+00 7.497e+03]]\n",
      "train: CE: 0.002163, MSE: 0.000837, loss: 0.002030\n",
      "train Acc: 0.9993\n",
      "train Bal. Acc: 0.9993\n"
     ]
    },
    {
     "name": "stderr",
     "output_type": "stream",
     "text": [
      "\r",
      "num_epochs:  54%|███████████████████████████████████                              | 27/50 [2:54:55<2:28:56, 388.54s/it]"
     ]
    },
    {
     "name": "stdout",
     "output_type": "stream",
     "text": [
      "[[2423.   77.]\n",
      " [  39. 2461.]]\n",
      "val: CE: 0.092388, MSE: 0.000934, loss: 0.083242\n",
      "val Acc: 0.9768\n",
      "val Bal. Acc: 0.9768\n",
      "Epoch    22: reducing learning rate of group 0 to 6.2500e-06.\n",
      "Total time: 2:54:55.902756\n",
      "Epoch time: 6m 28s\n",
      "\n",
      "\n",
      "----------\n",
      "Epoch 27/49\n",
      "LR 6.25e-06\n",
      "[[7.498e+03 2.000e+00]\n",
      " [0.000e+00 7.500e+03]]\n",
      "train: CE: 0.000929, MSE: 0.000834, loss: 0.000920\n",
      "train Acc: 0.9999\n",
      "train Bal. Acc: 0.9999\n"
     ]
    },
    {
     "name": "stderr",
     "output_type": "stream",
     "text": [
      "\r",
      "num_epochs:  56%|████████████████████████████████████▍                            | 28/50 [3:01:23<2:22:23, 388.34s/it]"
     ]
    },
    {
     "name": "stdout",
     "output_type": "stream",
     "text": [
      "[[2413.   87.]\n",
      " [  31. 2469.]]\n",
      "val: CE: 0.090721, MSE: 0.000932, loss: 0.081742\n",
      "val Acc: 0.9764\n",
      "val Bal. Acc: 0.9764\n",
      "Total time: 3:01:23.776295\n",
      "Epoch time: 6m 28s\n",
      "\n",
      "\n",
      "----------\n",
      "Epoch 28/49\n",
      "LR 6.25e-06\n",
      "[[7500.    0.]\n",
      " [   0. 7500.]]\n",
      "train: CE: 0.000567, MSE: 0.000833, loss: 0.000593\n",
      "train Acc: 1.0000\n",
      "train Bal. Acc: 1.0000\n"
     ]
    },
    {
     "name": "stderr",
     "output_type": "stream",
     "text": [
      "\r",
      "num_epochs:  58%|█████████████████████████████████████▋                           | 29/50 [3:07:52<2:15:57, 388.47s/it]"
     ]
    },
    {
     "name": "stdout",
     "output_type": "stream",
     "text": [
      "[[2438.   62.]\n",
      " [  43. 2457.]]\n",
      "val: CE: 0.082250, MSE: 0.000931, loss: 0.074118\n",
      "val Acc: 0.9790\n",
      "val Bal. Acc: 0.9790\n",
      "saving best model\n",
      "Total time: 3:07:52.554220\n",
      "Epoch time: 6m 29s\n",
      "\n",
      "\n",
      "----------\n",
      "Epoch 29/49\n",
      "LR 6.25e-06\n",
      "[[7.499e+03 1.000e+00]\n",
      " [0.000e+00 7.500e+03]]\n",
      "train: CE: 0.000752, MSE: 0.000831, loss: 0.000760\n",
      "train Acc: 0.9999\n",
      "train Bal. Acc: 0.9999\n"
     ]
    },
    {
     "name": "stderr",
     "output_type": "stream",
     "text": [
      "\r",
      "num_epochs:  60%|███████████████████████████████████████                          | 30/50 [3:14:21<2:09:29, 388.49s/it]"
     ]
    },
    {
     "name": "stdout",
     "output_type": "stream",
     "text": [
      "[[2430.   70.]\n",
      " [  41. 2459.]]\n",
      "val: CE: 0.085456, MSE: 0.000929, loss: 0.077003\n",
      "val Acc: 0.9778\n",
      "val Bal. Acc: 0.9778\n",
      "Total time: 3:14:21.105608\n",
      "Epoch time: 6m 29s\n",
      "\n",
      "\n",
      "----------\n",
      "Epoch 30/49\n",
      "LR 6.25e-06\n",
      "[[7.500e+03 0.000e+00]\n",
      " [1.000e+00 7.499e+03]]\n",
      "train: CE: 0.001075, MSE: 0.000830, loss: 0.001051\n",
      "train Acc: 0.9999\n",
      "train Bal. Acc: 0.9999\n"
     ]
    },
    {
     "name": "stderr",
     "output_type": "stream",
     "text": [
      "\r",
      "num_epochs:  62%|████████████████████████████████████████▎                        | 31/50 [3:20:49<2:03:02, 388.54s/it]"
     ]
    },
    {
     "name": "stdout",
     "output_type": "stream",
     "text": [
      "[[2435.   65.]\n",
      " [  44. 2456.]]\n",
      "val: CE: 0.085462, MSE: 0.000928, loss: 0.077008\n",
      "val Acc: 0.9782\n",
      "val Bal. Acc: 0.9782\n",
      "Total time: 3:20:49.736009\n",
      "Epoch time: 6m 29s\n",
      "\n",
      "\n",
      "----------\n",
      "Epoch 31/49\n",
      "LR 6.25e-06\n",
      "[[7500.    0.]\n",
      " [   0. 7500.]]\n",
      "train: CE: 0.000483, MSE: 0.000829, loss: 0.000517\n",
      "train Acc: 1.0000\n",
      "train Bal. Acc: 1.0000\n"
     ]
    },
    {
     "name": "stderr",
     "output_type": "stream",
     "text": [
      "\r",
      "num_epochs:  64%|█████████████████████████████████████████▌                       | 32/50 [3:27:18<1:56:35, 388.63s/it]"
     ]
    },
    {
     "name": "stdout",
     "output_type": "stream",
     "text": [
      "[[2417.   83.]\n",
      " [  33. 2467.]]\n",
      "val: CE: 0.087115, MSE: 0.000926, loss: 0.078496\n",
      "val Acc: 0.9768\n",
      "val Bal. Acc: 0.9768\n",
      "Total time: 3:27:18.602346\n",
      "Epoch time: 6m 29s\n",
      "\n",
      "\n",
      "----------\n",
      "Epoch 32/49\n",
      "LR 6.25e-06\n",
      "[[7.500e+03 0.000e+00]\n",
      " [2.000e+00 7.498e+03]]\n",
      "train: CE: 0.000557, MSE: 0.000827, loss: 0.000584\n",
      "train Acc: 0.9999\n",
      "train Bal. Acc: 0.9999\n"
     ]
    },
    {
     "name": "stderr",
     "output_type": "stream",
     "text": [
      "\r",
      "num_epochs:  66%|██████████████████████████████████████████▉                      | 33/50 [3:33:47<1:50:06, 388.63s/it]"
     ]
    },
    {
     "name": "stdout",
     "output_type": "stream",
     "text": [
      "[[2415.   85.]\n",
      " [  31. 2469.]]\n",
      "val: CE: 0.089228, MSE: 0.000925, loss: 0.080398\n",
      "val Acc: 0.9768\n",
      "val Bal. Acc: 0.9768\n",
      "Total time: 3:33:47.237374\n",
      "Epoch time: 6m 29s\n",
      "\n",
      "\n",
      "----------\n",
      "Epoch 33/49\n",
      "LR 6.25e-06\n",
      "[[7500.    0.]\n",
      " [   0. 7500.]]\n",
      "train: CE: 0.000376, MSE: 0.000826, loss: 0.000421\n",
      "train Acc: 1.0000\n",
      "train Bal. Acc: 1.0000\n"
     ]
    },
    {
     "name": "stderr",
     "output_type": "stream",
     "text": [
      "\r",
      "num_epochs:  68%|████████████████████████████████████████████▏                    | 34/50 [3:40:15<1:43:36, 388.55s/it]"
     ]
    },
    {
     "name": "stdout",
     "output_type": "stream",
     "text": [
      "[[2436.   64.]\n",
      " [  40. 2460.]]\n",
      "val: CE: 0.082280, MSE: 0.000923, loss: 0.074145\n",
      "val Acc: 0.9792\n",
      "val Bal. Acc: 0.9792\n",
      "saving best model\n",
      "Epoch    29: reducing learning rate of group 0 to 3.1250e-06.\n",
      "Total time: 3:40:15.597915\n",
      "Epoch time: 6m 28s\n",
      "\n",
      "\n",
      "----------\n",
      "Epoch 34/49\n",
      "LR 3.125e-06\n",
      "[[7.499e+03 1.000e+00]\n",
      " [1.000e+00 7.499e+03]]\n",
      "train: CE: 0.000587, MSE: 0.000825, loss: 0.000610\n",
      "train Acc: 0.9999\n",
      "train Bal. Acc: 0.9999\n"
     ]
    },
    {
     "name": "stderr",
     "output_type": "stream",
     "text": [
      "\r",
      "num_epochs:  70%|█████████████████████████████████████████████▌                   | 35/50 [3:46:44<1:37:08, 388.59s/it]"
     ]
    },
    {
     "name": "stdout",
     "output_type": "stream",
     "text": [
      "[[2427.   73.]\n",
      " [  33. 2467.]]\n",
      "val: CE: 0.086845, MSE: 0.000922, loss: 0.078253\n",
      "val Acc: 0.9788\n",
      "val Bal. Acc: 0.9788\n",
      "Total time: 3:46:44.289509\n",
      "Epoch time: 6m 29s\n",
      "\n",
      "\n",
      "----------\n",
      "Epoch 35/49\n",
      "LR 3.125e-06\n",
      "[[7.499e+03 1.000e+00]\n",
      " [0.000e+00 7.500e+03]]\n",
      "train: CE: 0.000561, MSE: 0.000824, loss: 0.000587\n",
      "train Acc: 0.9999\n",
      "train Bal. Acc: 0.9999\n"
     ]
    },
    {
     "name": "stderr",
     "output_type": "stream",
     "text": [
      "\r",
      "num_epochs:  72%|██████████████████████████████████████████████▊                  | 36/50 [3:53:12<1:30:38, 388.49s/it]"
     ]
    },
    {
     "name": "stdout",
     "output_type": "stream",
     "text": [
      "[[2444.   56.]\n",
      " [  43. 2457.]]\n",
      "val: CE: 0.084178, MSE: 0.000922, loss: 0.075852\n",
      "val Acc: 0.9802\n",
      "val Bal. Acc: 0.9802\n",
      "saving best model\n",
      "Total time: 3:53:12.547531\n",
      "Epoch time: 6m 28s\n",
      "\n",
      "\n",
      "----------\n",
      "Epoch 36/49\n",
      "LR 3.125e-06\n",
      "[[7.500e+03 0.000e+00]\n",
      " [2.000e+00 7.498e+03]]\n",
      "train: CE: 0.000635, MSE: 0.000823, loss: 0.000654\n",
      "train Acc: 0.9999\n",
      "train Bal. Acc: 0.9999\n"
     ]
    },
    {
     "name": "stderr",
     "output_type": "stream",
     "text": [
      "\r",
      "num_epochs:  74%|████████████████████████████████████████████████                 | 37/50 [3:59:40<1:24:09, 388.43s/it]"
     ]
    },
    {
     "name": "stdout",
     "output_type": "stream",
     "text": [
      "[[2436.   64.]\n",
      " [  39. 2461.]]\n",
      "val: CE: 0.082329, MSE: 0.000921, loss: 0.074188\n",
      "val Acc: 0.9794\n",
      "val Bal. Acc: 0.9794\n",
      "Total time: 3:59:40.844599\n",
      "Epoch time: 6m 28s\n",
      "\n",
      "\n",
      "----------\n",
      "Epoch 37/49\n",
      "LR 3.125e-06\n",
      "[[7.496e+03 4.000e+00]\n",
      " [2.000e+00 7.498e+03]]\n",
      "train: CE: 0.001405, MSE: 0.000822, loss: 0.001347\n",
      "train Acc: 0.9996\n",
      "train Bal. Acc: 0.9996\n"
     ]
    },
    {
     "name": "stderr",
     "output_type": "stream",
     "text": [
      "\r",
      "num_epochs:  76%|█████████████████████████████████████████████████▍               | 38/50 [4:06:08<1:17:39, 388.33s/it]"
     ]
    },
    {
     "name": "stdout",
     "output_type": "stream",
     "text": [
      "[[2437.   63.]\n",
      " [  48. 2452.]]\n",
      "val: CE: 0.088891, MSE: 0.000920, loss: 0.080094\n",
      "val Acc: 0.9778\n",
      "val Bal. Acc: 0.9778\n",
      "Total time: 4:06:08.935957\n",
      "Epoch time: 6m 28s\n",
      "\n",
      "\n",
      "----------\n",
      "Epoch 38/49\n",
      "LR 3.125e-06\n",
      "[[7500.    0.]\n",
      " [   0. 7500.]]\n",
      "train: CE: 0.000491, MSE: 0.000822, loss: 0.000524\n",
      "train Acc: 1.0000\n",
      "train Bal. Acc: 1.0000\n"
     ]
    },
    {
     "name": "stderr",
     "output_type": "stream",
     "text": [
      "\r",
      "num_epochs:  78%|██████████████████████████████████████████████████▋              | 39/50 [4:12:37<1:11:10, 388.26s/it]"
     ]
    },
    {
     "name": "stdout",
     "output_type": "stream",
     "text": [
      "[[2417.   83.]\n",
      " [  32. 2468.]]\n",
      "val: CE: 0.090781, MSE: 0.000920, loss: 0.081795\n",
      "val Acc: 0.9770\n",
      "val Bal. Acc: 0.9770\n",
      "Total time: 4:12:37.013918\n",
      "Epoch time: 6m 28s\n",
      "\n",
      "\n",
      "----------\n",
      "Epoch 39/49\n",
      "LR 3.125e-06\n",
      "[[7500.    0.]\n",
      " [   0. 7500.]]\n",
      "train: CE: 0.000723, MSE: 0.000821, loss: 0.000733\n",
      "train Acc: 1.0000\n",
      "train Bal. Acc: 1.0000\n"
     ]
    },
    {
     "name": "stderr",
     "output_type": "stream",
     "text": [
      "\r",
      "num_epochs:  80%|████████████████████████████████████████████████████             | 40/50 [4:19:05<1:04:43, 388.33s/it]"
     ]
    },
    {
     "name": "stdout",
     "output_type": "stream",
     "text": [
      "[[2433.   67.]\n",
      " [  41. 2459.]]\n",
      "val: CE: 0.086988, MSE: 0.000919, loss: 0.078381\n",
      "val Acc: 0.9784\n",
      "val Bal. Acc: 0.9784\n",
      "Total time: 4:19:05.505233\n",
      "Epoch time: 6m 28s\n",
      "\n",
      "\n",
      "----------\n",
      "Epoch 40/49\n",
      "LR 3.125e-06\n",
      "[[7500.    0.]\n",
      " [   0. 7500.]]\n",
      "train: CE: 0.000430, MSE: 0.000820, loss: 0.000469\n",
      "train Acc: 1.0000\n",
      "train Bal. Acc: 1.0000\n"
     ]
    },
    {
     "name": "stderr",
     "output_type": "stream",
     "text": [
      "\r",
      "num_epochs:  82%|██████████████████████████████████████████████████████▉            | 41/50 [4:25:33<58:14, 388.28s/it]"
     ]
    },
    {
     "name": "stdout",
     "output_type": "stream",
     "text": [
      "[[2431.   69.]\n",
      " [  36. 2464.]]\n",
      "val: CE: 0.084496, MSE: 0.000918, loss: 0.076139\n",
      "val Acc: 0.9790\n",
      "val Bal. Acc: 0.9790\n",
      "Epoch    36: reducing learning rate of group 0 to 1.5625e-06.\n",
      "Total time: 4:25:33.676939\n",
      "Epoch time: 6m 28s\n",
      "\n",
      "\n",
      "----------\n",
      "Epoch 41/49\n",
      "LR 1.5625e-06\n",
      "[[7500.    0.]\n",
      " [   0. 7500.]]\n",
      "train: CE: 0.000349, MSE: 0.000820, loss: 0.000396\n",
      "train Acc: 1.0000\n",
      "train Bal. Acc: 1.0000\n"
     ]
    },
    {
     "name": "stderr",
     "output_type": "stream",
     "text": [
      "\r",
      "num_epochs:  84%|████████████████████████████████████████████████████████▎          | 42/50 [4:32:02<51:46, 388.30s/it]"
     ]
    },
    {
     "name": "stdout",
     "output_type": "stream",
     "text": [
      "[[2410.   90.]\n",
      " [  31. 2469.]]\n",
      "val: CE: 0.090489, MSE: 0.000918, loss: 0.081532\n",
      "val Acc: 0.9758\n",
      "val Bal. Acc: 0.9758\n",
      "Total time: 4:32:02.030736\n",
      "Epoch time: 6m 28s\n",
      "\n",
      "\n",
      "----------\n",
      "Epoch 42/49\n",
      "LR 1.5625e-06\n",
      "[[7500.    0.]\n",
      " [   0. 7500.]]\n",
      "train: CE: 0.000328, MSE: 0.000819, loss: 0.000377\n",
      "train Acc: 1.0000\n",
      "train Bal. Acc: 1.0000\n"
     ]
    },
    {
     "name": "stderr",
     "output_type": "stream",
     "text": [
      "\r",
      "num_epochs:  86%|█████████████████████████████████████████████████████████▌         | 43/50 [4:38:30<45:19, 388.46s/it]"
     ]
    },
    {
     "name": "stdout",
     "output_type": "stream",
     "text": [
      "[[2439.   61.]\n",
      " [  42. 2458.]]\n",
      "val: CE: 0.083478, MSE: 0.000917, loss: 0.075222\n",
      "val Acc: 0.9794\n",
      "val Bal. Acc: 0.9794\n",
      "Total time: 4:38:30.864510\n",
      "Epoch time: 6m 29s\n",
      "\n",
      "\n",
      "----------\n",
      "Epoch 43/49\n",
      "LR 1.5625e-06\n",
      "[[7.500e+03 0.000e+00]\n",
      " [1.000e+00 7.499e+03]]\n",
      "train: CE: 0.000520, MSE: 0.000819, loss: 0.000550\n",
      "train Acc: 0.9999\n",
      "train Bal. Acc: 0.9999\n"
     ]
    },
    {
     "name": "stderr",
     "output_type": "stream",
     "text": [
      "\r",
      "num_epochs:  88%|██████████████████████████████████████████████████████████▉        | 44/50 [4:44:59<38:50, 388.48s/it]"
     ]
    },
    {
     "name": "stdout",
     "output_type": "stream",
     "text": [
      "[[2418.   82.]\n",
      " [  32. 2468.]]\n",
      "val: CE: 0.089630, MSE: 0.000917, loss: 0.080759\n",
      "val Acc: 0.9772\n",
      "val Bal. Acc: 0.9772\n",
      "Total time: 4:44:59.388894\n",
      "Epoch time: 6m 29s\n",
      "\n",
      "\n",
      "----------\n",
      "Epoch 44/49\n",
      "LR 1.5625e-06\n",
      "[[7500.    0.]\n",
      " [   0. 7500.]]\n",
      "train: CE: 0.000390, MSE: 0.000819, loss: 0.000433\n",
      "train Acc: 1.0000\n",
      "train Bal. Acc: 1.0000\n"
     ]
    },
    {
     "name": "stderr",
     "output_type": "stream",
     "text": [
      "\r",
      "num_epochs:  90%|████████████████████████████████████████████████████████████▎      | 45/50 [4:51:27<32:22, 388.40s/it]"
     ]
    },
    {
     "name": "stdout",
     "output_type": "stream",
     "text": [
      "[[2407.   93.]\n",
      " [  30. 2470.]]\n",
      "val: CE: 0.094863, MSE: 0.000917, loss: 0.085469\n",
      "val Acc: 0.9754\n",
      "val Bal. Acc: 0.9754\n",
      "Total time: 4:51:27.612857\n",
      "Epoch time: 6m 28s\n",
      "\n",
      "\n",
      "----------\n",
      "Epoch 45/49\n",
      "LR 1.5625e-06\n",
      "[[7500.    0.]\n",
      " [   0. 7500.]]\n",
      "train: CE: 0.000324, MSE: 0.000818, loss: 0.000373\n",
      "train Acc: 1.0000\n",
      "train Bal. Acc: 1.0000\n"
     ]
    },
    {
     "name": "stderr",
     "output_type": "stream",
     "text": [
      "\r",
      "num_epochs:  92%|█████████████████████████████████████████████████████████████▋     | 46/50 [4:57:55<25:53, 388.30s/it]"
     ]
    },
    {
     "name": "stdout",
     "output_type": "stream",
     "text": [
      "[[2417.   83.]\n",
      " [  33. 2467.]]\n",
      "val: CE: 0.089801, MSE: 0.000916, loss: 0.080912\n",
      "val Acc: 0.9768\n",
      "val Bal. Acc: 0.9768\n",
      "Total time: 4:57:55.654946\n",
      "Epoch time: 6m 28s\n",
      "\n",
      "\n",
      "----------\n",
      "Epoch 46/49\n",
      "LR 1.5625e-06\n",
      "[[7.500e+03 0.000e+00]\n",
      " [1.000e+00 7.499e+03]]\n",
      "train: CE: 0.000573, MSE: 0.000818, loss: 0.000598\n",
      "train Acc: 0.9999\n",
      "train Bal. Acc: 0.9999\n"
     ]
    },
    {
     "name": "stderr",
     "output_type": "stream",
     "text": [
      "\r",
      "num_epochs:  94%|██████████████████████████████████████████████████████████████▉    | 47/50 [5:04:23<19:24, 388.14s/it]"
     ]
    },
    {
     "name": "stdout",
     "output_type": "stream",
     "text": [
      "[[2418.   82.]\n",
      " [  33. 2467.]]\n",
      "val: CE: 0.090413, MSE: 0.000916, loss: 0.081463\n",
      "val Acc: 0.9770\n",
      "val Bal. Acc: 0.9770\n",
      "Total time: 5:04:23.449074\n",
      "Epoch time: 6m 28s\n",
      "\n",
      "\n",
      "----------\n",
      "Epoch 47/49\n",
      "LR 1.5625e-06\n",
      "[[7500.    0.]\n",
      " [   0. 7500.]]\n",
      "train: CE: 0.000268, MSE: 0.000817, loss: 0.000323\n",
      "train Acc: 1.0000\n",
      "train Bal. Acc: 1.0000\n"
     ]
    },
    {
     "name": "stderr",
     "output_type": "stream",
     "text": [
      "\r",
      "num_epochs:  96%|████████████████████████████████████████████████████████████████▎  | 48/50 [5:10:51<12:56, 388.16s/it]"
     ]
    },
    {
     "name": "stdout",
     "output_type": "stream",
     "text": [
      "[[2435.   65.]\n",
      " [  41. 2459.]]\n",
      "val: CE: 0.084629, MSE: 0.000915, loss: 0.076257\n",
      "val Acc: 0.9788\n",
      "val Bal. Acc: 0.9788\n",
      "Epoch    43: reducing learning rate of group 0 to 7.8125e-07.\n",
      "Total time: 5:10:51.658562\n",
      "Epoch time: 6m 28s\n",
      "\n",
      "\n",
      "----------\n",
      "Epoch 48/49\n",
      "LR 7.8125e-07\n",
      "[[7500.    0.]\n",
      " [   0. 7500.]]\n",
      "train: CE: 0.000277, MSE: 0.000817, loss: 0.000331\n",
      "train Acc: 1.0000\n",
      "train Bal. Acc: 1.0000\n"
     ]
    },
    {
     "name": "stderr",
     "output_type": "stream",
     "text": [
      "\r",
      "num_epochs:  98%|█████████████████████████████████████████████████████████████████▋ | 49/50 [5:17:19<06:28, 388.06s/it]"
     ]
    },
    {
     "name": "stdout",
     "output_type": "stream",
     "text": [
      "[[2424.   76.]\n",
      " [  36. 2464.]]\n",
      "val: CE: 0.088547, MSE: 0.000915, loss: 0.079784\n",
      "val Acc: 0.9776\n",
      "val Bal. Acc: 0.9776\n",
      "Total time: 5:17:19.487453\n",
      "Epoch time: 6m 28s\n",
      "\n",
      "\n",
      "----------\n",
      "Epoch 49/49\n",
      "LR 7.8125e-07\n",
      "[[7500.    0.]\n",
      " [   0. 7500.]]\n",
      "train: CE: 0.000298, MSE: 0.000817, loss: 0.000350\n",
      "train Acc: 1.0000\n",
      "train Bal. Acc: 1.0000\n"
     ]
    },
    {
     "name": "stderr",
     "output_type": "stream",
     "text": [
      "num_epochs: 100%|███████████████████████████████████████████████████████████████████| 50/50 [5:23:47<00:00, 388.56s/it]"
     ]
    },
    {
     "name": "stdout",
     "output_type": "stream",
     "text": [
      "[[2427.   73.]\n",
      " [  37. 2463.]]\n",
      "val: CE: 0.085804, MSE: 0.000915, loss: 0.077315\n",
      "val Acc: 0.9780\n",
      "val Bal. Acc: 0.9780\n",
      "Total time: 5:23:47.917950\n",
      "Epoch time: 6m 28s\n",
      "Best val loss: 0.075852\n",
      "Best val acc: 0.980200\n",
      "50\n"
     ]
    },
    {
     "name": "stderr",
     "output_type": "stream",
     "text": [
      "\n"
     ]
    },
    {
     "data": {
      "image/png": "[encoded data removed]",
      "text/plain": [
       "<Figure size 432x288 with 1 Axes>"
      ]
     },
     "metadata": {
      "needs_background": "light"
     },
     "output_type": "display_data"
    },
    {
     "name": "stdout",
     "output_type": "stream",
     "text": [
      "50\n"
     ]
    },
    {
     "data": {
      "image/png": "[encoded data removed]",
      "text/plain": [
       "<Figure size 432x288 with 1 Axes>"
      ]
     },
     "metadata": {
      "needs_background": "light"
     },
     "output_type": "display_data"
    },
    {
     "data": {
      "image/png": "[encoded data removed]",
      "text/plain": [
       "<Figure size 432x288 with 1 Axes>"
      ]
     },
     "metadata": {
      "needs_background": "light"
     },
     "output_type": "display_data"
    },
    {
     "name": "stdout",
     "output_type": "stream",
     "text": [
      "tensor([[2444.,   56.],\n",
      "        [  43., 2457.]])\n",
      "[2487. 2513.]\n",
      "[[0.9776 0.0224]\n",
      " [0.0172 0.9828]]\n",
      "\n",
      "\n",
      "\n",
      "Fold- 2 : Initializing Datasets and Dataloaders...\n"
     ]
    },
    {
     "name": "stderr",
     "output_type": "stream",
     "text": [
      "\r",
      "num_epochs:   0%|                                                                               | 0/50 [00:00<?, ?it/s]"
     ]
    },
    {
     "name": "stdout",
     "output_type": "stream",
     "text": [
      "\n",
      "\n",
      "----------\n",
      "Epoch 0/49\n",
      "LR 1e-05\n",
      "[[4711. 2789.]\n",
      " [2216. 5284.]]\n",
      "train: CE: 0.595763, MSE: 0.116978, loss: 0.547884\n",
      "train Acc: 0.6663\n",
      "train Bal. Acc: 0.6663\n"
     ]
    },
    {
     "name": "stderr",
     "output_type": "stream",
     "text": [
      "\r",
      "num_epochs:   2%|█▎                                                                  | 1/50 [06:27<5:16:47, 387.91s/it]"
     ]
    },
    {
     "name": "stdout",
     "output_type": "stream",
     "text": [
      "[[ 650. 1850.]\n",
      " [   5. 2495.]]\n",
      "val: CE: 0.713219, MSE: 0.107673, loss: 0.652664\n",
      "val Acc: 0.6290\n",
      "val Bal. Acc: 0.6290\n",
      "saving best model\n",
      "Total time: 0:06:27.910888\n",
      "Epoch time: 6m 28s\n",
      "\n",
      "\n",
      "----------\n",
      "Epoch 1/49\n",
      "LR 1e-05\n",
      "[[6261. 1239.]\n",
      " [1196. 6304.]]\n",
      "train: CE: 0.363496, MSE: 0.054743, loss: 0.332621\n",
      "train Acc: 0.8377\n",
      "train Bal. Acc: 0.8377\n"
     ]
    },
    {
     "name": "stderr",
     "output_type": "stream",
     "text": [
      "\r",
      "num_epochs:   4%|██▋                                                                 | 2/50 [12:56<5:10:35, 388.23s/it]"
     ]
    },
    {
     "name": "stdout",
     "output_type": "stream",
     "text": [
      "[[ 711. 1789.]\n",
      " [   0. 2500.]]\n",
      "val: CE: 0.706753, MSE: 0.009898, loss: 0.637068\n",
      "val Acc: 0.6422\n",
      "val Bal. Acc: 0.6422\n",
      "saving best model\n",
      "Total time: 0:12:56.369579\n",
      "Epoch time: 6m 28s\n",
      "\n",
      "\n",
      "----------\n",
      "Epoch 2/49\n",
      "LR 1e-05\n",
      "[[6753.  747.]\n",
      " [ 527. 6973.]]\n",
      "train: CE: 0.224757, MSE: 0.008239, loss: 0.203105\n",
      "train Acc: 0.9151\n",
      "train Bal. Acc: 0.9151\n"
     ]
    },
    {
     "name": "stderr",
     "output_type": "stream",
     "text": [
      "\r",
      "num_epochs:   6%|████                                                                | 3/50 [19:25<5:04:20, 388.52s/it]"
     ]
    },
    {
     "name": "stdout",
     "output_type": "stream",
     "text": [
      "[[2461.   39.]\n",
      " [ 757. 1743.]]\n",
      "val: CE: 0.350238, MSE: 0.006951, loss: 0.315909\n",
      "val Acc: 0.8408\n",
      "val Bal. Acc: 0.8408\n",
      "saving best model\n",
      "Total time: 0:19:25.239998\n",
      "Epoch time: 6m 29s\n",
      "\n",
      "\n",
      "----------\n",
      "Epoch 3/49\n",
      "LR 1e-05\n",
      "[[6912.  588.]\n",
      " [ 343. 7157.]]\n",
      "train: CE: 0.166673, MSE: 0.005905, loss: 0.150597\n",
      "train Acc: 0.9379\n",
      "train Bal. Acc: 0.9379\n"
     ]
    },
    {
     "name": "stderr",
     "output_type": "stream",
     "text": [
      "\r",
      "num_epochs:   8%|█████▍                                                              | 4/50 [25:53<4:57:49, 388.46s/it]"
     ]
    },
    {
     "name": "stdout",
     "output_type": "stream",
     "text": [
      "[[2476.   24.]\n",
      " [ 813. 1687.]]\n",
      "val: CE: 0.411978, MSE: 0.003999, loss: 0.371180\n",
      "val Acc: 0.8326\n",
      "val Bal. Acc: 0.8326\n",
      "Total time: 0:25:53.602986\n",
      "Epoch time: 6m 28s\n",
      "\n",
      "\n",
      "----------\n",
      "Epoch 4/49\n",
      "LR 1e-05\n",
      "[[7047.  453.]\n",
      " [ 240. 7260.]]\n",
      "train: CE: 0.125892, MSE: 0.003517, loss: 0.113654\n",
      "train Acc: 0.9538\n",
      "train Bal. Acc: 0.9538\n"
     ]
    },
    {
     "name": "stderr",
     "output_type": "stream",
     "text": [
      "\r",
      "num_epochs:  10%|██████▊                                                             | 5/50 [32:22<4:51:24, 388.54s/it]"
     ]
    },
    {
     "name": "stdout",
     "output_type": "stream",
     "text": [
      "[[2471.   29.]\n",
      " [ 485. 2015.]]\n",
      "val: CE: 0.249166, MSE: 0.003102, loss: 0.224560\n",
      "val Acc: 0.8972\n",
      "val Bal. Acc: 0.8972\n",
      "saving best model\n",
      "Total time: 0:32:22.272369\n",
      "Epoch time: 6m 29s\n",
      "\n",
      "\n",
      "----------\n",
      "Epoch 5/49\n",
      "LR 5e-05\n",
      "[[6796.  704.]\n",
      " [ 360. 7140.]]\n",
      "train: CE: 0.186474, MSE: 0.003797, loss: 0.168206\n",
      "train Acc: 0.9291\n",
      "train Bal. Acc: 0.9291\n"
     ]
    },
    {
     "name": "stderr",
     "output_type": "stream",
     "text": [
      "\r",
      "num_epochs:  12%|████████▏                                                           | 6/50 [38:50<4:44:50, 388.42s/it]"
     ]
    },
    {
     "name": "stdout",
     "output_type": "stream",
     "text": [
      "[[1.550e+03 9.500e+02]\n",
      " [1.000e+00 2.499e+03]]\n",
      "val: CE: 0.630312, MSE: 0.003362, loss: 0.567617\n",
      "val Acc: 0.8098\n",
      "val Bal. Acc: 0.8098\n",
      "Total time: 0:38:50.462671\n",
      "Epoch time: 6m 28s\n",
      "\n",
      "\n",
      "----------\n",
      "Epoch 6/49\n",
      "LR 5e-05\n",
      "[[7054.  446.]\n",
      " [ 222. 7278.]]\n",
      "train: CE: 0.114286, MSE: 0.002735, loss: 0.103131\n",
      "train Acc: 0.9555\n",
      "train Bal. Acc: 0.9555\n"
     ]
    },
    {
     "name": "stderr",
     "output_type": "stream",
     "text": [
      "\r",
      "num_epochs:  14%|█████████▌                                                          | 7/50 [45:18<4:38:13, 388.23s/it]"
     ]
    },
    {
     "name": "stdout",
     "output_type": "stream",
     "text": [
      "[[  62. 2438.]\n",
      " [   0. 2500.]]\n",
      "val: CE: 2.320266, MSE: 0.002249, loss: 2.088465\n",
      "val Acc: 0.5124\n",
      "val Bal. Acc: 0.5124\n",
      "Total time: 0:45:18.306017\n",
      "Epoch time: 6m 28s\n",
      "\n",
      "\n",
      "----------\n",
      "Epoch 7/49\n",
      "LR 5e-05\n",
      "[[7134.  366.]\n",
      " [ 184. 7316.]]\n",
      "train: CE: 0.094116, MSE: 0.002163, loss: 0.084920\n",
      "train Acc: 0.9633\n",
      "train Bal. Acc: 0.9633\n"
     ]
    },
    {
     "name": "stderr",
     "output_type": "stream",
     "text": [
      "\r",
      "num_epochs:  16%|██████████▉                                                         | 8/50 [51:46<4:31:48, 388.29s/it]"
     ]
    },
    {
     "name": "stdout",
     "output_type": "stream",
     "text": [
      "[[ 521. 1979.]\n",
      " [   0. 2500.]]\n",
      "val: CE: 1.885725, MSE: 0.001735, loss: 1.697326\n",
      "val Acc: 0.6042\n",
      "val Bal. Acc: 0.6042\n",
      "Total time: 0:51:46.728167\n",
      "Epoch time: 6m 28s\n",
      "\n",
      "\n",
      "----------\n",
      "Epoch 8/49\n",
      "LR 5e-05\n",
      "[[7238.  262.]\n",
      " [ 144. 7356.]]\n",
      "train: CE: 0.070057, MSE: 0.001557, loss: 0.063207\n",
      "train Acc: 0.9729\n",
      "train Bal. Acc: 0.9729\n"
     ]
    },
    {
     "name": "stderr",
     "output_type": "stream",
     "text": [
      "\r",
      "num_epochs:  18%|████████████▏                                                       | 9/50 [58:15<4:25:24, 388.41s/it]"
     ]
    },
    {
     "name": "stdout",
     "output_type": "stream",
     "text": [
      "[[2466.   34.]\n",
      " [ 193. 2307.]]\n",
      "val: CE: 0.125746, MSE: 0.001267, loss: 0.113298\n",
      "val Acc: 0.9546\n",
      "val Bal. Acc: 0.9546\n",
      "saving best model\n",
      "Total time: 0:58:15.393660\n",
      "Epoch time: 6m 29s\n",
      "\n",
      "\n",
      "----------\n",
      "Epoch 9/49\n",
      "LR 5e-05\n",
      "[[7289.  211.]\n",
      " [ 112. 7388.]]\n",
      "train: CE: 0.056794, MSE: 0.001277, loss: 0.051243\n",
      "train Acc: 0.9785\n",
      "train Bal. Acc: 0.9785\n"
     ]
    },
    {
     "name": "stderr",
     "output_type": "stream",
     "text": [
      "\r",
      "num_epochs:  20%|█████████████                                                    | 10/50 [1:04:43<4:18:53, 388.35s/it]"
     ]
    },
    {
     "name": "stdout",
     "output_type": "stream",
     "text": [
      "[[2422.   78.]\n",
      " [  51. 2449.]]\n",
      "val: CE: 0.070456, MSE: 0.001151, loss: 0.063525\n",
      "val Acc: 0.9742\n",
      "val Bal. Acc: 0.9742\n",
      "saving best model\n",
      "Total time: 1:04:43.612742\n",
      "Epoch time: 6m 28s\n",
      "\n",
      "\n",
      "----------\n",
      "Epoch 10/49\n",
      "LR 5e-05\n",
      "[[7333.  167.]\n",
      " [  98. 7402.]]\n",
      "train: CE: 0.048046, MSE: 0.001210, loss: 0.043363\n",
      "train Acc: 0.9823\n",
      "train Bal. Acc: 0.9823\n"
     ]
    },
    {
     "name": "stderr",
     "output_type": "stream",
     "text": [
      "\r",
      "num_epochs:  22%|██████████████▎                                                  | 11/50 [1:11:12<4:12:27, 388.40s/it]"
     ]
    },
    {
     "name": "stdout",
     "output_type": "stream",
     "text": [
      "[[2018.  482.]\n",
      " [   0. 2500.]]\n",
      "val: CE: 0.341938, MSE: 0.001132, loss: 0.307858\n",
      "val Acc: 0.9036\n",
      "val Bal. Acc: 0.9036\n",
      "Total time: 1:11:12.111333\n",
      "Epoch time: 6m 28s\n",
      "\n",
      "\n",
      "----------\n",
      "Epoch 11/49\n",
      "LR 5e-05\n",
      "[[7333.  167.]\n",
      " [ 114. 7386.]]\n",
      "train: CE: 0.047808, MSE: 0.001181, loss: 0.043145\n",
      "train Acc: 0.9813\n",
      "train Bal. Acc: 0.9813\n"
     ]
    },
    {
     "name": "stderr",
     "output_type": "stream",
     "text": [
      "\r",
      "num_epochs:  24%|███████████████▌                                                 | 12/50 [1:17:40<4:05:54, 388.28s/it]"
     ]
    },
    {
     "name": "stdout",
     "output_type": "stream",
     "text": [
      "[[1919.  581.]\n",
      " [   4. 2496.]]\n",
      "val: CE: 0.449178, MSE: 0.001101, loss: 0.404370\n",
      "val Acc: 0.8830\n",
      "val Bal. Acc: 0.8830\n",
      "Total time: 1:17:40.133887\n",
      "Epoch time: 6m 28s\n",
      "\n",
      "\n",
      "----------\n",
      "Epoch 12/49\n",
      "LR 5e-05\n",
      "[[7292.  208.]\n",
      " [ 116. 7384.]]\n",
      "train: CE: 0.054064, MSE: 0.001240, loss: 0.048782\n",
      "train Acc: 0.9784\n",
      "train Bal. Acc: 0.9784\n"
     ]
    },
    {
     "name": "stderr",
     "output_type": "stream",
     "text": [
      "\r",
      "num_epochs:  26%|████████████████▉                                                | 13/50 [1:24:10<3:59:45, 388.80s/it]"
     ]
    },
    {
     "name": "stdout",
     "output_type": "stream",
     "text": [
      "[[2386.  114.]\n",
      " [  15. 2485.]]\n",
      "val: CE: 0.081585, MSE: 0.001281, loss: 0.073555\n",
      "val Acc: 0.9742\n",
      "val Bal. Acc: 0.9742\n",
      "Total time: 1:24:10.133706\n",
      "Epoch time: 6m 30s\n",
      "\n",
      "\n",
      "----------\n",
      "Epoch 13/49\n",
      "LR 5e-05\n",
      "[[7368.  132.]\n",
      " [  80. 7420.]]\n",
      "train: CE: 0.037842, MSE: 0.001094, loss: 0.034168\n",
      "train Acc: 0.9859\n",
      "train Bal. Acc: 0.9859\n"
     ]
    },
    {
     "name": "stderr",
     "output_type": "stream",
     "text": [
      "\r",
      "num_epochs:  28%|██████████████████▏                                              | 14/50 [1:30:39<3:53:27, 389.11s/it]"
     ]
    },
    {
     "name": "stdout",
     "output_type": "stream",
     "text": [
      "[[2314.  186.]\n",
      " [  15. 2485.]]\n",
      "val: CE: 0.114317, MSE: 0.000987, loss: 0.102984\n",
      "val Acc: 0.9598\n",
      "val Bal. Acc: 0.9598\n",
      "Total time: 1:30:39.949921\n",
      "Epoch time: 6m 30s\n",
      "\n",
      "\n",
      "----------\n",
      "Epoch 14/49\n",
      "LR 5e-05\n",
      "[[7387.  113.]\n",
      " [  71. 7429.]]\n",
      "train: CE: 0.033395, MSE: 0.001051, loss: 0.030161\n",
      "train Acc: 0.9877\n",
      "train Bal. Acc: 0.9877\n"
     ]
    },
    {
     "name": "stderr",
     "output_type": "stream",
     "text": [
      "\r",
      "num_epochs:  30%|███████████████████▌                                             | 15/50 [1:37:09<3:47:08, 389.37s/it]"
     ]
    },
    {
     "name": "stdout",
     "output_type": "stream",
     "text": [
      "[[2464.   36.]\n",
      " [  84. 2416.]]\n",
      "val: CE: 0.079190, MSE: 0.001322, loss: 0.071403\n",
      "val Acc: 0.9760\n",
      "val Bal. Acc: 0.9760\n",
      "saving best model\n",
      "Epoch    10: reducing learning rate of group 0 to 2.5000e-05.\n",
      "Total time: 1:37:09.933490\n",
      "Epoch time: 6m 30s\n",
      "\n",
      "\n",
      "----------\n",
      "Epoch 15/49\n",
      "LR 2.5e-05\n",
      "[[7430.   70.]\n",
      " [  45. 7455.]]\n",
      "train: CE: 0.021808, MSE: 0.001094, loss: 0.019736\n",
      "train Acc: 0.9923\n",
      "train Bal. Acc: 0.9923\n"
     ]
    },
    {
     "name": "stderr",
     "output_type": "stream",
     "text": [
      "\r",
      "num_epochs:  32%|████████████████████▊                                            | 16/50 [1:43:38<3:40:27, 389.04s/it]"
     ]
    },
    {
     "name": "stdout",
     "output_type": "stream",
     "text": [
      "[[2468.   32.]\n",
      " [  97. 2403.]]\n",
      "val: CE: 0.077551, MSE: 0.000974, loss: 0.069893\n",
      "val Acc: 0.9742\n",
      "val Bal. Acc: 0.9742\n",
      "Total time: 1:43:38.209219\n",
      "Epoch time: 6m 28s\n",
      "\n",
      "\n",
      "----------\n",
      "Epoch 16/49\n",
      "LR 2.5e-05\n",
      "[[7454.   46.]\n",
      " [  40. 7460.]]\n",
      "train: CE: 0.016361, MSE: 0.001018, loss: 0.014827\n",
      "train Acc: 0.9943\n",
      "train Bal. Acc: 0.9943\n"
     ]
    },
    {
     "name": "stderr",
     "output_type": "stream",
     "text": [
      "\r",
      "num_epochs:  34%|██████████████████████                                           | 17/50 [1:50:07<3:33:56, 389.00s/it]"
     ]
    },
    {
     "name": "stdout",
     "output_type": "stream",
     "text": [
      "[[2442.   58.]\n",
      " [  43. 2457.]]\n",
      "val: CE: 0.061535, MSE: 0.000971, loss: 0.055479\n",
      "val Acc: 0.9798\n",
      "val Bal. Acc: 0.9798\n",
      "saving best model\n",
      "Total time: 1:50:07.102043\n",
      "Epoch time: 6m 29s\n",
      "\n",
      "\n",
      "----------\n",
      "Epoch 17/49\n",
      "LR 2.5e-05\n",
      "[[7465.   35.]\n",
      " [  34. 7466.]]\n",
      "train: CE: 0.013093, MSE: 0.000996, loss: 0.011883\n",
      "train Acc: 0.9954\n",
      "train Bal. Acc: 0.9954\n"
     ]
    },
    {
     "name": "stderr",
     "output_type": "stream",
     "text": [
      "\r",
      "num_epochs:  36%|███████████████████████▍                                         | 18/50 [1:56:36<3:27:27, 388.98s/it]"
     ]
    },
    {
     "name": "stdout",
     "output_type": "stream",
     "text": [
      "[[2443.   57.]\n",
      " [  34. 2466.]]\n",
      "val: CE: 0.057224, MSE: 0.000925, loss: 0.051594\n",
      "val Acc: 0.9818\n",
      "val Bal. Acc: 0.9818\n",
      "saving best model\n",
      "Total time: 1:56:36.044111\n",
      "Epoch time: 6m 29s\n",
      "\n",
      "\n",
      "----------\n",
      "Epoch 18/49\n",
      "LR 2.5e-05\n",
      "[[7482.   18.]\n",
      " [  14. 7486.]]\n",
      "train: CE: 0.007121, MSE: 0.000987, loss: 0.006508\n",
      "train Acc: 0.9979\n",
      "train Bal. Acc: 0.9979\n"
     ]
    },
    {
     "name": "stderr",
     "output_type": "stream",
     "text": [
      "\r",
      "num_epochs:  38%|████████████████████████▋                                        | 19/50 [2:03:04<3:20:57, 388.94s/it]"
     ]
    },
    {
     "name": "stdout",
     "output_type": "stream",
     "text": [
      "[[2458.   42.]\n",
      " [  48. 2452.]]\n",
      "val: CE: 0.070781, MSE: 0.000947, loss: 0.063798\n",
      "val Acc: 0.9820\n",
      "val Bal. Acc: 0.9820\n",
      "saving best model\n",
      "Total time: 2:03:04.889485\n",
      "Epoch time: 6m 29s\n",
      "\n",
      "\n",
      "----------\n",
      "Epoch 19/49\n",
      "LR 2.5e-05\n",
      "[[7474.   26.]\n",
      " [  13. 7487.]]\n",
      "train: CE: 0.008872, MSE: 0.000982, loss: 0.008083\n",
      "train Acc: 0.9974\n",
      "train Bal. Acc: 0.9974\n"
     ]
    },
    {
     "name": "stderr",
     "output_type": "stream",
     "text": [
      "\r",
      "num_epochs:  40%|██████████████████████████                                       | 20/50 [2:09:33<3:14:28, 388.94s/it]"
     ]
    },
    {
     "name": "stdout",
     "output_type": "stream",
     "text": [
      "[[2454.   46.]\n",
      " [  43. 2457.]]\n",
      "val: CE: 0.058400, MSE: 0.000913, loss: 0.052651\n",
      "val Acc: 0.9822\n",
      "val Bal. Acc: 0.9822\n",
      "saving best model\n",
      "Total time: 2:09:33.845252\n",
      "Epoch time: 6m 29s\n",
      "\n",
      "\n",
      "----------\n",
      "Epoch 20/49\n",
      "LR 2.5e-05\n",
      "[[7464.   36.]\n",
      " [  28. 7472.]]\n",
      "train: CE: 0.011890, MSE: 0.000981, loss: 0.010799\n",
      "train Acc: 0.9957\n",
      "train Bal. Acc: 0.9957\n"
     ]
    },
    {
     "name": "stderr",
     "output_type": "stream",
     "text": [
      "\r",
      "num_epochs:  42%|███████████████████████████▎                                     | 21/50 [2:16:02<3:08:01, 389.00s/it]"
     ]
    },
    {
     "name": "stdout",
     "output_type": "stream",
     "text": [
      "[[2465.   35.]\n",
      " [  71. 2429.]]\n",
      "val: CE: 0.079080, MSE: 0.000916, loss: 0.071264\n",
      "val Acc: 0.9788\n",
      "val Bal. Acc: 0.9788\n",
      "Total time: 2:16:02.976916\n",
      "Epoch time: 6m 29s\n",
      "\n",
      "\n",
      "----------\n",
      "Epoch 21/49\n",
      "LR 2.5e-05\n",
      "[[7470.   30.]\n",
      " [  26. 7474.]]\n",
      "train: CE: 0.009921, MSE: 0.000972, loss: 0.009026\n",
      "train Acc: 0.9963\n",
      "train Bal. Acc: 0.9963\n"
     ]
    },
    {
     "name": "stderr",
     "output_type": "stream",
     "text": [
      "\r",
      "num_epochs:  44%|████████████████████████████▌                                    | 22/50 [2:22:32<3:01:32, 389.02s/it]"
     ]
    },
    {
     "name": "stdout",
     "output_type": "stream",
     "text": [
      "[[2453.   47.]\n",
      " [  55. 2445.]]\n",
      "val: CE: 0.064169, MSE: 0.000902, loss: 0.057843\n",
      "val Acc: 0.9796\n",
      "val Bal. Acc: 0.9796\n",
      "Total time: 2:22:32.025787\n",
      "Epoch time: 6m 29s\n",
      "\n",
      "\n",
      "----------\n",
      "Epoch 22/49\n",
      "LR 2.5e-05\n",
      "[[7484.   16.]\n",
      " [  14. 7486.]]\n",
      "train: CE: 0.005879, MSE: 0.000963, loss: 0.005388\n",
      "train Acc: 0.9980\n",
      "train Bal. Acc: 0.9980\n"
     ]
    },
    {
     "name": "stderr",
     "output_type": "stream",
     "text": [
      "\r",
      "num_epochs:  46%|█████████████████████████████▉                                   | 23/50 [2:29:00<2:54:57, 388.81s/it]"
     ]
    },
    {
     "name": "stdout",
     "output_type": "stream",
     "text": [
      "[[2470.   30.]\n",
      " [  88. 2412.]]\n",
      "val: CE: 0.082547, MSE: 0.000900, loss: 0.074382\n",
      "val Acc: 0.9764\n",
      "val Bal. Acc: 0.9764\n",
      "Epoch    18: reducing learning rate of group 0 to 1.2500e-05.\n",
      "Total time: 2:29:00.344664\n",
      "Epoch time: 6m 28s\n",
      "\n",
      "\n",
      "----------\n",
      "Epoch 23/49\n",
      "LR 1.25e-05\n",
      "[[7489.   11.]\n",
      " [   8. 7492.]]\n",
      "train: CE: 0.003726, MSE: 0.000951, loss: 0.003449\n",
      "train Acc: 0.9987\n",
      "train Bal. Acc: 0.9987\n"
     ]
    },
    {
     "name": "stderr",
     "output_type": "stream",
     "text": [
      "\r",
      "num_epochs:  48%|███████████████████████████████▏                                 | 24/50 [2:35:28<2:48:22, 388.57s/it]"
     ]
    },
    {
     "name": "stdout",
     "output_type": "stream",
     "text": [
      "[[2435.   65.]\n",
      " [  27. 2473.]]\n",
      "val: CE: 0.073098, MSE: 0.000891, loss: 0.065877\n",
      "val Acc: 0.9816\n",
      "val Bal. Acc: 0.9816\n",
      "Total time: 2:35:28.367969\n",
      "Epoch time: 6m 28s\n",
      "\n",
      "\n",
      "----------\n",
      "Epoch 24/49\n",
      "LR 1.25e-05\n",
      "[[7.496e+03 4.000e+00]\n",
      " [5.000e+00 7.495e+03]]\n",
      "train: CE: 0.002397, MSE: 0.000945, loss: 0.002251\n",
      "train Acc: 0.9994\n",
      "train Bal. Acc: 0.9994\n"
     ]
    },
    {
     "name": "stderr",
     "output_type": "stream",
     "text": [
      "\r",
      "num_epochs:  50%|████████████████████████████████▌                                | 25/50 [2:41:56<2:41:53, 388.55s/it]"
     ]
    },
    {
     "name": "stdout",
     "output_type": "stream",
     "text": [
      "[[2438.   62.]\n",
      " [  24. 2476.]]\n",
      "val: CE: 0.067399, MSE: 0.000886, loss: 0.060747\n",
      "val Acc: 0.9828\n",
      "val Bal. Acc: 0.9828\n",
      "saving best model\n",
      "Total time: 2:41:56.875683\n",
      "Epoch time: 6m 29s\n",
      "\n",
      "\n",
      "----------\n",
      "Epoch 25/49\n",
      "LR 1.25e-05\n",
      "[[7.496e+03 4.000e+00]\n",
      " [1.000e+00 7.499e+03]]\n",
      "train: CE: 0.001952, MSE: 0.000940, loss: 0.001850\n",
      "train Acc: 0.9997\n",
      "train Bal. Acc: 0.9997\n"
     ]
    },
    {
     "name": "stderr",
     "output_type": "stream",
     "text": [
      "\r",
      "num_epochs:  52%|█████████████████████████████████▊                               | 26/50 [2:48:25<2:35:22, 388.45s/it]"
     ]
    },
    {
     "name": "stdout",
     "output_type": "stream",
     "text": [
      "[[2445.   55.]\n",
      " [  27. 2473.]]\n",
      "val: CE: 0.063337, MSE: 0.000882, loss: 0.057091\n",
      "val Acc: 0.9836\n",
      "val Bal. Acc: 0.9836\n",
      "saving best model\n",
      "Total time: 2:48:25.088499\n",
      "Epoch time: 6m 28s\n",
      "\n",
      "\n",
      "----------\n",
      "Epoch 26/49\n",
      "LR 1.25e-05\n",
      "[[7.499e+03 1.000e+00]\n",
      " [4.000e+00 7.496e+03]]\n",
      "train: CE: 0.001549, MSE: 0.000937, loss: 0.001487\n",
      "train Acc: 0.9997\n",
      "train Bal. Acc: 0.9997\n"
     ]
    },
    {
     "name": "stderr",
     "output_type": "stream",
     "text": [
      "\r",
      "num_epochs:  54%|███████████████████████████████████                              | 27/50 [2:54:53<2:28:54, 388.46s/it]"
     ]
    },
    {
     "name": "stdout",
     "output_type": "stream",
     "text": [
      "[[2434.   66.]\n",
      " [  20. 2480.]]\n",
      "val: CE: 0.068502, MSE: 0.000880, loss: 0.061740\n",
      "val Acc: 0.9828\n",
      "val Bal. Acc: 0.9828\n",
      "Total time: 2:54:53.563047\n",
      "Epoch time: 6m 28s\n",
      "\n",
      "\n",
      "----------\n",
      "Epoch 27/49\n",
      "LR 1.25e-05\n",
      "[[7.496e+03 4.000e+00]\n",
      " [2.000e+00 7.498e+03]]\n",
      "train: CE: 0.001356, MSE: 0.000933, loss: 0.001314\n",
      "train Acc: 0.9996\n",
      "train Bal. Acc: 0.9996\n"
     ]
    },
    {
     "name": "stderr",
     "output_type": "stream",
     "text": [
      "\r",
      "num_epochs:  56%|████████████████████████████████████▍                            | 28/50 [3:01:22<2:22:26, 388.47s/it]"
     ]
    },
    {
     "name": "stdout",
     "output_type": "stream",
     "text": [
      "[[2460.   40.]\n",
      " [  37. 2463.]]\n",
      "val: CE: 0.063387, MSE: 0.000876, loss: 0.057136\n",
      "val Acc: 0.9846\n",
      "val Bal. Acc: 0.9846\n",
      "saving best model\n",
      "Total time: 3:01:22.061966\n",
      "Epoch time: 6m 28s\n",
      "\n",
      "\n",
      "----------\n",
      "Epoch 28/49\n",
      "LR 1.25e-05\n",
      "[[7.496e+03 4.000e+00]\n",
      " [5.000e+00 7.495e+03]]\n",
      "train: CE: 0.002031, MSE: 0.000931, loss: 0.001921\n",
      "train Acc: 0.9994\n",
      "train Bal. Acc: 0.9994\n"
     ]
    },
    {
     "name": "stderr",
     "output_type": "stream",
     "text": [
      "\r",
      "num_epochs:  58%|█████████████████████████████████████▋                           | 29/50 [3:07:50<2:15:55, 388.36s/it]"
     ]
    },
    {
     "name": "stdout",
     "output_type": "stream",
     "text": [
      "[[2437.   63.]\n",
      " [  21. 2479.]]\n",
      "val: CE: 0.068360, MSE: 0.000874, loss: 0.061611\n",
      "val Acc: 0.9832\n",
      "val Bal. Acc: 0.9832\n",
      "Total time: 3:07:50.166891\n",
      "Epoch time: 6m 28s\n",
      "\n",
      "\n",
      "----------\n",
      "Epoch 29/49\n",
      "LR 1.25e-05\n",
      "[[7.494e+03 6.000e+00]\n",
      " [5.000e+00 7.495e+03]]\n",
      "train: CE: 0.002118, MSE: 0.000929, loss: 0.001999\n",
      "train Acc: 0.9993\n",
      "train Bal. Acc: 0.9993\n"
     ]
    },
    {
     "name": "stderr",
     "output_type": "stream",
     "text": [
      "\r",
      "num_epochs:  60%|███████████████████████████████████████                          | 30/50 [3:14:19<2:09:31, 388.56s/it]"
     ]
    },
    {
     "name": "stdout",
     "output_type": "stream",
     "text": [
      "[[2428.   72.]\n",
      " [  18. 2482.]]\n",
      "val: CE: 0.081083, MSE: 0.000870, loss: 0.073062\n",
      "val Acc: 0.9820\n",
      "val Bal. Acc: 0.9820\n",
      "Epoch    25: reducing learning rate of group 0 to 6.2500e-06.\n",
      "Total time: 3:14:19.194766\n",
      "Epoch time: 6m 29s\n",
      "\n",
      "\n",
      "----------\n",
      "Epoch 30/49\n",
      "LR 6.25e-06\n",
      "[[7.499e+03 1.000e+00]\n",
      " [1.000e+00 7.499e+03]]\n",
      "train: CE: 0.001089, MSE: 0.000925, loss: 0.001073\n",
      "train Acc: 0.9999\n",
      "train Bal. Acc: 0.9999\n"
     ]
    },
    {
     "name": "stderr",
     "output_type": "stream",
     "text": [
      "\r",
      "num_epochs:  62%|████████████████████████████████████████▎                        | 31/50 [3:20:48<2:03:05, 388.72s/it]"
     ]
    },
    {
     "name": "stdout",
     "output_type": "stream",
     "text": [
      "[[2456.   44.]\n",
      " [  33. 2467.]]\n",
      "val: CE: 0.063197, MSE: 0.000868, loss: 0.056964\n",
      "val Acc: 0.9846\n",
      "val Bal. Acc: 0.9846\n",
      "Total time: 3:20:48.295198\n",
      "Epoch time: 6m 29s\n",
      "\n",
      "\n",
      "----------\n",
      "Epoch 31/49\n",
      "LR 6.25e-06\n",
      "[[7.497e+03 3.000e+00]\n",
      " [2.000e+00 7.498e+03]]\n",
      "train: CE: 0.001369, MSE: 0.000922, loss: 0.001325\n",
      "train Acc: 0.9997\n",
      "train Bal. Acc: 0.9997\n"
     ]
    },
    {
     "name": "stderr",
     "output_type": "stream",
     "text": [
      "\r",
      "num_epochs:  64%|█████████████████████████████████████████▌                       | 32/50 [3:27:17<1:56:38, 388.80s/it]"
     ]
    },
    {
     "name": "stdout",
     "output_type": "stream",
     "text": [
      "[[2465.   35.]\n",
      " [  48. 2452.]]\n",
      "val: CE: 0.068866, MSE: 0.000866, loss: 0.062066\n",
      "val Acc: 0.9834\n",
      "val Bal. Acc: 0.9834\n",
      "Total time: 3:27:17.286927\n",
      "Epoch time: 6m 29s\n",
      "\n",
      "\n",
      "----------\n",
      "Epoch 32/49\n",
      "LR 6.25e-06\n",
      "[[7.500e+03 0.000e+00]\n",
      " [6.000e+00 7.494e+03]]\n",
      "train: CE: 0.001458, MSE: 0.000921, loss: 0.001404\n",
      "train Acc: 0.9996\n",
      "train Bal. Acc: 0.9996\n"
     ]
    },
    {
     "name": "stderr",
     "output_type": "stream",
     "text": [
      "\r",
      "num_epochs:  66%|██████████████████████████████████████████▉                      | 33/50 [3:33:47<1:50:15, 389.17s/it]"
     ]
    },
    {
     "name": "stdout",
     "output_type": "stream",
     "text": [
      "[[2468.   32.]\n",
      " [  49. 2451.]]\n",
      "val: CE: 0.068850, MSE: 0.000865, loss: 0.062052\n",
      "val Acc: 0.9838\n",
      "val Bal. Acc: 0.9838\n",
      "Total time: 3:33:47.322900\n",
      "Epoch time: 6m 30s\n",
      "\n",
      "\n",
      "----------\n",
      "Epoch 33/49\n",
      "LR 6.25e-06\n",
      "[[7.499e+03 1.000e+00]\n",
      " [0.000e+00 7.500e+03]]\n",
      "train: CE: 0.000671, MSE: 0.000920, loss: 0.000695\n",
      "train Acc: 0.9999\n",
      "train Bal. Acc: 0.9999\n"
     ]
    },
    {
     "name": "stderr",
     "output_type": "stream",
     "text": [
      "\r",
      "num_epochs:  68%|████████████████████████████████████████████▏                    | 34/50 [3:40:16<1:43:45, 389.10s/it]"
     ]
    },
    {
     "name": "stdout",
     "output_type": "stream",
     "text": [
      "[[2461.   39.]\n",
      " [  34. 2466.]]\n",
      "val: CE: 0.062718, MSE: 0.000864, loss: 0.056533\n",
      "val Acc: 0.9854\n",
      "val Bal. Acc: 0.9854\n",
      "saving best model\n",
      "Total time: 3:40:16.258500\n",
      "Epoch time: 6m 29s\n",
      "\n",
      "\n",
      "----------\n",
      "Epoch 34/49\n",
      "LR 6.25e-06\n",
      "[[7.498e+03 2.000e+00]\n",
      " [0.000e+00 7.500e+03]]\n",
      "train: CE: 0.000880, MSE: 0.000918, loss: 0.000883\n",
      "train Acc: 0.9999\n",
      "train Bal. Acc: 0.9999\n"
     ]
    },
    {
     "name": "stderr",
     "output_type": "stream",
     "text": [
      "\r",
      "num_epochs:  70%|█████████████████████████████████████████████▌                   | 35/50 [3:46:44<1:37:12, 388.84s/it]"
     ]
    },
    {
     "name": "stdout",
     "output_type": "stream",
     "text": [
      "[[2460.   40.]\n",
      " [  45. 2455.]]\n",
      "val: CE: 0.067817, MSE: 0.000862, loss: 0.061121\n",
      "val Acc: 0.9830\n",
      "val Bal. Acc: 0.9830\n",
      "Total time: 3:46:44.472534\n",
      "Epoch time: 6m 28s\n",
      "\n",
      "\n",
      "----------\n",
      "Epoch 35/49\n",
      "LR 6.25e-06\n",
      "[[7.500e+03 0.000e+00]\n",
      " [3.000e+00 7.497e+03]]\n",
      "train: CE: 0.000841, MSE: 0.000916, loss: 0.000848\n",
      "train Acc: 0.9998\n",
      "train Bal. Acc: 0.9998\n"
     ]
    },
    {
     "name": "stderr",
     "output_type": "stream",
     "text": [
      "\r",
      "num_epochs:  72%|██████████████████████████████████████████████▊                  | 36/50 [3:53:13<1:30:42, 388.75s/it]"
     ]
    },
    {
     "name": "stdout",
     "output_type": "stream",
     "text": [
      "[[2463.   37.]\n",
      " [  41. 2459.]]\n",
      "val: CE: 0.066325, MSE: 0.000860, loss: 0.059778\n",
      "val Acc: 0.9844\n",
      "val Bal. Acc: 0.9844\n",
      "Total time: 3:53:13.033804\n",
      "Epoch time: 6m 29s\n",
      "\n",
      "\n",
      "----------\n",
      "Epoch 36/49\n",
      "LR 6.25e-06\n",
      "[[7.499e+03 1.000e+00]\n",
      " [4.000e+00 7.496e+03]]\n",
      "train: CE: 0.001238, MSE: 0.000914, loss: 0.001205\n",
      "train Acc: 0.9997\n",
      "train Bal. Acc: 0.9997\n"
     ]
    },
    {
     "name": "stderr",
     "output_type": "stream",
     "text": [
      "\r",
      "num_epochs:  74%|████████████████████████████████████████████████                 | 37/50 [3:59:41<1:24:12, 388.68s/it]"
     ]
    },
    {
     "name": "stdout",
     "output_type": "stream",
     "text": [
      "[[2452.   48.]\n",
      " [  27. 2473.]]\n",
      "val: CE: 0.065003, MSE: 0.000859, loss: 0.058588\n",
      "val Acc: 0.9850\n",
      "val Bal. Acc: 0.9850\n",
      "Epoch    32: reducing learning rate of group 0 to 3.1250e-06.\n",
      "Total time: 3:59:41.559543\n",
      "Epoch time: 6m 29s\n",
      "\n",
      "\n",
      "----------\n",
      "Epoch 37/49\n",
      "LR 3.125e-06\n",
      "[[7.495e+03 5.000e+00]\n",
      " [1.000e+00 7.499e+03]]\n",
      "train: CE: 0.001352, MSE: 0.000913, loss: 0.001308\n",
      "train Acc: 0.9996\n",
      "train Bal. Acc: 0.9996\n"
     ]
    },
    {
     "name": "stderr",
     "output_type": "stream",
     "text": [
      "\r",
      "num_epochs:  76%|█████████████████████████████████████████████████▍               | 38/50 [4:06:10<1:17:44, 388.71s/it]"
     ]
    },
    {
     "name": "stdout",
     "output_type": "stream",
     "text": [
      "[[2462.   38.]\n",
      " [  40. 2460.]]\n",
      "val: CE: 0.065546, MSE: 0.000858, loss: 0.059077\n",
      "val Acc: 0.9844\n",
      "val Bal. Acc: 0.9844\n",
      "Total time: 4:06:10.342829\n",
      "Epoch time: 6m 29s\n",
      "\n",
      "\n",
      "----------\n",
      "Epoch 38/49\n",
      "LR 3.125e-06\n",
      "[[7.498e+03 2.000e+00]\n",
      " [3.000e+00 7.497e+03]]\n",
      "train: CE: 0.000954, MSE: 0.000912, loss: 0.000950\n",
      "train Acc: 0.9997\n",
      "train Bal. Acc: 0.9997\n"
     ]
    },
    {
     "name": "stderr",
     "output_type": "stream",
     "text": [
      "\r",
      "num_epochs:  78%|██████████████████████████████████████████████████▋              | 39/50 [4:12:38<1:11:14, 388.58s/it]"
     ]
    },
    {
     "name": "stdout",
     "output_type": "stream",
     "text": [
      "[[2459.   41.]\n",
      " [  35. 2465.]]\n",
      "val: CE: 0.063351, MSE: 0.000857, loss: 0.057102\n",
      "val Acc: 0.9848\n",
      "val Bal. Acc: 0.9848\n",
      "Total time: 4:12:38.615630\n",
      "Epoch time: 6m 28s\n",
      "\n",
      "\n",
      "----------\n",
      "Epoch 39/49\n",
      "LR 3.125e-06\n",
      "[[7.499e+03 1.000e+00]\n",
      " [2.000e+00 7.498e+03]]\n",
      "train: CE: 0.000688, MSE: 0.000911, loss: 0.000711\n",
      "train Acc: 0.9998\n",
      "train Bal. Acc: 0.9998\n"
     ]
    },
    {
     "name": "stderr",
     "output_type": "stream",
     "text": [
      "\r",
      "num_epochs:  80%|████████████████████████████████████████████████████             | 40/50 [4:19:07<1:04:45, 388.57s/it]"
     ]
    },
    {
     "name": "stdout",
     "output_type": "stream",
     "text": [
      "[[2458.   42.]\n",
      " [  33. 2467.]]\n",
      "val: CE: 0.064904, MSE: 0.000856, loss: 0.058499\n",
      "val Acc: 0.9850\n",
      "val Bal. Acc: 0.9850\n",
      "Total time: 4:19:07.148447\n",
      "Epoch time: 6m 29s\n",
      "\n",
      "\n",
      "----------\n",
      "Epoch 40/49\n",
      "LR 3.125e-06\n",
      "[[7.499e+03 1.000e+00]\n",
      " [0.000e+00 7.500e+03]]\n",
      "train: CE: 0.000609, MSE: 0.000911, loss: 0.000639\n",
      "train Acc: 0.9999\n",
      "train Bal. Acc: 0.9999\n"
     ]
    },
    {
     "name": "stderr",
     "output_type": "stream",
     "text": [
      "\r",
      "num_epochs:  82%|██████████████████████████████████████████████████████▉            | 41/50 [4:25:36<58:18, 388.67s/it]"
     ]
    },
    {
     "name": "stdout",
     "output_type": "stream",
     "text": [
      "[[2458.   42.]\n",
      " [  33. 2467.]]\n",
      "val: CE: 0.063977, MSE: 0.000855, loss: 0.057664\n",
      "val Acc: 0.9850\n",
      "val Bal. Acc: 0.9850\n",
      "Total time: 4:25:36.061838\n",
      "Epoch time: 6m 29s\n",
      "\n",
      "\n",
      "----------\n",
      "Epoch 41/49\n",
      "LR 3.125e-06\n",
      "[[7500.    0.]\n",
      " [   0. 7500.]]\n",
      "train: CE: 0.000523, MSE: 0.000910, loss: 0.000561\n",
      "train Acc: 1.0000\n",
      "train Bal. Acc: 1.0000\n"
     ]
    },
    {
     "name": "stderr",
     "output_type": "stream",
     "text": [
      "\r",
      "num_epochs:  84%|████████████████████████████████████████████████████████▎          | 42/50 [4:32:05<51:50, 388.82s/it]"
     ]
    },
    {
     "name": "stdout",
     "output_type": "stream",
     "text": [
      "[[2461.   39.]\n",
      " [  36. 2464.]]\n",
      "val: CE: 0.063837, MSE: 0.000854, loss: 0.057538\n",
      "val Acc: 0.9850\n",
      "val Bal. Acc: 0.9850\n",
      "Total time: 4:32:05.241214\n",
      "Epoch time: 6m 29s\n",
      "\n",
      "\n",
      "----------\n",
      "Epoch 42/49\n",
      "LR 3.125e-06\n",
      "[[7.500e+03 0.000e+00]\n",
      " [1.000e+00 7.499e+03]]\n",
      "train: CE: 0.000481, MSE: 0.000909, loss: 0.000523\n",
      "train Acc: 0.9999\n",
      "train Bal. Acc: 0.9999\n"
     ]
    },
    {
     "name": "stderr",
     "output_type": "stream",
     "text": [
      "\r",
      "num_epochs:  86%|█████████████████████████████████████████████████████████▌         | 43/50 [4:38:33<45:20, 388.69s/it]"
     ]
    },
    {
     "name": "stdout",
     "output_type": "stream",
     "text": [
      "[[2468.   32.]\n",
      " [  45. 2455.]]\n",
      "val: CE: 0.064808, MSE: 0.000853, loss: 0.058412\n",
      "val Acc: 0.9846\n",
      "val Bal. Acc: 0.9846\n",
      "Total time: 4:38:33.634557\n",
      "Epoch time: 6m 28s\n",
      "\n",
      "\n",
      "----------\n",
      "Epoch 43/49\n",
      "LR 3.125e-06\n",
      "[[7.499e+03 1.000e+00]\n",
      " [1.000e+00 7.499e+03]]\n",
      "train: CE: 0.000443, MSE: 0.000908, loss: 0.000490\n",
      "train Acc: 0.9999\n",
      "train Bal. Acc: 0.9999\n"
     ]
    },
    {
     "name": "stderr",
     "output_type": "stream",
     "text": [
      "\r",
      "num_epochs:  88%|██████████████████████████████████████████████████████████▉        | 44/50 [4:45:02<38:51, 388.61s/it]"
     ]
    },
    {
     "name": "stdout",
     "output_type": "stream",
     "text": [
      "[[2460.   40.]\n",
      " [  30. 2470.]]\n",
      "val: CE: 0.062586, MSE: 0.000852, loss: 0.056413\n",
      "val Acc: 0.9860\n",
      "val Bal. Acc: 0.9860\n",
      "saving best model\n",
      "Epoch    39: reducing learning rate of group 0 to 1.5625e-06.\n",
      "Total time: 4:45:02.041176\n",
      "Epoch time: 6m 28s\n",
      "\n",
      "\n",
      "----------\n",
      "Epoch 44/49\n",
      "LR 1.5625e-06\n",
      "[[7.499e+03 1.000e+00]\n",
      " [0.000e+00 7.500e+03]]\n",
      "train: CE: 0.000504, MSE: 0.000907, loss: 0.000544\n",
      "train Acc: 0.9999\n",
      "train Bal. Acc: 0.9999\n"
     ]
    },
    {
     "name": "stderr",
     "output_type": "stream",
     "text": [
      "\r",
      "num_epochs:  90%|████████████████████████████████████████████████████████████▎      | 45/50 [4:51:30<32:23, 388.69s/it]"
     ]
    },
    {
     "name": "stdout",
     "output_type": "stream",
     "text": [
      "[[2460.   40.]\n",
      " [  29. 2471.]]\n",
      "val: CE: 0.062309, MSE: 0.000852, loss: 0.056163\n",
      "val Acc: 0.9862\n",
      "val Bal. Acc: 0.9862\n",
      "saving best model\n",
      "Total time: 4:51:30.932835\n",
      "Epoch time: 6m 29s\n",
      "\n",
      "\n",
      "----------\n",
      "Epoch 45/49\n",
      "LR 1.5625e-06\n",
      "[[7500.    0.]\n",
      " [   0. 7500.]]\n",
      "train: CE: 0.000459, MSE: 0.000906, loss: 0.000504\n",
      "train Acc: 1.0000\n",
      "train Bal. Acc: 1.0000\n"
     ]
    },
    {
     "name": "stderr",
     "output_type": "stream",
     "text": [
      "\r",
      "num_epochs:  92%|█████████████████████████████████████████████████████████████▋     | 46/50 [4:57:59<25:54, 388.65s/it]"
     ]
    },
    {
     "name": "stdout",
     "output_type": "stream",
     "text": [
      "[[2456.   44.]\n",
      " [  24. 2476.]]\n",
      "val: CE: 0.063311, MSE: 0.000851, loss: 0.057065\n",
      "val Acc: 0.9864\n",
      "val Bal. Acc: 0.9864\n",
      "saving best model\n",
      "Total time: 4:57:59.489414\n",
      "Epoch time: 6m 29s\n",
      "\n",
      "\n",
      "----------\n",
      "Epoch 46/49\n",
      "LR 1.5625e-06\n",
      "[[7.499e+03 1.000e+00]\n",
      " [0.000e+00 7.500e+03]]\n",
      "train: CE: 0.000426, MSE: 0.000906, loss: 0.000474\n",
      "train Acc: 0.9999\n",
      "train Bal. Acc: 0.9999\n"
     ]
    },
    {
     "name": "stderr",
     "output_type": "stream",
     "text": [
      "\r",
      "num_epochs:  94%|██████████████████████████████████████████████████████████████▉    | 47/50 [5:04:28<19:25, 388.61s/it]"
     ]
    },
    {
     "name": "stdout",
     "output_type": "stream",
     "text": [
      "[[2459.   41.]\n",
      " [  25. 2475.]]\n",
      "val: CE: 0.062193, MSE: 0.000851, loss: 0.056059\n",
      "val Acc: 0.9868\n",
      "val Bal. Acc: 0.9868\n",
      "saving best model\n",
      "Total time: 5:04:28.007702\n",
      "Epoch time: 6m 29s\n",
      "\n",
      "\n",
      "----------\n",
      "Epoch 47/49\n",
      "LR 1.5625e-06\n",
      "[[7500.    0.]\n",
      " [   0. 7500.]]\n",
      "train: CE: 0.000345, MSE: 0.000906, loss: 0.000401\n",
      "train Acc: 1.0000\n",
      "train Bal. Acc: 1.0000\n"
     ]
    },
    {
     "name": "stderr",
     "output_type": "stream",
     "text": [
      "\r",
      "num_epochs:  96%|████████████████████████████████████████████████████████████████▎  | 48/50 [5:10:56<12:57, 388.69s/it]"
     ]
    },
    {
     "name": "stdout",
     "output_type": "stream",
     "text": [
      "[[2462.   38.]\n",
      " [  34. 2466.]]\n",
      "val: CE: 0.062105, MSE: 0.000851, loss: 0.055979\n",
      "val Acc: 0.9856\n",
      "val Bal. Acc: 0.9856\n",
      "Total time: 5:10:56.882897\n",
      "Epoch time: 6m 29s\n",
      "\n",
      "\n",
      "----------\n",
      "Epoch 48/49\n",
      "LR 1.5625e-06\n",
      "[[7500.    0.]\n",
      " [   0. 7500.]]\n",
      "train: CE: 0.000455, MSE: 0.000905, loss: 0.000500\n",
      "train Acc: 1.0000\n",
      "train Bal. Acc: 1.0000\n"
     ]
    },
    {
     "name": "stderr",
     "output_type": "stream",
     "text": [
      "\r",
      "num_epochs:  98%|█████████████████████████████████████████████████████████████████▋ | 49/50 [5:17:25<06:28, 388.59s/it]"
     ]
    },
    {
     "name": "stdout",
     "output_type": "stream",
     "text": [
      "[[2458.   42.]\n",
      " [  28. 2472.]]\n",
      "val: CE: 0.063708, MSE: 0.000850, loss: 0.057422\n",
      "val Acc: 0.9860\n",
      "val Bal. Acc: 0.9860\n",
      "Total time: 5:17:25.226335\n",
      "Epoch time: 6m 28s\n",
      "\n",
      "\n",
      "----------\n",
      "Epoch 49/49\n",
      "LR 1.5625e-06\n",
      "[[7500.    0.]\n",
      " [   0. 7500.]]\n",
      "train: CE: 0.000425, MSE: 0.000905, loss: 0.000473\n",
      "train Acc: 1.0000\n",
      "train Bal. Acc: 1.0000\n"
     ]
    },
    {
     "name": "stderr",
     "output_type": "stream",
     "text": [
      "num_epochs: 100%|███████████████████████████████████████████████████████████████████| 50/50 [5:23:53<00:00, 388.68s/it]"
     ]
    },
    {
     "name": "stdout",
     "output_type": "stream",
     "text": [
      "[[2459.   41.]\n",
      " [  29. 2471.]]\n",
      "val: CE: 0.063267, MSE: 0.000850, loss: 0.057026\n",
      "val Acc: 0.9860\n",
      "val Bal. Acc: 0.9860\n",
      "Total time: 5:23:53.945438\n",
      "Epoch time: 6m 29s\n",
      "Best val loss: 0.056059\n",
      "Best val acc: 0.986800\n",
      "50\n"
     ]
    },
    {
     "name": "stderr",
     "output_type": "stream",
     "text": [
      "\n"
     ]
    },
    {
     "data": {
      "image/png": "[encoded data removed]",
      "text/plain": [
       "<Figure size 432x288 with 1 Axes>"
      ]
     },
     "metadata": {
      "needs_background": "light"
     },
     "output_type": "display_data"
    },
    {
     "name": "stdout",
     "output_type": "stream",
     "text": [
      "50\n"
     ]
    },
    {
     "data": {
      "image/png": "[encoded data removed]",
      "text/plain": [
       "<Figure size 432x288 with 1 Axes>"
      ]
     },
     "metadata": {
      "needs_background": "light"
     },
     "output_type": "display_data"
    },
    {
     "data": {
      "image/png": "[encoded data removed]",
      "text/plain": [
       "<Figure size 432x288 with 1 Axes>"
      ]
     },
     "metadata": {
      "needs_background": "light"
     },
     "output_type": "display_data"
    },
    {
     "name": "stdout",
     "output_type": "stream",
     "text": [
      "tensor([[2459.,   41.],\n",
      "        [  25., 2475.]])\n",
      "[2484. 2516.]\n",
      "[[0.9836 0.0164]\n",
      " [0.01   0.99  ]]\n",
      "\n",
      "\n",
      "\n",
      "Fold- 3 : Initializing Datasets and Dataloaders...\n"
     ]
    },
    {
     "name": "stderr",
     "output_type": "stream",
     "text": [
      "\r",
      "num_epochs:   0%|                                                                               | 0/50 [00:00<?, ?it/s]"
     ]
    },
    {
     "name": "stdout",
     "output_type": "stream",
     "text": [
      "\n",
      "\n",
      "----------\n",
      "Epoch 0/49\n",
      "LR 1e-05\n",
      "[[5978. 1522.]\n",
      " [3362. 4138.]]\n",
      "train: CE: 0.594466, MSE: 0.119484, loss: 0.546968\n",
      "train Acc: 0.6744\n",
      "train Bal. Acc: 0.6744\n"
     ]
    },
    {
     "name": "stderr",
     "output_type": "stream",
     "text": [
      "\r",
      "num_epochs:   2%|█▎                                                                  | 1/50 [06:28<5:17:24, 388.66s/it]"
     ]
    },
    {
     "name": "stdout",
     "output_type": "stream",
     "text": [
      "[[   0. 2500.]\n",
      " [   0. 2500.]]\n",
      "val: CE: 1.497761, MSE: 0.110885, loss: 1.359073\n",
      "val Acc: 0.5000\n",
      "val Bal. Acc: 0.5000\n",
      "saving best model\n",
      "Total time: 0:06:28.667358\n",
      "Epoch time: 6m 29s\n",
      "\n",
      "\n",
      "----------\n",
      "Epoch 1/49\n",
      "LR 1e-05\n",
      "[[6383. 1117.]\n",
      " [1294. 6206.]]\n",
      "train: CE: 0.363831, MSE: 0.065573, loss: 0.334005\n",
      "train Acc: 0.8393\n",
      "train Bal. Acc: 0.8393\n"
     ]
    },
    {
     "name": "stderr",
     "output_type": "stream",
     "text": [
      "\r",
      "num_epochs:   4%|██▋                                                                 | 2/50 [12:57<5:10:54, 388.63s/it]"
     ]
    },
    {
     "name": "stdout",
     "output_type": "stream",
     "text": [
      "[[2459.   41.]\n",
      " [1487. 1013.]]\n",
      "val: CE: 0.782268, MSE: 0.013174, loss: 0.705358\n",
      "val Acc: 0.6944\n",
      "val Bal. Acc: 0.6944\n",
      "saving best model\n",
      "Total time: 0:12:57.277158\n",
      "Epoch time: 6m 29s\n",
      "\n",
      "\n",
      "----------\n",
      "Epoch 2/49\n",
      "LR 1e-05\n",
      "[[6677.  823.]\n",
      " [ 611. 6889.]]\n",
      "train: CE: 0.237818, MSE: 0.008535, loss: 0.214890\n",
      "train Acc: 0.9044\n",
      "train Bal. Acc: 0.9044\n"
     ]
    },
    {
     "name": "stderr",
     "output_type": "stream",
     "text": [
      "\r",
      "num_epochs:   6%|████                                                                | 3/50 [19:26<5:04:28, 388.69s/it]"
     ]
    },
    {
     "name": "stdout",
     "output_type": "stream",
     "text": [
      "[[2483.   17.]\n",
      " [1368. 1132.]]\n",
      "val: CE: 0.727999, MSE: 0.006904, loss: 0.655890\n",
      "val Acc: 0.7230\n",
      "val Bal. Acc: 0.7230\n",
      "saving best model\n",
      "Total time: 0:19:26.030097\n",
      "Epoch time: 6m 29s\n",
      "\n",
      "\n",
      "----------\n",
      "Epoch 3/49\n",
      "LR 1e-05\n",
      "[[6955.  545.]\n",
      " [ 378. 7122.]]\n",
      "train: CE: 0.171703, MSE: 0.005786, loss: 0.155112\n",
      "train Acc: 0.9385\n",
      "train Bal. Acc: 0.9385\n"
     ]
    },
    {
     "name": "stderr",
     "output_type": "stream",
     "text": [
      "\r",
      "num_epochs:   8%|█████▍                                                              | 4/50 [25:55<4:58:06, 388.84s/it]"
     ]
    },
    {
     "name": "stdout",
     "output_type": "stream",
     "text": [
      "[[2095.  405.]\n",
      " [  10. 2490.]]\n",
      "val: CE: 0.199730, MSE: 0.004043, loss: 0.180161\n",
      "val Acc: 0.9170\n",
      "val Bal. Acc: 0.9170\n",
      "saving best model\n",
      "Total time: 0:25:55.103574\n",
      "Epoch time: 6m 29s\n",
      "\n",
      "\n",
      "----------\n",
      "Epoch 4/49\n",
      "LR 1e-05\n",
      "[[7051.  449.]\n",
      " [ 209. 7291.]]\n",
      "train: CE: 0.125876, MSE: 0.003596, loss: 0.113648\n",
      "train Acc: 0.9561\n",
      "train Bal. Acc: 0.9561\n"
     ]
    },
    {
     "name": "stderr",
     "output_type": "stream",
     "text": [
      "\r",
      "num_epochs:  10%|██████▊                                                             | 5/50 [32:23<4:51:35, 388.79s/it]"
     ]
    },
    {
     "name": "stdout",
     "output_type": "stream",
     "text": [
      "[[2372.  128.]\n",
      " [  40. 2460.]]\n",
      "val: CE: 0.095973, MSE: 0.003093, loss: 0.086685\n",
      "val Acc: 0.9664\n",
      "val Bal. Acc: 0.9664\n",
      "saving best model\n",
      "Total time: 0:32:23.818552\n",
      "Epoch time: 6m 29s\n",
      "\n",
      "\n",
      "----------\n",
      "Epoch 5/49\n",
      "LR 5e-05\n",
      "[[6845.  655.]\n",
      " [ 398. 7102.]]\n",
      "train: CE: 0.187976, MSE: 0.003966, loss: 0.169575\n",
      "train Acc: 0.9298\n",
      "train Bal. Acc: 0.9298\n"
     ]
    },
    {
     "name": "stderr",
     "output_type": "stream",
     "text": [
      "\r",
      "num_epochs:  12%|████████▏                                                           | 6/50 [38:59<4:46:46, 391.05s/it]"
     ]
    },
    {
     "name": "stdout",
     "output_type": "stream",
     "text": [
      "[[2128.  372.]\n",
      " [   8. 2492.]]\n",
      "val: CE: 0.185768, MSE: 0.003145, loss: 0.167506\n",
      "val Acc: 0.9240\n",
      "val Bal. Acc: 0.9240\n",
      "Total time: 0:38:59.241014\n",
      "Epoch time: 6m 35s\n",
      "\n",
      "\n",
      "----------\n",
      "Epoch 6/49\n",
      "LR 5e-05\n",
      "[[7106.  394.]\n",
      " [ 221. 7279.]]\n",
      "train: CE: 0.110252, MSE: 0.002822, loss: 0.099509\n",
      "train Acc: 0.9590\n",
      "train Bal. Acc: 0.9590\n"
     ]
    },
    {
     "name": "stderr",
     "output_type": "stream",
     "text": [
      "\r",
      "num_epochs:  14%|█████████▌                                                          | 7/50 [45:27<4:39:42, 390.29s/it]"
     ]
    },
    {
     "name": "stdout",
     "output_type": "stream",
     "text": [
      "[[2469.   31.]\n",
      " [ 238. 2262.]]\n",
      "val: CE: 0.168590, MSE: 0.001936, loss: 0.151925\n",
      "val Acc: 0.9462\n",
      "val Bal. Acc: 0.9462\n",
      "Total time: 0:45:27.965395\n",
      "Epoch time: 6m 29s\n",
      "\n",
      "\n",
      "----------\n",
      "Epoch 7/49\n",
      "LR 5e-05\n",
      "[[7161.  339.]\n",
      " [ 162. 7338.]]\n",
      "train: CE: 0.085039, MSE: 0.001872, loss: 0.076723\n",
      "train Acc: 0.9666\n",
      "train Bal. Acc: 0.9666\n"
     ]
    },
    {
     "name": "stderr",
     "output_type": "stream",
     "text": [
      "\r",
      "num_epochs:  16%|██████████▉                                                         | 8/50 [51:56<4:32:51, 389.79s/it]"
     ]
    },
    {
     "name": "stdout",
     "output_type": "stream",
     "text": [
      "[[2245.  255.]\n",
      " [  23. 2477.]]\n",
      "val: CE: 0.130908, MSE: 0.001465, loss: 0.117963\n",
      "val Acc: 0.9444\n",
      "val Bal. Acc: 0.9444\n",
      "Total time: 0:51:56.701692\n",
      "Epoch time: 6m 29s\n",
      "\n",
      "\n",
      "----------\n",
      "Epoch 8/49\n",
      "LR 5e-05\n",
      "[[7197.  303.]\n",
      " [ 177. 7323.]]\n",
      "train: CE: 0.083608, MSE: 0.001469, loss: 0.075394\n",
      "train Acc: 0.9680\n",
      "train Bal. Acc: 0.9680\n"
     ]
    },
    {
     "name": "stderr",
     "output_type": "stream",
     "text": [
      "\r",
      "num_epochs:  18%|████████████▏                                                       | 9/50 [58:25<4:26:13, 389.60s/it]"
     ]
    },
    {
     "name": "stdout",
     "output_type": "stream",
     "text": [
      "[[2494.    6.]\n",
      " [ 965. 1535.]]\n",
      "val: CE: 0.468774, MSE: 0.001208, loss: 0.422017\n",
      "val Acc: 0.8058\n",
      "val Bal. Acc: 0.8058\n",
      "Total time: 0:58:25.877072\n",
      "Epoch time: 6m 29s\n",
      "\n",
      "\n",
      "----------\n",
      "Epoch 9/49\n",
      "LR 5e-05\n",
      "[[7238.  262.]\n",
      " [ 155. 7345.]]\n",
      "train: CE: 0.071692, MSE: 0.001304, loss: 0.064653\n",
      "train Acc: 0.9722\n",
      "train Bal. Acc: 0.9722\n"
     ]
    },
    {
     "name": "stderr",
     "output_type": "stream",
     "text": [
      "\r",
      "num_epochs:  20%|█████████████                                                    | 10/50 [1:04:55<4:19:38, 389.46s/it]"
     ]
    },
    {
     "name": "stdout",
     "output_type": "stream",
     "text": [
      "[[2306.  194.]\n",
      " [  16. 2484.]]\n",
      "val: CE: 0.116575, MSE: 0.001190, loss: 0.105036\n",
      "val Acc: 0.9580\n",
      "val Bal. Acc: 0.9580\n",
      "Total time: 1:04:55.030465\n",
      "Epoch time: 6m 29s\n",
      "\n",
      "\n",
      "----------\n",
      "Epoch 10/49\n",
      "LR 5e-05\n",
      "[[7311.  189.]\n",
      " [  90. 7410.]]\n",
      "train: CE: 0.049559, MSE: 0.001267, loss: 0.044730\n",
      "train Acc: 0.9814\n",
      "train Bal. Acc: 0.9814\n"
     ]
    },
    {
     "name": "stderr",
     "output_type": "stream",
     "text": [
      "\r",
      "num_epochs:  22%|██████████████▎                                                  | 11/50 [1:11:24<4:13:09, 389.47s/it]"
     ]
    },
    {
     "name": "stdout",
     "output_type": "stream",
     "text": [
      "[[2482.   18.]\n",
      " [ 255. 2245.]]\n",
      "val: CE: 0.151621, MSE: 0.001058, loss: 0.136565\n",
      "val Acc: 0.9454\n",
      "val Bal. Acc: 0.9454\n",
      "Total time: 1:11:24.521906\n",
      "Epoch time: 6m 29s\n",
      "\n",
      "\n",
      "----------\n",
      "Epoch 11/49\n",
      "LR 5e-05\n",
      "[[7354.  146.]\n",
      " [  78. 7422.]]\n",
      "train: CE: 0.040115, MSE: 0.001160, loss: 0.036220\n",
      "train Acc: 0.9851\n",
      "train Bal. Acc: 0.9851\n"
     ]
    },
    {
     "name": "stderr",
     "output_type": "stream",
     "text": [
      "\r",
      "num_epochs:  24%|███████████████▌                                                 | 12/50 [1:17:53<4:06:28, 389.18s/it]"
     ]
    },
    {
     "name": "stdout",
     "output_type": "stream",
     "text": [
      "[[2299.  201.]\n",
      " [   8. 2492.]]\n",
      "val: CE: 0.125720, MSE: 0.000990, loss: 0.113247\n",
      "val Acc: 0.9582\n",
      "val Bal. Acc: 0.9582\n",
      "Total time: 1:17:53.022500\n",
      "Epoch time: 6m 29s\n",
      "\n",
      "\n",
      "----------\n",
      "Epoch 12/49\n",
      "LR 5e-05\n",
      "[[7359.  141.]\n",
      " [  89. 7411.]]\n",
      "train: CE: 0.041009, MSE: 0.001098, loss: 0.037018\n",
      "train Acc: 0.9847\n",
      "train Bal. Acc: 0.9847\n"
     ]
    },
    {
     "name": "stderr",
     "output_type": "stream",
     "text": [
      "\r",
      "num_epochs:  26%|████████████████▉                                                | 13/50 [1:24:21<3:59:55, 389.07s/it]"
     ]
    },
    {
     "name": "stdout",
     "output_type": "stream",
     "text": [
      "[[1883.  617.]\n",
      " [   0. 2500.]]\n",
      "val: CE: 0.369175, MSE: 0.000976, loss: 0.332355\n",
      "val Acc: 0.8766\n",
      "val Bal. Acc: 0.8766\n",
      "Total time: 1:24:21.832946\n",
      "Epoch time: 6m 29s\n",
      "\n",
      "\n",
      "----------\n",
      "Epoch 13/49\n",
      "LR 5e-05\n",
      "[[7372.  128.]\n",
      " [  70. 7430.]]\n",
      "train: CE: 0.033749, MSE: 0.001056, loss: 0.030480\n",
      "train Acc: 0.9868\n",
      "train Bal. Acc: 0.9868\n"
     ]
    },
    {
     "name": "stderr",
     "output_type": "stream",
     "text": [
      "\r",
      "num_epochs:  28%|██████████████████▏                                              | 14/50 [1:30:50<3:53:18, 388.84s/it]"
     ]
    },
    {
     "name": "stdout",
     "output_type": "stream",
     "text": [
      "[[1.585e+03 9.150e+02]\n",
      " [1.000e+00 2.499e+03]]\n",
      "val: CE: 0.593078, MSE: 0.000926, loss: 0.533863\n",
      "val Acc: 0.8168\n",
      "val Bal. Acc: 0.8168\n",
      "Total time: 1:30:50.146574\n",
      "Epoch time: 6m 28s\n",
      "\n",
      "\n",
      "----------\n",
      "Epoch 14/49\n",
      "LR 5e-05\n",
      "[[7386.  114.]\n",
      " [  60. 7440.]]\n",
      "train: CE: 0.030162, MSE: 0.001036, loss: 0.027250\n",
      "train Acc: 0.9884\n",
      "train Bal. Acc: 0.9884\n"
     ]
    },
    {
     "name": "stderr",
     "output_type": "stream",
     "text": [
      "\r",
      "num_epochs:  30%|███████████████████▌                                             | 15/50 [1:37:18<3:46:46, 388.75s/it]"
     ]
    },
    {
     "name": "stdout",
     "output_type": "stream",
     "text": [
      "[[2500.    0.]\n",
      " [2190.  310.]]\n",
      "val: CE: 4.740947, MSE: 0.000906, loss: 4.266943\n",
      "val Acc: 0.5620\n",
      "val Bal. Acc: 0.5620\n",
      "Epoch    10: reducing learning rate of group 0 to 2.5000e-05.\n",
      "Total time: 1:37:18.695324\n",
      "Epoch time: 6m 29s\n",
      "\n",
      "\n",
      "----------\n",
      "Epoch 15/49\n",
      "LR 2.5e-05\n",
      "[[7449.   51.]\n",
      " [  37. 7463.]]\n",
      "train: CE: 0.017595, MSE: 0.000997, loss: 0.015935\n",
      "train Acc: 0.9941\n",
      "train Bal. Acc: 0.9941\n"
     ]
    },
    {
     "name": "stderr",
     "output_type": "stream",
     "text": [
      "\r",
      "num_epochs:  32%|████████████████████▊                                            | 16/50 [1:43:46<3:40:11, 388.58s/it]"
     ]
    },
    {
     "name": "stdout",
     "output_type": "stream",
     "text": [
      "[[2410.   90.]\n",
      " [  12. 2488.]]\n",
      "val: CE: 0.072944, MSE: 0.000889, loss: 0.065739\n",
      "val Acc: 0.9796\n",
      "val Bal. Acc: 0.9796\n",
      "saving best model\n",
      "Total time: 1:43:46.877900\n",
      "Epoch time: 6m 28s\n",
      "\n",
      "\n",
      "----------\n",
      "Epoch 16/49\n",
      "LR 2.5e-05\n",
      "[[7463.   37.]\n",
      " [  20. 7480.]]\n",
      "train: CE: 0.011364, MSE: 0.000988, loss: 0.010326\n",
      "train Acc: 0.9962\n",
      "train Bal. Acc: 0.9962\n"
     ]
    },
    {
     "name": "stderr",
     "output_type": "stream",
     "text": [
      "\r",
      "num_epochs:  34%|██████████████████████                                           | 17/50 [1:50:15<3:33:39, 388.46s/it]"
     ]
    },
    {
     "name": "stdout",
     "output_type": "stream",
     "text": [
      "[[2450.   50.]\n",
      " [  28. 2472.]]\n",
      "val: CE: 0.063174, MSE: 0.000873, loss: 0.056944\n",
      "val Acc: 0.9844\n",
      "val Bal. Acc: 0.9844\n",
      "saving best model\n",
      "Total time: 1:50:15.074226\n",
      "Epoch time: 6m 28s\n",
      "\n",
      "\n",
      "----------\n",
      "Epoch 17/49\n",
      "LR 2.5e-05\n",
      "[[7477.   23.]\n",
      " [  20. 7480.]]\n",
      "train: CE: 0.009292, MSE: 0.000977, loss: 0.008461\n",
      "train Acc: 0.9971\n",
      "train Bal. Acc: 0.9971\n"
     ]
    },
    {
     "name": "stderr",
     "output_type": "stream",
     "text": [
      "\r",
      "num_epochs:  36%|███████████████████████▍                                         | 18/50 [1:56:43<3:27:10, 388.44s/it]"
     ]
    },
    {
     "name": "stdout",
     "output_type": "stream",
     "text": [
      "[[2377.  123.]\n",
      " [  10. 2490.]]\n",
      "val: CE: 0.092412, MSE: 0.000870, loss: 0.083258\n",
      "val Acc: 0.9734\n",
      "val Bal. Acc: 0.9734\n",
      "Total time: 1:56:43.461616\n",
      "Epoch time: 6m 28s\n",
      "\n",
      "\n",
      "----------\n",
      "Epoch 18/49\n",
      "LR 2.5e-05\n",
      "[[7479.   21.]\n",
      " [   9. 7491.]]\n",
      "train: CE: 0.006275, MSE: 0.000970, loss: 0.005745\n",
      "train Acc: 0.9980\n",
      "train Bal. Acc: 0.9980\n"
     ]
    },
    {
     "name": "stderr",
     "output_type": "stream",
     "text": [
      "\r",
      "num_epochs:  38%|████████████████████████▋                                        | 19/50 [2:03:11<3:20:39, 388.38s/it]"
     ]
    },
    {
     "name": "stdout",
     "output_type": "stream",
     "text": [
      "[[2456.   44.]\n",
      " [  49. 2451.]]\n",
      "val: CE: 0.076706, MSE: 0.000859, loss: 0.069121\n",
      "val Acc: 0.9814\n",
      "val Bal. Acc: 0.9814\n",
      "Total time: 2:03:11.697713\n",
      "Epoch time: 6m 28s\n",
      "\n",
      "\n",
      "----------\n",
      "Epoch 19/49\n",
      "LR 2.5e-05\n",
      "[[7481.   19.]\n",
      " [  14. 7486.]]\n",
      "train: CE: 0.007444, MSE: 0.000961, loss: 0.006796\n",
      "train Acc: 0.9978\n",
      "train Bal. Acc: 0.9978\n"
     ]
    },
    {
     "name": "stderr",
     "output_type": "stream",
     "text": [
      "\r",
      "num_epochs:  40%|██████████████████████████                                       | 20/50 [2:09:39<3:14:08, 388.28s/it]"
     ]
    },
    {
     "name": "stdout",
     "output_type": "stream",
     "text": [
      "[[2445.   55.]\n",
      " [  42. 2458.]]\n",
      "val: CE: 0.080573, MSE: 0.000852, loss: 0.072601\n",
      "val Acc: 0.9806\n",
      "val Bal. Acc: 0.9806\n",
      "Total time: 2:09:39.758299\n",
      "Epoch time: 6m 28s\n",
      "\n",
      "\n",
      "----------\n",
      "Epoch 20/49\n",
      "LR 2.5e-05\n",
      "[[7483.   17.]\n",
      " [  13. 7487.]]\n",
      "train: CE: 0.006973, MSE: 0.000957, loss: 0.006371\n",
      "train Acc: 0.9980\n",
      "train Bal. Acc: 0.9980\n"
     ]
    },
    {
     "name": "stderr",
     "output_type": "stream",
     "text": [
      "\r",
      "num_epochs:  42%|███████████████████████████▎                                     | 21/50 [2:16:08<3:07:41, 388.32s/it]"
     ]
    },
    {
     "name": "stdout",
     "output_type": "stream",
     "text": [
      "[[2489.   11.]\n",
      " [ 206. 2294.]]\n",
      "val: CE: 0.182465, MSE: 0.000849, loss: 0.164303\n",
      "val Acc: 0.9566\n",
      "val Bal. Acc: 0.9566\n",
      "Total time: 2:16:08.151500\n",
      "Epoch time: 6m 28s\n",
      "\n",
      "\n",
      "----------\n",
      "Epoch 21/49\n",
      "LR 2.5e-05\n",
      "[[7.483e+03 1.700e+01]\n",
      " [7.000e+00 7.493e+03]]\n",
      "train: CE: 0.005569, MSE: 0.000950, loss: 0.005107\n",
      "train Acc: 0.9984\n",
      "train Bal. Acc: 0.9984\n"
     ]
    },
    {
     "name": "stderr",
     "output_type": "stream",
     "text": [
      "\r",
      "num_epochs:  44%|████████████████████████████▌                                    | 22/50 [2:22:36<3:01:11, 388.27s/it]"
     ]
    },
    {
     "name": "stdout",
     "output_type": "stream",
     "text": [
      "[[2482.   18.]\n",
      " [ 205. 2295.]]\n",
      "val: CE: 0.172086, MSE: 0.000838, loss: 0.154962\n",
      "val Acc: 0.9554\n",
      "val Bal. Acc: 0.9554\n",
      "Epoch    17: reducing learning rate of group 0 to 1.2500e-05.\n",
      "Total time: 2:22:36.326451\n",
      "Epoch time: 6m 28s\n",
      "\n",
      "\n",
      "----------\n",
      "Epoch 22/49\n",
      "LR 1.25e-05\n",
      "[[7.492e+03 8.000e+00]\n",
      " [3.000e+00 7.497e+03]]\n",
      "train: CE: 0.002881, MSE: 0.000939, loss: 0.002687\n",
      "train Acc: 0.9993\n",
      "train Bal. Acc: 0.9993\n"
     ]
    },
    {
     "name": "stderr",
     "output_type": "stream",
     "text": [
      "\r",
      "num_epochs:  46%|█████████████████████████████▉                                   | 23/50 [2:29:04<2:54:42, 388.24s/it]"
     ]
    },
    {
     "name": "stdout",
     "output_type": "stream",
     "text": [
      "[[2459.   41.]\n",
      " [  33. 2467.]]\n",
      "val: CE: 0.065461, MSE: 0.000832, loss: 0.058998\n",
      "val Acc: 0.9852\n",
      "val Bal. Acc: 0.9852\n",
      "saving best model\n",
      "Total time: 2:29:04.480056\n",
      "Epoch time: 6m 28s\n",
      "\n",
      "\n",
      "----------\n",
      "Epoch 23/49\n",
      "LR 1.25e-05\n",
      "[[7.498e+03 2.000e+00]\n",
      " [2.000e+00 7.498e+03]]\n",
      "train: CE: 0.001597, MSE: 0.000935, loss: 0.001531\n",
      "train Acc: 0.9997\n",
      "train Bal. Acc: 0.9997\n"
     ]
    },
    {
     "name": "stderr",
     "output_type": "stream",
     "text": [
      "\r",
      "num_epochs:  48%|███████████████████████████████▏                                 | 24/50 [2:35:32<2:48:13, 388.22s/it]"
     ]
    },
    {
     "name": "stdout",
     "output_type": "stream",
     "text": [
      "[[2463.   37.]\n",
      " [  55. 2445.]]\n",
      "val: CE: 0.073125, MSE: 0.000829, loss: 0.065895\n",
      "val Acc: 0.9816\n",
      "val Bal. Acc: 0.9816\n",
      "Total time: 2:35:32.664629\n",
      "Epoch time: 6m 28s\n",
      "\n",
      "\n",
      "----------\n",
      "Epoch 24/49\n",
      "LR 1.25e-05\n",
      "[[7.499e+03 1.000e+00]\n",
      " [2.000e+00 7.498e+03]]\n",
      "train: CE: 0.001375, MSE: 0.000931, loss: 0.001331\n",
      "train Acc: 0.9998\n",
      "train Bal. Acc: 0.9998\n"
     ]
    },
    {
     "name": "stderr",
     "output_type": "stream",
     "text": [
      "\r",
      "num_epochs:  50%|████████████████████████████████▌                                | 25/50 [2:42:00<2:41:41, 388.08s/it]"
     ]
    },
    {
     "name": "stdout",
     "output_type": "stream",
     "text": [
      "[[2475.   25.]\n",
      " [  77. 2423.]]\n",
      "val: CE: 0.083302, MSE: 0.000825, loss: 0.075055\n",
      "val Acc: 0.9796\n",
      "val Bal. Acc: 0.9796\n",
      "Total time: 2:42:00.397683\n",
      "Epoch time: 6m 28s\n",
      "\n",
      "\n",
      "----------\n",
      "Epoch 25/49\n",
      "LR 1.25e-05\n",
      "[[7.498e+03 2.000e+00]\n",
      " [4.000e+00 7.496e+03]]\n",
      "train: CE: 0.001810, MSE: 0.000927, loss: 0.001722\n",
      "train Acc: 0.9996\n",
      "train Bal. Acc: 0.9996\n"
     ]
    },
    {
     "name": "stderr",
     "output_type": "stream",
     "text": [
      "\r",
      "num_epochs:  52%|█████████████████████████████████▊                               | 26/50 [2:48:28<2:35:15, 388.15s/it]"
     ]
    },
    {
     "name": "stdout",
     "output_type": "stream",
     "text": [
      "[[2446.   54.]\n",
      " [  27. 2473.]]\n",
      "val: CE: 0.071209, MSE: 0.000821, loss: 0.064170\n",
      "val Acc: 0.9838\n",
      "val Bal. Acc: 0.9838\n",
      "Total time: 2:48:28.710699\n",
      "Epoch time: 6m 28s\n",
      "\n",
      "\n",
      "----------\n",
      "Epoch 26/49\n",
      "LR 1.25e-05\n",
      "[[7.498e+03 2.000e+00]\n",
      " [0.000e+00 7.500e+03]]\n",
      "train: CE: 0.000928, MSE: 0.000923, loss: 0.000927\n",
      "train Acc: 0.9999\n",
      "train Bal. Acc: 0.9999\n"
     ]
    },
    {
     "name": "stderr",
     "output_type": "stream",
     "text": [
      "\r",
      "num_epochs:  54%|███████████████████████████████████                              | 27/50 [2:54:56<2:28:45, 388.07s/it]"
     ]
    },
    {
     "name": "stdout",
     "output_type": "stream",
     "text": [
      "[[2453.   47.]\n",
      " [  25. 2475.]]\n",
      "val: CE: 0.065412, MSE: 0.000817, loss: 0.058953\n",
      "val Acc: 0.9856\n",
      "val Bal. Acc: 0.9856\n",
      "saving best model\n",
      "Total time: 2:54:56.615053\n",
      "Epoch time: 6m 28s\n",
      "\n",
      "\n",
      "----------\n",
      "Epoch 27/49\n",
      "LR 1.25e-05\n",
      "[[7.493e+03 7.000e+00]\n",
      " [3.000e+00 7.497e+03]]\n",
      "train: CE: 0.001911, MSE: 0.000919, loss: 0.001812\n",
      "train Acc: 0.9993\n",
      "train Bal. Acc: 0.9993\n"
     ]
    },
    {
     "name": "stderr",
     "output_type": "stream",
     "text": [
      "\r",
      "num_epochs:  56%|████████████████████████████████████▍                            | 28/50 [3:01:24<2:22:19, 388.14s/it]"
     ]
    },
    {
     "name": "stdout",
     "output_type": "stream",
     "text": [
      "[[2467.   33.]\n",
      " [  53. 2447.]]\n",
      "val: CE: 0.077449, MSE: 0.000813, loss: 0.069786\n",
      "val Acc: 0.9828\n",
      "val Bal. Acc: 0.9828\n",
      "Total time: 3:01:24.910454\n",
      "Epoch time: 6m 28s\n",
      "\n",
      "\n",
      "----------\n",
      "Epoch 28/49\n",
      "LR 1.25e-05\n",
      "[[7.499e+03 1.000e+00]\n",
      " [1.000e+00 7.499e+03]]\n",
      "train: CE: 0.001147, MSE: 0.000914, loss: 0.001123\n",
      "train Acc: 0.9999\n",
      "train Bal. Acc: 0.9999\n"
     ]
    },
    {
     "name": "stderr",
     "output_type": "stream",
     "text": [
      "\r",
      "num_epochs:  58%|█████████████████████████████████████▋                           | 29/50 [3:07:53<2:15:54, 388.31s/it]"
     ]
    },
    {
     "name": "stdout",
     "output_type": "stream",
     "text": [
      "[[2473.   27.]\n",
      " [  57. 2443.]]\n",
      "val: CE: 0.077138, MSE: 0.000807, loss: 0.069505\n",
      "val Acc: 0.9832\n",
      "val Bal. Acc: 0.9832\n",
      "Epoch    24: reducing learning rate of group 0 to 6.2500e-06.\n",
      "Total time: 3:07:53.606086\n",
      "Epoch time: 6m 29s\n",
      "\n",
      "\n",
      "----------\n",
      "Epoch 29/49\n",
      "LR 6.25e-06\n",
      "[[7.499e+03 1.000e+00]\n",
      " [0.000e+00 7.500e+03]]\n",
      "train: CE: 0.000828, MSE: 0.000910, loss: 0.000836\n",
      "train Acc: 0.9999\n",
      "train Bal. Acc: 0.9999\n"
     ]
    },
    {
     "name": "stderr",
     "output_type": "stream",
     "text": [
      "\r",
      "num_epochs:  60%|███████████████████████████████████████                          | 30/50 [3:14:21<2:09:23, 388.16s/it]"
     ]
    },
    {
     "name": "stdout",
     "output_type": "stream",
     "text": [
      "[[2477.   23.]\n",
      " [  76. 2424.]]\n",
      "val: CE: 0.086719, MSE: 0.000805, loss: 0.078128\n",
      "val Acc: 0.9802\n",
      "val Bal. Acc: 0.9802\n",
      "Total time: 3:14:21.435758\n",
      "Epoch time: 6m 28s\n",
      "\n",
      "\n",
      "----------\n",
      "Epoch 30/49\n",
      "LR 6.25e-06\n",
      "[[7.500e+03 0.000e+00]\n",
      " [1.000e+00 7.499e+03]]\n",
      "train: CE: 0.000757, MSE: 0.000908, loss: 0.000772\n",
      "train Acc: 0.9999\n",
      "train Bal. Acc: 0.9999\n"
     ]
    },
    {
     "name": "stderr",
     "output_type": "stream",
     "text": [
      "\r",
      "num_epochs:  62%|████████████████████████████████████████▎                        | 31/50 [3:20:50<2:02:59, 388.41s/it]"
     ]
    },
    {
     "name": "stdout",
     "output_type": "stream",
     "text": [
      "[[2463.   37.]\n",
      " [  33. 2467.]]\n",
      "val: CE: 0.064745, MSE: 0.000803, loss: 0.058351\n",
      "val Acc: 0.9860\n",
      "val Bal. Acc: 0.9860\n",
      "saving best model\n",
      "Total time: 3:20:50.435210\n",
      "Epoch time: 6m 29s\n",
      "\n",
      "\n",
      "----------\n",
      "Epoch 31/49\n",
      "LR 6.25e-06\n",
      "[[7.500e+03 0.000e+00]\n",
      " [2.000e+00 7.498e+03]]\n",
      "train: CE: 0.000819, MSE: 0.000906, loss: 0.000827\n",
      "train Acc: 0.9999\n",
      "train Bal. Acc: 0.9999\n"
     ]
    },
    {
     "name": "stderr",
     "output_type": "stream",
     "text": [
      "\r",
      "num_epochs:  64%|█████████████████████████████████████████▌                       | 32/50 [3:27:19<1:56:32, 388.49s/it]"
     ]
    },
    {
     "name": "stdout",
     "output_type": "stream",
     "text": [
      "[[2465.   35.]\n",
      " [  44. 2456.]]\n",
      "val: CE: 0.068548, MSE: 0.000801, loss: 0.061774\n",
      "val Acc: 0.9842\n",
      "val Bal. Acc: 0.9842\n",
      "Total time: 3:27:19.107978\n",
      "Epoch time: 6m 29s\n",
      "\n",
      "\n",
      "----------\n",
      "Epoch 32/49\n",
      "LR 6.25e-06\n",
      "[[7.500e+03 0.000e+00]\n",
      " [1.000e+00 7.499e+03]]\n",
      "train: CE: 0.000638, MSE: 0.000903, loss: 0.000664\n",
      "train Acc: 0.9999\n",
      "train Bal. Acc: 0.9999\n"
     ]
    },
    {
     "name": "stderr",
     "output_type": "stream",
     "text": [
      "\r",
      "num_epochs:  66%|██████████████████████████████████████████▉                      | 33/50 [3:33:47<1:50:02, 388.39s/it]"
     ]
    },
    {
     "name": "stdout",
     "output_type": "stream",
     "text": [
      "[[2470.   30.]\n",
      " [  61. 2439.]]\n",
      "val: CE: 0.074141, MSE: 0.000799, loss: 0.066807\n",
      "val Acc: 0.9818\n",
      "val Bal. Acc: 0.9818\n",
      "Total time: 3:33:47.267132\n",
      "Epoch time: 6m 28s\n",
      "\n",
      "\n",
      "----------\n",
      "Epoch 33/49\n",
      "LR 6.25e-06\n",
      "[[7500.    0.]\n",
      " [   0. 7500.]]\n",
      "train: CE: 0.000446, MSE: 0.000901, loss: 0.000491\n",
      "train Acc: 1.0000\n",
      "train Bal. Acc: 1.0000\n"
     ]
    },
    {
     "name": "stderr",
     "output_type": "stream",
     "text": [
      "\r",
      "num_epochs:  68%|████████████████████████████████████████████▏                    | 34/50 [3:40:15<1:43:35, 388.44s/it]"
     ]
    },
    {
     "name": "stdout",
     "output_type": "stream",
     "text": [
      "[[2468.   32.]\n",
      " [  57. 2443.]]\n",
      "val: CE: 0.070363, MSE: 0.000796, loss: 0.063407\n",
      "val Acc: 0.9822\n",
      "val Bal. Acc: 0.9822\n",
      "Total time: 3:40:15.822190\n",
      "Epoch time: 6m 29s\n",
      "\n",
      "\n",
      "----------\n",
      "Epoch 34/49\n",
      "LR 6.25e-06\n",
      "[[7500.    0.]\n",
      " [   0. 7500.]]\n",
      "train: CE: 0.000422, MSE: 0.000899, loss: 0.000469\n",
      "train Acc: 1.0000\n",
      "train Bal. Acc: 1.0000\n"
     ]
    },
    {
     "name": "stderr",
     "output_type": "stream",
     "text": [
      "\r",
      "num_epochs:  70%|█████████████████████████████████████████████▌                   | 35/50 [3:46:44<1:37:06, 388.43s/it]"
     ]
    },
    {
     "name": "stdout",
     "output_type": "stream",
     "text": [
      "[[2465.   35.]\n",
      " [  38. 2462.]]\n",
      "val: CE: 0.067500, MSE: 0.000794, loss: 0.060829\n",
      "val Acc: 0.9854\n",
      "val Bal. Acc: 0.9854\n",
      "Total time: 3:46:44.218327\n",
      "Epoch time: 6m 28s\n",
      "\n",
      "\n",
      "----------\n",
      "Epoch 35/49\n",
      "LR 6.25e-06\n",
      "[[7.499e+03 1.000e+00]\n",
      " [0.000e+00 7.500e+03]]\n",
      "train: CE: 0.000808, MSE: 0.000897, loss: 0.000817\n",
      "train Acc: 0.9999\n",
      "train Bal. Acc: 0.9999\n"
     ]
    },
    {
     "name": "stderr",
     "output_type": "stream",
     "text": [
      "\r",
      "num_epochs:  72%|██████████████████████████████████████████████▊                  | 36/50 [3:53:12<1:30:35, 388.28s/it]"
     ]
    },
    {
     "name": "stdout",
     "output_type": "stream",
     "text": [
      "[[2466.   34.]\n",
      " [  39. 2461.]]\n",
      "val: CE: 0.068024, MSE: 0.000792, loss: 0.061301\n",
      "val Acc: 0.9854\n",
      "val Bal. Acc: 0.9854\n",
      "Epoch    31: reducing learning rate of group 0 to 3.1250e-06.\n",
      "Total time: 3:53:12.159406\n",
      "Epoch time: 6m 28s\n",
      "\n",
      "\n",
      "----------\n",
      "Epoch 36/49\n",
      "LR 3.125e-06\n",
      "[[7500.    0.]\n",
      " [   0. 7500.]]\n",
      "train: CE: 0.000539, MSE: 0.000895, loss: 0.000575\n",
      "train Acc: 1.0000\n",
      "train Bal. Acc: 1.0000\n"
     ]
    },
    {
     "name": "stderr",
     "output_type": "stream",
     "text": [
      "\r",
      "num_epochs:  74%|████████████████████████████████████████████████                 | 37/50 [3:59:40<1:24:08, 388.35s/it]"
     ]
    },
    {
     "name": "stdout",
     "output_type": "stream",
     "text": [
      "[[2467.   33.]\n",
      " [  40. 2460.]]\n",
      "val: CE: 0.067916, MSE: 0.000791, loss: 0.061203\n",
      "val Acc: 0.9854\n",
      "val Bal. Acc: 0.9854\n",
      "Total time: 3:59:40.683204\n",
      "Epoch time: 6m 29s\n",
      "\n",
      "\n",
      "----------\n",
      "Epoch 37/49\n",
      "LR 3.125e-06\n",
      "[[7500.    0.]\n",
      " [   0. 7500.]]\n",
      "train: CE: 0.000471, MSE: 0.000894, loss: 0.000514\n",
      "train Acc: 1.0000\n",
      "train Bal. Acc: 1.0000\n"
     ]
    },
    {
     "name": "stderr",
     "output_type": "stream",
     "text": [
      "\r",
      "num_epochs:  76%|█████████████████████████████████████████████████▍               | 38/50 [4:06:08<1:17:37, 388.09s/it]"
     ]
    },
    {
     "name": "stdout",
     "output_type": "stream",
     "text": [
      "[[2469.   31.]\n",
      " [  53. 2447.]]\n",
      "val: CE: 0.069814, MSE: 0.000790, loss: 0.062912\n",
      "val Acc: 0.9832\n",
      "val Bal. Acc: 0.9832\n",
      "Total time: 4:06:08.143932\n",
      "Epoch time: 6m 27s\n",
      "\n",
      "\n",
      "----------\n",
      "Epoch 38/49\n",
      "LR 3.125e-06\n",
      "[[7500.    0.]\n",
      " [   0. 7500.]]\n",
      "train: CE: 0.000382, MSE: 0.000893, loss: 0.000433\n",
      "train Acc: 1.0000\n",
      "train Bal. Acc: 1.0000\n"
     ]
    },
    {
     "name": "stderr",
     "output_type": "stream",
     "text": [
      "\r",
      "num_epochs:  78%|██████████████████████████████████████████████████▋              | 39/50 [4:12:36<1:11:10, 388.18s/it]"
     ]
    },
    {
     "name": "stdout",
     "output_type": "stream",
     "text": [
      "[[2466.   34.]\n",
      " [  40. 2460.]]\n",
      "val: CE: 0.067570, MSE: 0.000789, loss: 0.060892\n",
      "val Acc: 0.9852\n",
      "val Bal. Acc: 0.9852\n",
      "Total time: 4:12:36.553880\n",
      "Epoch time: 6m 28s\n",
      "\n",
      "\n",
      "----------\n",
      "Epoch 39/49\n",
      "LR 3.125e-06\n",
      "[[7500.    0.]\n",
      " [   0. 7500.]]\n",
      "train: CE: 0.000494, MSE: 0.000892, loss: 0.000534\n",
      "train Acc: 1.0000\n",
      "train Bal. Acc: 1.0000\n"
     ]
    },
    {
     "name": "stderr",
     "output_type": "stream",
     "text": [
      "\r",
      "num_epochs:  80%|████████████████████████████████████████████████████             | 40/50 [4:19:04<1:04:41, 388.20s/it]"
     ]
    },
    {
     "name": "stdout",
     "output_type": "stream",
     "text": [
      "[[2468.   32.]\n",
      " [  40. 2460.]]\n",
      "val: CE: 0.066554, MSE: 0.000789, loss: 0.059977\n",
      "val Acc: 0.9856\n",
      "val Bal. Acc: 0.9856\n",
      "Total time: 4:19:04.777535\n",
      "Epoch time: 6m 28s\n",
      "\n",
      "\n",
      "----------\n",
      "Epoch 40/49\n",
      "LR 3.125e-06\n",
      "[[7500.    0.]\n",
      " [   0. 7500.]]\n",
      "train: CE: 0.000366, MSE: 0.000891, loss: 0.000419\n",
      "train Acc: 1.0000\n",
      "train Bal. Acc: 1.0000\n"
     ]
    },
    {
     "name": "stderr",
     "output_type": "stream",
     "text": [
      "\r",
      "num_epochs:  82%|██████████████████████████████████████████████████████▉            | 41/50 [4:25:32<58:13, 388.20s/it]"
     ]
    },
    {
     "name": "stdout",
     "output_type": "stream",
     "text": [
      "[[2473.   27.]\n",
      " [  58. 2442.]]\n",
      "val: CE: 0.069830, MSE: 0.000788, loss: 0.062926\n",
      "val Acc: 0.9830\n",
      "val Bal. Acc: 0.9830\n",
      "Total time: 4:25:32.990668\n",
      "Epoch time: 6m 28s\n",
      "\n",
      "\n",
      "----------\n",
      "Epoch 41/49\n",
      "LR 3.125e-06\n",
      "[[7500.    0.]\n",
      " [   0. 7500.]]\n",
      "train: CE: 0.000347, MSE: 0.000890, loss: 0.000402\n",
      "train Acc: 1.0000\n",
      "train Bal. Acc: 1.0000\n"
     ]
    },
    {
     "name": "stderr",
     "output_type": "stream",
     "text": [
      "\r",
      "num_epochs:  84%|████████████████████████████████████████████████████████▎          | 42/50 [4:32:01<51:45, 388.21s/it]"
     ]
    },
    {
     "name": "stdout",
     "output_type": "stream",
     "text": [
      "[[2467.   33.]\n",
      " [  44. 2456.]]\n",
      "val: CE: 0.068180, MSE: 0.000787, loss: 0.061440\n",
      "val Acc: 0.9846\n",
      "val Bal. Acc: 0.9846\n",
      "Total time: 4:32:01.217357\n",
      "Epoch time: 6m 28s\n",
      "\n",
      "\n",
      "----------\n",
      "Epoch 42/49\n",
      "LR 3.125e-06\n",
      "[[7500.    0.]\n",
      " [   0. 7500.]]\n",
      "train: CE: 0.000313, MSE: 0.000889, loss: 0.000370\n",
      "train Acc: 1.0000\n",
      "train Bal. Acc: 1.0000\n"
     ]
    },
    {
     "name": "stderr",
     "output_type": "stream",
     "text": [
      "\r",
      "num_epochs:  86%|█████████████████████████████████████████████████████████▌         | 43/50 [4:38:29<45:17, 388.15s/it]"
     ]
    },
    {
     "name": "stdout",
     "output_type": "stream",
     "text": [
      "[[2469.   31.]\n",
      " [  49. 2451.]]\n",
      "val: CE: 0.069306, MSE: 0.000786, loss: 0.062454\n",
      "val Acc: 0.9840\n",
      "val Bal. Acc: 0.9840\n",
      "Epoch    38: reducing learning rate of group 0 to 1.5625e-06.\n",
      "Total time: 4:38:29.245306\n",
      "Epoch time: 6m 28s\n",
      "\n",
      "\n",
      "----------\n",
      "Epoch 43/49\n",
      "LR 1.5625e-06\n",
      "[[7.500e+03 0.000e+00]\n",
      " [1.000e+00 7.499e+03]]\n",
      "train: CE: 0.000422, MSE: 0.000889, loss: 0.000469\n",
      "train Acc: 0.9999\n",
      "train Bal. Acc: 0.9999\n"
     ]
    },
    {
     "name": "stderr",
     "output_type": "stream",
     "text": [
      "\r",
      "num_epochs:  88%|██████████████████████████████████████████████████████████▉        | 44/50 [4:44:56<38:48, 388.01s/it]"
     ]
    },
    {
     "name": "stdout",
     "output_type": "stream",
     "text": [
      "[[2469.   31.]\n",
      " [  50. 2450.]]\n",
      "val: CE: 0.069315, MSE: 0.000785, loss: 0.062462\n",
      "val Acc: 0.9838\n",
      "val Bal. Acc: 0.9838\n",
      "Total time: 4:44:56.913634\n",
      "Epoch time: 6m 28s\n",
      "\n",
      "\n",
      "----------\n",
      "Epoch 44/49\n",
      "LR 1.5625e-06\n",
      "[[7500.    0.]\n",
      " [   0. 7500.]]\n",
      "train: CE: 0.000348, MSE: 0.000888, loss: 0.000402\n",
      "train Acc: 1.0000\n",
      "train Bal. Acc: 1.0000\n"
     ]
    },
    {
     "name": "stderr",
     "output_type": "stream",
     "text": [
      "\r",
      "num_epochs:  90%|████████████████████████████████████████████████████████████▎      | 45/50 [4:51:24<32:20, 388.00s/it]"
     ]
    },
    {
     "name": "stdout",
     "output_type": "stream",
     "text": [
      "[[2473.   27.]\n",
      " [  61. 2439.]]\n",
      "val: CE: 0.072597, MSE: 0.000785, loss: 0.065416\n",
      "val Acc: 0.9824\n",
      "val Bal. Acc: 0.9824\n",
      "Total time: 4:51:24.905570\n",
      "Epoch time: 6m 28s\n",
      "\n",
      "\n",
      "----------\n",
      "Epoch 45/49\n",
      "LR 1.5625e-06\n",
      "[[7500.    0.]\n",
      " [   0. 7500.]]\n",
      "train: CE: 0.000317, MSE: 0.000888, loss: 0.000374\n",
      "train Acc: 1.0000\n",
      "train Bal. Acc: 1.0000\n"
     ]
    },
    {
     "name": "stderr",
     "output_type": "stream",
     "text": [
      "\r",
      "num_epochs:  92%|█████████████████████████████████████████████████████████████▋     | 46/50 [4:57:52<25:51, 387.91s/it]"
     ]
    },
    {
     "name": "stdout",
     "output_type": "stream",
     "text": [
      "[[2467.   33.]\n",
      " [  41. 2459.]]\n",
      "val: CE: 0.068226, MSE: 0.000784, loss: 0.061482\n",
      "val Acc: 0.9852\n",
      "val Bal. Acc: 0.9852\n",
      "Total time: 4:57:52.581459\n",
      "Epoch time: 6m 28s\n",
      "\n",
      "\n",
      "----------\n",
      "Epoch 46/49\n",
      "LR 1.5625e-06\n",
      "[[7500.    0.]\n",
      " [   0. 7500.]]\n",
      "train: CE: 0.000401, MSE: 0.000887, loss: 0.000450\n",
      "train Acc: 1.0000\n",
      "train Bal. Acc: 1.0000\n"
     ]
    },
    {
     "name": "stderr",
     "output_type": "stream",
     "text": [
      "\r",
      "num_epochs:  94%|██████████████████████████████████████████████████████████████▉    | 47/50 [5:04:20<19:24, 388.06s/it]"
     ]
    },
    {
     "name": "stdout",
     "output_type": "stream",
     "text": [
      "[[2473.   27.]\n",
      " [  55. 2445.]]\n",
      "val: CE: 0.071072, MSE: 0.000784, loss: 0.064043\n",
      "val Acc: 0.9836\n",
      "val Bal. Acc: 0.9836\n",
      "Total time: 5:04:20.997841\n",
      "Epoch time: 6m 28s\n",
      "\n",
      "\n",
      "----------\n",
      "Epoch 47/49\n",
      "LR 1.5625e-06\n",
      "[[7500.    0.]\n",
      " [   0. 7500.]]\n",
      "train: CE: 0.000389, MSE: 0.000887, loss: 0.000439\n",
      "train Acc: 1.0000\n",
      "train Bal. Acc: 1.0000\n"
     ]
    },
    {
     "name": "stderr",
     "output_type": "stream",
     "text": [
      "\r",
      "num_epochs:  96%|████████████████████████████████████████████████████████████████▎  | 48/50 [5:10:48<12:55, 387.97s/it]"
     ]
    },
    {
     "name": "stdout",
     "output_type": "stream",
     "text": [
      "[[2463.   37.]\n",
      " [  35. 2465.]]\n",
      "val: CE: 0.065495, MSE: 0.000783, loss: 0.059024\n",
      "val Acc: 0.9856\n",
      "val Bal. Acc: 0.9856\n",
      "Total time: 5:10:48.767319\n",
      "Epoch time: 6m 28s\n",
      "\n",
      "\n",
      "----------\n",
      "Epoch 48/49\n",
      "LR 1.5625e-06\n",
      "[[7.499e+03 1.000e+00]\n",
      " [0.000e+00 7.500e+03]]\n",
      "train: CE: 0.000350, MSE: 0.000886, loss: 0.000404\n",
      "train Acc: 0.9999\n",
      "train Bal. Acc: 0.9999\n"
     ]
    },
    {
     "name": "stderr",
     "output_type": "stream",
     "text": [
      "\r",
      "num_epochs:  98%|█████████████████████████████████████████████████████████████████▋ | 49/50 [5:17:16<06:27, 387.94s/it]"
     ]
    },
    {
     "name": "stdout",
     "output_type": "stream",
     "text": [
      "[[2474.   26.]\n",
      " [  58. 2442.]]\n",
      "val: CE: 0.073541, MSE: 0.000783, loss: 0.066266\n",
      "val Acc: 0.9832\n",
      "val Bal. Acc: 0.9832\n",
      "Total time: 5:17:16.644565\n",
      "Epoch time: 6m 28s\n",
      "\n",
      "\n",
      "----------\n",
      "Epoch 49/49\n",
      "LR 1.5625e-06\n",
      "[[7500.    0.]\n",
      " [   0. 7500.]]\n",
      "train: CE: 0.000230, MSE: 0.000886, loss: 0.000295\n",
      "train Acc: 1.0000\n",
      "train Bal. Acc: 1.0000\n"
     ]
    },
    {
     "name": "stderr",
     "output_type": "stream",
     "text": [
      "num_epochs: 100%|███████████████████████████████████████████████████████████████████| 50/50 [5:23:44<00:00, 388.50s/it]"
     ]
    },
    {
     "name": "stdout",
     "output_type": "stream",
     "text": [
      "[[2472.   28.]\n",
      " [  51. 2449.]]\n",
      "val: CE: 0.070235, MSE: 0.000782, loss: 0.063290\n",
      "val Acc: 0.9842\n",
      "val Bal. Acc: 0.9842\n",
      "Epoch    45: reducing learning rate of group 0 to 7.8125e-07.\n",
      "Total time: 5:23:44.954949\n",
      "Epoch time: 6m 28s\n",
      "Best val loss: 0.058351\n",
      "Best val acc: 0.986000\n",
      "50\n"
     ]
    },
    {
     "name": "stderr",
     "output_type": "stream",
     "text": [
      "\n"
     ]
    },
    {
     "data": {
      "image/png": "[encoded data removed]",
      "text/plain": [
       "<Figure size 432x288 with 1 Axes>"
      ]
     },
     "metadata": {
      "needs_background": "light"
     },
     "output_type": "display_data"
    },
    {
     "name": "stdout",
     "output_type": "stream",
     "text": [
      "50\n"
     ]
    },
    {
     "data": {
      "image/png": "[encoded data removed]",
      "text/plain": [
       "<Figure size 432x288 with 1 Axes>"
      ]
     },
     "metadata": {
      "needs_background": "light"
     },
     "output_type": "display_data"
    },
    {
     "data": {
      "image/png": "[encoded data removed]",
      "text/plain": [
       "<Figure size 432x288 with 1 Axes>"
      ]
     },
     "metadata": {
      "needs_background": "light"
     },
     "output_type": "display_data"
    },
    {
     "name": "stdout",
     "output_type": "stream",
     "text": [
      "tensor([[2463.,   37.],\n",
      "        [  33., 2467.]])\n",
      "[2496. 2504.]\n",
      "[[0.9852 0.0148]\n",
      " [0.0132 0.9868]]\n",
      "\n",
      "\n",
      "\n"
     ]
    }
   ],
   "source": [
    "import torch\n",
    "import torch.optim as optim\n",
    "from torch.optim import lr_scheduler\n",
    "import copy\n",
    "\n",
    "for runs in range (0,4):\n",
    "    print(\"Fold-\",str(runs),\": Initializing Datasets and Dataloaders...\")\n",
    "#     trainpath =[X[i] for i in trainindex[runs]]\n",
    "#     testpath =[X[i] for i in testindex[runs]]\n",
    "    \n",
    "    trainpath2d =[X2d[i] for i in trainindex2d[runs]]\n",
    "    trainpath3d =[X3d[i] for i in trainindex3d[runs]]\n",
    "    testpath2d =[X2d[i] for i in testindex2d[runs]]\n",
    "    testpath3d =[X3d[i] for i in testindex3d[runs]]\n",
    "    image_datasets = {}\n",
    "    image_datasets['train'] = MyDataset(trainpath2d,trainpath3d)\n",
    "    image_datasets['val'] = MyDataset(testpath2d,testpath3d)\n",
    "    \n",
    "#     ImgIdx = 4\n",
    "#     [ImgTensor2d,ImgTensor3d,ImgLabel] = image_datasets['train'].__getitem__(ImgIdx)\n",
    "#     image2d = np.transpose(ImgTensor2d.numpy(), (1,2,0))\n",
    "#     image3d = np.transpose(np.squeeze(ImgTensor3d.numpy()), (1,2,0))\n",
    "#     DisplayImage(image2d,image2d.min(),image3d.max(),ImgIdx)\n",
    "#     DisplayImage(image3d,image3d.min(),image3d.max(),ImgIdx)\n",
    "\n",
    "    dataloaders_dict = {x: torch.utils.data.DataLoader(image_datasets[x], batch_size=batch_size, shuffle=True, num_workers=0) for x in ['train', 'val']}\n",
    "\n",
    "    # Detect if we have a GPU available\n",
    "    device = torch.device(\"cuda:0\" if torch.cuda.is_available() else \"cpu\")\n",
    "    num_class = 2\n",
    "    in_channel = 1\n",
    "    num_epochs = 50\n",
    "    loss_hist_train = []\n",
    "    while (len(loss_hist_train)<num_epochs/2):\n",
    "        model = UNet2D3D(num_class, in_channel)\n",
    "        model.apply(init_weights)\n",
    "#         model.half() \n",
    "        model\n",
    "        model = model.to(device)\n",
    "#         model = model.half()\n",
    "        # freeze backbone layers\n",
    "        # Comment out to finetune further\n",
    "        # for l in model.base_layers:\n",
    "        #     for param in l.parameters():\n",
    "        #         param.requires_grad = False\n",
    "\n",
    "        optimizer_ft1 = optim.Adam(model.parameters(), lr=1e-5,betas = (0.99, 0.9999),eps=1e-08,weight_decay=0)\n",
    "        optimizer_ft2 = optim.Adam(model.parameters(),lr=5e-5,betas = (0.99, 0.9999),eps=1e-08,weight_decay=0)\n",
    "        # optimizer_ft1 = optim.Adadelta(model.parameters(), lr=1e-3, rho=0.9, eps=1e-06, weight_decay=0)\n",
    "        # optimizer_ft2 = optim.Adadelta(model.parameters(), lr=1e-3, rho=0.9, eps=1e-06, weight_decay=0)\n",
    "        # exp_lr_scheduler = lr_scheduler.StepLR(optimizer_ft, step_size=10, gamma=0.1) \n",
    "        exp_lr_scheduler1 = lr_scheduler.ReduceLROnPlateau(optimizer_ft1, mode='min', factor=0.5, patience=4, verbose=True, threshold=0.0001, threshold_mode='rel', cooldown=2, min_lr=1e-7, eps=1e-08)\n",
    "        exp_lr_scheduler2 = lr_scheduler.ReduceLROnPlateau(optimizer_ft2, mode='min', factor=0.5, patience=4, verbose=True, threshold=0.0001, threshold_mode='rel', cooldown=2, min_lr=1e-7, eps=1e-08)       \n",
    "        model, scratch_hist_train,loss_hist_train,scratch_hist_val, loss_hist_val,lr_hist,train_Bacc_hist,val_Bacc_hist = train_model(model, dataloaders_dict,optimizer_ft1, optimizer_ft2, exp_lr_scheduler1,exp_lr_scheduler2, num_epochs)\n",
    "        if len(loss_hist_train)<num_epochs:\n",
    "            print('model diverges, reinitializing training....\\n')\n",
    "            print(\"Fold-\",str(runs),\": Initializing Datasets and Dataloaders...\")\n",
    "        \n",
    "    # num_epochs=15\n",
    "    shistVal = [h.cpu().numpy() for h in scratch_hist_val]\n",
    "    shistTrain= [h.cpu().numpy() for h in scratch_hist_train]\n",
    "    # shistBaccTrain= [h.cpu().numpy() for h in train_Bacc_hist]\n",
    "    # shistBaccVal= [h.cpu().numpy() for h in val_Bacc_hist]\n",
    "    # shistLossTrain= [h.cpu().numpy() for h in loss_hist_train]\n",
    "    # shistLossVal= [h.cpu().numpy() for h in loss_hist_val]\n",
    "    # shistLR= [h.cpu().numpy() for h in lr_hist]\n",
    "    fname1 = \"training_acc_\"+str(runs)+\".csv\"\n",
    "    np.savetxt(fname1,shistTrain, delimiter=\",\")\n",
    "    fname2 = \"validation_acc_\"+str(runs)+\".csv\"\n",
    "    np.savetxt(fname2,shistVal , delimiter=\",\")\n",
    "    fname13 = \"training_Bacc_\"+str(runs)+\".csv\"\n",
    "    np.savetxt(fname13,train_Bacc_hist, delimiter=\",\")\n",
    "    fname23 = \"validation_Bacc_\"+str(runs)+\".csv\"\n",
    "    np.savetxt(fname23,val_Bacc_hist, delimiter=\",\")\n",
    "    fname20 = \"training_loss_\"+str(runs)+\".csv\"\n",
    "    np.savetxt(fname20,loss_hist_train , delimiter=\",\")\n",
    "    fname21 = \"validation_loss_\"+str(runs)+\".csv\"\n",
    "    np.savetxt(fname21,loss_hist_val , delimiter=\",\")\n",
    "    fname22 = \"learning_rate_\"+str(runs)+\".csv\"\n",
    "    np.savetxt(fname22,lr_hist, delimiter=\",\")\n",
    "\n",
    "    shist = []\n",
    "    shist1 = []\n",
    "\n",
    "    shist = [h.cpu().numpy() for h in scratch_hist_val]\n",
    "    shist1 = [h.cpu().numpy() for h in scratch_hist_train]\n",
    "    print(len(shist))\n",
    "    plt.title(\"Training Accuracy vs. Number of Training Epochs\")\n",
    "    plt.xlabel(\"Training Epochs\")\n",
    "    plt.ylabel(\"Accuracy of Scratch Model\")\n",
    "    plt.plot(range(1,len(shist)+1),shist[0:len(shist)],label=\"Validation\")\n",
    "    plt.plot(range(1,len(shist)+1),shist1[0:len(shist)],label=\"Training\")\n",
    "    plt.ylim((0.5,1.))\n",
    "    plt.xticks(np.arange(0, num_epochs, 10.0))\n",
    "    plt.legend()\n",
    "    fname3 = 'training_curve_'+str(runs)+'.png'\n",
    "    plt.savefig(fname3)\n",
    "    plt.show()\n",
    "\n",
    "    shist = [h.cpu().numpy() for h in scratch_hist_val]\n",
    "    shist1 = [h.cpu().numpy() for h in scratch_hist_train]\n",
    "    print(len(shist))\n",
    "    plt.title(\"Classification Accuracy vs. Number of Training Epochs\")\n",
    "    plt.xlabel(\"Training Epochs\")\n",
    "    plt.ylabel(\"Accuracy of CNN Model\")\n",
    "    plt.plot(range(1,len(shist)+1),shist[0:len(shist)],label=\"Validation\")\n",
    "    plt.plot(range(1,len(shist)+1),shist1[0:len(shist)],label=\"Training\")\n",
    "    plt.ylim((0.3,1.1))\n",
    "    plt.xticks(np.arange(0, len(shist)+10, 5.0))\n",
    "    plt.legend()\n",
    "    fname3 = 'training_curve_'+str(runs)+'backup'+'.png'\n",
    "    plt.savefig(fname3)\n",
    "    plt.show()\n",
    "\n",
    "    train_loss = [h for h in loss_hist_train]\n",
    "    val_loss = [h for h in loss_hist_val]\n",
    "    plt.title(\"Cross-entropy Loss vs. Number of Training Epochs\")\n",
    "    plt.xlabel(\"Training Epochs\")\n",
    "    plt.ylabel(\"Cross-entropy Loss of CNN Model\")\n",
    "    plt.plot(range(1,len(val_loss)+1),val_loss[0:len(val_loss)],label=\"Validation\")\n",
    "    plt.plot(range(1,len(train_loss)+1),train_loss[0:len(train_loss)],label=\"Training\")\n",
    "    #     plt.ylim((0.5,1.05))\n",
    "    plt.xticks(np.arange(0, len(val_loss)+5, 5.0))\n",
    "    plt.legend()\n",
    "    fname31 = 'loss_curve_'+str(runs)+'.png'\n",
    "    plt.savefig(fname31)\n",
    "    plt.show()\n",
    "\n",
    "    confusion_matrix = torch.zeros(num_classes, num_classes)\n",
    "    with torch.no_grad():\n",
    "        for i, (inputs2d, inputs3d, classes) in enumerate(dataloaders_dict['val']):\n",
    "            inputs2d = inputs2d.type(torch.FloatTensor)\n",
    "            inputs2d = inputs2d.to(device)\n",
    "            inputs3d = inputs3d.type(torch.FloatTensor)\n",
    "            inputs3d = inputs3d.to(device)\n",
    "            classes = classes.to(device)\n",
    "            _,_, outputs = model(inputs2d, inputs3d)\n",
    "            _, preds = torch.max(outputs, 1)\n",
    "            for t, p in zip(classes.view(-1), preds.view(-1)):\n",
    "                    confusion_matrix[t.long(), p.long()] += 1\n",
    "\n",
    "    print(confusion_matrix)\n",
    "    confusionMat = np.asarray(confusion_matrix)\n",
    "    sumconfusion = np.sum(confusionMat,axis = 0)\n",
    "    print(sumconfusion)\n",
    "\n",
    "    import scipy\n",
    "    sumconfusion = np.sum(confusionMat,axis = 1).T\n",
    "    # print(np.tile(sumconfusion,(4,1)))\n",
    "    summat = np.tile(sumconfusion,(2,1)).T\n",
    "    # print(test)\n",
    "    percentconfusion = np.divide(confusionMat,summat)\n",
    "    print(percentconfusion)\n",
    "    fname4 = \"UNet_LiverStellate_confusionMat_\"+str(runs)+\".csv\"\n",
    "    np.savetxt(fname4,confusionMat , delimiter=\",\")\n",
    "    fname5 = \"UNet_LiverStellate_confusionPer_\"+str(runs)+\".csv\"\n",
    "    np.savetxt(fname5,percentconfusion , delimiter=\",\")\n",
    "    fname6 = 'UNet_LiverStellate_Run_'+str(runs)+'.pth.tar'\n",
    "\n",
    "    torch.save(model,fname6)\n",
    "    print('\\n\\n')"
   ]
  },
  {
   "cell_type": "code",
   "execution_count": null,
   "metadata": {},
   "outputs": [],
   "source": [
    "runs = 1\n",
    "shistVal = [h.cpu().numpy() for h in scratch_hist_val]\n",
    "shistTrain= [h.cpu().numpy() for h in scratch_hist_train]\n",
    "# shistBaccTrain= [h.cpu().numpy() for h in train_Bacc_hist]\n",
    "# shistBaccVal= [h.cpu().numpy() for h in val_Bacc_hist]\n",
    "# shistLossTrain= [h.cpu().numpy() for h in loss_hist_train]\n",
    "# shistLossVal= [h.cpu().numpy() for h in loss_hist_val]\n",
    "# shistLR= [h.cpu().numpy() for h in lr_hist]\n",
    "fname1 = \"training_acc_\"+str(runs)+\".csv\"\n",
    "np.savetxt(fname1,shistTrain, delimiter=\",\")\n",
    "fname2 = \"validation_acc_\"+str(runs)+\".csv\"\n",
    "np.savetxt(fname2,shistVal , delimiter=\",\")\n",
    "fname13 = \"training_Bacc_\"+str(runs)+\".csv\"\n",
    "np.savetxt(fname13,train_Bacc_hist, delimiter=\",\")\n",
    "fname23 = \"validation_Bacc_\"+str(runs)+\".csv\"\n",
    "np.savetxt(fname23,val_Bacc_hist, delimiter=\",\")\n",
    "fname20 = \"training_loss_\"+str(runs)+\".csv\"\n",
    "np.savetxt(fname20,loss_hist_train , delimiter=\",\")\n",
    "fname21 = \"validation_loss_\"+str(runs)+\".csv\"\n",
    "np.savetxt(fname21,loss_hist_val , delimiter=\",\")\n",
    "fname22 = \"learning_rate_\"+str(runs)+\".csv\"\n",
    "np.savetxt(fname22,lr_hist, delimiter=\",\")\n",
    "\n",
    "shist = []\n",
    "shist1 = []\n",
    "\n",
    "shist = [h.cpu().numpy() for h in scratch_hist_val]\n",
    "shist1 = [h.cpu().numpy() for h in scratch_hist_train]\n",
    "print(len(shist))\n",
    "plt.title(\"Training Accuracy vs. Number of Training Epochs\")\n",
    "plt.xlabel(\"Training Epochs\")\n",
    "plt.ylabel(\"Accuracy of Scratch Model\")\n",
    "plt.plot(range(1,len(shist)+1),shist[0:len(shist)],label=\"Validation\")\n",
    "plt.plot(range(1,len(shist)+1),shist1[0:len(shist)],label=\"Training\")\n",
    "plt.ylim((0.5,1.))\n",
    "plt.xticks(np.arange(0, num_epochs, 10.0))\n",
    "plt.legend()\n",
    "fname3 = 'training_curve_'+str(runs)+'.png'\n",
    "plt.savefig(fname3)\n",
    "plt.show()\n",
    "\n",
    "shist = [h.cpu().numpy() for h in scratch_hist_val]\n",
    "shist1 = [h.cpu().numpy() for h in scratch_hist_train]\n",
    "print(len(shist))\n",
    "plt.title(\"Classification Accuracy vs. Number of Training Epochs\")\n",
    "plt.xlabel(\"Training Epochs\")\n",
    "plt.ylabel(\"Accuracy of CNN Model\")\n",
    "plt.plot(range(1,len(shist)+1),shist[0:len(shist)],label=\"Validation\")\n",
    "plt.plot(range(1,len(shist)+1),shist1[0:len(shist)],label=\"Training\")\n",
    "plt.ylim((0.3,1.1))\n",
    "plt.xticks(np.arange(0, len(shist)+10, 5.0))\n",
    "plt.legend()\n",
    "fname3 = 'training_curve_'+str(runs)+'backup'+'.png'\n",
    "plt.savefig(fname3)\n",
    "plt.show()\n",
    "\n",
    "train_loss = [h for h in loss_hist_train]\n",
    "val_loss = [h for h in loss_hist_val]\n",
    "plt.title(\"Cross-entropy Loss vs. Number of Training Epochs\")\n",
    "plt.xlabel(\"Training Epochs\")\n",
    "plt.ylabel(\"Cross-entropy Loss of CNN Model\")\n",
    "plt.plot(range(1,len(val_loss)+1),val_loss[0:len(val_loss)],label=\"Validation\")\n",
    "plt.plot(range(1,len(train_loss)+1),train_loss[0:len(train_loss)],label=\"Training\")\n",
    "#     plt.ylim((0.5,1.05))\n",
    "plt.xticks(np.arange(0, len(val_loss)+5, 5.0))\n",
    "plt.legend()\n",
    "fname31 = 'loss_curve_'+str(runs)+'.png'\n",
    "plt.savefig(fname31)\n",
    "plt.show()\n",
    "\n",
    "confusion_matrix = torch.zeros(num_classes, num_classes)\n",
    "with torch.no_grad():\n",
    "    for i, (inputs2d, inputs3d, classes) in enumerate(dataloaders_dict['val']):\n",
    "        inputs2d = inputs2d.type(torch.FloatTensor)\n",
    "        inputs2d = inputs2d.to(device)\n",
    "        inputs3d = inputs3d.type(torch.FloatTensor)\n",
    "        inputs3d = inputs3d.to(device)\n",
    "        classes = classes.to(device)\n",
    "        _,_, outputs = model(inputs2d, inputs3d)\n",
    "        _, preds = torch.max(outputs, 1)\n",
    "        for t, p in zip(classes.view(-1), preds.view(-1)):\n",
    "                confusion_matrix[t.long(), p.long()] += 1\n",
    "\n",
    "print(confusion_matrix)\n",
    "confusionMat = np.asarray(confusion_matrix)\n",
    "sumconfusion = np.sum(confusionMat,axis = 0)\n",
    "print(sumconfusion)\n",
    "\n",
    "import scipy\n",
    "sumconfusion = np.sum(confusionMat,axis = 1).T\n",
    "# print(np.tile(sumconfusion,(4,1)))\n",
    "summat = np.tile(sumconfusion,(2,1)).T\n",
    "# print(test)\n",
    "percentconfusion = np.divide(confusionMat,summat)\n",
    "print(percentconfusion)\n",
    "fname4 = \"UNet_LiverStellate_confusionMat_\"+str(runs)+\".csv\"\n",
    "np.savetxt(fname4,confusionMat , delimiter=\",\")\n",
    "fname5 = \"UNet_LiverStellate_confusionPer_\"+str(runs)+\".csv\"\n",
    "np.savetxt(fname5,percentconfusion , delimiter=\",\")\n",
    "fname6 = 'UNet_LiverStellate_Run_'+str(runs)+'.pth.tar'\n",
    "\n",
    "torch.save(model,fname6)"
   ]
  },
  {
   "cell_type": "code",
   "execution_count": 19,
   "metadata": {},
   "outputs": [],
   "source": [
    "import pandas as pd\n",
    "\n",
    "df = pd.read_csv (r'./UNet_LiverStellate_confusionPer_0.csv',header=None)\n",
    "ConfuMat0 = df.to_numpy()\n",
    "df = pd.read_csv (r'./UNet_LiverStellate_confusionPer_1.csv',header=None)\n",
    "ConfuMat1 = df.to_numpy()\n",
    "df = pd.read_csv (r'./UNet_LiverStellate_confusionPer_2.csv',header=None)\n",
    "ConfuMat2 = df.to_numpy()\n",
    "df = pd.read_csv (r'./UNet_LiverStellate_confusionPer_3.csv',header=None)\n",
    "ConfuMat3 = df.to_numpy()"
   ]
  },
  {
   "cell_type": "code",
   "execution_count": 30,
   "metadata": {},
   "outputs": [
    {
     "data": {
      "image/png": "[encoded data removed]",
      "text/plain": [
       "<Figure size 288x288 with 1 Axes>"
      ]
     },
     "metadata": {
      "needs_background": "light"
     },
     "output_type": "display_data"
    },
    {
     "data": {
      "image/png": "[encoded data removed]",
      "text/plain": [
       "<Figure size 288x288 with 1 Axes>"
      ]
     },
     "metadata": {
      "needs_background": "light"
     },
     "output_type": "display_data"
    },
    {
     "data": {
      "image/png": "[encoded data removed]",
      "text/plain": [
       "<Figure size 288x288 with 1 Axes>"
      ]
     },
     "metadata": {
      "needs_background": "light"
     },
     "output_type": "display_data"
    },
    {
     "data": {
      "image/png": "[encoded data removed]",
      "text/plain": [
       "<Figure size 288x288 with 1 Axes>"
      ]
     },
     "metadata": {
      "needs_background": "light"
     },
     "output_type": "display_data"
    }
   ],
   "source": [
    "GroupName = ['Healthy','Diseased']\n",
    "categories = GroupName\n",
    "make_confusion_matrix(ConfuMat0, \n",
    "                      #group_names=labels,\n",
    "                      categories=categories,\n",
    "                      percent=False,\n",
    "                      cbar=False,\n",
    "                      figsize=(4 ,4),\n",
    "                      cmap='Blues',title = 'Fused UNet - Stellate Cell-Fold 0')\n",
    "make_confusion_matrix(ConfuMat1, \n",
    "                      #group_names=labels,\n",
    "                      categories=categories,\n",
    "                      percent=False,\n",
    "                      cbar=False,\n",
    "                      figsize=(4 ,4),\n",
    "                      cmap='Blues',title = 'Fused UNet - Stellate Cell-Fold 1')\n",
    "make_confusion_matrix(ConfuMat2, \n",
    "                      #group_names=labels,\n",
    "                      categories=categories,\n",
    "                      percent=False,\n",
    "                      cbar=False,\n",
    "                      figsize=(4 ,4),\n",
    "                      cmap='Blues',title = 'Fused UNet - Stellate Cell-Fold 2')\n",
    "make_confusion_matrix(ConfuMat3, \n",
    "                      #group_names=labels,\n",
    "                      categories=categories,\n",
    "                      percent=False,\n",
    "                      cbar=False,\n",
    "                      figsize=(4 ,4),\n",
    "                      cmap='Blues',title = 'Fused UNet - Stellate Cell-Fold 3')"
   ]
  },
  {
   "cell_type": "code",
   "execution_count": 24,
   "metadata": {},
   "outputs": [
    {
     "data": {
      "image/png": "[encoded data removed]",
      "text/plain": [
       "<Figure size 432x288 with 1 Axes>"
      ]
     },
     "metadata": {
      "needs_background": "light"
     },
     "output_type": "display_data"
    }
   ],
   "source": [
    "import pandas as pd\n",
    "\n",
    "df = pd.read_csv (r'./training_loss_0.csv',header=None)\n",
    "TrainLoss0 = df.to_numpy()\n",
    "df = pd.read_csv (r'./training_loss_1.csv',header=None)\n",
    "TrainLoss1 = df.to_numpy()\n",
    "df = pd.read_csv (r'./training_loss_2.csv',header=None)\n",
    "TrainLoss2 = df.to_numpy()\n",
    "df = pd.read_csv (r'./training_loss_3.csv',header=None)\n",
    "TrainLoss3 = df.to_numpy()\n",
    "# df = pd.read_csv (r'./SuccessfulModelTraining1007/training_loss_4.csv',header=None)\n",
    "# TrainLoss4 = df.to_numpy()\n",
    "\n",
    "df = pd.read_csv (r'./validation_loss_0.csv',header=None)\n",
    "ValLoss0 = df.to_numpy()\n",
    "df = pd.read_csv (r'./validation_loss_1.csv',header=None)\n",
    "ValLoss1 = df.to_numpy()\n",
    "df = pd.read_csv (r'./validation_loss_2.csv',header=None)\n",
    "ValLoss2 = df.to_numpy()\n",
    "df = pd.read_csv (r'./validation_loss_3.csv',header=None)\n",
    "ValLoss3 = df.to_numpy()\n",
    "# df = pd.read_csv (r'./SuccessfulModelTraining1007/validation_loss_4.csv',header=None)\n",
    "# ValLoss4 = df.to_numpy()\n",
    "\n",
    "plt.figure()\n",
    "plt.plot(TrainLoss0,label = 'Fold-0 (Train)', color='royalblue', linestyle = '--')\n",
    "plt.plot(ValLoss0,label = 'Fold-0 (Validation)', color='darkblue', linestyle = '-')\n",
    "plt.plot(TrainLoss1,label = 'Fold-1 (Train)', color='green', linestyle = '--')\n",
    "plt.plot(ValLoss1,label = 'Fold-1 (Validation)', color='darkgreen', linestyle = '-')\n",
    "plt.plot(TrainLoss2,label = 'Fold-2 (Train)', color='darkorange', linestyle = '--')\n",
    "plt.plot(ValLoss2,label = 'Fold-2 (Validation)', color='goldenrod', linestyle = '-')\n",
    "plt.plot(TrainLoss3,label = 'Fold-3 (Train)', color='orangered', linestyle = '--')\n",
    "plt.plot(ValLoss3,label = 'Fold-3 (Validation)', color='maroon', linestyle = '-')\n",
    "# plt.plot(TrainLoss4,label = 'Fold-4 (Train)', color='magenta', linestyle = '--')\n",
    "# plt.plot(ValLoss4,label = 'Fold-4 (Validation)', color='purple', linestyle = '-')\n",
    "plt.title('loss curves')\n",
    "plt.xlabel('epochs')\n",
    "plt.ylabel('weighted loss')\n",
    "plt.legend(bbox_to_anchor=(1.1, 1))\n",
    "plt.show()"
   ]
  },
  {
   "cell_type": "code",
   "execution_count": 36,
   "metadata": {},
   "outputs": [
    {
     "data": {
      "image/png": "[encoded data removed]",
      "text/plain": [
       "<Figure size 432x288 with 1 Axes>"
      ]
     },
     "metadata": {
      "needs_background": "light"
     },
     "output_type": "display_data"
    }
   ],
   "source": [
    "import pandas as pd\n",
    "\n",
    "df = pd.read_csv (r'./training_Bacc_0.csv',header=None)\n",
    "TrainLoss0 = df.to_numpy()\n",
    "df = pd.read_csv (r'./training_Bacc_1.csv',header=None)\n",
    "TrainLoss1 = df.to_numpy()\n",
    "df = pd.read_csv (r'./training_Bacc_2.csv',header=None)\n",
    "TrainLoss2 = df.to_numpy()\n",
    "df = pd.read_csv (r'./training_Bacc_3.csv',header=None)\n",
    "TrainLoss3 = df.to_numpy()\n",
    "# df = pd.read_csv (r'./SuccessfulModelTraining1007/training_loss_4.csv',header=None)\n",
    "# TrainLoss4 = df.to_numpy()\n",
    "\n",
    "df = pd.read_csv (r'./validation_Bacc_0.csv',header=None)\n",
    "ValLoss0 = df.to_numpy()\n",
    "df = pd.read_csv (r'./validation_Bacc_1.csv',header=None)\n",
    "ValLoss1 = df.to_numpy()\n",
    "df = pd.read_csv (r'./validation_Bacc_2.csv',header=None)\n",
    "ValLoss2 = df.to_numpy()\n",
    "df = pd.read_csv (r'./validation_Bacc_3.csv',header=None)\n",
    "ValLoss3 = df.to_numpy()\n",
    "# df = pd.read_csv (r'./SuccessfulModelTraining1007/validation_loss_4.csv',header=None)\n",
    "# ValLoss4 = df.to_numpy()\n",
    "\n",
    "plt.figure()\n",
    "plt.plot(TrainLoss0,label = 'Fold-0 (Train)', color='royalblue', linestyle = '--')\n",
    "plt.plot(ValLoss0,label = 'Fold-0 (Validation)', color='darkblue', linestyle = '-')\n",
    "plt.plot(TrainLoss1,label = 'Fold-1 (Train)', color='green', linestyle = '--')\n",
    "plt.plot(ValLoss1,label = 'Fold-1 (Validation)', color='darkgreen', linestyle = '-')\n",
    "plt.plot(TrainLoss2,label = 'Fold-2 (Train)', color='darkorange', linestyle = '--')\n",
    "plt.plot(ValLoss2,label = 'Fold-2 (Validation)', color='goldenrod', linestyle = '-')\n",
    "plt.plot(TrainLoss3,label = 'Fold-3 (Train)', color='orangered', linestyle = '--')\n",
    "plt.plot(ValLoss3,label = 'Fold-3 (Validation)', color='maroon', linestyle = '-')\n",
    "# plt.plot(TrainLoss4,label = 'Fold-4 (Train)', color='magenta', linestyle = '--')\n",
    "# plt.plot(ValLoss4,label = 'Fold-4 (Validation)', color='purple', linestyle = '-')\n",
    "plt.title('Balance accuracy curves')\n",
    "plt.xlabel('epochs')\n",
    "plt.ylabel('Balance accuracy')\n",
    "plt.legend(bbox_to_anchor=(1.1, 0.7))\n",
    "plt.show()"
   ]
  },
  {
   "cell_type": "code",
   "execution_count": 26,
   "metadata": {},
   "outputs": [
    {
     "data": {
      "image/png": "[encoded data removed]",
      "text/plain": [
       "<Figure size 432x288 with 1 Axes>"
      ]
     },
     "metadata": {
      "needs_background": "light"
     },
     "output_type": "display_data"
    }
   ],
   "source": [
    "df = pd.read_csv (r'./learning_rate_0.csv',header=None)\n",
    "LearnRate0 = df.to_numpy()\n",
    "df = pd.read_csv (r'./learning_rate_1.csv',header=None)\n",
    "LearnRate1 = df.to_numpy()\n",
    "df = pd.read_csv (r'./learning_rate_2.csv',header=None)\n",
    "LearnRate2 = df.to_numpy()\n",
    "df = pd.read_csv (r'./learning_rate_3.csv',header=None)\n",
    "LearnRate3 = df.to_numpy()\n",
    "# df = pd.read_csv (r'./SuccessfulModelTraining1007/learning_rate_4.csv',header=None)\n",
    "# LearnRate4 = df.to_numpy()\n",
    "\n",
    "plt.figure()\n",
    "plt.plot(LearnRate0,label = 'Fold-0', color='darkblue', linestyle = '-')\n",
    "plt.plot(LearnRate1,label = 'Fold-1', color='darkgreen', linestyle = '-')\n",
    "plt.plot(LearnRate2,label = 'Fold-2', color='goldenrod', linestyle = '-')\n",
    "plt.plot(LearnRate3,label = 'Fold-3', color='maroon', linestyle = '-')\n",
    "# plt.plot(LearnRate4,label = 'Fold-4', color='purple', linestyle = '-')\n",
    "plt.title('learning rate curves')\n",
    "plt.xlabel('epochs')\n",
    "plt.ylabel('learning rate')\n",
    "plt.legend(bbox_to_anchor=(1.1, 1))\n",
    "plt.show()"
   ]
  },
  {
   "cell_type": "code",
   "execution_count": null,
   "metadata": {},
   "outputs": [],
   "source": [
    "type(scratch_hist_train)"
   ]
  },
  {
   "cell_type": "code",
   "execution_count": 29,
   "metadata": {},
   "outputs": [],
   "source": [
    "import seaborn as sns\n",
    "def make_confusion_matrix(cf,\n",
    "                          group_names=None,\n",
    "                          categories='auto',\n",
    "                          count=True,\n",
    "                          percent=True,\n",
    "                          cbar=True,\n",
    "                          xyticks=True,\n",
    "                          xyplotlabels=True,\n",
    "                          sum_stats=True,\n",
    "                          figsize=None,\n",
    "                          cmap='Blues',\n",
    "                          title=None):\n",
    "    '''\n",
    "    This function will make a pretty plot of an sklearn Confusion Matrix cm using a Seaborn heatmap visualization.\n",
    "    Arguments\n",
    "    ---------\n",
    "    cf:            confusion matrix to be passed in\n",
    "    group_names:   List of strings that represent the labels row by row to be shown in each square.\n",
    "    categories:    List of strings containing the categories to be displayed on the x,y axis. Default is 'auto'\n",
    "    count:         If True, show the raw number in the confusion matrix. Default is True.\n",
    "    normalize:     If True, show the proportions for each category. Default is True.\n",
    "    cbar:          If True, show the color bar. The cbar values are based off the values in the confusion matrix.\n",
    "                   Default is True.\n",
    "    xyticks:       If True, show x and y ticks. Default is True.\n",
    "    xyplotlabels:  If True, show 'True Label' and 'Predicted Label' on the figure. Default is True.\n",
    "    sum_stats:     If True, display summary statistics below the figure. Default is True.\n",
    "    figsize:       Tuple representing the figure size. Default will be the matplotlib rcParams value.\n",
    "    cmap:          Colormap of the values displayed from matplotlib.pyplot.cm. Default is 'Blues'\n",
    "                   See http://matplotlib.org/examples/color/colormaps_reference.html\n",
    "                   \n",
    "    title:         Title for the heatmap. Default is None.\n",
    "    '''\n",
    "\n",
    "\n",
    "    # CODE TO GENERATE TEXT INSIDE EACH SQUARE\n",
    "    blanks = ['' for i in range(cf.size)]\n",
    "\n",
    "    if group_names and len(group_names)==cf.size:\n",
    "        group_labels = [\"{}\\n\".format(value) for value in group_names]\n",
    "    else:\n",
    "        group_labels = blanks\n",
    "\n",
    "    if count:\n",
    "        group_counts = [\"{0:0.1%}\\n\".format(value) for value in cf.flatten()]\n",
    "    else:\n",
    "        group_counts = blanks\n",
    "\n",
    "    if percent:\n",
    "        group_percentages = [\"{0:.2%}\".format(value) for value in cf.flatten()/np.tile(np.sum(cf,axis = 0),(3,))]\n",
    "    else:\n",
    "        group_percentages = blanks\n",
    "\n",
    "    box_labels = [f\"{v1}{v2}{v3}\".strip() for v1, v2, v3 in zip(group_labels,group_counts,group_percentages)]\n",
    "    box_labels = np.asarray(box_labels).reshape(cf.shape[0],cf.shape[1])\n",
    "\n",
    "\n",
    "    # CODE TO GENERATE SUMMARY STATISTICS & TEXT FOR SUMMARY STATS\n",
    "    if sum_stats:\n",
    "        #Accuracy is sum of diagonal divided by total observations\n",
    "        accuracy  = np.trace(cf) / float(np.sum(cf))\n",
    "#         accuracy  = np.trace(cf) / 3\n",
    "        #if it is a binary confusion matrix, show some more stats\n",
    "        if len(cf)==2:\n",
    "            #Metrics for Binary Confusion Matrices\n",
    "            precision = cf[1,1] / sum(cf[:,1])\n",
    "            recall    = cf[1,1] / sum(cf[1,:])\n",
    "            f1_score  = 2*precision*recall / (precision + recall)\n",
    "            stats_text = \"\\n\\nAccuracy={:0.3f}\\nPrecision={:0.3f}\\nRecall={:0.3f}\\nF1 Score={:0.3f}\".format(\n",
    "                accuracy,precision,recall,f1_score)\n",
    "        else:\n",
    "            stats_text = \"\\n\\nBalanced Accuracy={:0.3f}\".format(accuracy)\n",
    "    else:\n",
    "        stats_text = \"\"\n",
    "\n",
    "\n",
    "    # SET FIGURE PARAMETERS ACCORDING TO OTHER ARGUMENTS\n",
    "    if figsize==None:\n",
    "        #Get default figure size if not set\n",
    "        figsize = plt.rcParams.get('figure.figsize')\n",
    "\n",
    "    if xyticks==False:\n",
    "        #Do not show categories if xyticks is False\n",
    "        categories=False\n",
    "\n",
    "\n",
    "    # MAKE THE HEATMAP VISUALIZATION\n",
    "    plt.figure(figsize=figsize)\n",
    "    sns.heatmap(cf,annot=box_labels,fmt=\"\",cmap=cmap,cbar=cbar,xticklabels=categories,yticklabels=categories, annot_kws={\"size\": 20})\n",
    "\n",
    "    if xyplotlabels:\n",
    "        plt.ylabel('True label',fontsize = 15)\n",
    "        plt.xlabel('Predicted label' + stats_text,fontsize = 15)\n",
    "    else:\n",
    "        plt.xlabel(stats_text,fontsize = 15)\n",
    "    \n",
    "    if title:\n",
    "        plt.title(title,fontsize = 15)"
   ]
  },
  {
   "cell_type": "code",
   "execution_count": null,
   "metadata": {},
   "outputs": [],
   "source": [
    "categories = CellName\n",
    "make_confusion_matrix(percentconfusion, \n",
    "                      #group_names=labels,\n",
    "                      categories=categories,\n",
    "                      percent=False,\n",
    "                      cbar=False,\n",
    "                      figsize=(4 ,4),\n",
    "                      cmap='Greens',title = '3DCNN UNet - 3D Input')"
   ]
  },
  {
   "cell_type": "code",
   "execution_count": null,
   "metadata": {},
   "outputs": [],
   "source": [
    "class Flatten(nn.Module):\n",
    "    def __init__(self):\n",
    "        super(Flatten, self).__init__()\n",
    "        \n",
    "    def forward(self, x):\n",
    "        return x.view(x.size(0),-1)"
   ]
  },
  {
   "cell_type": "code",
   "execution_count": null,
   "metadata": {},
   "outputs": [],
   "source": [
    "class maxpool(nn.Module):\n",
    "    def __init__(self):\n",
    "        super(maxpool, self).__init__()\n",
    "        self.maxpool = nn.MaxPool3d(2)\n",
    "        \n",
    "    def forward(self, x):\n",
    "        x = self.maxpool(x)\n",
    "        return x"
   ]
  },
  {
   "cell_type": "code",
   "execution_count": null,
   "metadata": {},
   "outputs": [],
   "source": [
    "# Initialize the non-pretrained version of the model used for this run\n",
    "scratch_model = torch.load('celltypemodel-unet_80rech_Run_1.pth.tar')\n",
    "scratch_model_fc = nn.Sequential(*(list(scratch_model.children())[:1]),maxpool(),*(list(scratch_model.children())[1:2]),maxpool(),*(list(scratch_model.children())[2:3]),maxpool(),*(list(scratch_model.children())[3:4]),maxpool(),*(list(scratch_model.children())[4:5]),maxpool(),Flatten(),*(list(scratch_model.children())[-5:-4]))\n",
    "# scratch_model_fc = nn.Sequential(*list(scratch_model.children())[:-3])\n",
    "scratch_model_fc = scratch_model_fc.to(device)\n",
    "scratch_model_fc.eval()"
   ]
  },
  {
   "cell_type": "code",
   "execution_count": null,
   "metadata": {},
   "outputs": [],
   "source": [
    "# list(scratch_model.children())"
   ]
  },
  {
   "cell_type": "code",
   "execution_count": null,
   "metadata": {},
   "outputs": [],
   "source": [
    "#testing\n",
    "image_datasets = {}\n",
    "test_datasets ={}\n",
    "image_datasets['train'] = MyDataset(trainpath)\n",
    "image_datasets['val'] = MyDataset(valpath)\n",
    "image_datasets['val'].__getitem__(0)[0].shape"
   ]
  },
  {
   "cell_type": "code",
   "execution_count": null,
   "metadata": {},
   "outputs": [],
   "source": []
  },
  {
   "cell_type": "code",
   "execution_count": null,
   "metadata": {},
   "outputs": [],
   "source": [
    "print(\"Initializing Datasets and Dataloaders...\")\n",
    "# Number of classes in the dataset\n",
    "num_classes = 3\n",
    "\n",
    "# Batch size for training (change depending on how much memory you have)\n",
    "batch_size = 64\n",
    "# Create training and test dataloaders\n",
    "dataloaders_dict = {x: torch.utils.data.DataLoader(image_datasets[x], batch_size=batch_size, shuffle=False, num_workers=0) for x in ['train', 'val']}\n",
    "\n",
    "# Detect if we have a GPU available\n",
    "device = torch.device(\"cuda:0\" if torch.cuda.is_available() else \"cpu\")"
   ]
  },
  {
   "cell_type": "code",
   "execution_count": null,
   "metadata": {},
   "outputs": [],
   "source": [
    "with torch.no_grad():\n",
    "    for i, (inputs, classes) in enumerate(dataloaders_dict['val']):\n",
    "        inputs = inputs.type(torch.FloatTensor)\n",
    "        inputs = inputs.to(device)\n",
    "        classes = classes.to(device)\n",
    "        outputs = scratch_model_fc(inputs)\n",
    "        outputs = outputs.cpu().clone().numpy()\n",
    "        if i == 0:\n",
    "            outputlist = outputs\n",
    "            y = classes.cpu().clone().numpy()\n",
    "        else:\n",
    "            outputlist = np.append(outputlist,outputs, axis=0)\n",
    "            y = np.append(y,classes.cpu().clone().numpy(), axis=0)"
   ]
  },
  {
   "cell_type": "code",
   "execution_count": null,
   "metadata": {},
   "outputs": [],
   "source": [
    "print(len(outputlist))\n",
    "print(outputlist.shape)\n",
    "print(y.shape)\n",
    "outputlist = np.squeeze(outputlist)\n",
    "print(outputlist.shape)"
   ]
  },
  {
   "cell_type": "code",
   "execution_count": null,
   "metadata": {},
   "outputs": [],
   "source": [
    "from sklearn.manifold import TSNE\n",
    "import seaborn as sns\n",
    "tsne = TSNE(n_components=2, random_state=0,verbose=1, perplexity=40, learning_rate=200,early_exaggeration = 50, n_iter=2000)\n",
    "X_2d = tsne.fit_transform(outputlist)\n",
    "CellName = ['HEK-293','HeLa','MCF-7']\n"
   ]
  },
  {
   "cell_type": "code",
   "execution_count": null,
   "metadata": {},
   "outputs": [],
   "source": [
    "target_ids = range(len(outputlist))\n",
    "plt.figure()\n",
    "colors = 'r', 'g', 'b'\n",
    "for i, c, label in zip(target_ids, colors, CellName):\n",
    "    plt.scatter(X_2d[y == i, 0], X_2d[y == i, 1],s=3, c=c, label=label,alpha=0.5)\n",
    "plt.legend()\n",
    "plt.xlabel('t-SNE 1')\n",
    "plt.ylabel('t-SNE 2')\n",
    "plt.title('t-SNE plot')\n",
    "plt.show()"
   ]
  },
  {
   "cell_type": "code",
   "execution_count": null,
   "metadata": {},
   "outputs": [],
   "source": [
    "scratch_model = torch.load('celltypemodel-unet_80rech_Run_1.pth.tar')\n",
    "scratch_model = scratch_model.to(device)\n",
    "scratch_model.eval()"
   ]
  },
  {
   "cell_type": "code",
   "execution_count": null,
   "metadata": {},
   "outputs": [],
   "source": [
    "CellName = ['Granulocyte','Lymphocyte','Monocyte']\n",
    "ImgTensor, Label = image_datasets['val'].__getitem__(2)\n",
    "image = np.squeeze(ImgTensor.numpy())\n",
    "print('Ground Truth Cell Type: ', CellName[Label])\n",
    "DisplayImage(image,image.min(),image.max())"
   ]
  },
  {
   "cell_type": "code",
   "execution_count": null,
   "metadata": {},
   "outputs": [],
   "source": [
    "inputs = torch.unsqueeze(ImgTensor,0).to(device)\n",
    "[output,prediction] = scratch_model(inputs)\n",
    "# output = output.squeeze()\n",
    "output = output.squeeze()\n",
    "output = output.cpu().clone().detach().numpy()\n",
    "_, preds = torch.max(prediction, 1)\n",
    "preds = preds.cpu().clone().detach()"
   ]
  },
  {
   "cell_type": "code",
   "execution_count": null,
   "metadata": {},
   "outputs": [],
   "source": [
    "# print(output/output.max())\n",
    "print(output.max())\n",
    "print(output.shape)\n",
    "print('Predicted Cell Type: ', CellName[preds])\n",
    "image = np.squeeze(output)\n",
    "DisplayImage(image,image.min(),image.max())"
   ]
  },
  {
   "cell_type": "code",
   "execution_count": null,
   "metadata": {},
   "outputs": [],
   "source": []
  },
  {
   "cell_type": "code",
   "execution_count": null,
   "metadata": {},
   "outputs": [],
   "source": []
  }
 ],
 "metadata": {
  "kernelspec": {
   "display_name": "Python 3 (ipykernel)",
   "language": "python",
   "name": "python3"
  },
  "language_info": {
   "codemirror_mode": {
    "name": "ipython",
    "version": 3
   },
   "file_extension": ".py",
   "mimetype": "text/x-python",
   "name": "python",
   "nbconvert_exporter": "python",
   "pygments_lexer": "ipython3",
   "version": "3.8.11"
  }
 },
 "nbformat": 4,
 "nbformat_minor": 2
}
